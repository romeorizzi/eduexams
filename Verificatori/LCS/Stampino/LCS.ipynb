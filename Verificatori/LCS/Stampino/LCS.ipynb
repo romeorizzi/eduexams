{
 "cells": [
  {
   "cell_type": "code",
   "execution_count": 1,
   "metadata": {},
   "outputs": [],
   "source": [
    "from IPython.core.display import display, HTML, Markdown\n",
    "import numpy as np"
   ]
  },
  {
   "cell_type": "code",
   "execution_count": 2,
   "metadata": {},
   "outputs": [],
   "source": [
    "def evaluation_format(answ, pt_green,pt_red):\n",
    "    pt_blue=0\n",
    "    if pt_green!=0:\n",
    "        pt_blue=pt_red-pt_green\n",
    "        pt_red=0\n",
    "    return f\"{answ}. Totalizzeresti <span style='color:green'>[{pt_green} safe pt]</span>, \\\n",
    "                                    <span style='color:blue'>[{pt_blue} possible pt]</span>, \\\n",
    "                                    <span style='color:red'>[{pt_red} out of reach pt]</span>.<br>\"\n",
    "\n",
    "def is_sub(sub,string):\n",
    "    match=0\n",
    "    i=0\n",
    "    j=0\n",
    "    sol=True\n",
    "    while i<len(string) and match<len(sub):\n",
    "        if string[i]==sub[j]:\n",
    "            match+=1\n",
    "            if j<len(sub)-1:\n",
    "                j+=1\n",
    "        i+=1\n",
    "    if match!=len(sub):\n",
    "        sol=False\n",
    "    return sol\n",
    "\n",
    "def verifLCS(string1, string2,answer):\n",
    "    s = ' ' + string1 \n",
    "    t = ' ' + string2\n",
    "    n = len(s)\n",
    "    m = len(t)\n",
    "    L = np.zeros((n, m)) \n",
    "    for i in range(1,n):\n",
    "        for j in range(1,m):\n",
    "            if s[i] == t[j]: \n",
    "                L[i][j] = L[i-1][j-1] + 1\n",
    "            else: \n",
    "                L[i][j] = max(L[i-1][j], L[i][j-1]) \n",
    "    correct_len=np.max(L)\n",
    "    if (is_sub(answer,string1)) and (is_sub(answer,string2)) and len(answer)==correct_len:\n",
    "        display(Markdown(evaluation_format(\"Si\", 20,20)+\"La sottosequenza comune è corretta.\"))\n",
    "    elif (is_sub(answer,string1)) and (is_sub(answer,string2)) and len(answer)!=correct_len:\n",
    "        display(Markdown(evaluation_format(\"No\", 1,20)+\"La sottosequenza comune non è massima.\"))\n",
    "    else:\n",
    "        display(Markdown(evaluation_format(\"No\", 0,20)+\"La sottosequenza non è corretta.\"))\n",
    "\n",
    "\n",
    "\n",
    "\n"
   ]
  },
  {
   "cell_type": "markdown",
   "metadata": {},
   "source": [
    "Esercizio LCS\n",
    "===\n",
    "_Massima sottosequenza comune_"
   ]
  },
  {
   "cell_type": "markdown",
   "metadata": {},
   "source": [
    "Trovare la piu' lunga sottosequenza comune tra le stringhe _s_ = CTGTGAGAATCGCTGTA\n",
    "  e _t_ = GTACGACTGAAGCTAT"
   ]
  },
  {
   "cell_type": "code",
   "execution_count": 3,
   "metadata": {},
   "outputs": [
    {
     "name": "stdout",
     "output_type": "stream",
     "text": [
      "Stringa 1:\tCTGTGAGAATCGCTGTA\n",
      "Stringa 2:\tGTACGACTGAAGCTAT\n"
     ]
    },
    {
     "data": {
      "text/markdown": [
       "Si. Totalizzeresti <span style='color:green'>[20 safe pt]</span>,                                     <span style='color:blue'>[0 possible pt]</span>,                                     <span style='color:red'>[0 out of reach pt]</span>.<br>La sottosequenza comune è corretta."
      ],
      "text/plain": [
       "<IPython.core.display.Markdown object>"
      ]
     },
     "metadata": {},
     "output_type": "display_data"
    }
   ],
   "source": [
    "#risposta corretta\n",
    "s = \"CTGTGAGAATCGCTGTA\"\n",
    "t = \"GTACGACTGAAGCTAT\"\n",
    "\n",
    "print(\"Stringa 1:\\t%s\" % s)\n",
    "print(\"Stringa 2:\\t%s\" % t)\n",
    "\n",
    "risposta=\"GTGAGAAGCTA\"\n",
    "verifLCS(s, t, risposta)"
   ]
  },
  {
   "cell_type": "code",
   "execution_count": 4,
   "metadata": {},
   "outputs": [
    {
     "name": "stdout",
     "output_type": "stream",
     "text": [
      "Stringa 1:\tCTGTGAGAATCGCTGTA\n",
      "Stringa 2:\tGTACGACTGAAGCTAT\n"
     ]
    },
    {
     "data": {
      "text/markdown": [
       "No. Totalizzeresti <span style='color:green'>[0 safe pt]</span>,                                     <span style='color:blue'>[0 possible pt]</span>,                                     <span style='color:red'>[20 out of reach pt]</span>.<br>La sottosequenza non è corretta."
      ],
      "text/plain": [
       "<IPython.core.display.Markdown object>"
      ]
     },
     "metadata": {},
     "output_type": "display_data"
    }
   ],
   "source": [
    "#esempio sbagliato\n",
    "s = \"CTGTGAGAATCGCTGTA\"\n",
    "t = \"GTACGACTGAAGCTAT\"\n",
    "\n",
    "print(\"Stringa 1:\\t%s\" % s)\n",
    "print(\"Stringa 2:\\t%s\" % t)\n",
    "\n",
    "risposta=\"GTGAGAAGTCA\"\n",
    "verifLCS(s, t, risposta)"
   ]
  },
  {
   "cell_type": "markdown",
   "metadata": {},
   "source": [
    "E nel caso sia richiesto che la sottosequenza comune termini con ’C’?"
   ]
  },
  {
   "cell_type": "code",
   "execution_count": 5,
   "metadata": {},
   "outputs": [
    {
     "name": "stdout",
     "output_type": "stream",
     "text": [
      "Stringa 1:\tCTGTGAGAATCGC\n",
      "Stringa 2:\tGTACGACTGAAGC\n"
     ]
    },
    {
     "data": {
      "text/markdown": [
       "Si. Totalizzeresti <span style='color:green'>[20 safe pt]</span>,                                     <span style='color:blue'>[0 possible pt]</span>,                                     <span style='color:red'>[0 out of reach pt]</span>.<br>La sottosequenza comune è corretta."
      ],
      "text/plain": [
       "<IPython.core.display.Markdown object>"
      ]
     },
     "metadata": {},
     "output_type": "display_data"
    }
   ],
   "source": [
    "s = \"CTGTGAGAATCGC\"\n",
    "t = \"GTACGACTGAAGC\"\n",
    "\n",
    "print(\"Stringa 1:\\t%s\" % s)\n",
    "print(\"Stringa 2:\\t%s\" % t)\n",
    "\n",
    "risposta=\"GTGAGAAGC\"\n",
    "verifLCS(s, t, risposta)"
   ]
  },
  {
   "cell_type": "markdown",
   "metadata": {},
   "source": [
    "Quale è la più lunga sottosequenza comune tra _s_ e il prefisso _t_9= GTACGACTG di _t_?"
   ]
  },
  {
   "cell_type": "code",
   "execution_count": 6,
   "metadata": {},
   "outputs": [
    {
     "name": "stdout",
     "output_type": "stream",
     "text": [
      "Stringa 1:\tCTGTGAGAATCGCTGTA\n",
      "Stringa 2:\tGTACGACTG\n"
     ]
    },
    {
     "data": {
      "text/markdown": [
       "Si. Totalizzeresti <span style='color:green'>[20 safe pt]</span>,                                     <span style='color:blue'>[0 possible pt]</span>,                                     <span style='color:red'>[0 out of reach pt]</span>.<br>La sottosequenza comune è corretta."
      ],
      "text/plain": [
       "<IPython.core.display.Markdown object>"
      ]
     },
     "metadata": {},
     "output_type": "display_data"
    }
   ],
   "source": [
    "s = \"CTGTGAGAATCGCTGTA\"\n",
    "t = \"GTACGACTG\"\n",
    "\n",
    "print(\"Stringa 1:\\t%s\" % s)\n",
    "print(\"Stringa 2:\\t%s\" % t)\n",
    "\n",
    "risposta=\"GTAGACTG\"\n",
    "verifLCS(s, t, risposta)"
   ]
  },
  {
   "cell_type": "markdown",
   "metadata": {},
   "source": [
    "Quale è la più lunga sottosequenza comune tra _t_e il prefisso _s_8= CTGTGAGA di _s_?"
   ]
  },
  {
   "cell_type": "code",
   "execution_count": 7,
   "metadata": {},
   "outputs": [
    {
     "name": "stdout",
     "output_type": "stream",
     "text": [
      "Stringa 1:\tCTGTGAGA\n",
      "Stringa 2:\tGTACGACTGAAGCTAT\n"
     ]
    },
    {
     "data": {
      "text/markdown": [
       "Si. Totalizzeresti <span style='color:green'>[20 safe pt]</span>,                                     <span style='color:blue'>[0 possible pt]</span>,                                     <span style='color:red'>[0 out of reach pt]</span>.<br>La sottosequenza comune è corretta."
      ],
      "text/plain": [
       "<IPython.core.display.Markdown object>"
      ]
     },
     "metadata": {},
     "output_type": "display_data"
    }
   ],
   "source": [
    "s = \"CTGTGAGA\"\n",
    "t = \"GTACGACTGAAGCTAT\"\n",
    "\n",
    "print(\"Stringa 1:\\t%s\" % s)\n",
    "print(\"Stringa 2:\\t%s\" % t)\n",
    "\n",
    "risposta=\"TGTGAGA\"\n",
    "verifLCS(s, t, risposta)"
   ]
  }
 ],
 "metadata": {
  "hide_input": false,
  "kernelspec": {
   "display_name": "Python 3",
   "language": "python",
   "name": "python3"
  },
  "language_info": {
   "codemirror_mode": {
    "name": "ipython",
    "version": 3
   },
   "file_extension": ".py",
   "mimetype": "text/x-python",
   "name": "python",
   "nbconvert_exporter": "python",
   "pygments_lexer": "ipython3",
   "version": "3.7.7"
  }
 },
 "nbformat": 4,
 "nbformat_minor": 4
}
