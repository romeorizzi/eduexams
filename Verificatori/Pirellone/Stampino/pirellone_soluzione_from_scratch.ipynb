{
 "cells": [
  {
   "cell_type": "code",
   "execution_count": 14,
   "metadata": {
    "pycharm": {
     "name": "#%%\n"
    }
   },
   "outputs": [],
   "source": [
    "from IPython.core.display import display, HTML, Markdown\n",
    "import copy\n",
    "\n",
    "p_original_instance = [\n",
    "       [0, 0, 1, 0, 1, 1, 0, 1],\n",
    "       [0, 0, 1, 0, 0, 1, 1, 0],\n",
    "       [1, 1, 0, 1, 1, 0, 0, 0],\n",
    "       [1, 1, 0, 1, 0, 1, 1, 0],\n",
    "       [0, 0, 1, 0, 0, 1, 0, 1],\n",
    "       [1, 0, 1, 0, 1, 1, 0, 1]\n",
    "]\n",
    "                \n",
    "def visualizza(p):\n",
    "    num_accese = 0;\n",
    "    for r in range(len(p)):\n",
    "        for c in range(len(p[0])):\n",
    "            print(p[r][c],end=\" \")\n",
    "            num_accese += p[r][c]\n",
    "        print()\n",
    "    display(Markdown(f\"Attualmente ci sono <b>{num_accese} luci accese</b>.\"))\n",
    "    \n",
    "    \n",
    "def visualizza_lo_stato_che_si_ottiene_con_gli_interruttori_impostati(agisci_riga, agisci_col):\n",
    "    new_p = copy.deepcopy(p_original_instance)\n",
    "    num_accese = 0;\n",
    "    for r in range(len(agisci_riga)):\n",
    "        for c in range(len(agisci_col)):\n",
    "            if (agisci_riga[r] + agisci_col[c]) % 2 != 0:\n",
    "                new_p[r][c] = 1-new_p[r][c]\n",
    "                num_accese += new_p[r][c] \n",
    "    display(Markdown(f\"Agendo sugli interruttori settati come segue:<br><b>   Interruttori di riga:</b> {agisci_riga}<br><b>   Interruttori di colonna:</b> {agisci_col}\"))\n",
    "    display(Markdown(f\"Ti porti dalla configurazione iniziale riportata in $p$ nella seguente configurazione finale:<br>\"))\n",
    "    visualizza(new_p)\n"
   ]
  },
  {
   "cell_type": "markdown",
   "metadata": {},
   "source": [
    "## Esercizio \\[60 pts\\]\n",
    "(pirellone) Partendo dalla seguente matrice di $m\\times n$ valori booleani (acceso/spento), utilizza quelle che credi delle $m+n$ mosse che invertono tutta una riga oppure tutta una colonna. Il tuo scopo è minimizzare il numero di luci che trovi accese alla fine."
   ]
  },
  {
   "cell_type": "code",
   "execution_count": 15,
   "metadata": {},
   "outputs": [
    {
     "name": "stdout",
     "output_type": "stream",
     "text": [
      "0 0 1 0 1 1 0 1 \n",
      "0 0 1 0 0 1 1 0 \n",
      "1 1 0 1 1 0 0 0 \n",
      "1 1 0 1 0 1 1 0 \n",
      "0 0 1 0 0 1 0 1 \n",
      "1 0 1 0 1 1 0 1 \n"
     ]
    },
    {
     "data": {
      "text/markdown": [
       "Attualmente ci sono <b>24 luci accese</b>."
      ],
      "text/plain": [
       "<IPython.core.display.Markdown object>"
      ]
     },
     "metadata": {},
     "output_type": "display_data"
    }
   ],
   "source": [
    "# Ecco il pirellone in input:\n",
    "visualizza(p)"
   ]
  },
  {
   "cell_type": "markdown",
   "metadata": {},
   "source": [
    "__Richieste__:\n",
    "[15pt] Portati in una configurazione col minor numero possibile di luci accese. Puoi effettuare una mossa alla volta utilizzando le funzioni $flippa\\_riga(indice\\_riga)$ e $flippa\\_colonna(indice\\_colonna)$ per spostarti un pò alla volta fino ad una configurazione che reputi ottima."
   ]
  },
  {
   "cell_type": "code",
   "execution_count": 19,
   "metadata": {
    "pycharm": {
     "name": "#%%\n"
    }
   },
   "outputs": [
    {
     "data": {
      "text/markdown": [
       "Agendo sugli interruttori settati come segue:<br><b>   Interruttori di riga:</b> [0, 0, 1, 1, 0, 0]<br><b>   Interruttori di colonna:</b> [0, 0, 1, 0, 0, 1, 0, 1]"
      ],
      "text/plain": [
       "<IPython.core.display.Markdown object>"
      ]
     },
     "metadata": {},
     "output_type": "display_data"
    },
    {
     "data": {
      "text/markdown": [
       "Ti porti dalla configurazione iniziale riportata in $p$ nella seguente configurazione finale:<br>"
      ],
      "text/plain": [
       "<IPython.core.display.Markdown object>"
      ]
     },
     "metadata": {},
     "output_type": "display_data"
    },
    {
     "name": "stdout",
     "output_type": "stream",
     "text": [
      "0 0 0 0 1 0 0 0 \n",
      "0 0 0 0 0 0 1 1 \n",
      "0 0 0 0 0 0 1 0 \n",
      "0 0 0 0 1 1 0 0 \n",
      "0 0 0 0 0 0 0 0 \n",
      "1 0 0 0 1 0 0 0 \n"
     ]
    },
    {
     "data": {
      "text/markdown": [
       "Attualmente ci sono <b>8 luci accese</b>."
      ],
      "text/plain": [
       "<IPython.core.display.Markdown object>"
      ]
     },
     "metadata": {},
     "output_type": "display_data"
    }
   ],
   "source": [
    "# Setta su quali degli m+n interruttori di riga e di colonna intendi agire.\n",
    "# Puoi fare questo sostituendo gli 0 (=non agire) con degli 1 (=agire) nelle posizioni corrispondenti\n",
    "# (stiamo parlando dei soli m+n numeri di colore diverso).\n",
    "# Quando hai finito premi Shift-Invio per visualizzare lo stato che otterresti ed ottenere una valutazione.\n",
    "\n",
    "agisci_col = [0, 0, 1, 0, 0, 1, 0, 1]\n",
    "agisci_riga = [  \n",
    "0,         # [0, 0, 1, 0, 1, 1, 0, 1],\n",
    "0,         # [0, 0, 1, 0, 0, 1, 1, 0],\n",
    "1,         # [1, 1, 0, 1, 1, 0, 0, 0],\n",
    "1,         # [1, 1, 0, 1, 0, 1, 1, 0],\n",
    "0,         # [0, 0, 1, 0, 0, 1, 0, 1],\n",
    "0          # [1, 0, 1, 0, 1, 1, 0, 1]\n",
    "]\n",
    "\n",
    "visualizza_lo_stato_che_si_ottiene_con_gli_interruttori_impostati(agisci_riga, agisci_col)"
   ]
  },
  {
   "cell_type": "markdown",
   "metadata": {},
   "source": [
    "[30pt]\n",
    "Nel quadro sotto, fornisci argomenti conclusivi per certificare che non è possibile spegnere un numero maggiore di celle. Faccio presente che questo problema di ottimizzazione non è noto essere in P e pertanto, ove fosse NP-hard, resterebbe allora inesauribile spazio alla tua creatività nel produrre questi argomenti.\n"
   ]
  },
  {
   "cell_type": "markdown",
   "metadata": {
    "pycharm": {
     "name": "#%%\n"
    }
   },
   "source": [
    "Si considerino le seguenti $8$ matrici cattive $2\\times 2$ (e si noti che non hanno alcuna cella in comune):\n",
    "    \n",
    "    righe: 5,4 colonne: 0,1\n",
    "    righe: 5,4 colonne: 4,2\n",
    "    righe: 3,2 colonne: 4,3\n",
    "    righe: 3,2 colonne: 5,2\n",
    "    righe: 2,3 colonne: 6,7\n",
    "    righe: 1,2 colonne: 6,1\n",
    "    righe: 1,2 colonne: 7,2\n",
    "    righe: 0,1 colonne: 4,3\n",
    "        \n",
    "Osserviamo infine, cosa che rende il nostro certificato ancora più piacevole e magico, che ogni luce che abbiamo lasciato accesa nella soluzione sopra data trova posto in precisamente una delle $8$ sottomatrici $2\\times 2$ quì listate (abbiamo avuto cura di porre per prima la riga e la colonna dell'unico $1$ in ciascuna di queste matrici). Valgono cioè quì, almeno su questa istanza, le condizioni degli scarti complementari.\n",
    "Si potrebbe sperare di mettere il problema in P (ma ricordo che un tempo, che mi era stato chiesto, ero riuscito a dare una qualche dimostrazione che mi pareva convincermi dell'NP-hardness di questo problema di ottimizzazione)."
   ]
  },
  {
   "cell_type": "code",
   "execution_count": null,
   "metadata": {},
   "outputs": [],
   "source": []
  }
 ],
 "metadata": {
  "celltoolbar": "Edit Metadata",
  "hide_input": false,
  "kernelspec": {
   "display_name": "Python 3",
   "language": "python",
   "name": "python3"
  },
  "language_info": {
   "codemirror_mode": {
    "name": "ipython",
    "version": 3
   },
   "file_extension": ".py",
   "mimetype": "text/x-python",
   "name": "python",
   "nbconvert_exporter": "python",
   "pygments_lexer": "ipython3",
   "version": "3.7.7"
  }
 },
 "nbformat": 4,
 "nbformat_minor": 4
}
