{
 "cells": [
  {
   "cell_type": "code",
   "execution_count": 62,
   "metadata": {
    "pycharm": {
     "name": "#%%\n"
    }
   },
   "outputs": [],
   "source": [
    "from IPython.core.display import display, HTML, Markdown\n",
    "import copy\n",
    "p = [\n",
    "       [0, 0, 1, 0, 1, 1, 0, 1],\n",
    "       [0, 0, 1, 0, 0, 1, 1, 0],\n",
    "       [1, 1, 0, 1, 1, 0, 0, 0],\n",
    "       [1, 1, 0, 1, 0, 1, 1, 0],\n",
    "       [0, 0, 1, 0, 0, 1, 0, 1],\n",
    "       [1, 0, 1, 0, 1, 1, 0, 1]\n",
    "]\n",
    "impostazione_attuale_interruttore_di_riga = [0]*len(p)\n",
    "impostazione_attuale_interruttore_di_colonna = [0]*len(p[0])\n",
    "                \n",
    "def flippa_riga(r):\n",
    "    if r < 0 or r >= len(p):\n",
    "        display(Markdown(f\"<it>Attenzione:</it> gli indici di riga $r$ che puoi immettere nella funzione $flippa\\_riga(r)$ sono i numeri naturali da $0$ a ${len(p)-1}$\"))\n",
    "        return\n",
    "    impostazione_attuale_interruttore_di_riga[r] = 1-impostazione_attuale_interruttore_di_riga[r]\n",
    "        \n",
    "def flippa_colonna(c):\n",
    "    if c < 0 or c >= len(p[0]):\n",
    "        display(Markdown(f\"<it>Attenzione:</it> gli indici di colonna $c$ che puoi immettere nella funzione $flippa\\_colonna(c)$ sono i numeri naturali da $0$ a ${len(p[0])-1}$\"))\n",
    "        return\n",
    "    impostazione_attuale_interruttore_di_colonna[c] = 1-impostazione_attuale_interruttore_di_colonna[c]\n",
    "\n",
    "def visualizza(p):\n",
    "    num_accese = 0;\n",
    "    for r in range(len(p)):\n",
    "        for c in range(len(p[0])):\n",
    "            print(p[r][c],end=\" \")\n",
    "            num_accese += p[r][c]\n",
    "        print()\n",
    "    display(Markdown(f\"Attualmente ci sono <b>{num_accese} luci accese</b>.\"))\n",
    "    \n",
    "    \n",
    "def visualizza_stato_attuale():\n",
    "    new_p = p.copy()\n",
    "    num_accese = 0;\n",
    "    new_p = [[(p[r][c]+impostazione_attuale_interruttore_di_riga[r]+impostazione_attuale_interruttore_di_colonna[c]) % 2  for c in range(len(p[0]))] for r in range(len(p))]\n",
    "    for r in range(len(p)):\n",
    "        for c in range(len(p[0])):\n",
    "            new_p[r][c] = (p[r][c] +impostazione_attuale_interruttore_di_riga[r] +impostazione_attuale_interruttore_di_colonna[c]) % 2\n",
    "            num_accese += new_p[r][c] \n",
    "    display(Markdown(f\"Agendo sugli interruttori settati come segue:<br><b>   Interruttori di riga:</b> {impostazione_attuale_interruttore_di_riga}<br><b>   Interruttori di colonna:</b> {impostazione_attuale_interruttore_di_colonna}\"))\n",
    "    display(Markdown(f\"Ti porti dalla configurazione iniziale riportata in $p$ nella seguente configurazione finale:<br>\"))\n",
    "    visualizza(new_p)\n",
    "    \n",
    "def visualizza_lo_stato_che_si_ottiene_con_gli_interruttori_impostati(agisci_riga, agisci_col):\n",
    "    new_p = copy.deepcopy(p)\n",
    "    num_accese = 0;\n",
    "    for r in range(len(agisci_riga)):\n",
    "        for c in range(len(agisci_col)):\n",
    "            if (agisci_riga[r] + agisci_col[c]) % 2 != 0:\n",
    "                new_p[r][c] = 1-new_p[r][c]\n",
    "                num_accese += new_p[r][c] \n",
    "    display(Markdown(f\"Agendo sugli interruttori settati come segue:<br><b>   Interruttori di riga:</b> {agisci_riga}<br><b>   Interruttori di colonna:</b> {agisci_col}\"))\n",
    "    display(Markdown(f\"Ti porti dalla configurazione iniziale riportata in $p$ nella seguente configurazione finale:<br>\"))\n",
    "    visualizza(new_p)\n",
    "arr_point=[-1,-1]\n",
    "def evaluation_format(answ, pt_green,pt_red, index_pt):\n",
    "    pt_blue=0\n",
    "    if pt_green!=0:\n",
    "        pt_blue=pt_red-pt_green\n",
    "        pt_red=0\n",
    "    arr_point[index_pt]=pt_green\n",
    "    file = open(\"points.txt\", \"w\")\n",
    "    file.write(str(arr_point))\n",
    "    file.close()\n",
    "    return f\"{answ}. Totalizzeresti <span style='color:green'>[{pt_green} safe pt]</span>, \\\n",
    "                                    <span style='color:blue'>[{pt_blue} possible pt]</span>, \\\n",
    "                                    <span style='color:red'>[{pt_red} out of reach pt]</span>.<br>\"\n",
    "\n",
    "def check_numberlight(a,answer,pt_green,pt_red,index_pt):\n",
    "    s=[]\n",
    "    for i in range(1,len(a),2):\n",
    "        s.append(i)\n",
    "    up=0\n",
    "    down=1\n",
    "    matrix=0\n",
    "    index=[]\n",
    "    while up<len(a) and down<len(a):\n",
    "            for i in range(len(a[0])-1):\n",
    "                for j in range(i+1,len(a[0])):\n",
    "                    if j not in index and i not in index:\n",
    "                        if a[up][i]==0 and a[down][i]==0:\n",
    "                            if (a[up][j]==1 and a[down][j]==0) or (a[up][j]==0 and a[down][j]==1):\n",
    "                                matrix+=1\n",
    "                                #print(\"matrice di colonne: \"+str(i)+\",\"+str(j)+\" e righe: \"+str(up)+\",\"+str(down))\n",
    "                                index.append(j)\n",
    "                                index.append(i)\n",
    "                        if (a[up][i]==1 and a[down][i]==0) or (a[up][i]==0 and a[down][i]==1):\n",
    "                            if a[up][j]==0 and a[down][j]==0:\n",
    "                                matrix+=1\n",
    "                                #print(\"matrice di colonne: \"+str(i)+\",\"+str(j)+\" e righe: \"+str(up)+\",\"+str(down))\n",
    "                                index.append(j)\n",
    "                                index.append(i)\n",
    "                        if a[up][i]==1 and a[down][i]==1:\n",
    "                            if (a[up][j]==1 and a[down][j]==0) or (a[up][j]==0 and a[down][j]==1):\n",
    "                                matrix+=1\n",
    "                                #print(\"matrice di colonne: \"+str(i)+\",\"+str(j)+\" e righe: \"+str(up)+\",\"+str(down))\n",
    "                                index.append(j)\n",
    "                                index.append(i)\n",
    "                        if (a[up][i]==1 and a[down][i]==0) or (a[up][i]==0 and a[down][i]==1):\n",
    "                            if a[up][j]==1 and a[down][j]==1:\n",
    "                                matrix+=1\n",
    "                                #print(\"matrice di colonne: \"+str(i)+\",\"+str(j)+\" e righe: \"+str(up)+\",\"+str(down))\n",
    "                                index.append(j)\n",
    "                                index.append(i)\n",
    "            up+=1\n",
    "            down+=1\n",
    "            if down in s:\n",
    "                index=[]\n",
    "    if answer==matrix:\n",
    "        return evaluation_format(\"Si\", pt_green,pt_red,index_pt)+f\"Il numero di luci che non possono essere spente è corretto.\"\n",
    "    if answer>matrix:\n",
    "        return evaluation_format(\"No\", 0,pt_red,index_pt)+f\"Si possono spegnere ancora luci.\"\n",
    "    else:\n",
    "        return evaluation_format(\"No\", 0,pt_red,index_pt)+f\"La risposta non è corretta.\"\n",
    "    \n",
    "def count(a,c):\n",
    "    n1=0\n",
    "    n0=0\n",
    "    vettore=[ a[c[0]][c[2]], a[c[0]][c[3]],a[c[1]][c[2]],a[c[1]][c[3]] ]\n",
    "    for i in vettore:\n",
    "        if i==1:\n",
    "            n1+=1\n",
    "        else:\n",
    "            n0+=1\n",
    "    if (n0==1 and n1==3) or (n0==3 and n1==1):\n",
    "        return False\n",
    "    else: \n",
    "        return True \n",
    "\n",
    "#answer è matrice tale che ogni riga contiene le due righe e le due colonne che individuano matrici\n",
    "def check_submatrix(a,answer,pt_green,pt_red,index_pt):\n",
    "    comune=False\n",
    "    index_col=[]\n",
    "    index_row=[]\n",
    "    nc=0\n",
    "    nr=0\n",
    "    for i in range(len(answer)):\n",
    "        c=answer[i]\n",
    "        if count(a,c):\n",
    "            return f\"La matrice individuata da {c} non è una matrice 'cattiva'.\"\n",
    "        for j in range(i+1,len(answer)):\n",
    "            d=answer[j]\n",
    "            if count(a,d):\n",
    "                return f\"La matrice individuata da {d} non è una matrice 'cattiva'.\"\n",
    "            for h in range(0,2):\n",
    "                for k in range(0,2):\n",
    "                    if c[h]>len(a) or d[k]>len(a):\n",
    "                        return f\"Vi è un errore negli indici di riga poichè è necessario inserire numeri minori di {len(a)}.\"\n",
    "                    if c[h]==d[k]:\n",
    "                        nr+=1\n",
    "                        com_r=c[h]\n",
    "            for h in range(2,4):\n",
    "                for k in range(2,4):\n",
    "                    if c[h]>len(a[0]) or d[k]>len(a[0]):\n",
    "                        return f\"Vi è un errore negli indici di colonna poichè è necessario inserire numeri minori di {len(a[0])}.\"\n",
    "                    if c[h]==d[k]:\n",
    "                        nc+=1\n",
    "                        com_c=c[h]\n",
    "            if nc==1 and nr==1:\n",
    "                index_col.append(com_c)\n",
    "                index_row.append(com_r)\n",
    "                comune=True\n",
    "            nr=0\n",
    "            nc=0\n",
    "    if comune:\n",
    "        return evaluation_format(\"No\", 0,pt_red,index_pt)+f\"La risposta non è corretta. Il gruppo di sottomatrici ha in comune le celle individuate dai seguenti indici di colonna: {index_col} e di riga: {index_row}.\"\n",
    "    else:\n",
    "        return evaluation_format(\"Si\", pt_green,pt_red,index_pt)+f\" Il gruppo di sottomatrici è corretto.\"\n",
    "        \n",
    "            \n"
   ]
  },
  {
   "cell_type": "markdown",
   "metadata": {},
   "source": [
    "## Esercizio Pirellone\n",
    "(pirellone) Cerca di minimizzare i numero di luci lasciate accese quando, partendo dalla seguente matrice di $m\\times n$ valori booleani (acceso/spento), puoi utilizzare delle $m+n$ mosse che invertono tutta una riga oppure tutta una colonna quelle che reputi più opportuno."
   ]
  },
  {
   "cell_type": "code",
   "execution_count": 63,
   "metadata": {},
   "outputs": [
    {
     "name": "stdout",
     "output_type": "stream",
     "text": [
      "0 0 1 0 1 1 0 1 \n",
      "0 0 1 0 0 1 1 0 \n",
      "1 1 0 1 1 0 0 0 \n",
      "1 1 0 1 0 1 1 0 \n",
      "0 0 1 0 0 1 0 1 \n",
      "1 0 1 0 1 1 0 1 \n"
     ]
    },
    {
     "data": {
      "text/markdown": [
       "Attualmente ci sono <b>24 luci accese</b>."
      ],
      "text/plain": [
       "<IPython.core.display.Markdown object>"
      ]
     },
     "metadata": {},
     "output_type": "display_data"
    }
   ],
   "source": [
    "# Ecco il pirellone in input:\n",
    "visualizza(p)"
   ]
  },
  {
   "cell_type": "markdown",
   "metadata": {},
   "source": [
    "__Richieste__:\n",
    " Portati in una configurazione col minor numero possibile di luci accese. Puoi effettuare una mossa alla volta utilizzando le funzioni $flippa\\_riga(indice\\_riga)$ e $flippa\\_colonna(indice\\_colonna)$ per spostarti un pò alla volta fino ad una configurazione che reputi ottima."
   ]
  },
  {
   "cell_type": "code",
   "execution_count": 64,
   "metadata": {
    "pycharm": {
     "name": "#%%\n"
    }
   },
   "outputs": [
    {
     "data": {
      "text/markdown": [
       "Agendo sugli interruttori settati come segue:<br><b>   Interruttori di riga:</b> [0, 0, 0, 0, 0, 0]<br><b>   Interruttori di colonna:</b> [0, 0, 0, 0, 0, 0, 0, 1]"
      ],
      "text/plain": [
       "<IPython.core.display.Markdown object>"
      ]
     },
     "metadata": {},
     "output_type": "display_data"
    },
    {
     "data": {
      "text/markdown": [
       "Ti porti dalla configurazione iniziale riportata in $p$ nella seguente configurazione finale:<br>"
      ],
      "text/plain": [
       "<IPython.core.display.Markdown object>"
      ]
     },
     "metadata": {},
     "output_type": "display_data"
    },
    {
     "name": "stdout",
     "output_type": "stream",
     "text": [
      "0 0 1 0 1 1 0 0 \n",
      "0 0 1 0 0 1 1 1 \n",
      "1 1 0 1 1 0 0 1 \n",
      "1 1 0 1 0 1 1 1 \n",
      "0 0 1 0 0 1 0 0 \n",
      "1 0 1 0 1 1 0 0 \n"
     ]
    },
    {
     "data": {
      "text/markdown": [
       "Attualmente ci sono <b>24 luci accese</b>."
      ],
      "text/plain": [
       "<IPython.core.display.Markdown object>"
      ]
     },
     "metadata": {},
     "output_type": "display_data"
    }
   ],
   "source": [
    "#flippa_riga(3)\n",
    "flippa_colonna(7)\n",
    "visualizza_stato_attuale()"
   ]
  },
  {
   "cell_type": "code",
   "execution_count": 65,
   "metadata": {},
   "outputs": [
    {
     "data": {
      "text/markdown": [
       "Agendo sugli interruttori settati come segue:<br><b>   Interruttori di riga:</b> [0, 0, 1, 1, 0, 0]<br><b>   Interruttori di colonna:</b> [0, 0, 1, 0, 0, 1, 0, 1]"
      ],
      "text/plain": [
       "<IPython.core.display.Markdown object>"
      ]
     },
     "metadata": {},
     "output_type": "display_data"
    },
    {
     "data": {
      "text/markdown": [
       "Ti porti dalla configurazione iniziale riportata in $p$ nella seguente configurazione finale:<br>"
      ],
      "text/plain": [
       "<IPython.core.display.Markdown object>"
      ]
     },
     "metadata": {},
     "output_type": "display_data"
    },
    {
     "name": "stdout",
     "output_type": "stream",
     "text": [
      "0 0 0 0 1 0 0 0 \n",
      "0 0 0 0 0 0 1 1 \n",
      "0 0 0 0 0 0 1 0 \n",
      "0 0 0 0 1 1 0 0 \n",
      "0 0 0 0 0 0 0 0 \n",
      "1 0 0 0 1 0 0 0 \n"
     ]
    },
    {
     "data": {
      "text/markdown": [
       "Attualmente ci sono <b>8 luci accese</b>."
      ],
      "text/plain": [
       "<IPython.core.display.Markdown object>"
      ]
     },
     "metadata": {},
     "output_type": "display_data"
    }
   ],
   "source": [
    "agisci_col = [0, 0, 1, 0, 0, 1, 0, 1]\n",
    "agisci_riga = [  \n",
    "0,         # [0, 0, 1, 0, 1, 1, 0, 1],\n",
    "0,         # [0, 0, 1, 0, 0, 1, 1, 0],\n",
    "1,         # [1, 1, 0, 1, 1, 0, 0, 0],\n",
    "1,         # [1, 1, 0, 1, 0, 1, 1, 0],\n",
    "0,         # [0, 0, 1, 0, 0, 1, 0, 1],\n",
    "0          # [1, 0, 1, 0, 1, 1, 0, 1]\n",
    "]\n",
    "\n",
    "visualizza_lo_stato_che_si_ottiene_con_gli_interruttori_impostati(agisci_riga, agisci_col)"
   ]
  },
  {
   "cell_type": "code",
   "execution_count": 66,
   "metadata": {},
   "outputs": [
    {
     "data": {
      "text/markdown": [
       "Si. Totalizzeresti <span style='color:green'>[1 safe pt]</span>,                                     <span style='color:blue'>[19 possible pt]</span>,                                     <span style='color:red'>[0 out of reach pt]</span>.<br>Il numero di luci che non possono essere spente è corretto."
      ],
      "text/plain": [
       "<IPython.core.display.Markdown object>"
      ]
     },
     "metadata": {},
     "output_type": "display_data"
    }
   ],
   "source": [
    "#il numero di luci minimo è\n",
    "luci=8\n",
    "display(Markdown(check_numberlight(p,luci,1,20,0)))"
   ]
  },
  {
   "cell_type": "markdown",
   "metadata": {},
   "source": [
    "\n",
    "Nel quadro sotto, fornisci argomenti conclusivi per certificare che non è possibile spegnere un numero maggiore di celle. Faccio presente che questo problema di ottimizzazione non è noto essere in P e pertanto, ove fosse NP-hard, resterebbe allora inesauribile spazio alla tua creatività nel produrre questi argomenti.\n"
   ]
  },
  {
   "cell_type": "markdown",
   "metadata": {
    "pycharm": {
     "name": "#%%\n"
    }
   },
   "source": [
    "Si considerino le seguenti $8$ matrici cattive $2\\times 2$ (e si noti che non hanno alcuna cella in comune):\n",
    "    \n",
    "    righe: 5,4 colonne: 0,1\n",
    "    righe: 5,4 colonne: 4,2\n",
    "    righe: 3,2 colonne: 4,3\n",
    "    righe: 3,2 colonne: 5,2\n",
    "    righe: 2,3 colonne: 6,7\n",
    "    righe: 1,2 colonne: 6,1\n",
    "    righe: 1,2 colonne: 7,2\n",
    "    righe: 0,1 colonne: 4,3\n",
    "        \n",
    "Osserviamo infine, cosa che rende il nostro certificato ancora più piacevole e magico, che ogni luce che abbiamo lasciato accesa nella soluzione sopra data trova posto in precisamente una delle $8$ sottomatrici $2\\times 2$ quì listate (abbiamo avuto cura di porre per prima la riga e la colonna dell'unico $1$ in ciascuna di queste matrici). Valgono cioè quì, almeno su questa istanza, le condizioni degli scarti complementari.\n",
    "Si potrebbe sperare di mettere il problema in P (ma ricordo che un tempo, che mi era stato chiesto, ero riuscito a dare una qualche dimostrazione che mi pareva convincermi dell'NP-hardness di questo problema di ottimizzazione)."
   ]
  },
  {
   "cell_type": "code",
   "execution_count": 67,
   "metadata": {},
   "outputs": [
    {
     "data": {
      "text/markdown": [
       "La matrice che corrisponde a [1, 2, 6, 1] non è una matrice 'cattiva'."
      ],
      "text/plain": [
       "<IPython.core.display.Markdown object>"
      ]
     },
     "metadata": {},
     "output_type": "display_data"
    }
   ],
   "source": [
    "sottomatrici=[\n",
    "    [5,4,0,1],\n",
    "    [5,4,4,2],\n",
    "    [3,2,4,3],\n",
    "    [3,2,5,2],\n",
    "    [3,2,6,7],\n",
    "    [1,2,6,1],\n",
    "    [1,2,7,2],\n",
    "    [0,1,4,3]\n",
    "]\n",
    "display(Markdown(check_submatrix(p,sottomatrici,1,20,1)))"
   ]
  },
  {
   "cell_type": "code",
   "execution_count": 68,
   "metadata": {},
   "outputs": [
    {
     "data": {
      "text/markdown": [
       "Si. Totalizzeresti <span style='color:green'>[1 safe pt]</span>,                                     <span style='color:blue'>[19 possible pt]</span>,                                     <span style='color:red'>[0 out of reach pt]</span>.<br> Il gruppo di sottomatrici è corretto."
      ],
      "text/plain": [
       "<IPython.core.display.Markdown object>"
      ]
     },
     "metadata": {},
     "output_type": "display_data"
    }
   ],
   "source": [
    "#giusto\n",
    "sottomatrici=[\n",
    "    [5,4,0,1],\n",
    "    [5,4,4,2],\n",
    "    [3,2,4,3],\n",
    "    [3,2,5,2],\n",
    "    [3,2,6,7],\n",
    "    [0,1,6,5],\n",
    "    [1,0,7,0],\n",
    "    [0,1,4,3]\n",
    "]\n",
    "display(Markdown(check_submatrix(p,sottomatrici,1,20,1)))"
   ]
  },
  {
   "cell_type": "code",
   "execution_count": null,
   "metadata": {},
   "outputs": [],
   "source": []
  }
 ],
 "metadata": {
  "celltoolbar": "Edit Metadata",
  "hide_input": false,
  "kernelspec": {
   "display_name": "Python 3",
   "language": "python",
   "name": "python3"
  },
  "language_info": {
   "codemirror_mode": {
    "name": "ipython",
    "version": 3
   },
   "file_extension": ".py",
   "mimetype": "text/x-python",
   "name": "python",
   "nbconvert_exporter": "python",
   "pygments_lexer": "ipython3",
   "version": "3.7.6"
  }
 },
 "nbformat": 4,
 "nbformat_minor": 4
}
