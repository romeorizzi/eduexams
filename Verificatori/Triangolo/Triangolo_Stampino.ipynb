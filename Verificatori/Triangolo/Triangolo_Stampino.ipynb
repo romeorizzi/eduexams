{
 "cells": [
  {
   "cell_type": "code",
   "execution_count": 1,
   "metadata": {},
   "outputs": [],
   "source": [
    "from IPython.core.display import display, HTML, Markdown\n",
    "import numpy as np\n",
    "import copy as cp"
   ]
  },
  {
   "cell_type": "code",
   "execution_count": 8,
   "metadata": {},
   "outputs": [],
   "source": [
    "def evaluation_format(answ, pt_green,pt_red):\n",
    "    pt_blue=0\n",
    "    if pt_green!=0:\n",
    "        pt_blue=pt_red-pt_green\n",
    "        pt_red=0\n",
    "    return f\"{answ}. Totalizzeresti <span style='color:green'>[{pt_green} safe pt]</span>, \\\n",
    "                                    <span style='color:blue'>[{pt_blue} possible pt]</span>, \\\n",
    "                                    <span style='color:red'>[{pt_red} out of reach pt]</span>.<br>\"\n",
    "\n",
    "\n",
    "\n",
    "def is_path(path, triangle):  # verifichiamo che il percorso dato sia ammissibile per il triangolo di riferimento\n",
    "    m=len(triangle)\n",
    "    sol=True\n",
    "    if (len(path)!=m) or (triangle[0,0]!=path[0]):\n",
    "        sol=False\n",
    "        return sol\n",
    "    else:\n",
    "        i=0\n",
    "        j=0\n",
    "        while i<(m-1) and j<(m-1):\n",
    "            if (triangle[i+1,j]!=path[i+1]) and (triangle[i+1,j+1]!=path[i+1]):\n",
    "                sol=False\n",
    "                return sol\n",
    "            else:\n",
    "                if (triangle[i+1,j]!=triangle[i+1,j+1]):\n",
    "                    if (triangle[i+1,j]==path[i+1]):\n",
    "                        i=i+1\n",
    "                    else:   # (triangle[i+1,j+1]==path[i+1]):\n",
    "                        i=i+1\n",
    "                        j=j+1\n",
    "                else:\n",
    "                    new_len=m-(i+1)\n",
    "                    sol1=is_path(path[(i+1):m], triangle[(i+1):m, j:j+new_len])\n",
    "                    sol2=is_path(path[(i+1):m], triangle[(i+1):m, (j+1):(j+1)+new_len])\n",
    "                    if (sol1==False) and (sol2==False):\n",
    "                        sol=False\n",
    "                    elif (sol1==True) or (sol2==True):\n",
    "                        sol=True\n",
    "                    break   # l'istanza è risolta dalle precedenti chiamate ricorsive: si esce dal ciclo while\n",
    "\n",
    "    return sol\n",
    "\n",
    "\n",
    "\n",
    "\n",
    "def verif_triangolo(answer, path, triangle):\n",
    "    new_triangle=cp.copy(triangle)\n",
    "    m=len(new_triangle)\n",
    "    for i in range(m-1,0,-1):\n",
    "        for j in range(0,i):\n",
    "            new_triangle[i-1,j] = max(new_triangle[i,j], new_triangle[i,j+1]) + new_triangle[i-1,j]\n",
    "    correct_answer=new_triangle[0,0]\n",
    "    \n",
    "    if sum(path)!=answer:\n",
    "        display(Markdown(\"Errore: incongruenza tra il percorso e la somma forniti.\"))\n",
    "    else:\n",
    "        if (is_path(path, triangle)) and (answer==correct_answer):\n",
    "            display(Markdown(evaluation_format(\"Si\", 20,20)+\"Il percorso è corretto e la somma ottenuta è massima.\"))\n",
    "        elif (is_path(path, triangle)) and (answer!=correct_answer): \n",
    "            display(Markdown(evaluation_format(\"No\", 1,20)+\"Il percorso è ammissibile ma non corretto: la somma ottenuta non è massima.\"))\n",
    "        else:\n",
    "            display(Markdown(evaluation_format(\"No\", 0,20)+\"Il percorso non è ammissibile.\"))"
   ]
  },
  {
   "cell_type": "code",
   "execution_count": 9,
   "metadata": {},
   "outputs": [
    {
     "name": "stdout",
     "output_type": "stream",
     "text": [
      "Matrice associata al triangolo:\n",
      "\n",
      "[[7 0 0 0 0]\n",
      " [3 8 0 0 0]\n",
      " [8 1 0 0 0]\n",
      " [2 7 4 4 0]\n",
      " [4 5 2 6 5]]\n",
      "\n",
      "Risposta:\t30\n",
      "Certificato del percorso:\t[7, 3, 8, 7, 5]\n"
     ]
    },
    {
     "data": {
      "text/markdown": [
       "Si. Totalizzeresti <span style='color:green'>[20 safe pt]</span>,                                     <span style='color:blue'>[0 possible pt]</span>,                                     <span style='color:red'>[0 out of reach pt]</span>.<br>Il percorso è corretto e la somma ottenuta è massima."
      ],
      "text/plain": [
       "<IPython.core.display.Markdown object>"
      ]
     },
     "metadata": {},
     "output_type": "display_data"
    }
   ],
   "source": [
    "# esempio di triangolo tratto dal cms\n",
    "\n",
    "triangolo = np.matrix([[7, 0, 0, 0, 0],\n",
    "                       [3, 8, 0, 0, 0],\n",
    "                       [8, 1, 0, 0, 0],\n",
    "                       [2, 7, 4, 4, 0],\n",
    "                       [4, 5, 2, 6, 5]])\n",
    "\n",
    "\n",
    "percorso = [7,3,8,7,5]   # sequenza di numeri dalla cima al fondo del triangolo\n",
    "risposta=30   # ==sum(percorso)  :  somma totale dei numeri in percorso\n",
    "\n",
    "print(\"Matrice associata al triangolo:\\n\")\n",
    "print(triangolo)\n",
    "print(\"\\nRisposta:\\t%s\" % risposta)\n",
    "print(\"Certificato del percorso:\\t%s\" % percorso)\n",
    "\n",
    "verif_triangolo(risposta, percorso, triangolo)"
   ]
  },
  {
   "cell_type": "code",
   "execution_count": 10,
   "metadata": {},
   "outputs": [
    {
     "name": "stdout",
     "output_type": "stream",
     "text": [
      "Matrice associata al triangolo:\n",
      "\n",
      "[[7 0 0 0 0]\n",
      " [3 8 0 0 0]\n",
      " [8 1 0 0 0]\n",
      " [2 7 4 4 0]\n",
      " [4 5 2 6 5]]\n",
      "\n",
      "Risposta:\t24\n",
      "Certificato del percorso:\t[7, 8, 0, 4, 5]\n"
     ]
    },
    {
     "data": {
      "text/markdown": [
       "No. Totalizzeresti <span style='color:green'>[1 safe pt]</span>,                                     <span style='color:blue'>[19 possible pt]</span>,                                     <span style='color:red'>[0 out of reach pt]</span>.<br>Il percorso è ammissibile ma non corretto: la somma ottenuta non è massima."
      ],
      "text/plain": [
       "<IPython.core.display.Markdown object>"
      ]
     },
     "metadata": {},
     "output_type": "display_data"
    }
   ],
   "source": [
    "triangolo = np.matrix([[7, 0, 0, 0, 0],\n",
    "                       [3, 8, 0, 0, 0],\n",
    "                       [8, 1, 0, 0, 0],\n",
    "                       [2, 7, 4, 4, 0],\n",
    "                       [4, 5, 2, 6, 5]])\n",
    "\n",
    "\n",
    "percorso = [7,8,0,4,5]   # sequenza di numeri dalla cima al fondo del triangolo\n",
    "risposta=24   # ==sum(percorso)  :  somma totale dei numeri in percorso\n",
    "\n",
    "print(\"Matrice associata al triangolo:\\n\")\n",
    "print(triangolo)\n",
    "print(\"\\nRisposta:\\t%s\" % risposta)\n",
    "print(\"Certificato del percorso:\\t%s\" % percorso)\n",
    "\n",
    "verif_triangolo(risposta, percorso, triangolo)\n"
   ]
  },
  {
   "cell_type": "code",
   "execution_count": 11,
   "metadata": {},
   "outputs": [
    {
     "name": "stdout",
     "output_type": "stream",
     "text": [
      "Matrice associata al triangolo:\n",
      "\n",
      "[[7 0 0 0 0]\n",
      " [3 8 0 0 0]\n",
      " [8 1 0 0 0]\n",
      " [2 7 4 4 0]\n",
      " [4 5 2 6 5]]\n",
      "\n",
      "Risposta:\t31\n",
      "Certificato del percorso:\t[7, 8, 0, 7, 9]\n"
     ]
    },
    {
     "data": {
      "text/markdown": [
       "No. Totalizzeresti <span style='color:green'>[0 safe pt]</span>,                                     <span style='color:blue'>[0 possible pt]</span>,                                     <span style='color:red'>[20 out of reach pt]</span>.<br>Il percorso non è ammissibile."
      ],
      "text/plain": [
       "<IPython.core.display.Markdown object>"
      ]
     },
     "metadata": {},
     "output_type": "display_data"
    }
   ],
   "source": [
    "triangolo = np.matrix([[7, 0, 0, 0, 0],\n",
    "                       [3, 8, 0, 0, 0],\n",
    "                       [8, 1, 0, 0, 0],\n",
    "                       [2, 7, 4, 4, 0],\n",
    "                       [4, 5, 2, 6, 5]])\n",
    "\n",
    "\n",
    "percorso = [7,8,0,7,9]   # sequenza di numeri dalla cima al fondo del triangolo\n",
    "risposta=sum(percorso)   # ==sum(percorso)  :  somma totale dei numeri in percorso\n",
    "\n",
    "print(\"Matrice associata al triangolo:\\n\")\n",
    "print(triangolo)\n",
    "print(\"\\nRisposta:\\t%s\" % risposta)\n",
    "print(\"Certificato del percorso:\\t%s\" % percorso)\n",
    "\n",
    "verif_triangolo(risposta, percorso, triangolo)\n"
   ]
  },
  {
   "cell_type": "code",
   "execution_count": 12,
   "metadata": {},
   "outputs": [
    {
     "name": "stdout",
     "output_type": "stream",
     "text": [
      "Matrice associata al triangolo:\n",
      "\n",
      "[[7 0 0 0 0]\n",
      " [3 8 0 0 0]\n",
      " [8 1 0 0 0]\n",
      " [2 7 4 4 0]\n",
      " [4 5 2 6 5]]\n",
      "\n",
      "Risposta:\t29\n",
      "Certificato del percorso:\t[7, 3, 8, 7, 16]\n"
     ]
    },
    {
     "data": {
      "text/markdown": [
       "Errore: incongruenza tra il percorso e la somma forniti."
      ],
      "text/plain": [
       "<IPython.core.display.Markdown object>"
      ]
     },
     "metadata": {},
     "output_type": "display_data"
    }
   ],
   "source": [
    "\n",
    "triangolo = np.matrix([[7, 0, 0, 0, 0],\n",
    "                       [3, 8, 0, 0, 0],\n",
    "                       [8, 1, 0, 0, 0],\n",
    "                       [2, 7, 4, 4, 0],\n",
    "                       [4, 5, 2, 6, 5]])\n",
    "\n",
    "\n",
    "percorso = [7,3,8,7,16]   # sequenza di numeri dalla cima al fondo del triangolo\n",
    "risposta=29   # ==sum(percorso)  :  somma totale dei numeri in percorso\n",
    "\n",
    "print(\"Matrice associata al triangolo:\\n\")\n",
    "print(triangolo)\n",
    "print(\"\\nRisposta:\\t%s\" % risposta)\n",
    "print(\"Certificato del percorso:\\t%s\" % percorso)\n",
    "\n",
    "verif_triangolo(risposta, percorso, triangolo)"
   ]
  },
  {
   "cell_type": "code",
   "execution_count": 13,
   "metadata": {},
   "outputs": [
    {
     "name": "stdout",
     "output_type": "stream",
     "text": [
      "Matrice associata al triangolo:\n",
      "\n",
      "[[4 0 0 0 0]\n",
      " [4 4 0 0 0]\n",
      " [4 4 4 0 0]\n",
      " [4 4 4 4 0]\n",
      " [4 4 5 4 4]]\n",
      "\n",
      "Risposta:\t21\n",
      "Certificato del percorso:\t[4, 4, 5, 4, 4]\n"
     ]
    },
    {
     "data": {
      "text/markdown": [
       "No. Totalizzeresti <span style='color:green'>[0 safe pt]</span>,                                     <span style='color:blue'>[0 possible pt]</span>,                                     <span style='color:red'>[20 out of reach pt]</span>.<br>Il percorso non è ammissibile."
      ],
      "text/plain": [
       "<IPython.core.display.Markdown object>"
      ]
     },
     "metadata": {},
     "output_type": "display_data"
    }
   ],
   "source": [
    "\n",
    "triangolo = np.matrix([[4, 0, 0, 0, 0],\n",
    "                       [4, 4, 0, 0, 0],\n",
    "                       [4, 4, 4, 0, 0],\n",
    "                       [4, 4, 4, 4, 0],\n",
    "                       [4, 4, 5, 4, 4]])\n",
    "\n",
    "\n",
    "percorso = [4,4,5,4,4]   # sequenza di numeri dalla cima al fondo del triangolo\n",
    "risposta=21   # ==sum(percorso)  :  somma totale dei numeri in percorso\n",
    "\n",
    "print(\"Matrice associata al triangolo:\\n\")\n",
    "print(triangolo)\n",
    "print(\"\\nRisposta:\\t%s\" % risposta)\n",
    "print(\"Certificato del percorso:\\t%s\" % percorso)\n",
    "\n",
    "verif_triangolo(risposta, percorso, triangolo)"
   ]
  }
 ],
 "metadata": {
  "hide_input": false,
  "kernelspec": {
   "display_name": "Python 3",
   "language": "python",
   "name": "python3"
  },
  "language_info": {
   "codemirror_mode": {
    "name": "ipython",
    "version": 3
   },
   "file_extension": ".py",
   "mimetype": "text/x-python",
   "name": "python",
   "nbconvert_exporter": "python",
   "pygments_lexer": "ipython3",
   "version": "3.8.3"
  }
 },
 "nbformat": 4,
 "nbformat_minor": 4
}
