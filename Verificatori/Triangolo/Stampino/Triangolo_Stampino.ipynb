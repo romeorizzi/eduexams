{
 "cells": [
  {
   "cell_type": "code",
   "execution_count": 14,
   "metadata": {},
   "outputs": [],
   "source": [
    "from IPython.core.display import display, HTML, Markdown\n",
    "import numpy as np\n",
    "import copy as cp"
   ]
  },
  {
   "cell_type": "code",
   "execution_count": 15,
   "metadata": {},
   "outputs": [],
   "source": [
    "def evaluation_format(answ, pt_green,pt_red, index_pt):\n",
    "    pt_blue=0\n",
    "    if pt_green!=0:\n",
    "        pt_blue=pt_red-pt_green\n",
    "        pt_red=0\n",
    "    return f\"{answ}. Totalizzeresti <span style='color:green'>[{pt_green} safe pt]</span>, \\\n",
    "                                    <span style='color:blue'>[{pt_blue} possible pt]</span>, \\\n",
    "                                    <span style='color:red'>[{pt_red} out of reach pt]</span>.<br>\"\n",
    "\n",
    "\n",
    "\n",
    "def is_path(path, triangle):  # verifichiamo che il percorso dato sia ammissibile per il triangolo di riferimento\n",
    "    m=len(triangle)\n",
    "    sol=True\n",
    "    if (len(path)!=m) or (triangle[0,0]!=path[0]):\n",
    "        sol=False\n",
    "        return sol\n",
    "    else:\n",
    "        i=0\n",
    "        j=0\n",
    "        while i<(m-1) and j<(m-1):\n",
    "            if (triangle[i+1,j]!=path[i+1]) and (triangle[i+1,j+1]!=path[i+1]):\n",
    "                sol=False\n",
    "                return sol\n",
    "            else:\n",
    "                if (triangle[i+1,j]!=triangle[i+1,j+1]):\n",
    "                    if (triangle[i+1,j]==path[i+1]):\n",
    "                        i=i+1\n",
    "                    else:   # (triangle[i+1,j+1]==path[i+1]):\n",
    "                        i=i+1\n",
    "                        j=j+1\n",
    "                else:\n",
    "                    new_len=m-(i+1)\n",
    "                    sol1=is_path(path[(i+1):m], triangle[(i+1):m, j:j+new_len])\n",
    "                    sol2=is_path(path[(i+1):m], triangle[(i+1):m, (j+1):(j+1)+new_len])\n",
    "                    if (sol1==False) and (sol2==False):\n",
    "                        sol=False\n",
    "                    elif (sol1==True) or (sol2==True):\n",
    "                        sol=True\n",
    "                    break   # l'istanza è risolta dalle precedenti chiamate ricorsive: si esce dal ciclo while\n",
    "\n",
    "    return sol\n",
    "\n",
    "\n",
    "\n",
    "\n",
    "def verif_triangolo(answer, path, triangle, pt_green, pt_red, index_pt):\n",
    "    if sum(path)!=answer:\n",
    "        my_str=\"Errore: incongruenza tra il percorso e la somma forniti.\"\n",
    "        if answer<np.max(triangolo):\n",
    "            str_to_print=evaluation_format(\"No\", 0, pt_red, index_pt) + my_str + f\"Guarda che la somma fornita è inferiore al numero massimo presente nel triangolo, ovvero {np.max(triangolo)}: se includi quest'ultimo hai già una somma maggiore !\"\n",
    "        elif answer>np.sum(triangolo):\n",
    "            str_to_print=evaluation_format(\"No\", 0, pt_red, index_pt) + my_str + f\"Guarda che la somma fornita è superiore alla somma di TUTTI i numeri presenti triangolo, ovvero {np.sum(triangolo)}: certamente NON può esistere un percorso del genere !\"\n",
    "        else:\n",
    "            str_to_print=my_str\n",
    "    else:\n",
    "        if (is_path(path, triangle)): \n",
    "            str_to_print=evaluation_format(\"Si\", pt_green, pt_red, index_pt) + \"Il percorso è ammissibile.\"\n",
    "        else:\n",
    "            my_str=\"Il percorso non è ammissibile.\"\n",
    "            if answer<np.max(triangolo):\n",
    "                str_to_print=evaluation_format(\"No\", 0, pt_red, index_pt) + my_str + f\"Guarda che la somma fornita è inferiore al numero massimo presente nel triangolo, ovvero {np.max(triangolo)}: se includi quest'ultimo hai già una somma maggiore !\"\n",
    "            elif answer>np.sum(triangolo):\n",
    "                str_to_print=evaluation_format(\"No\", 0, pt_red, index_pt) + my_str + f\"Guarda che la somma fornita è superiore alla somma di TUTTI i numeri presenti triangolo, ovvero {np.sum(triangolo)}: certamente NON può esistere un percorso del genere !\"\n",
    "            else:\n",
    "                str_to_print=evaluation_format(\"No\", 0, pt_red, index_pt) + my_str\n",
    "    return str_to_print"
   ]
  },
  {
   "cell_type": "code",
   "execution_count": 16,
   "metadata": {},
   "outputs": [
    {
     "name": "stdout",
     "output_type": "stream",
     "text": [
      "Matrice associata al triangolo:\n",
      "\n",
      "[[7 0 0 0 0]\n",
      " [3 8 0 0 0]\n",
      " [8 1 0 0 0]\n",
      " [2 7 4 4 0]\n",
      " [4 5 2 6 5]]\n",
      "\n",
      "Risposta:\t30\n",
      "Certificato del percorso:\t[7, 3, 8, 7, 5]\n"
     ]
    },
    {
     "data": {
      "text/markdown": [
       "Si. Totalizzeresti <span style='color:green'>[1 safe pt]</span>,                                     <span style='color:blue'>[19 possible pt]</span>,                                     <span style='color:red'>[0 out of reach pt]</span>.<br>Il percorso è ammissibile."
      ],
      "text/plain": [
       "<IPython.core.display.Markdown object>"
      ]
     },
     "metadata": {},
     "output_type": "display_data"
    }
   ],
   "source": [
    "# esempio di triangolo tratto dal cms\n",
    "\n",
    "triangolo = np.matrix([[7, 0, 0, 0, 0],\n",
    "                       [3, 8, 0, 0, 0],\n",
    "                       [8, 1, 0, 0, 0],\n",
    "                       [2, 7, 4, 4, 0],\n",
    "                       [4, 5, 2, 6, 5]])\n",
    "\n",
    "\n",
    "percorso = [7,3,8,7,5]   # sequenza di numeri dalla cima al fondo del triangolo\n",
    "risposta = 30   # ==sum(percorso)  :  somma totale dei numeri in percorso\n",
    "\n",
    "print(\"Matrice associata al triangolo:\\n\")\n",
    "print(triangolo)\n",
    "print(\"\\nRisposta:\\t%s\" % risposta)\n",
    "print(\"Certificato del percorso:\\t%s\" % percorso)\n",
    "\n",
    "display(Markdown(verif_triangolo(risposta, percorso, triangolo, pt_green=1, pt_red=20, index_pt=5)))"
   ]
  },
  {
   "cell_type": "code",
   "execution_count": 17,
   "metadata": {},
   "outputs": [
    {
     "name": "stdout",
     "output_type": "stream",
     "text": [
      "Matrice associata al triangolo:\n",
      "\n",
      "[[7 0 0 0 0]\n",
      " [3 8 0 0 0]\n",
      " [8 1 0 0 0]\n",
      " [2 7 4 4 0]\n",
      " [4 5 2 6 5]]\n",
      "\n",
      "Risposta:\t24\n",
      "Certificato del percorso:\t[7, 8, 0, 4, 5]\n"
     ]
    },
    {
     "data": {
      "text/markdown": [
       "Si. Totalizzeresti <span style='color:green'>[1 safe pt]</span>,                                     <span style='color:blue'>[19 possible pt]</span>,                                     <span style='color:red'>[0 out of reach pt]</span>.<br>Il percorso è ammissibile."
      ],
      "text/plain": [
       "<IPython.core.display.Markdown object>"
      ]
     },
     "metadata": {},
     "output_type": "display_data"
    }
   ],
   "source": [
    "triangolo = np.matrix([[7, 0, 0, 0, 0],\n",
    "                       [3, 8, 0, 0, 0],\n",
    "                       [8, 1, 0, 0, 0],\n",
    "                       [2, 7, 4, 4, 0],\n",
    "                       [4, 5, 2, 6, 5]])\n",
    "\n",
    "\n",
    "percorso = [7,8,0,4,5]   # sequenza di numeri dalla cima al fondo del triangolo\n",
    "risposta=24   # ==sum(percorso)  :  somma totale dei numeri in percorso\n",
    "\n",
    "print(\"Matrice associata al triangolo:\\n\")\n",
    "print(triangolo)\n",
    "print(\"\\nRisposta:\\t%s\" % risposta)\n",
    "print(\"Certificato del percorso:\\t%s\" % percorso)\n",
    "\n",
    "display(Markdown(verif_triangolo(risposta, percorso, triangolo, pt_green=1, pt_red=20, index_pt=5)))"
   ]
  },
  {
   "cell_type": "code",
   "execution_count": 19,
   "metadata": {},
   "outputs": [
    {
     "name": "stdout",
     "output_type": "stream",
     "text": [
      "Matrice associata al triangolo:\n",
      "\n",
      "[[7 0 0 0 0]\n",
      " [3 8 0 0 0]\n",
      " [8 1 0 0 0]\n",
      " [2 7 4 4 0]\n",
      " [4 5 2 6 5]]\n",
      "\n",
      "Risposta:\t31\n",
      "Certificato del percorso:\t[7, 8, 0, 7, 9]\n"
     ]
    },
    {
     "data": {
      "text/markdown": [
       "No. Totalizzeresti <span style='color:green'>[0 safe pt]</span>,                                     <span style='color:blue'>[0 possible pt]</span>,                                     <span style='color:red'>[20 out of reach pt]</span>.<br>Il percorso non è ammissibile."
      ],
      "text/plain": [
       "<IPython.core.display.Markdown object>"
      ]
     },
     "metadata": {},
     "output_type": "display_data"
    }
   ],
   "source": [
    "triangolo = np.matrix([[7, 0, 0, 0, 0],\n",
    "                       [3, 8, 0, 0, 0],\n",
    "                       [8, 1, 0, 0, 0],\n",
    "                       [2, 7, 4, 4, 0],\n",
    "                       [4, 5, 2, 6, 5]])\n",
    "\n",
    "\n",
    "percorso = [7,8,0,7,9]   # sequenza di numeri dalla cima al fondo del triangolo\n",
    "risposta=sum(percorso)   # ==sum(percorso)  :  somma totale dei numeri in percorso\n",
    "\n",
    "print(\"Matrice associata al triangolo:\\n\")\n",
    "print(triangolo)\n",
    "print(\"\\nRisposta:\\t%s\" % risposta)\n",
    "print(\"Certificato del percorso:\\t%s\" % percorso)\n",
    "\n",
    "display(Markdown(verif_triangolo(risposta, percorso, triangolo, pt_green=1, pt_red=20, index_pt=5)))"
   ]
  },
  {
   "cell_type": "code",
   "execution_count": 20,
   "metadata": {},
   "outputs": [
    {
     "name": "stdout",
     "output_type": "stream",
     "text": [
      "Matrice associata al triangolo:\n",
      "\n",
      "[[7 0 0 0 0]\n",
      " [3 8 0 0 0]\n",
      " [8 1 0 0 0]\n",
      " [2 7 4 4 0]\n",
      " [4 5 2 6 5]]\n",
      "\n",
      "Risposta:\t29\n",
      "Certificato del percorso:\t[7, 3, 8, 7, 16]\n"
     ]
    },
    {
     "data": {
      "text/markdown": [
       "Errore: incongruenza tra il percorso e la somma forniti."
      ],
      "text/plain": [
       "<IPython.core.display.Markdown object>"
      ]
     },
     "metadata": {},
     "output_type": "display_data"
    }
   ],
   "source": [
    "\n",
    "triangolo = np.matrix([[7, 0, 0, 0, 0],\n",
    "                       [3, 8, 0, 0, 0],\n",
    "                       [8, 1, 0, 0, 0],\n",
    "                       [2, 7, 4, 4, 0],\n",
    "                       [4, 5, 2, 6, 5]])\n",
    "\n",
    "\n",
    "percorso = [7,3,8,7,16]   # sequenza di numeri dalla cima al fondo del triangolo\n",
    "risposta=29   # ==sum(percorso)  :  somma totale dei numeri in percorso\n",
    "\n",
    "print(\"Matrice associata al triangolo:\\n\")\n",
    "print(triangolo)\n",
    "print(\"\\nRisposta:\\t%s\" % risposta)\n",
    "print(\"Certificato del percorso:\\t%s\" % percorso)\n",
    "\n",
    "display(Markdown(verif_triangolo(risposta, percorso, triangolo, pt_green=1, pt_red=20, index_pt=5)))"
   ]
  },
  {
   "cell_type": "code",
   "execution_count": 21,
   "metadata": {},
   "outputs": [
    {
     "name": "stdout",
     "output_type": "stream",
     "text": [
      "Matrice associata al triangolo:\n",
      "\n",
      "[[4 0 0 0 0]\n",
      " [4 4 0 0 0]\n",
      " [4 4 4 0 0]\n",
      " [4 4 4 4 0]\n",
      " [4 4 5 4 4]]\n",
      "\n",
      "Risposta:\t21\n",
      "Certificato del percorso:\t[4, 4, 5, 4, 4]\n"
     ]
    },
    {
     "data": {
      "text/markdown": [
       "No. Totalizzeresti <span style='color:green'>[0 safe pt]</span>,                                     <span style='color:blue'>[0 possible pt]</span>,                                     <span style='color:red'>[20 out of reach pt]</span>.<br>Il percorso non è ammissibile."
      ],
      "text/plain": [
       "<IPython.core.display.Markdown object>"
      ]
     },
     "metadata": {},
     "output_type": "display_data"
    }
   ],
   "source": [
    "\n",
    "triangolo = np.matrix([[4, 0, 0, 0, 0],\n",
    "                       [4, 4, 0, 0, 0],\n",
    "                       [4, 4, 4, 0, 0],\n",
    "                       [4, 4, 4, 4, 0],\n",
    "                       [4, 4, 5, 4, 4]])\n",
    "\n",
    "\n",
    "percorso = [4,4,5,4,4]   # sequenza di numeri dalla cima al fondo del triangolo\n",
    "risposta=21   # ==sum(percorso)  :  somma totale dei numeri in percorso\n",
    "\n",
    "print(\"Matrice associata al triangolo:\\n\")\n",
    "print(triangolo)\n",
    "print(\"\\nRisposta:\\t%s\" % risposta)\n",
    "print(\"Certificato del percorso:\\t%s\" % percorso)\n",
    "\n",
    "display(Markdown(verif_triangolo(risposta, percorso, triangolo, pt_green=1, pt_red=20, index_pt=5)))"
   ]
  },
  {
   "cell_type": "code",
   "execution_count": 23,
   "metadata": {},
   "outputs": [
    {
     "name": "stdout",
     "output_type": "stream",
     "text": [
      "Matrice associata al triangolo:\n",
      "\n",
      "[[7 0 0 0 0]\n",
      " [3 8 0 0 0]\n",
      " [8 1 0 0 0]\n",
      " [2 7 4 4 0]\n",
      " [4 5 2 6 5]]\n",
      "\n",
      "Risposta:\t250\n",
      "Certificato del percorso:\t[7, 3, 8, 7, 16]\n"
     ]
    },
    {
     "data": {
      "text/markdown": [
       "No. Totalizzeresti <span style='color:green'>[0 safe pt]</span>,                                     <span style='color:blue'>[0 possible pt]</span>,                                     <span style='color:red'>[20 out of reach pt]</span>.<br>Errore: incongruenza tra il percorso e la somma forniti.Guarda che la somma fornita è superiore alla somma di TUTTI i numeri presenti triangolo, ovvero 66: certamente NON può esistere un percorso del genere !"
      ],
      "text/plain": [
       "<IPython.core.display.Markdown object>"
      ]
     },
     "metadata": {},
     "output_type": "display_data"
    }
   ],
   "source": [
    "\n",
    "triangolo = np.matrix([[7, 0, 0, 0, 0],\n",
    "                       [3, 8, 0, 0, 0],\n",
    "                       [8, 1, 0, 0, 0],\n",
    "                       [2, 7, 4, 4, 0],\n",
    "                       [4, 5, 2, 6, 5]])\n",
    "\n",
    "\n",
    "percorso = [7,3,8,7,16]   # sequenza di numeri dalla cima al fondo del triangolo\n",
    "risposta=250   # ==sum(percorso)  :  somma totale dei numeri in percorso\n",
    "\n",
    "print(\"Matrice associata al triangolo:\\n\")\n",
    "print(triangolo)\n",
    "print(\"\\nRisposta:\\t%s\" % risposta)\n",
    "print(\"Certificato del percorso:\\t%s\" % percorso)\n",
    "\n",
    "display(Markdown(verif_triangolo(risposta, percorso, triangolo, pt_green=1, pt_red=20, index_pt=5)))"
   ]
  },
  {
   "cell_type": "code",
   "execution_count": null,
   "metadata": {},
   "outputs": [],
   "source": []
  }
 ],
 "metadata": {
  "hide_input": false,
  "kernelspec": {
   "display_name": "Python 3",
   "language": "python",
   "name": "python3"
  },
  "language_info": {
   "codemirror_mode": {
    "name": "ipython",
    "version": 3
   },
   "file_extension": ".py",
   "mimetype": "text/x-python",
   "name": "python",
   "nbconvert_exporter": "python",
   "pygments_lexer": "ipython3",
   "version": "3.8.3"
  }
 },
 "nbformat": 4,
 "nbformat_minor": 4
}
