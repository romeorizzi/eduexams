{
 "cells": [
  {
   "cell_type": "code",
   "execution_count": 2,
   "metadata": {
    "deletable": false,
    "editable": false,
    "hide_input": true,
    "init_cell": true
   },
   "outputs": [],
   "source": [
    "from IPython.core.display import display, HTML, Markdown\n",
    "from ipywidgets import Button, HBox, VBox, widgets, Layout\n",
    "from tabulate import tabulate\n",
    "import copy\n"
   ]
  },
  {
   "cell_type": "code",
   "execution_count": 3,
   "metadata": {
    "deletable": false,
    "editable": false,
    "hide_input": true,
    "tags": [
     "runcell"
    ]
   },
   "outputs": [],
   "source": [
    "\n",
    "campo_minato = [['0', '2', '3', '1', '1', '3', '4', '7', '-1'], ['2', '1', '-1', '2', '-1', '-1', '7', '1', '2'], ['4', '-1', '2', '3', '7', '1', '1', '5', '4'], ['5', '1', '-1', '4', '5', '-1', '9', '3', '6'], ['1', '3', '3', '-1', '3', '1', '1', '10', '8'], ['1', '4', '-1', '5', '-1', '3', '1', '8', '9'], ['7', '5', '2', '-1', '2', '2', '3', '4', '0']]\n",
    "m = len(campo_minato)\n",
    "n = len(campo_minato[0])\n",
    "#mappa = [ [-1]*(n+1) ] + [ ([-1] + r) for r in campo_minatomappa = [ [-1]*(n+1) ] + [ ([-1] + r) for r in campo_minato#]\n",
    "mappa = [[\"*\"]*(n+1)]\n",
    "for r in campo_minato:\n",
    "    aux=[\"*\"]\n",
    "    for elem in r:\n",
    "        aux.append(\"*\") if elem==-1 else aux.append(elem)\n",
    "    mappa.append(aux)"
   ]
  },
  {
   "cell_type": "code",
   "execution_count": 5,
   "metadata": {
    "deletable": false,
    "editable": false,
    "hide_input": true,
    "tags": [
     "runcell"
    ]
   },
   "outputs": [
    {
     "ename": "IndentationError",
     "evalue": "unindent does not match any outer indentation level (<tokenize>, line 165)",
     "output_type": "error",
     "traceback": [
      "\u001b[1;36m  File \u001b[1;32m\"<tokenize>\"\u001b[1;36m, line \u001b[1;32m165\u001b[0m\n\u001b[1;33m    return  evaluation_format(\"No\", 0, 10)+\"Ti avviso: riscontro dei problemi nella tua versione della matrice num_gems_from.\"\u001b[0m\n\u001b[1;37m    ^\u001b[0m\n\u001b[1;31mIndentationError\u001b[0m\u001b[1;31m:\u001b[0m unindent does not match any outer indentation level\n"
     ]
    }
   ],
   "source": [
    "def visualizza(env):\n",
    "    if len(env)==m+1 and len(env[0])==n+1:\n",
    "        index=[chr(65+i) for i in range(m)]\n",
    "        aux=[r[1:] for r in env[1:]]\n",
    "        \n",
    "\n",
    "    if len(env)==m+2 and len(env[0])==n+2:\n",
    "        index=[chr(65+i) for i in range(m)]\n",
    "        aux=[r[1:-1] for r in env[1:-1]]\n",
    "        \n",
    "    for i in range(len(aux)):\n",
    "        for j in range(len(aux[0])):\n",
    "            if aux[i][j] is None:\n",
    "                aux[i][j]=\"x\"\n",
    "\n",
    "    columns=[str(i) for i in range(1,n+1)]\n",
    "    print(tabulate(aux, headers=columns, tablefmt='fancy_grid', showindex=index))\n",
    "        \n",
    "def evaluation_format(answ, pt_green,pt_red):\n",
    "    pt_blue=0\n",
    "    if pt_green!=0:\n",
    "        pt_blue=pt_red-pt_green\n",
    "        pt_red=0\n",
    "    return f\"{answ}. Totalizzeresti <span style='color:green'>[{pt_green} safe pt]</span>,                                     <span style='color:blue'>[{pt_blue} possible pt]</span>,                                     <span style='color:red'>[{pt_red} out of reach pt]</span>.<br>\"\n",
    "\n",
    "def check_num_gems_to(mappa, num_gems_to, return_only_boolan=False):\n",
    "    if len(num_gems_to) != m+1:\n",
    "        if return_only_boolan:\n",
    "                return False\n",
    "        return evaluation_format(\"No\", 0, 10)+f\"Le righe della matrice $num\\_gems\\_to$ devono essere $m+1=${m+1}, non {len(num_gems_to)}.\"\n",
    "    if len(num_gems_to[0]) != n+1:\n",
    "        if return_only_boolan:\n",
    "                return False\n",
    "        return evaluation_format(\"No\", 0, 10)+f\"Le colonne della matrice $num\\_gems\\_to$ devono essere $n+1=${n+1}, non {len(num_gems_to[0])}.\"\n",
    "        \n",
    "    for i in range (0,m):\n",
    "        if num_gems_to[i][0]!=0:\n",
    "            if return_only_boolan:\n",
    "                return False\n",
    "            return evaluation_format(\"No\", 0, 10)+f\"Attenzione, la raccolta delle gemme deve partire dalla cella $(1,1)$ e pertanto $num\\_gems\\_to[${i}$][0] = 0$\"\n",
    "    for j in range (0,n):\n",
    "        if num_gems_to[0][j]!=0:\n",
    "            if return_only_boolan:\n",
    "                return False\n",
    "            return evaluation_format(\"No\", 0, 10)+f\"Attenzione, la raccolta delle gemme deve partire dalla cella $(1,1)$ e pertanto $num\\_gemss\\_to[0][${j}$] = 0$\"\n",
    "    num_gems_to_forgiving = copy.deepcopy(num_gems_to)\n",
    "    num_gems_to_forgiving[1][1] = 0\n",
    "    for i in range(m,0,-1):\n",
    "        for j in range (n,0,-1):\n",
    "            if i==1 and j==1:\n",
    "                if return_only_boolan:\n",
    "                    return True\n",
    "                return  evaluation_format(\"Si\", 10, 10)+\"Non riscontro particolari problemi della tua versione della matrice $num\\_gems\\_to$.\"\n",
    "            if mappa[i][j]==\"*\" or (num_gems_to_forgiving[i][j-1] is None and num_gems_to_forgiving[i-1][j] is None):\n",
    "                if num_gems_to_forgiving[i][j] is not None:\n",
    "                    if return_only_boolan:\n",
    "                        return False\n",
    "                    return  evaluation_format(\"No\", 0, 10)+\"Ti avviso: riscontro dei problemi nella tua versione della matrice $num\\_gems\\_to$.\"\n",
    "            else:\n",
    "                if num_gems_to_forgiving[i][j]!=max((num_gems_to_forgiving[i-1][j] if num_gems_to_forgiving[i-1][j] is not None else 0),(num_gems_to_forgiving[i][j-1] if num_gems_to_forgiving[i][j-1] is not None else 0)) + mappa[i][j]:\n",
    "                    if return_only_boolan:\n",
    "                        return False\n",
    "                    return  evaluation_format(\"No\", 0, 10)+\"Ti avviso: riscontro dei problemi nella tua versione della matrice $num\\_gems\\_to$.\"\n",
    "                \n",
    "def check_max_gems_to(mappa, max_gems_to, return_only_boolan=False):\n",
    "    if len(max_gems_to) != m+1:\n",
    "        if return_only_boolan:\n",
    "                return False\n",
    "        return evaluation_format(\"No\", 0, 10)+f\"Le righe della matrice $max\\_gems\\_to$ devono essere $m+1=${m+1}, non {len(max_gems_to)}.\"\n",
    "    if len(max_gems_to[0]) != n+1:\n",
    "        if return_only_boolan:\n",
    "                return False\n",
    "        return evaluation_format(\"No\", 0, 10)+f\"Le colonne della matrice $max\\_gems\\_to$ devono essere $n+1=${n+1}, non {len(max_gems_to[0])}.\"\n",
    "        \n",
    "    for i in range (0,m):\n",
    "        if max_gems_to[i][0][0]!=0:\n",
    "            if return_only_boolan:\n",
    "                return False\n",
    "            return evaluation_format(\"No\", 0, 10)+f\"Attenzione, la raccolta delle gemme deve partire dalla cella $(1,1)$ e pertanto $max\\_gems\\_to\\_with\\_opt[${i}$][0] = 0$\"\n",
    "    for j in range (0,n):\n",
    "        if max_gems_to[0][j][0]!=0:\n",
    "            if return_only_boolan:\n",
    "                return False\n",
    "            return evaluation_format(\"No\", 0, 10)+f\"Attenzione, la raccolta delle gemme deve partire dalla cella $(1,1)$ e pertanto $max\\_gems\\_to[0][${j}$] = 0$\"\n",
    "    max_gems_to_forgiving = copy.deepcopy(max_gems_to)\n",
    "    max_gems_to_forgiving[1][1] = (0,1)\n",
    "    for i in range(m,0,-1):\n",
    "        for j in range (n,0,-1):\n",
    "            if i==1 and j==1:\n",
    "                if return_only_boolan:\n",
    "                    return True\n",
    "                return  evaluation_format(\"Si\", 10, 10)+\"Non riscontro particolari problemi della tua versione della matrice $max\\_gems\\_to$.\"\n",
    "            if mappa[i][j]==\"*\" or (max_gems_to_forgiving[i][j-1] is None and max_gems_to_forgiving[i-1][j] is None):\n",
    "                if max_gems_to_forgiving[i][j] is not None:\n",
    "                    if return_only_boolan:\n",
    "                        return False\n",
    "                    return  evaluation_format(\"No\", 0, 10)+\"Ti avviso: riscontro dei problemi nella tua versione della matrice $max\\_gems\\_to$.\"\n",
    "            else:\n",
    "                if max_gems_to_forgiving[i][j][0]!=max((max_gems_to_forgiving[i-1][j][0] if max_gems_to_forgiving[i-1][j] is not None else 0),(max_gems_to_forgiving[i][j-1][0] if max_gems_to_forgiving[i][j-1] is not None else 0)) + mappa[i][j]:\n",
    "                        if return_only_boolan:\n",
    "                            return False\n",
    "                        return  evaluation_format(\"No\", 0, 10)+\"Ti avviso: riscontro dei problemi nella tua versione della matrice $max\\_gems\\_to$.\"\n",
    "                \n",
    "                if max_gems_to_forgiving[i-1][j] is None:\n",
    "                    if max_gems_to_forgiving[i][j][1]!=max_gems_to_forgiving[i][j-1][1]:\n",
    "                        if return_only_boolan:\n",
    "                            return False\n",
    "                        return  evaluation_format(\"No\", 0, 10)+\"Ti avviso: riscontro dei problemi nella tua versione della matrice $max\\_gems\\_to$.\"\n",
    "                elif max_gems_to_forgiving[i][j-1] is None:\n",
    "                    if max_gems_to_forgiving[i][j][1]!=max_gems_to_forgiving[i-1][j][1]:\n",
    "                        if return_only_boolan:\n",
    "                            return False\n",
    "                        return  evaluation_format(\"No\", 0, 10)+\"Ti avviso: riscontro dei problemi nella tua versione della matrice $max\\_gems\\_to$.\"\n",
    "                else:\n",
    "                    if max_gems_to_forgiving[i-1][j][0]==max_gems_to_forgiving[i][j-1][0]:\n",
    "                        if max_gems_to_forgiving[i][j][1]!=max_gems_to_forgiving[i-1][j][1]+max_gems_to_forgiving[i][j-1][1]:\n",
    "                            if return_only_boolan:\n",
    "                                return False\n",
    "                            return  evaluation_format(\"No\", 0, 10)+\"Ti avviso: riscontro dei problemi nella tua versione della matrice $max\\_gems\\_to$.\"\n",
    "                    elif max_gems_to_forgiving[i-1][j][0]>max_gems_to_forgiving[i][j-1][0]:\n",
    "                        if max_gems_to_forgiving[i][j][1]!=max_gems_to_forgiving[i-1][j][1]:\n",
    "                            if return_only_boolan:\n",
    "                                return False\n",
    "                            return  evaluation_format(\"No\", 0, 10)+\"Ti avviso: riscontro dei problemi nella tua versione della matrice $max\\_gems\\_to$.\"\n",
    "                    else:\n",
    "                        if max_gems_to_forgiving[i][j][1]!=max_gems_to_forgiving[i][j-1][1]:\n",
    "                            if return_only_boolan:\n",
    "                                return False\n",
    "                            return  evaluation_format(\"No\", 0, 10)+\"Ti avviso: riscontro dei problemi nella tua versione della matrice $max\\_gems\\_to$.\"\n",
    "                                         \n",
    "def check_num_gems_from(mappa, num_gems_from, return_only_boolan=False):\n",
    "    if len(num_gems_from) != m+2:\n",
    "        if return_only_boolan:\n",
    "                return False\n",
    "        return evaluation_format(\"No\", 0, 10)+f\"Le righe della matrice $num\\_gems\\_from$ devono essere $m+2=${m+2}, non {len(num_gems_from)}.\"\n",
    "    if len(num_gems_from[0]) != n+2:\n",
    "        if return_only_boolan:\n",
    "                return False\n",
    "        return evaluation_format(\"No\", 0, 10)+f\"Le colonne della matrice $num\\_gems\\_from$ devono essere $n+2=${n+2}, non {len(num_gems_from[0])}.\"\n",
    "        \n",
    "    for i in range (0,m+1):\n",
    "        if num_gems_from[i][n+1]!=0:\n",
    "            if return_only_boolan:\n",
    "                return False\n",
    "            return evaluation_format(\"No\", 0, 10)+f\"Attenzione, la raccolta delle gemme deve partire dalla cella $({m},{n})$ e pertanto $num\\_gems\\_from[${i}$][${n}$] = 0$\"\n",
    "    for j in range (0,n+1):\n",
    "        if num_gems_from[m+1][j]!=0:\n",
    "            if return_only_boolan:\n",
    "                return False\n",
    "            return evaluation_format(\"No\", 0, 10)+f\"Attenzione, la raccolta delle gemme deve partire dalla cella $({m},{n})$ e pertanto $num\\_gems\\_from[${m}$][${j}$] = 0$\"\n",
    "    num_gems_from_forgiving = copy.deepcopy(num_gems_from)\n",
    "    num_gems_from_forgiving[m][n] = 0\n",
    "    for i in range(1,m):\n",
    "        for j in range (1,n):\n",
    "            if mappa[i][j]==\"*\" or (num_gems_from_forgiving[i][j+1] is None and num_gems_from_forgiving[i+1][j] is None):\n",
    "                if num_gems_from_forgiving[i][j] is not None:\n",
    "                    if return_only_boolan:\n",
    "                        return False\n",
    "                    return  evaluation_format(\"No\", 0, 10)+\"Ti avviso: riscontro dei problemi nella tua versione della matrice num_gems_from\"\n",
    "            else:\n",
    "                if num_gems_from_forgiving[i][j]!=max((num_gems_from_forgiving[i+1][j] \n",
    "                    if num_gems_from_forgiving[i+1][j] is not None else 0),(num_gems_from_forgiving[i][j+1] if num_gems_from_forgiving[i][j+1] is not None else 0)) + mappa[i][j]:\n",
    "                        if return_only_boolan:\n",
    "                            return False\n",
    "                    return  evaluation_format(\"No\", 0, 10)+\"Ti avviso: riscontro dei problemi nella tua versione della matrice num_gems_from.\" \n",
    "    if return_only_boolan:\n",
    "        return True\n",
    "    return  evaluation_format(\"Si\", 10, 10)+\"Non riscontro particolari problemi della tua versione della matrice num_gems_from.\"\n",
    "\n",
    "\n",
    "def check_max_gems_from(mappa, max_gems_from, return_only_boolan=False):\n",
    "    \n",
    "    \n",
    "    \n",
    "    if len(max_gems_from) != m+2:\n",
    "        if return_only_boolan:\n",
    "                return False\n",
    "        return evaluation_format(\"No\", 0, 10)+f\"Le righe della matrice $max\\_gems\\_from$ devono essere $m+2=${m+2}, non {len(max_gems_from)}.\"\n",
    "    if len(max_gems_from[0]) != n+2:\n",
    "        if return_only_boolan:\n",
    "                return False\n",
    "        return evaluation_format(\"No\", 0, 10)+f\"Le righe della matrice $max\\_gems\\_from$ devono essere $m+2=${m+2}, non {len(max_gems_from)}.\"\n",
    "    \n",
    "    for i in range (0,m+1):\n",
    "        if max_gems_from[i][n+1]!=(0,0):\n",
    "            if return_only_boolan:\n",
    "                return False\n",
    "            return evaluation_format(\"No\", 0, 10)+f\"Attenzione, la raccolta delle gemme deve partire dalla cella $({m},{n})$ e pertanto $max\\_gems\\_from[${i}$][${n}$] = 0$\"\n",
    "    for j in range (0,n+1):\n",
    "        if max_gems_from[m+1][j]!=(0,0):\n",
    "            if return_only_boolan:\n",
    "                return False\n",
    "            return evaluation_format(\"No\", 0, 10)+f\"Attenzione, la raccolta delle gemme deve partire dalla cella $({m},{n})$ e pertanto $max\\_gems\\_from[${m}$][${j}$] = 0$\"\n",
    "    \n",
    "    max_gems_from_forgiving = copy.deepcopy(max_gems_from)\n",
    "    max_gems_from_forgiving[m][n] = (0,1)\n",
    "    for i in range(1,m):\n",
    "        for j in range (1,n):         \n",
    "            if mappa[i][j]==\"*\" or (max_gems_from_forgiving[i][j+1] is None and max_gems_from_forgiving[i+1][j] is None):\n",
    "                if max_gems_from_forgiving[i][j] is not None:\n",
    "                    if return_only_boolan:\n",
    "                        return False\n",
    "                    return  evaluation_format(\"No\", 0, 10)+\"Ti avviso: riscontro dei problemi nella tua versione della matrice $max\\_gems\\_from$.\"\n",
    "            else:\n",
    "                if max_gems_from_forgiving[i][j][0]!=max((max_gems_from_forgiving[i+1][j][0] if max_gems_from_forgiving[i+1][j] is not None else 0),(max_gems_from_forgiving[i][j+1][0] if max_gems_from_forgiving[i][j+1] is not None else 0)) + mappa[i][j]:\n",
    "                        if return_only_boolan:\n",
    "                            return False\n",
    "                        return  evaluation_format(\"No\", 0, 10)+\"Ti avviso: riscontro dei problemi nella tua versione della matrice $max\\_gems\\_from$.\"\n",
    "                \n",
    "                if max_gems_from_forgiving[i+1][j] is None:\n",
    "                    if max_gems_from_forgiving[i][j][1]!=max_gems_from_forgiving[i][j+1][1]:\n",
    "                        if return_only_boolan:\n",
    "                            return False\n",
    "                        return  evaluation_format(\"No\", 0, 10)+\"Ti avviso: riscontro dei problemi nella tua versione della matrice $max\\_gems\\_from$.\"\n",
    "                elif max_gems_from_forgiving[i][j+1] is None:\n",
    "                    if max_gems_from_forgiving[i][j][1]!=max_gems_from_forgiving[i+1][j][1]:\n",
    "                        if return_only_boolan:\n",
    "                            return False\n",
    "                        return  evaluation_format(\"No\", 0, 10)+\"Ti avviso: riscontro dei problemi nella tua versione della matrice $max\\_gems\\_from$.\"\n",
    "                else:\n",
    "                    if max_gems_from_forgiving[i+1][j][0]==max_gems_from_forgiving[i][j+1][0]:\n",
    "                        if max_gems_from_forgiving[i][j][1]!=max_gems_from_forgiving[i+1][j][1]+max_gems_from_forgiving[i][j+1][1]:\n",
    "                            if return_only_boolan:\n",
    "                                return False\n",
    "                            return  evaluation_format(\"No\", 0, 10)+\"Ti avviso: riscontro dei problemi nella tua versione della matrice $max\\_gems\\_from$.\"\n",
    "                    elif max_gems_from_forgiving[i+1][j][0]>max_gems_from_forgiving[i][j+1][0]:\n",
    "                        if max_gems_from_forgiving[i][j][1]!=max_gems_from_forgiving[i+1][j][1]:\n",
    "                            if return_only_boolan:\n",
    "                                return False\n",
    "                            return  evaluation_format(\"No\", 0, 10)+\"Ti avviso: riscontro dei problemi nella tua versione della matrice $max\\_gems\\_from$.\"\n",
    "                    else:\n",
    "                        if max_gems_from_forgiving[i][j][1]!=max_gems_from_forgiving[i][j+1][1]:\n",
    "                            if return_only_boolan:\n",
    "                                return False\n",
    "                            return  evaluation_format(\"No\", 0, 10)+\"Ti avviso: riscontro dei problemi nella tua versione della matrice $max\\_gems\\_from$.\"                \n",
    "    if return_only_boolan:\n",
    "                return True\n",
    "    return  evaluation_format(\"Si\", 10, 10)+\"Non riscontro particolari problemi della tua versione della matrice $max\\_gems\\_from$.\"     \n",
    "\n",
    "def Latex_type(string):\n",
    "    return string.replace(\"_\", \"\\_\")\n",
    "\n",
    "def visualizza_e_valuta(nome_matrice, matrice,,pt_green, pt_red, index_pt):\n",
    "    display(Markdown(f\"La tua versione attuale della matrice ${Latex_type(nome_matrice)}$ è la seguente:\"))\n",
    "    visualizza(matrice)\n",
    "    display(Markdown(f\"<b>Validazione della tua matrice ${Latex_type(nome_matrice)}$:</b>\"))\n",
    " display(Markdown(eval(f\"check_{nome_matrice}(mappa,matrice,pt_green, pt_red, index_pt)\"))) "
   ]
  },
  {
   "cell_type": "markdown",
   "metadata": {
    "deletable": false,
    "editable": false,
    "hide_input": true,
    "tags": [
     "runcell"
    ]
   },
   "source": [
    "## Esercizio \\[40 pts\\]<br/>(campo minato con gemme) Ricerca di cammini in una griglia rettangolare con celle proibite e gemme da raccogliere.."
   ]
  },
  {
   "cell_type": "markdown",
   "metadata": {
    "deletable": false,
    "editable": false,
    "hide_input": true,
    "tags": [
     "runcell"
    ]
   },
   "source": [
    "Bimo cammina sulle celle di un campo minato dalla forma di una griglia rettangolare $m\times n$.Le mine sono indicate da un -1 mentre le altre celle che contengono un numero intero >0 \n",
    "sono tutte transitabili (il numero indica il numero di monete in quella cella).Le mosse consentite portano Bimo dalla cella $(i,j)$ alla cella $(i+1,j)$ oppure $(i,j+1)$, sempre ove queste siano transitabili.Organizzati per calcolare quante monete riesce a raccogliere Bimo tra due celle date e per rispondere ad altre domande di questo tipo.\n"
   ]
  },
  {
   "cell_type": "markdown",
   "metadata": {
    "deletable": false,
    "editable": false,
    "hide_input": true,
    "tags": [
     "runcell"
    ]
   },
   "source": [
    "<b>Nota</b>: Saper programmare non è la competenza che intendiamo valutare con questo esercizio.\n",
    "Decidi tu, in piena libertà, se preferisci compilare le tabelle e le risposte a mano, oppure scrivere del codice che lo faccia per te\n",
    "o che ti assista nelle misura che ti è più utile. Sei incoraggiato a ricercare l'approccio per te più pratico, sicuro e conveniente.\n",
    "Non verranno pertanto attribuiti punti extra per chi scrive del codice. I punti ottenuti dalle risposte consegnate a chiusura sono l'unico elemento oggetto di valutazione.\n",
    "In ogni caso, il feedback offerto dalle procedure di validazione rese disponibili è di grande aiuto.\n",
    "Esso convalida la conformità delle tue risposte facendo anche presente a quanti dei punti previsti  le tue risposte possono ambire.\n",
    "Per facilitare chi di voi volesse scrivere del codice a proprio supporto, abbiamo aggiunto alla mappa di $m$ righe ed $n$ colonne una riga e colonna iniziale (di indice zero), fatte interamente di mine, perchè non si crei confusione col fatto che gli indici di liste ed array in programmazione partono da zero.\n"
   ]
  },
  {
   "cell_type": "markdown",
   "metadata": {
    "deletable": false,
    "editable": false,
    "hide_input": true,
    "tags": [
     "runcell"
    ]
   },
   "source": [
    "Un robot, inizialmente situato nella cella $A1=(1,1)$, deve portarsi nella cella $G9=(7,9)$.\n",
    "Le celle che riportano un numero negativo contengono una mina od altre trapole mortali, ed il robot deve evitarle. Ogni altra cella contiene il numero di monete rappresentato nella tabella.I movimenti base possibili sono il passo verso destra (ad esempio il primo passo potrebbe avvenire dalla cella $A1$ alla cella $A2$) ed il passo verso il basso (ad esempio, come unica altra alternativa per il primo passo il robot potrebbe posrtarsi quindi nella cella $B1$).Quante monete può raccogliere al massimo il robot in un percorso che vada dalla cella $A1$ alla cella $G9$?E quanti sono i percorsi che gli consentono di raccogliere un tale numero di monete?\n"
   ]
  },
  {
   "cell_type": "code",
   "execution_count": null,
   "metadata": {
    "deletable": false,
    "editable": false,
    "hide_input": true,
    "tags": [
     "runcell"
    ]
   },
   "outputs": [],
   "source": [
    "visualizza(mappa)"
   ]
  },
  {
   "cell_type": "markdown",
   "metadata": {
    "deletable": false,
    "editable": false,
    "hide_input": true,
    "tags": [
     "runcell"
    ]
   },
   "source": [
    "__Richieste__:"
   ]
  },
  {
   "cell_type": "markdown",
   "metadata": {
    "deletable": false,
    "editable": false,
    "hide_input": true,
    "tags": [
     "runcell",
     "noexport"
    ]
   },
   "source": [
    "1. __[10 pts]__A mano o tramite un programma componi la matrice $num\\_gems\\_to$ di dimensione $(m+1)\times(n+1)$, nella cui cella $num\\_gems\\_to[i][j]$, per ogni $i = 0,..., m+1$ e $j = 0,..., n+1$, sia riposto il massimo numero di gemme incontrate da un cammino dalla cella $A1=(1,1)$ alla generica cella $(i,j)$. Se non vi è alcun cammino dalla cella $A1=(1,1)$ alla generica cella $(i,j)$ poni allora $num\\_gems\\_to[i][j]$ a $None$."
   ]
  },
  {
   "cell_type": "code",
   "execution_count": null,
   "metadata": {
    "deletable": false
   },
   "outputs": [],
   "source": [
    "num_gems_to =[\n",
    "                [0, 0, 0, 0, 0, 0, 0, 0, 0, 0],\n",
    "                [0, 0, 2, 5, 6, 7, 10, 14, 21, None],\n",
    "                [0, 2, 3, None, 8, None, None, 21, 22, 24],\n",
    "                [0, 6, None, None, 11, 18, 19, 22, 27, 31],\n",
    "                [0, 11, 12, None, 15, 23, None, 31, 34, 40],\n",
    "                [0, 12, 15, 18, None, 26, 27, 32, 44, 52],\n",
    "                [0, 13, 19, None, None, None, 30, 33, 52, 61],\n",
    "                [0, 20, 25, 27, None, None, 32, 36, 56, 61]\n",
    "            ]\n",
    "            "
   ]
  },
  {
   "cell_type": "code",
   "execution_count": null,
   "metadata": {
    "deletable": false,
    "editable": false,
    "hide_input": true
   },
   "outputs": [],
   "source": [
    "visualizza_e_valuta('num_gems_to',num_gems_to, pt_green=10, pt_red=10,index_pt=0)"
   ]
  },
  {
   "cell_type": "markdown",
   "metadata": {
    "deletable": false,
    "editable": false,
    "hide_input": true,
    "tags": [
     "runcell",
     "noexport"
    ]
   },
   "source": [
    "1. __[10 pts]__ Componi ora una matrice $num\\_gems\\_from$, di dimensione $(m+2)times(n+2)$, nella cui cella $num\\_gems\\_from[i][j]$, per ogni $i = 1,..., m+1$ e $j = 1,..., n+1$, sia riposto il numero di gemme raccolte dalla generica cella $(i,j)$ alla cella $G9=(7,9)$."
   ]
  },
  {
   "cell_type": "code",
   "execution_count": null,
   "metadata": {
    "deletable": false
   },
   "outputs": [],
   "source": [
    "num_gems_from = [\n",
    "                [0, 0, 0, 0, 0, 0, 0, 0, 0, 0, 0],\n",
    "                [0, 61, 61, 59, 56, 55, 54, 51, 43, None, 0],\n",
    "                [0, 27, None, None, 53, None, None, 47, 36, 29, 0],\n",
    "                [0, 25, None, 53, 51, 48, 41, 40, 35, 27, 0],\n",
    "                [0, 21, 15, None, 41, 37, None, 39, 30, 23, 0],\n",
    "                [0, 16, 14, None, None, 32, 29, 28, 27, 17, 0],\n",
    "                [0, 15, 11, None, None, None, 21, 18, 17, 9, 0],\n",
    "                [0, 14, 7, 2, None, 11, 9, 7, 4, 0, 0],\n",
    "                [0, 0, 0, 0, 0, 0, 0, 0, 0, 0, 0]\n",
    "               ]\n",
    "               "
   ]
  },
  {
   "cell_type": "code",
   "execution_count": null,
   "metadata": {
    "deletable": false,
    "editable": false,
    "hide_input": true
   },
   "outputs": [],
   "source": [
    "visualizza_e_valuta('num_gems_from',num_gems_from, pt_green=10, pt_red=10,index_pt=0)"
   ]
  },
  {
   "cell_type": "markdown",
   "metadata": {
    "deletable": false,
    "editable": false,
    "hide_input": true,
    "tags": [
     "runcell",
     "noexport"
    ]
   },
   "source": [
    "1. __[10 pts]__A mano o tramite un programma componi la matrice $max\\_gems\\_to$ di dimensione $(m+1)\times(n+1)$, nella cui cella $max\\_gems\\_to[i][j]$, per ogni $i = 0,..., m+1$ e $j = 0,..., n+1$, sia riposto il numero di gemme raccolte dalla cella $A1=(1,1)$ e il numero di percorsi che assicurano di raccogliere quel numero di gemme alla generica cella $(i,j)$."
   ]
  },
  {
   "cell_type": "code",
   "execution_count": null,
   "metadata": {
    "deletable": false
   },
   "outputs": [],
   "source": [
    " max_gems_to =[\n",
    "                [(0, 0), (0, 0), (0, 0), (0, 0), (0, 0), (0, 0), (0, 0), (0, 0), (0, 0), (0, 0)],\n",
    "                [(0, 0), (0, 0), (2, 1), (5, 1), (6, 1), (7, 1), (10, 1), (14, 1), (21, 1), None],\n",
    "                [(0, 0), (2, 1), (3, 2), None, (8, 1), None, None, (21, 1), (22, 2), (24, 2)],\n",
    "                [(0, 0), (6, 1), None, None, (11, 1), (18, 1), (19, 1), (22, 1), (27, 3), (31, 3)],\n",
    "                [(0, 0), (11, 1), (12, 1), None, (15, 1), (23, 1), None, (31, 1), (34, 1), (40, 1)],\n",
    "                [(0, 0), (12, 1), (15, 2), (18, 2), None, (26, 1), (27, 1), (32, 1), (44, 1), (52, 1)],\n",
    "                [(0, 0), (13, 1), (19, 2), None, None, None, (30, 1), (33, 1), (52, 1), (61, 2)],\n",
    "                [(0, 0), (20, 1), (25, 1), (27, 1), None, None, (32, 1), (36, 1), (56, 1), (61, 2)]\n",
    "            ]\n",
    "            "
   ]
  },
  {
   "cell_type": "code",
   "execution_count": null,
   "metadata": {
    "deletable": false,
    "editable": false,
    "hide_input": true
   },
   "outputs": [],
   "source": [
    "visualizza_e_valuta('max_gems_to',max_gems_to, pt_green=10, pt_red=10,index_pt=0)"
   ]
  },
  {
   "cell_type": "markdown",
   "metadata": {
    "deletable": false,
    "editable": false,
    "hide_input": true,
    "tags": [
     "runcell",
     "noexport"
    ]
   },
   "source": [
    "1. __[10 pts]__ Componi ora una matrice max_gems_from, di dimensione (m+2)times(n+2), nella cui cella max_gems_from[i][j], per ogni i=1,...,m+1 e j=1,...,n+1, sia riposto il numero di gemme raccolte dalla generica cella (i,j) alla cella G9=(7,9) e il numero di percorsi che assicurano di raccogliere quel numero di gemme."
   ]
  },
  {
   "cell_type": "code",
   "execution_count": null,
   "metadata": {
    "deletable": false
   },
   "outputs": [],
   "source": [
    " max_gems_from = [\n",
    "                [(0, 0), (0, 0), (0, 0), (0, 0), (0, 0), (0, 0), (0, 0), (0, 0), (0, 0), (0, 0), (0, 0)],\n",
    "                [(0, 0), (61, 2), (61, 2), (59, 2), (56, 2), (55, 2), (54, 2), (51, 2), (43, 2), None, (0, 0)],\n",
    "                [(0, 0), (27, 1), None, None, (53, 2), None, None, (47, 2), (36, 2), (29, 1), (0, 0)],\n",
    "                [(0, 0), (25, 1), None, (53, 2), (51, 2), (48, 2), (41, 2), (40, 2), (35, 2), (27, 1), (0, 0)],\n",
    "                [(0, 0), (21, 1), (15, 1), None, (41, 2), (37, 2), None, (39, 2), (30, 2), (23, 1), (0, 0)],\n",
    "                [(0, 0), (16, 1), (14, 1), None, None, (32, 2), (29, 2), (28, 2), (27, 2), (17, 1), (0, 0)],\n",
    "                [(0, 0), (15, 1), (11, 1), None, None, None, (21, 1), (18, 1), (17, 1), (9, 1), (0, 0)],\n",
    "                [(0, 0), (14, 1), (7, 1), (2, 1), None, (11, 1), (9, 1), (7, 1), (4, 1), (0, 0), (0, 0)],\n",
    "                [(0, 0), (0, 0), (0, 0), (0, 0), (0, 0), (0, 0), (0, 0), (0, 0), (0, 0), (0, 0), (0, 0)]\n",
    "               ]\n",
    "               "
   ]
  },
  {
   "cell_type": "code",
   "execution_count": null,
   "metadata": {
    "deletable": false,
    "editable": false,
    "hide_input": true
   },
   "outputs": [],
   "source": [
    "visualizza_e_valuta('max_gems_from',max_gems_from, pt_green=10, pt_red=10,index_pt=0)"
   ]
  }
 ],
 "metadata": {
  "hide_input": false,
  "kernelspec": {
   "display_name": "Python 3",
   "language": "python",
   "name": "python3"
  },
  "language_info": {
   "codemirror_mode": {
    "name": "ipython",
    "version": 3
   },
   "file_extension": ".py",
   "mimetype": "text/x-python",
   "name": "python",
   "nbconvert_exporter": "python",
   "pygments_lexer": "ipython3",
   "version": "3.7.4"
  }
 },
 "nbformat": 4,
 "nbformat_minor": 4
}
