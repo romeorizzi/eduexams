{
 "cells": [
  {
   "cell_type": "code",
   "execution_count": 1,
   "metadata": {
    "hide_input": false,
    "pycharm": {
     "name": "#%%\n"
    }
   },
   "outputs": [],
   "source": [
    "from IPython.core.display import display, HTML, Markdown\n",
    "from ipywidgets import Button, HBox, VBox, widgets, Layout\n",
    "import ipysheet\n",
    "from tabulate import tabulate\n",
    "import pandas as pd\n",
    "import numpy as np"
   ]
  },
  {
   "cell_type": "code",
   "execution_count": 8,
   "metadata": {
    "hide_input": true,
    "pycharm": {
     "name": "#%%\n"
    }
   },
   "outputs": [],
   "source": [
    "def num_percorsi(env,r,c):\n",
    "    m = np.zeros([r,c])\n",
    "    hole = 0\n",
    "    i=0\n",
    "    j=0\n",
    "    while i < r:\n",
    "        if env[r][0]==\"X\":\n",
    "            hole=1\n",
    "        if hole == 0:\n",
    "            m[i][0] = 1;\n",
    "        else: \n",
    "             m[i][0] = 0;\n",
    "        i+=1\n",
    "    hole=0\n",
    "    while j < c:\n",
    "        if env[0][c]==\"X\":\n",
    "            hole=1\n",
    "        if hole == 0:\n",
    "            m[0][j] = 1;\n",
    "        else:\n",
    "            m[0][j] = 0;\n",
    "        j+=1\n",
    "        \n",
    "    for i in range(0,r):\n",
    "        for j in range(0,c):\n",
    "            m[i,j] = m[i-1,j] + m[i,j-1];\n",
    "        \n",
    "    return m;\n",
    "\n"
   ]
  },
  {
   "cell_type": "markdown",
   "metadata": {},
   "source": [
    "## Esercizio \\[60 pts\\]\n",
    "(campo minato) Ricerca del percorso migliore."
   ]
  },
  {
   "cell_type": "markdown",
   "metadata": {},
   "source": [
    "Un robot R, inizialmente situato nella cella $A1$, deve portarsi nella sua home H situata nella cella $G9$."
   ]
  },
  {
   "cell_type": "code",
   "execution_count": 3,
   "metadata": {
    "hide_input": true
   },
   "outputs": [
    {
     "name": "stdout",
     "output_type": "stream",
     "text": [
      "╒═══╤═══╤═══╤═══╤═══╤═══╤═══╤════╤═══╕\n",
      "│ R │ 2 │ 3 │ 1 │ 1 │ 3 │ 4 │  7 │ X │\n",
      "├───┼───┼───┼───┼───┼───┼───┼────┼───┤\n",
      "│ 2 │ 1 │ X │ 2 │ X │ X │ 7 │  1 │ 2 │\n",
      "├───┼───┼───┼───┼───┼───┼───┼────┼───┤\n",
      "│ 4 │ X │ 2 │ 3 │ 7 │ 1 │ 1 │  5 │ 4 │\n",
      "├───┼───┼───┼───┼───┼───┼───┼────┼───┤\n",
      "│ 5 │ 1 │ X │ 4 │ 5 │ X │ 9 │  3 │ 6 │\n",
      "├───┼───┼───┼───┼───┼───┼───┼────┼───┤\n",
      "│ 1 │ 3 │ 3 │ X │ 3 │ 1 │ 1 │ 10 │ 8 │\n",
      "├───┼───┼───┼───┼───┼───┼───┼────┼───┤\n",
      "│ 1 │ 4 │ X │ 5 │ X │ 3 │ 1 │  8 │ 9 │\n",
      "├───┼───┼───┼───┼───┼───┼───┼────┼───┤\n",
      "│ 7 │ 5 │ 2 │ X │ 2 │ 2 │ 3 │  4 │ H │\n",
      "╘═══╧═══╧═══╧═══╧═══╧═══╧═══╧════╧═══╛\n"
     ]
    },
    {
     "data": {
      "text/html": [
       "<table border=\"1\" class=\"dataframe\">\n",
       "  <thead>\n",
       "    <tr style=\"text-align: right;\">\n",
       "      <th></th>\n",
       "      <th>1</th>\n",
       "      <th>2</th>\n",
       "      <th>3</th>\n",
       "      <th>4</th>\n",
       "      <th>5</th>\n",
       "      <th>6</th>\n",
       "      <th>7</th>\n",
       "      <th>8</th>\n",
       "      <th>9</th>\n",
       "    </tr>\n",
       "  </thead>\n",
       "  <tbody>\n",
       "    <tr>\n",
       "      <th>A</th>\n",
       "      <td>R</td>\n",
       "      <td>2</td>\n",
       "      <td>3</td>\n",
       "      <td>1</td>\n",
       "      <td>1</td>\n",
       "      <td>3</td>\n",
       "      <td>4</td>\n",
       "      <td>7</td>\n",
       "      <td>X</td>\n",
       "    </tr>\n",
       "    <tr>\n",
       "      <th>B</th>\n",
       "      <td>2</td>\n",
       "      <td>1</td>\n",
       "      <td>X</td>\n",
       "      <td>2</td>\n",
       "      <td>X</td>\n",
       "      <td>X</td>\n",
       "      <td>7</td>\n",
       "      <td>1</td>\n",
       "      <td>2</td>\n",
       "    </tr>\n",
       "    <tr>\n",
       "      <th>C</th>\n",
       "      <td>4</td>\n",
       "      <td>X</td>\n",
       "      <td>2</td>\n",
       "      <td>3</td>\n",
       "      <td>7</td>\n",
       "      <td>1</td>\n",
       "      <td>1</td>\n",
       "      <td>5</td>\n",
       "      <td>4</td>\n",
       "    </tr>\n",
       "    <tr>\n",
       "      <th>D</th>\n",
       "      <td>5</td>\n",
       "      <td>1</td>\n",
       "      <td>X</td>\n",
       "      <td>4</td>\n",
       "      <td>5</td>\n",
       "      <td>X</td>\n",
       "      <td>9</td>\n",
       "      <td>3</td>\n",
       "      <td>6</td>\n",
       "    </tr>\n",
       "    <tr>\n",
       "      <th>E</th>\n",
       "      <td>1</td>\n",
       "      <td>3</td>\n",
       "      <td>3</td>\n",
       "      <td>X</td>\n",
       "      <td>3</td>\n",
       "      <td>1</td>\n",
       "      <td>1</td>\n",
       "      <td>10</td>\n",
       "      <td>8</td>\n",
       "    </tr>\n",
       "    <tr>\n",
       "      <th>F</th>\n",
       "      <td>1</td>\n",
       "      <td>4</td>\n",
       "      <td>X</td>\n",
       "      <td>5</td>\n",
       "      <td>X</td>\n",
       "      <td>3</td>\n",
       "      <td>1</td>\n",
       "      <td>8</td>\n",
       "      <td>9</td>\n",
       "    </tr>\n",
       "    <tr>\n",
       "      <th>G</th>\n",
       "      <td>7</td>\n",
       "      <td>5</td>\n",
       "      <td>2</td>\n",
       "      <td>X</td>\n",
       "      <td>2</td>\n",
       "      <td>2</td>\n",
       "      <td>3</td>\n",
       "      <td>4</td>\n",
       "      <td>H</td>\n",
       "    </tr>\n",
       "  </tbody>\n",
       "</table>"
      ],
      "text/plain": [
       "<IPython.core.display.HTML object>"
      ]
     },
     "metadata": {},
     "output_type": "display_data"
    }
   ],
   "source": [
    "table = [\n",
    "         [\"R\",2,3,1,1,3,4,7,\"X\"],\n",
    "         [2,1,\"X\",2,\"X\",\"X\",7,1,2],\n",
    "         [4,\"X\",2,3,7,1,1,5,4],\n",
    "         [5,1,\"X\",4,5,\"X\",9,3,6],\n",
    "         [1,3,3,\"X\",3,1,1,10,8],\n",
    "         [1,4,\"X\",5,\"X\",3,1,8,9],\n",
    "         [7,5,2,\"X\",2,2,3,4,\"H\"]         \n",
    "        ]\n",
    "\n",
    "columns=[\"1\",\"2\",\"3\",\"4\",\"5\",\"6\",\"7\",\"8\",\"9\"]\n",
    "index=pd.Index([\"A\",\"B\",\"C\",\"D\",\"E\",\"F\",\"G\"])\n",
    "df=pd.DataFrame(table,columns=columns,index=index)\n",
    "\n",
    "#display(HTML(df.to_html()))\n",
    "print(tabulate(table, tablefmt='fancy_grid'))\n",
    "display(HTML(df.to_html()))"
   ]
  },
  {
   "cell_type": "code",
   "execution_count": 9,
   "metadata": {
    "scrolled": true
   },
   "outputs": [
    {
     "name": "stdout",
     "output_type": "stream",
     "text": [
      "╒═══╤═══╤════╤════╤═════╤═════╤═════╤═════╕\n",
      "│ 1 │ 1 │  1 │  1 │   1 │   1 │   1 │   1 │\n",
      "├───┼───┼────┼────┼─────┼─────┼─────┼─────┤\n",
      "│ 1 │ 2 │  3 │  4 │   5 │   6 │   7 │   8 │\n",
      "├───┼───┼────┼────┼─────┼─────┼─────┼─────┤\n",
      "│ 1 │ 3 │  6 │ 10 │  15 │  21 │  28 │  36 │\n",
      "├───┼───┼────┼────┼─────┼─────┼─────┼─────┤\n",
      "│ 1 │ 4 │ 10 │ 20 │  35 │  56 │  84 │ 120 │\n",
      "├───┼───┼────┼────┼─────┼─────┼─────┼─────┤\n",
      "│ 1 │ 5 │ 15 │ 35 │  70 │ 126 │ 210 │ 330 │\n",
      "├───┼───┼────┼────┼─────┼─────┼─────┼─────┤\n",
      "│ 1 │ 6 │ 21 │ 56 │ 126 │ 252 │ 462 │ 792 │\n",
      "╘═══╧═══╧════╧════╧═════╧═════╧═════╧═════╛\n"
     ]
    }
   ],
   "source": [
    "print(tabulate(num_percorsi(table,len(table)-1,len(table[0])-1), tablefmt='fancy_grid'))"
   ]
  },
  {
   "cell_type": "markdown",
   "metadata": {},
   "source": [
    "Ogni cella senza mina contiene un numero di monetine come rappresentato.\\\n",
    "Quante monetine può raccogliere al massimo il robot?"
   ]
  },
  {
   "cell_type": "markdown",
   "metadata": {},
   "source": [
    "I movimenti base possibili sono il passo verso destra (ad esempio dalla cella A4 alla cella A5) ed il passo verso in basso (ad esempio dalla cella A4 alla cella B4).\\\n",
    "Tuttavia il robot non può visitare le celle occupate da un Pacman (indicate con la X)."
   ]
  },
  {
   "cell_type": "markdown",
   "metadata": {},
   "source": [
    "__Richieste__:"
   ]
  },
  {
   "cell_type": "markdown",
   "metadata": {},
   "source": [
    "1. __\\[10 pts\\]__ Quante monetine può raccogliere al massimo il robot, spostandosi dalla sua posizione iniziale A1 fino a H?"
   ]
  },
  {
   "cell_type": "markdown",
   "metadata": {},
   "source": [
    "2. __\\[10 pts\\]__ E se la partenza è in D4?"
   ]
  },
  {
   "cell_type": "markdown",
   "metadata": {},
   "source": [
    "3. __\\[10 pts\\]__ Quante sono le soluzioni ottime con partenza in D4?"
   ]
  },
  {
   "cell_type": "markdown",
   "metadata": {},
   "source": [
    "4. __\\[10 pts\\]__ E se con partenza in A1 il robot deve giungere in F7?"
   ]
  },
  {
   "cell_type": "markdown",
   "metadata": {},
   "source": [
    "5. __\\[10 pts\\]__ Quante sono le soluzioni ottime con arrivo in F7?"
   ]
  },
  {
   "cell_type": "markdown",
   "metadata": {},
   "source": [
    "6. __\\[10 pts\\]__ E se con partenza in A1 e arrivo in G9 al robot viene richiesto di passare per la cella D4?"
   ]
  },
  {
   "cell_type": "code",
   "execution_count": null,
   "metadata": {},
   "outputs": [],
   "source": []
  }
 ],
 "metadata": {
  "celltoolbar": "Edit Metadata",
  "hide_input": false,
  "kernelspec": {
   "display_name": "Python 3",
   "language": "python",
   "name": "python3"
  },
  "language_info": {
   "codemirror_mode": {
    "name": "ipython",
    "version": 3
   },
   "file_extension": ".py",
   "mimetype": "text/x-python",
   "name": "python",
   "nbconvert_exporter": "python",
   "pygments_lexer": "ipython3",
   "version": "3.7.7"
  }
 },
 "nbformat": 4,
 "nbformat_minor": 4
}
