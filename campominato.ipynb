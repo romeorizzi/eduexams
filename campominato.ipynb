{
 "cells": [
  {
   "cell_type": "code",
   "execution_count": 5,
   "metadata": {
    "hide_input": false,
    "pycharm": {
     "name": "#%%\n"
    }
   },
   "outputs": [],
   "source": [
    "from IPython.core.display import display, HTML, Markdown\n",
    "from ipywidgets import Button, HBox, VBox, widgets, Layout\n",
    "import ipysheet\n",
    "from tabulate import tabulate\n",
    "import pandas as pd"
   ]
  },
  {
   "cell_type": "code",
   "execution_count": 6,
   "metadata": {
    "hide_input": true,
    "pycharm": {
     "name": "#%%\n"
    }
   },
   "outputs": [],
   "source": [
    "def is_subseq(s, subs):\n",
    "    \"\"\"\n",
    "    bool: verifica se subs è sottosequenza di s.\n",
    "    \"\"\"\n",
    "    found = 0\n",
    "    pos_r = 0\n",
    "    while pos_r < len(s):\n",
    "        if s[pos_r] == subs[found]:\n",
    "            found += 1\n",
    "            if found >= len(subs):\n",
    "                return True\n",
    "        pos_r += 1\n",
    "    return False\n",
    "\n",
    "def evaluation_format(answ, pt_green,pt_red):\n",
    "    pt_blue=pt_red-pt_green\n",
    "    return f\"{answ}. Totalizzeresti <span style='color:green'>[{pt_green} safe pt]</span>, \\\n",
    "                                    <span style='color:blue'>[{pt_blue} possible pt]</span>, \\\n",
    "                                    <span style='color:red'>[{pt_red} out of reach pt]</span>.<br>\"\n",
    "\n",
    "\"\"\"\n",
    "Legend of possible sequence types:\n",
    "      \"SC\" :  implemented : strettamente crescente\n",
    "      \"ND\" :  implemented : non-decrescente\n",
    "      \"SD\" :  implemented : strettamente decrescente\n",
    "      \"NC\" :  implemented : non-crescente\n",
    "      \"V\"  :  implemented : V-sequence (first down then up)\n",
    "      \"A\"  :  implemented : A-sequence (first up then down)\n",
    "      \"SV\" :  implemented : strict V-sequence (first strict down then strict up)\n",
    "      \"SA\" :  implemented : strict A-sequence (first strict up then strict down)\n",
    "  \"ZigZag\" :  implemented : parte crescente e poi alterna\n",
    "  \"ZagZig\" :  implemented : parte calante e poi alterna\n",
    "\"ZigZagEQ\" :  implemented : parte crescente e poi alterna, due consecutivi possono essere uguali\n",
    "\"ZagZigEQ\" :  implemented : parte calante e poi alterna, due consecutivi possono essere uguali\n",
    "\"132-free\" : not done yet : dal mondo delle permutazioni pattern free per un infinità di problemi in FPT\n",
    "\"\"\"\n",
    "\n",
    "def is_seq_of_type(s, name_s, seq_type):\n",
    "    \"\"\"\n",
    "    valuta se una sequenza s di nome name_s è di tipo seq_type (vedi tabella subito sopra).\n",
    "    valore di ritorno (bool, NO_cert_string):\n",
    "       In caso affermativo il bool ritornato come prima componente è True e la seconda componente è None.\n",
    "       Altrimenti il bool è False e viene restituita una stringa che riporta una violazione puntuale alla proprietà richiesta.\n",
    "    \"\"\"\n",
    "    if len(s) > 1:\n",
    "        already_went_down = s[1] < s[0]\n",
    "        already_went_up = s[1] > s[0]\n",
    "    for i in range(1,len(s)):\n",
    "        if s[i] < s[i-1]:\n",
    "            already_went_down = True\n",
    "            if seq_type==\"V\" and already_went_up:\n",
    "                return (0,f\"L'elemento {s[i]} in posizione {i+1} è minore dell'elemento {s[i-1]} in posizione {i} come anche l'elemento {s[i-2]} in posizione {i-1}.\")\n",
    "            if seq_type in {\"SC\",\"ND\"} or (seq_type in {\"ZigZag\",\"ZigZagEQ\"} and s[i]%2 == 1) or (seq_type in {\"ZagZig\",\"ZagZigEQ\"} and s[i]%2 == 0):\n",
    "                return (0,f\"L'elemento {s[i]} in posizione {i+1} è minore dell'elemento {s[i-1]} in posizione {i}.\")\n",
    "        if s[i] > s[i-1]:\n",
    "            already_went_up = True\n",
    "            if seq_type==\"A\" and already_went_down:\n",
    "                return (0,f\"L'elemento {s[i]} in posizione {i+1} è maggiore dell'elemento {s[i-1]} in posizione {i} come anche l'elemento {s[i-2]} in posizione {i-1}.\")\n",
    "            if seq_type in {\"SD\",\"NC\"} or (seq_type in {\"ZagZig\",\"ZagZigEQ\"} and s[i]%2 == 1) or (seq_type in {\"ZigZag\",\"ZigZagEQ\"} and s[i]%2 == 0):\n",
    "                return (0,f\"L'elemento {s[i]} in posizione {i+1} è maggiore dell'elemento {s[i-1]} in posizione {i}.\")\n",
    "        if s[i] == s[i-1] and seq_type in {\"SC\",\"SD\",\"SV\",\"SA\",\"ZigZag\",\"ZagZig\"}:\n",
    "            return (0,f\"L'elemento {s[i]} in posizione {i+1} non è maggiore dell'elemento {s[i-1]} in posizione {i}.\")\n",
    "    return (1,None)\n",
    "\n",
    "def is_subseq_of_type(s, name_s, subs, name_subs, subs_type, pt_green, pt_red, forced_ele_pos = None, start_banned_interval = None, end_banned_interval = None):\n",
    "    \"\"\"\n",
    "    Verifica se subs, una sequenza di interi di nome name_subs, è sequenza di tipo subs_type (vedi tabella) e sottosequenza della sequenza s.\n",
    "    Se forced_ele_pos != None è richiesto che subs contenga l'elemento s[forced_ele_pos].\n",
    "    Se start_banned_interval,end_banned_interval != None è richiesto che subs eviti il sottointervallo bandito di s.\n",
    "    Restituisce una stringa contenete la valutazione del certificato subs immesso dallo studente, a tale scopo i parametri pt_green e pt_red mentre pt_blue=pt_red-pt_green è fatto implicito.\n",
    "    \"\"\"\n",
    "    submission_string = f\"Hai inserito il certificato ${name_subs}={subs}$.\"\n",
    "    submission_string += f\"<br>L'istanza era data da ${name_s}={s}$.<br>\"\n",
    "\n",
    "    answ,NO_cert_string = is_seq_of_type(subs, name_subs, subs_type)\n",
    "    if not answ:\n",
    "        return submission_string + evaluation_format(\"No\", pt_green,pt_red) + NO_cert_string\n",
    "    if start_banned_interval != None or end_banned_interval != None:\n",
    "        assert start_banned_interval != None and end_banned_interval != None\n",
    "        if forced_ele_pos != None:\n",
    "            assert forced_ele_pos < start_banned_interval or forced_ele_pos > end_banned_interval\n",
    "            if forced_ele_pos > end_banned_interval:\n",
    "                forced_ele_pos -= end_banned_interval \n",
    "        aux = s[:start_banned_interval-1] +s[end_banned_interval:]\n",
    "    if not is_subseq(s, subs):\n",
    "        return submission_string + evaluation_format(\"No\", pt_green,pt_red) + \"La sequenza ${name_subs}$ proposta non è sottosequenza di ${name_s}$.\"\n",
    "    if forced_ele_pos != None:\n",
    "        forced_ele_0basedpos = forced_ele_pos\n",
    "        found_magic_point = False\n",
    "        for guess_0basedpos_in_subs in range(len(subs)):\n",
    "            if subs[guess_0basedpos_in_subs] == s[forced_ele_0basedpos]:\n",
    "                if is_subseq(s[:forced_ele_0basedpos], subs[:guess_0basedpos_in_subs]) and is_subseq(s[forced_ele_0basedpos:], subs[guess_0basedpos_in_subs:]):\n",
    "                    found_magic_point = False\n",
    "        if not found_magic_point:\n",
    "            return submission_string + evaluation_format(\"No\", pt_green,pt_red) + \"La sequenza ${name_subs}$ proposta non è sottosequenza di ${name_s}$.\"\n",
    "        \n",
    "    return submission_string + evaluation_format(\"Si\", pt_green,pt_red)\n"
   ]
  },
  {
   "cell_type": "markdown",
   "metadata": {},
   "source": [
    "## Esercizio \\[60 pts\\]\n",
    "(campo minato) Ricerca del percorso migliore."
   ]
  },
  {
   "cell_type": "markdown",
   "metadata": {},
   "source": [
    "Un robot R, inizialmente situato nella cella $A1$, deve portarsi nella sua home H situata nella cella $G9$."
   ]
  },
  {
   "cell_type": "code",
   "execution_count": 18,
   "metadata": {
    "hide_input": false
   },
   "outputs": [
    {
     "data": {
      "text/html": [
       "<table>\n",
       "<thead>\n",
       "<tr><th>1  </th><th>2  </th><th>3  </th><th>4  </th><th>5  </th><th>6  </th><th style=\"text-align: right;\">  7</th><th style=\"text-align: right;\">  8</th><th>9  </th></tr>\n",
       "</thead>\n",
       "<tbody>\n",
       "<tr><td>R  </td><td>2  </td><td>3  </td><td>1  </td><td>1  </td><td>3  </td><td style=\"text-align: right;\">  4</td><td style=\"text-align: right;\">  7</td><td>X  </td></tr>\n",
       "<tr><td>2  </td><td>1  </td><td>X  </td><td>2  </td><td>X  </td><td>X  </td><td style=\"text-align: right;\">  7</td><td style=\"text-align: right;\">  1</td><td>2  </td></tr>\n",
       "<tr><td>4  </td><td>X  </td><td>2  </td><td>3  </td><td>7  </td><td>1  </td><td style=\"text-align: right;\">  1</td><td style=\"text-align: right;\">  5</td><td>4  </td></tr>\n",
       "<tr><td>5  </td><td>1  </td><td>X  </td><td>4  </td><td>5  </td><td>X  </td><td style=\"text-align: right;\">  9</td><td style=\"text-align: right;\">  3</td><td>6  </td></tr>\n",
       "<tr><td>1  </td><td>3  </td><td>3  </td><td>X  </td><td>3  </td><td>1  </td><td style=\"text-align: right;\">  1</td><td style=\"text-align: right;\"> 10</td><td>8  </td></tr>\n",
       "<tr><td>1  </td><td>4  </td><td>X  </td><td>5  </td><td>X  </td><td>3  </td><td style=\"text-align: right;\">  1</td><td style=\"text-align: right;\">  8</td><td>9  </td></tr>\n",
       "<tr><td>7  </td><td>5  </td><td>2  </td><td>X  </td><td>2  </td><td>2  </td><td style=\"text-align: right;\">  3</td><td style=\"text-align: right;\">  4</td><td>H  </td></tr>\n",
       "</tbody>\n",
       "</table>"
      ],
      "text/plain": [
       "<IPython.core.display.HTML object>"
      ]
     },
     "metadata": {},
     "output_type": "display_data"
    }
   ],
   "source": [
    "table = [[\"\", 1, 2, 3, 4, 5, 6, 7, 8, 9], \n",
    "         [\"A\",\"R\",2,3,1,1,3,4,7,\"X\"],\n",
    "         [\"B\",2,1,\"X\",2,\"X\",\"X\",7,1,2],\n",
    "         [\"C\",4,\"X\",2,3,7,1,1,5,4],\n",
    "         [\"D\",5,1,\"X\",4,5,\"X\",9,3,6],\n",
    "         [\"E\",1,3,3,\"X\",3,1,1,10,8],\n",
    "         [\"F\",1,4,\"X\",5,\"X\",3,1,8,9],\n",
    "         [\"G\",7,5,2,\"X\",2,2,3,4,\"H\"]         \n",
    "        ]\n",
    "display(HTML(tabulate(table2, tablefmt='html', headers=[1, 2, 3, 4, 5, 6, 7, 8, 9])))\n",
    "#print(tabulate(table, tablefmt='html'))"
   ]
  },
  {
   "cell_type": "code",
   "execution_count": 8,
   "metadata": {
    "hide_input": true
   },
   "outputs": [
    {
     "data": {
      "application/vnd.jupyter.widget-view+json": {
       "model_id": "ffe876576ae44cff858b5a3feb2a7192",
       "version_major": 2,
       "version_minor": 0
      },
      "text/plain": [
       "HBox(children=(Sheet(cells=(Cell(column_end=0, column_start=0, read_only=True, row_end=0, row_start=0, type='t…"
      ]
     },
     "metadata": {},
     "output_type": "display_data"
    }
   ],
   "source": [
    "table2 = [\n",
    "         [\"R\",2,3,1,1,3,4,7,\"X\"],\n",
    "         [2,1,\"X\",2,\"X\",\"X\",7,1,2],\n",
    "         [4,\"X\",2,3,7,1,1,5,4],\n",
    "         [5,1,\"X\",4,5,\"X\",9,3,6],\n",
    "         [1,3,3,\"X\",3,1,1,10,8],\n",
    "         [1,4,\"X\",5,\"X\",3,1,8,9],\n",
    "         [7,5,2,\"X\",2,2,3,4,\"H\"]         \n",
    "        ]\n",
    "\n",
    "r=len(table2)\n",
    "c=len(table2[0])\n",
    "column_headers=[\"1\",\"2\",\"3\",\"4\",\"5\",\"6\",\"7\",\"8\",\"9\"]\n",
    "row_headers=[\"A\",\"B\",\"C\",\"D\",\"E\",\"F\",\"G\"]\n",
    "sheet=ipysheet.sheet(rows=r,columns=c,column_headers=column_headers, row_headers=row_headers, column_width=30)\n",
    "for i in range(0,r):\n",
    "    for j in range(0,c):\n",
    "        ipysheet.cell(i,j,str(table2[i][j]),read_only=True)\n",
    "HBox([sheet], layout={'max_width' : '1000px', 'overflow_y' : 'auto'})"
   ]
  },
  {
   "cell_type": "code",
   "execution_count": 14,
   "metadata": {
    "hide_input": true
   },
   "outputs": [
    {
     "name": "stdout",
     "output_type": "stream",
     "text": [
      "   1  2  3  4  5  6  7   8  9\n",
      "A  R  2  3  1  1  3  4   7  X\n",
      "B  2  1  X  2  X  X  7   1  2\n",
      "C  4  X  2  3  7  1  1   5  4\n",
      "D  5  1  X  4  5  X  9   3  6\n",
      "E  1  3  3  X  3  1  1  10  8\n",
      "F  1  4  X  5  X  3  1   8  9\n",
      "G  7  5  2  X  2  2  3   4  H\n"
     ]
    }
   ],
   "source": [
    "columns=[\"1\",\"2\",\"3\",\"4\",\"5\",\"6\",\"7\",\"8\",\"9\"]\n",
    "index=pd.Index([\"A\",\"B\",\"C\",\"D\",\"E\",\"F\",\"G\"])\n",
    "df=pd.DataFrame(table2,columns=columns,index=index)\n",
    "\n",
    "print(df)"
   ]
  },
  {
   "cell_type": "code",
   "execution_count": 28,
   "metadata": {},
   "outputs": [
    {
     "data": {
      "text/markdown": [
       "|    | 1   | 2   | 3   | 4   | 5   | 6   |   7 |   8 | 9   |\n",
       "|:---|:----|:----|:----|:----|:----|:----|----:|----:|:----|\n",
       "| A  | R   | 2   | 3   | 1   | 1   | 3   |   4 |   7 | X   |\n",
       "| B  | 2   | 1   | X   | 2   | X   | X   |   7 |   1 | 2   |\n",
       "| C  | 4   | X   | 2   | 3   | 7   | 1   |   1 |   5 | 4   |\n",
       "| D  | 5   | 1   | X   | 4   | 5   | X   |   9 |   3 | 6   |\n",
       "| E  | 1   | 3   | 3   | X   | 3   | 1   |   1 |  10 | 8   |\n",
       "| F  | 1   | 4   | X   | 5   | X   | 3   |   1 |   8 | 9   |\n",
       "| G  | 7   | 5   | 2   | X   | 2   | 2   |   3 |   4 | H   |"
      ],
      "text/plain": [
       "<IPython.core.display.Markdown object>"
      ]
     },
     "metadata": {},
     "output_type": "display_data"
    }
   ],
   "source": [
    "#print((tabulate(df, headers='keys', tablefmt='grid')))\n",
    "display(Markdown(df.to_markdown()))"
   ]
  },
  {
   "cell_type": "code",
   "execution_count": 29,
   "metadata": {
    "scrolled": true
   },
   "outputs": [
    {
     "data": {
      "application/vnd.jupyter.widget-view+json": {
       "model_id": "b4b3dbb6db814b63b27cc0b5fa15cac5",
       "version_major": 2,
       "version_minor": 0
      },
      "text/plain": [
       "Sheet(cells=(Cell(choice=[], column_end=0, column_start=0, numeric_format=None, row_end=6, row_start=0, squeez…"
      ]
     },
     "metadata": {},
     "output_type": "display_data"
    }
   ],
   "source": [
    "wsMultiple = ipysheet.sheet(ipysheet.from_dataframe(df))\n",
    "wsMultiple"
   ]
  },
  {
   "cell_type": "markdown",
   "metadata": {
    "hide_input": false
   },
   "source": [
    "|   | 1 | 2 | 3 | 4 | 5 | 6 | 7 | 8 | 9 |\n",
    "|:-:|:-:|:-:|:-:|:-:|:-:|:-:|:-:|:-:|:-:|\n",
    "| A | R | 2 | 3 | 1 | 1 | 3 | 4 | 7 | X |\n",
    "| B | 2 | 1 | X | 2 | X | X | 7 | 1 | 2 |\n",
    "| C | 4 | X | 2 | 3 | 7 | 1 | 1 | 5 | 4 |\n",
    "| D | 5 | 1 | X | 4 | 5 | X | 9 | 3 | 6 |\n",
    "| E | 1 | 3 | 3 | X | 3 | 1 | 1 | 10| 8 |\n",
    "| F | 1 | 4 | X | 5 | X | 3 | 1 | 8 | 9 |\n",
    "| G | 7 | 5 | 2 | X | 2 | 2 | 3 | 4 | H |"
   ]
  },
  {
   "cell_type": "markdown",
   "metadata": {},
   "source": [
    "Ogni cella senza mina contiene un numero di monetine come rappresentato.\\\n",
    "Quante monetine può raccogliere al massimo il robot?"
   ]
  },
  {
   "cell_type": "markdown",
   "metadata": {},
   "source": [
    "I movimenti base possibili sono il passo verso destra (ad esempio dalla cella A4 alla cella A5) ed il passo verso in basso (ad esempio dalla cella A4 alla cella B4).\\\n",
    "Tuttavia il robot non può visitare le celle occupate da un Pacman (indicate con la X)."
   ]
  },
  {
   "cell_type": "markdown",
   "metadata": {},
   "source": [
    "__Richieste__:"
   ]
  },
  {
   "cell_type": "markdown",
   "metadata": {},
   "source": [
    "1. __\\[10 pts\\]__ Quante monetine può raccogliere al massimo il robot, spostandosi dalla sua posizione iniziale A1 fino a H?"
   ]
  },
  {
   "cell_type": "markdown",
   "metadata": {},
   "source": [
    "2. __\\[10 pts\\]__ E se la partenza è in D4?"
   ]
  },
  {
   "cell_type": "markdown",
   "metadata": {},
   "source": [
    "3. __\\[10 pts\\]__ Quante sono le soluzioni ottime con partenza in D4?"
   ]
  },
  {
   "cell_type": "markdown",
   "metadata": {},
   "source": [
    "4. __\\[10 pts\\]__ E se con partenza in A1 il robot deve giungere in F7?"
   ]
  },
  {
   "cell_type": "markdown",
   "metadata": {},
   "source": [
    "5. __\\[10 pts\\]__ Quante sono le soluzioni ottime con arrivo in F7?"
   ]
  },
  {
   "cell_type": "markdown",
   "metadata": {},
   "source": [
    "6. __\\[10 pts\\]__ E se con partenza in A1 e arrivo in G9 al robot viene richiesto di passare per la cella D4?"
   ]
  },
  {
   "cell_type": "code",
   "execution_count": null,
   "metadata": {},
   "outputs": [],
   "source": []
  }
 ],
 "metadata": {
  "celltoolbar": "Edit Metadata",
  "hide_input": false,
  "kernelspec": {
   "display_name": "Python 3",
   "language": "python",
   "name": "python3"
  },
  "language_info": {
   "codemirror_mode": {
    "name": "ipython",
    "version": 3
   },
   "file_extension": ".py",
   "mimetype": "text/x-python",
   "name": "python",
   "nbconvert_exporter": "python",
   "pygments_lexer": "ipython3",
   "version": "3.7.7"
  }
 },
 "nbformat": 4,
 "nbformat_minor": 4
}
