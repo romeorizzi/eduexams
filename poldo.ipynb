{
 "cells": [
  {
   "cell_type": "code",
   "execution_count": 26,
   "metadata": {
    "hide_input": true,
    "pycharm": {
     "name": "#%%\n"
    }
   },
   "outputs": [],
   "source": [
    "from IPython.core.display import display, HTML, Markdown"
   ]
  },
  {
   "cell_type": "code",
   "execution_count": 212,
   "metadata": {
    "hide_input": false,
    "pycharm": {
     "name": "#%%\n"
    }
   },
   "outputs": [],
   "source": [
    "def is_subseq(s, subs):\n",
    "    \"\"\"\n",
    "    bool: verifica se subs è sottosequenza di s.\n",
    "    \"\"\"\n",
    "    found = 0\n",
    "    pos_r = 0\n",
    "    while pos_r < len(s):\n",
    "        if s[pos_r] == subs[found]:\n",
    "            found += 1\n",
    "            if found >= len(subs):\n",
    "                return True\n",
    "        pos_r += 1\n",
    "    return False\n",
    "\n",
    "def evaluation_format(answ, pt_green,pt_red):\n",
    "    pt_blue=pt_red-pt_green\n",
    "    return f\"{answ}. Totalizzeresti <span style='color:green'>[{pt_green} safe pt]</span>, \\\n",
    "                                    <span style='color:blue'>[{pt_blue} possible pt]</span>, \\\n",
    "                                    <span style='color:red'>[{pt_red} out of reach pt]</span>.<br>\"\n",
    "\n",
    "\n",
    "# Legend of the possible sequence types:\n",
    "dictionary_of_types = {\n",
    "      \"SC\": (\"implemented\", \"<b>strettamente crescente</b>\"),\n",
    "      \"ND\": (\"implemented\", \"<b>non-decrescente</b>\"),\n",
    "      \"SD\": (\"implemented\", \"<b>strettamente decrescente</b>\"),\n",
    "      \"NC\": (\"implemented\", \"<b>non-crescente</it>\"),\n",
    "       \"V\": (\"implemented\", \"<b>a V</b> <it>(prima giù e poi sù)</it>\"),\n",
    "       \"A\": (\"implemented\", \"<b>ad A</b> (prima sù e poi giù)</it>\"),\n",
    "      \"SV\": (\"implemented\", \"<b>a V stretto</b> <it>(prima strettamente giù e poi strettamente sù)</it>\"),\n",
    "      \"SA\": (\"implemented\", \"<b>ad A stetto</b> <it>(prima strettamente sù e poi strettamente giù)</it>\"),\n",
    "  \"ZigZag\": (\"implemented\", \"<b>a Zig-Zag</b> <it>(primo passo a crescere e poi alterna ad ogni passo)</it>\"),\n",
    "  \"ZagZig\": (\"implemented\", \"<b>a Zag-Zig</b> <it>(primo passo a calare e poi alterna ad ogni passo)</it>\"),\n",
    "\"ZigZagEQ\": (\"implemented\", \"<b>a Zig-Zag debole</b> <it>(primo passo a crescere e poi alterna ad ogni passo, con valori consecutivi che possono essere uguali)</it>\"),\n",
    "\"ZagZigEQ\": (\"implemented\", \"<b>a Zag-Zig debole</b> <it>(primo passo a calare e poi alterna ad ogni passo, con valori consecutivi che possono essere uguali)</it>\"),\n",
    "\"132-free\": (\"not yet done\", \"<b>dal mondo delle permutazioni pattern free per un infinità di problemi in FPT</b>\"),\n",
    "     \"...\": (\"not thought of yet\", \"<b>???</b>\")\n",
    "}\n",
    "\n",
    "def Latex_type(seq_type):\n",
    "    return dictionary_of_types[seq_type][1].replace(\"_\", \"\\_\")\n",
    "\n",
    "\n",
    "def is_seq_of_type(s, name_s, seq_type):\n",
    "    \"\"\"\n",
    "    valuta se la sequenza di interi s, di nome name_s, è di tipo seq_type (vedi tabella subito sopra).\n",
    "    valore di ritorno (bool, NO_cert_string):\n",
    "       In caso affermativo il bool ritornato come prima componente è True e la seconda componente è None.\n",
    "       Altrimenti il bool è False e viene restituita una stringa che riporta una violazione puntuale alla proprietà richiesta.\n",
    "    \"\"\"\n",
    "    if len(s) > 1:\n",
    "        already_went_down = s[1] < s[0]\n",
    "        already_went_up = s[1] > s[0]\n",
    "    for i in range(1,len(s)):\n",
    "        if s[i] < s[i-1]:\n",
    "            already_went_down = True\n",
    "            if seq_type==\"V\" and already_went_up:\n",
    "                return (0,f\"La sequenza ${LaTexVarName(name_s)}$ non è di tipo ${Latex_type('V')}$ poichè ${LaTexVarName(name_s)}[${i-1}$] = {s[i-2]} $<$ {s[i-1]} $= {LaTexVarName(name_s)}[${i}$] > {LaTexVarName(name_s)}[${i+1}$] =$ {s[i]}.\")\n",
    "            if seq_type in {\"SC\",\"ND\"} or (seq_type in {\"ZigZag\",\"ZigZagEQ\"} and s[i]%2 == 1) or (seq_type in {\"ZagZig\",\"ZagZigEQ\"} and s[i]%2 == 0):\n",
    "                return (0,f\"La sequenza ${LaTexVarName(name_s)}$ non è di tipo ${Latex_type(seq_type)}$ poichè ${LaTexVarName(name_s)}[${i}$] = {s[i-1]} $>$ {s[i]} $= {LaTexVarName(name_s)}[${i+1}$]$.\")\n",
    "        if s[i] > s[i-1]:\n",
    "            already_went_up = True\n",
    "            if seq_type==\"A\" and already_went_down:\n",
    "                return (0,f\"La sequenza ${LaTexVarName(name_s)}$ non è di tipo {Latex_type('A')} poichè ${LaTexVarName(name_s)}[${i-1}$] =$ {s[i-2]} $>$ {s[i-1]} $= {LaTexVarName(name_s)}[${i}$] < {LaTexVarName(name_s)}[${i+1}$] =$ {s[i]}.\")\n",
    "            if seq_type in {\"SD\",\"NC\"} or (seq_type in {\"ZagZig\",\"ZagZigEQ\"} and s[i]%2 == 1) or (seq_type in {\"ZigZag\",\"ZigZagEQ\"} and s[i]%2 == 0):\n",
    "                return (0,f\"La sequenza ${LaTexVarName(name_s)}$ non è di tipo {Latex_type(seq_type)} poichè ${LaTexVarName(name_s)}[${i}$] =$ {s[i-1]} $<$ {s[i]} $= {LaTexVarName(name_s)}[${i+1}$]$.\")\n",
    "        if s[i] == s[i-1] and seq_type in {\"SC\",\"SD\",\"SV\",\"SA\",\"ZigZag\",\"ZagZig\"}:\n",
    "            return (0,f\"La sequenza ${LaTexVarName(name_s)}$ non è di tipo {Latex_type(seq_type)} poichè ${LaTexVarName(name_s)}[${i}$] =$ {s[i-1]} $=$ {s[i]} $= {LaTexVarName(name_s)}[${i+1}$]$.\")\n",
    "    return (1,None)\n",
    "\n",
    "def LaTexVarName(var_name):\n",
    "    return var_name.replace(\"_\", \"\\_\")\n",
    "\n",
    "\n",
    "def is_subseq_of_type(s, name_s, subs, name_subs, subs_type, pt_green, pt_red, forced_ele_pos = None, start_banned_interval = None, end_banned_interval = None):\n",
    "    \"\"\"\n",
    "    Verifica se subs, una sequenza di interi di nome name_subs, è sequenza di tipo subs_type (vedi tabella) e sottosequenza della sequenza s.\n",
    "    Se forced_ele_pos != None è richiesto che subs contenga l'elemento s[forced_ele_pos].\n",
    "    Se start_banned_interval,end_banned_interval != None è richiesto che subs eviti il sottointervallo bandito di s.\n",
    "    Restituisce una stringa contenete la valutazione del certificato subs immesso dallo studente, a tale scopo i parametri pt_green e pt_red mentre pt_blue=pt_red-pt_green è fatto implicito.\n",
    "    \"\"\"\n",
    "    submission_string = f\"Hai inserito il certificato ${LaTexVarName(name_subs)}={subs}$.\"\n",
    "    submission_string += f\"<br>L'istanza era data da ${LaTexVarName(name_s)}={s}$.<br>\"\n",
    "\n",
    "    if not is_seq_of_type(subs, \"subs\", subs_type)[0]:\n",
    "        return submission_string + evaluation_format(\"No\", pt_green,pt_red) + is_seq_of_type(subs, \"subs\", subs_type)[1]\n",
    "    if start_banned_interval != None or end_banned_interval != None:\n",
    "        assert start_banned_interval != None and end_banned_interval != None\n",
    "        if forced_ele_pos != None:\n",
    "            assert forced_ele_pos < start_banned_interval or forced_ele_pos > end_banned_interval\n",
    "            if forced_ele_pos > end_banned_interval:\n",
    "               forced_ele_pos -= end_banned_interval \n",
    "        aux = s[:start_banned_interval-1] +s[end_banned_interval:]\n",
    "    if not is_subseq(s, subs):\n",
    "        print(\"ciao\")\n",
    "        return submission_string + f\"{evaluation_format('No', pt_green,pt_red)}\" + f\"La sequenza ${LaTexVarName(name_subs)}$ proposta non è sottosequenza di ${LaTexVarName(name_s)}$.\"\n",
    "    if forced_ele_pos != None:\n",
    "        forced_ele_0basedpos = forced_ele_pos\n",
    "        found_magic_point = False\n",
    "        for guess_0basedpos_in_subs in range(len(subs)):\n",
    "            if subs[guess_0basedpos_in_subs] == s[forced_ele_0basedpos]:\n",
    "                if is_subseq(s[:forced_ele_0basedpos], subs[:guess_0basedpos_in_subs]) and is_subseq(s[forced_ele_0basedpos:], subs[guess_0basedpos_in_subs:]):\n",
    "                    found_magic_point = False\n",
    "        if not found_magic_point:\n",
    "            return submission_string + f\"{evaluation_format('No', pt_green,pt_red)}\" + f\"La sequenza $LaTexVarName({name_subs})$ proposta non è sottosequenza di $LaTexVarName({name_s}) che ne includa l'elemento in posizione {forced_ele_pos}$.\"\n",
    "        \n",
    "    return submission_string + f\"{evaluation_format('Si', pt_green,pt_red)}\"\n",
    "\n",
    "def eval_coloring(s, name_s, col, name_col, subs_type, pt_green=2, pt_red=15):\n",
    "    \"\"\"\n",
    "    Verifica se col, una sequenza di interi positivi di nome name_col, offre una colorazione degli elementi nella sequenza s,\n",
    "    di nome name_s, tale che restringendo l'attenzione ai soli elementi di qualsivoglia colore, la sottosequenza di essi\n",
    "    sia sequenza di tipo subs_type (vedi tabella).\n",
    "    Restituisce una stringa contenete la valutazione del certificato col immesso dallo studente, a tale scopo i parametri pt_green e pt_red mentre pt_blue=pt_red-pt_green è fatto implicito.\n",
    "    \"\"\"\n",
    "    submission_string = f\"Hai inserito il certificato ${LaTexVarName(name_col)}={col}$.\"\n",
    "    submission_string += f\"<br>L'istanza era data da ${LaTexVarName(name_s)}={s}$.<br>\"\n",
    "\n",
    "    for c in col:\n",
    "        subs = [s[i] for i in range(len(s)) if col[i] == c]\n",
    "        if not is_seq_of_type(subs, \"subs\", subs_type)[0]:\n",
    "            return submission_string + f\"{evaluation_format('No', pt_green,pt_red)}\" + f\"Checking the subsequence of the elements colored with {c} within ${LaTexVarName(name_s)}$, that is {subs} ... \" + is_seq_of_type(subs, \"subs\", subs_type)[1]        \n",
    "    return submission_string + f\"{evaluation_format('Si', pt_green,pt_red)}\"\n",
    "    \n"
   ]
  },
  {
   "cell_type": "markdown",
   "metadata": {},
   "source": [
    "## Esercizio \\[60 pts\\]\n",
    "(poldo) Ricerca di sottosequenze strettamente crescenti di massima lughezza."
   ]
  },
  {
   "cell_type": "markdown",
   "metadata": {},
   "source": [
    "Si consideri la seguente sequenza di numeri naturali:"
   ]
  },
  {
   "cell_type": "code",
   "execution_count": 199,
   "metadata": {
    "hide_input": true,
    "readonly": true
   },
   "outputs": [],
   "source": [
    "s = [11, 24, 18, 12, 14, 31, 38, 58, 15, 36, 59, 19, 42, 29, 22, 56, 20, 17, 41, 13, 33, 35, 21, 16, 39, 49, 60, 54, 23]"
   ]
  },
  {
   "cell_type": "code",
   "execution_count": 200,
   "metadata": {},
   "outputs": [
    {
     "name": "stdout",
     "output_type": "stream",
     "text": [
      "[11, 24, 18, 12, 14, 31, 38, 58, 15, 36, 59, 19, 42, 29, 22, 56, 20, 17, 41, 13, 33, 35, 21, 16, 39, 49, 60, 54, 23]\n"
     ]
    }
   ],
   "source": [
    "print(s)"
   ]
  },
  {
   "cell_type": "markdown",
   "metadata": {},
   "source": [
    "\n",
    "__Richieste__:\n"
   ]
  },
  {
   "cell_type": "markdown",
   "metadata": {},
   "source": [
    "1. __[10 pts]__ Trovare una sottosequenza $s1$ strettamente crescente di $s$ che sia la più lunga possibile."
   ]
  },
  {
   "cell_type": "code",
   "execution_count": 201,
   "metadata": {},
   "outputs": [],
   "source": [
    "opt = [11,12,14,15,19,20,33,35,39,49,60]\n",
    "opt2 = [11,12,14,15,19,20,33,35,39,49,54]\n",
    "feas = [24,36,56,60]\n",
    "wrong1 = [-3]\n",
    "wrong2 = [5,49]"
   ]
  },
  {
   "cell_type": "code",
   "execution_count": 202,
   "metadata": {
    "pycharm": {
     "name": "#%%\n"
    },
    "scrolled": false
   },
   "outputs": [
    {
     "name": "stdout",
     "output_type": "stream",
     "text": [
      "s=[11, 24, 18, 12, 14, 31, 38, 58, 15, 36, 59, 19, 42, 29, 22, 56, 20, 17, 41, 13, 33, 35, 21, 16, 39, 49, 60, 54, 23]\n"
     ]
    },
    {
     "data": {
      "text/markdown": [
       "Hai inserito il certificato $opt=[11, 12, 14, 15, 19, 20, 33, 35, 39, 49, 60]$.<br>L'istanza era data da $s=[11, 24, 18, 12, 14, 31, 38, 58, 15, 36, 59, 19, 42, 29, 22, 56, 20, 17, 41, 13, 33, 35, 21, 16, 39, 49, 60, 54, 23]$.<br>Si. Totalizzeresti <span style='color:green'>[1 safe pt]</span>,                                     <span style='color:blue'>[9 possible pt]</span>,                                     <span style='color:red'>[10 out of reach pt]</span>.<br>"
      ],
      "text/plain": [
       "<IPython.core.display.Markdown object>"
      ]
     },
     "metadata": {},
     "output_type": "display_data"
    },
    {
     "name": "stdout",
     "output_type": "stream",
     "text": [
      "Nota: Di fatto opt concretizzerà anche i 9 punti blu come potrai convincerti autonomamente grazie al certificato di NO eventualmente prodotto in ultima domanda in fondo all'esercizio.\n"
     ]
    },
    {
     "data": {
      "text/markdown": [
       "Hai inserito il certificato $opt2=[11, 12, 14, 15, 19, 20, 33, 35, 39, 49, 54]$.<br>L'istanza era data da $s=[11, 24, 18, 12, 14, 31, 38, 58, 15, 36, 59, 19, 42, 29, 22, 56, 20, 17, 41, 13, 33, 35, 21, 16, 39, 49, 60, 54, 23]$.<br>Si. Totalizzeresti <span style='color:green'>[1 safe pt]</span>,                                     <span style='color:blue'>[9 possible pt]</span>,                                     <span style='color:red'>[10 out of reach pt]</span>.<br>"
      ],
      "text/plain": [
       "<IPython.core.display.Markdown object>"
      ]
     },
     "metadata": {},
     "output_type": "display_data"
    },
    {
     "name": "stdout",
     "output_type": "stream",
     "text": [
      "Nota: Se opt ne merita 10 allora anche opt2 è opt e ne merita altrettanti. Le soluzioni ottime ad un problema possono essere più di una!\n"
     ]
    },
    {
     "data": {
      "text/markdown": [
       "Hai inserito il certificato $feas=[24, 36, 56, 60]$.<br>L'istanza era data da $s=[11, 24, 18, 12, 14, 31, 38, 58, 15, 36, 59, 19, 42, 29, 22, 56, 20, 17, 41, 13, 33, 35, 21, 16, 39, 49, 60, 54, 23]$.<br>Si. Totalizzeresti <span style='color:green'>[1 safe pt]</span>,                                     <span style='color:blue'>[9 possible pt]</span>,                                     <span style='color:red'>[10 out of reach pt]</span>.<br>"
      ],
      "text/plain": [
       "<IPython.core.display.Markdown object>"
      ]
     },
     "metadata": {},
     "output_type": "display_data"
    },
    {
     "name": "stdout",
     "output_type": "stream",
     "text": [
      "Nota: Ma questi 9 punti blu non è sempre detto ti saranno infine assegnati: durante l'esame avrai a disposizione solo dei validatori (Re Artù) di cui avvalerti, noi non forniamo i solutori per non spoilerare l'esercizio ed il tuo divertimento (nonchè il senso dell'esame).\n",
      "ciao\n"
     ]
    },
    {
     "data": {
      "text/markdown": [
       "Hai inserito il certificato $wrong1=[-3]$.<br>L'istanza era data da $s=[11, 24, 18, 12, 14, 31, 38, 58, 15, 36, 59, 19, 42, 29, 22, 56, 20, 17, 41, 13, 33, 35, 21, 16, 39, 49, 60, 54, 23]$.<br>No. Totalizzeresti <span style='color:green'>[1 safe pt]</span>,                                     <span style='color:blue'>[9 possible pt]</span>,                                     <span style='color:red'>[10 out of reach pt]</span>.<br>La sequenza $wrong1$ proposta non è sottosequenza di $s$."
      ],
      "text/plain": [
       "<IPython.core.display.Markdown object>"
      ]
     },
     "metadata": {},
     "output_type": "display_data"
    },
    {
     "name": "stdout",
     "output_type": "stream",
     "text": [
      "Nota: Ma questi 9 punti blu non devi considerarli sempre in cassaforte (se non hai i certificati di NO la soluzione potrebbe non essere ottima, come ad esempio in questo caso di feas. Dopo la consegna otterresti solo il punto verde.\n",
      "ciao\n"
     ]
    },
    {
     "data": {
      "text/markdown": [
       "Hai inserito il certificato $wrong2=[5, 49]$.<br>L'istanza era data da $s=[11, 24, 18, 12, 14, 31, 38, 58, 15, 36, 59, 19, 42, 29, 22, 56, 20, 17, 41, 13, 33, 35, 21, 16, 39, 49, 60, 54, 23]$.<br>No. Totalizzeresti <span style='color:green'>[1 safe pt]</span>,                                     <span style='color:blue'>[9 possible pt]</span>,                                     <span style='color:red'>[10 out of reach pt]</span>.<br>La sequenza $wrong2$ proposta non è sottosequenza di $s$."
      ],
      "text/plain": [
       "<IPython.core.display.Markdown object>"
      ]
     },
     "metadata": {},
     "output_type": "display_data"
    },
    {
     "name": "stdout",
     "output_type": "stream",
     "text": [
      "Nota: I validatori (Re Artù) ti assistono evitandoti errori stupidi o l'aver frainteso la consegna in vari modi possibili.\n"
     ]
    }
   ],
   "source": [
    "print(f\"s={s}\")\n",
    "display(Markdown(is_subseq_of_type(s, \"s\", opt, \"opt\", \"SC\", pt_green=1, pt_red=10)))\n",
    "print(f\"Nota: Di fatto opt concretizzerà anche i 9 punti blu come potrai convincerti autonomamente grazie al certificato di NO eventualmente prodotto in ultima domanda in fondo all'esercizio.\")\n",
    "display(Markdown(is_subseq_of_type(s, \"s\", opt2, \"opt2\", \"SC\", pt_green=1, pt_red=10)))\n",
    "print(f\"Nota: Se opt ne merita 10 allora anche opt2 è opt e ne merita altrettanti. Le soluzioni ottime ad un problema possono essere più di una!\")\n",
    "display(Markdown(is_subseq_of_type(s, \"s\", feas, \"feas\", \"SC\", pt_green=1, pt_red=10)))\n",
    "print(f\"Nota: Ma questi 9 punti blu non è sempre detto ti saranno infine assegnati: durante l'esame avrai a disposizione solo dei validatori (Re Artù) di cui avvalerti, noi non forniamo i solutori per non spoilerare l'esercizio ed il tuo divertimento (nonchè il senso dell'esame).\")\n",
    "display(Markdown(is_subseq_of_type(s, \"s\", wrong1, \"wrong1\", \"SC\", pt_green=1, pt_red=10)))\n",
    "print(f\"Nota: Ma questi 9 punti blu non devi considerarli sempre in cassaforte (se non hai i certificati di NO la soluzione potrebbe non essere ottima, come ad esempio in questo caso di feas. Dopo la consegna otterresti solo il punto verde.\")\n",
    "display(Markdown(is_subseq_of_type(s, \"s\", wrong2, \"wrong2\", \"SC\", pt_green=1, pt_red=10)))\n",
    "print(f\"Nota: I validatori (Re Artù) ti assistono evitandoti errori stupidi o l'aver frainteso la consegna in vari modi possibili.\")"
   ]
  },
  {
   "cell_type": "markdown",
   "metadata": {
    "pycharm": {
     "name": "#%%\n"
    }
   },
   "source": [
    "2. __[10 pts]__ Trovare una sottosequenza $s2$ strettamente decrescente di $s$ che sia la più lunga possibile.\n"
   ]
  },
  {
   "cell_type": "code",
   "execution_count": 203,
   "metadata": {},
   "outputs": [],
   "source": [
    "subs2 = [5,49]"
   ]
  },
  {
   "cell_type": "code",
   "execution_count": 204,
   "metadata": {
    "scrolled": true
   },
   "outputs": [
    {
     "data": {
      "text/markdown": [
       "Hai inserito il certificato $subs2=[5, 49]$.<br>L'istanza era data da $s=[11, 24, 18, 12, 14, 31, 38, 58, 15, 36, 59, 19, 42, 29, 22, 56, 20, 17, 41, 13, 33, 35, 21, 16, 39, 49, 60, 54, 23]$.<br>No. Totalizzeresti <span style='color:green'>[1 safe pt]</span>,                                     <span style='color:blue'>[9 possible pt]</span>,                                     <span style='color:red'>[10 out of reach pt]</span>.<br>La sequenza $subs$ non è di tipo <b>strettamente decrescente</b> poichè $subs[$1$] =$ 5 $<$ 49 $= subs[$2$]$."
      ],
      "text/plain": [
       "<IPython.core.display.Markdown object>"
      ]
     },
     "metadata": {},
     "output_type": "display_data"
    }
   ],
   "source": [
    "display(Markdown(is_subseq_of_type(s, \"s\", subs2, \"subs2\", \"SD\", pt_green=1, pt_red=10, forced_ele_pos=None, start_banned_interval=None, end_banned_interval=None)))"
   ]
  },
  {
   "cell_type": "markdown",
   "metadata": {},
   "source": [
    "3. __[10 pts]__ Trovare la più lunga sottosequenza crescente che includa l'elemento di valore 7"
   ]
  },
  {
   "cell_type": "code",
   "execution_count": 205,
   "metadata": {},
   "outputs": [
    {
     "name": "stdout",
     "output_type": "stream",
     "text": [
      "17\n"
     ]
    }
   ],
   "source": [
    "print(s[18-1])"
   ]
  },
  {
   "cell_type": "code",
   "execution_count": 206,
   "metadata": {},
   "outputs": [],
   "source": [
    "subs3 = [5,49]"
   ]
  },
  {
   "cell_type": "code",
   "execution_count": 207,
   "metadata": {},
   "outputs": [
    {
     "name": "stdout",
     "output_type": "stream",
     "text": [
      "ciao\n"
     ]
    },
    {
     "data": {
      "text/markdown": [
       "Hai inserito il certificato $subs3=[5, 49]$.<br>L'istanza era data da $s=[11, 24, 18, 12, 14, 31, 38, 58, 15, 36, 59, 19, 42, 29, 22, 56, 20, 17, 41, 13, 33, 35, 21, 16, 39, 49, 60, 54, 23]$.<br>No. Totalizzeresti <span style='color:green'>[1 safe pt]</span>,                                     <span style='color:blue'>[9 possible pt]</span>,                                     <span style='color:red'>[10 out of reach pt]</span>.<br>La sequenza $subs3$ proposta non è sottosequenza di $s$."
      ],
      "text/plain": [
       "<IPython.core.display.Markdown object>"
      ]
     },
     "metadata": {},
     "output_type": "display_data"
    }
   ],
   "source": [
    "display(Markdown(is_subseq_of_type(s, \"s\", subs3, \"subs3\", \"SC\", pt_green=1, pt_red=10, forced_ele_pos=18, start_banned_interval=None, end_banned_interval=None)))"
   ]
  },
  {
   "cell_type": "markdown",
   "metadata": {},
   "source": [
    "4. __[10 pts]__ Una sequenza è detta una _V-sequenza_ se cala fino ad un certo punto, e da lì in poi cresce sempre. Trovare la più lunga V-sequenza che sia una sottosequenza della sequenza data"
   ]
  },
  {
   "cell_type": "code",
   "execution_count": 208,
   "metadata": {},
   "outputs": [],
   "source": [
    "subs4 = [5,49]"
   ]
  },
  {
   "cell_type": "code",
   "execution_count": 209,
   "metadata": {},
   "outputs": [
    {
     "name": "stdout",
     "output_type": "stream",
     "text": [
      "ciao\n"
     ]
    },
    {
     "data": {
      "text/markdown": [
       "Hai inserito il certificato $subs4=[5, 49]$.<br>L'istanza era data da $s=[11, 24, 18, 12, 14, 31, 38, 58, 15, 36, 59, 19, 42, 29, 22, 56, 20, 17, 41, 13, 33, 35, 21, 16, 39, 49, 60, 54, 23]$.<br>No. Totalizzeresti <span style='color:green'>[1 safe pt]</span>,                                     <span style='color:blue'>[9 possible pt]</span>,                                     <span style='color:red'>[10 out of reach pt]</span>.<br>La sequenza $subs4$ proposta non è sottosequenza di $s$."
      ],
      "text/plain": [
       "<IPython.core.display.Markdown object>"
      ]
     },
     "metadata": {},
     "output_type": "display_data"
    }
   ],
   "source": [
    "display(Markdown(is_subseq_of_type(s, \"s\", subs4, \"subs4\", \"V\", pt_green=1, pt_red=10)))"
   ]
  },
  {
   "cell_type": "markdown",
   "metadata": {},
   "source": [
    "5. __[20 pts]__ Qual è il minor numero possibile di colori _C_ per colorare gli elementi della sequenza in input in modo che, per ogni colore, la sottosequenza degli elementi di quel colore sia monotona non crescente? Specificare per ogni elemento il colore (come colori, usare i numeri da 1 a _C_)\n"
   ]
  },
  {
   "cell_type": "code",
   "execution_count": 210,
   "metadata": {},
   "outputs": [],
   "source": [
    "recall_s = [11, 24, 18, 12, 14, 31, 38, 58, 15, 36, 59, 19, 42, 29, 22, 56, 20, 17, 41, 13, 33, 35, 21, 16, 39, 49, 60, 54, 23]\n",
    "col_opt  = [ 1,  2,  2,  2,  3,  4,  5,  6,  4,  5,  7,  5,  6,  6,  6,  7,  6,  5,  7,  3,  7,  8,  7,  5,  9, 10, 11, 11,  8]\n",
    "col_feas = [ 1,  2,  2,  2,  3,  4,  5,  6,  4,  5,  7,  5,  6,  6,  6,  7,  6,  5,  7,  3,  7,  8,  8,  7, 10, 12, 14, 15,  8]\n",
    "col_bad1 = [ 1,  2,  2,  2,  3,  4,  5,  4,  4,  5,  7,  5,  5,  6,  6,  7,  6,  5,  7,  3,  7,  8,  7,  5, 16, 20, 11, 11,  8]\n",
    "col_bad2 = [-1,  2,  2,  2,  3,  4,  5,  6,  4,  5,  7,  5,  5,  6,  6,  7,  6,  5,  7,  3,  7,  8,  7,  5, 16, 20, 11, 11,  8]\n",
    "col_bad3 = [ 0,  2,  2,  2,  3,  4,  5,  6,  4,  5,  7,  5,  5,  6,  6,  7,  6,  5,  7,  3,  7,  8,  7,  5, 16, 20, 11, 11,  8]\n"
   ]
  },
  {
   "cell_type": "code",
   "execution_count": 213,
   "metadata": {},
   "outputs": [
    {
     "data": {
      "text/markdown": [
       "Hai inserito il certificato $col\\_opt=[1, 2, 2, 2, 3, 4, 5, 6, 4, 5, 7, 5, 6, 6, 6, 7, 6, 5, 7, 3, 7, 8, 7, 5, 9, 10, 11, 11, 8]$.<br>L'istanza era data da $s=[11, 24, 18, 12, 14, 31, 38, 58, 15, 36, 59, 19, 42, 29, 22, 56, 20, 17, 41, 13, 33, 35, 21, 16, 39, 49, 60, 54, 23]$.<br>Si. Totalizzeresti <span style='color:green'>[2 safe pt]</span>,                                     <span style='color:blue'>[13 possible pt]</span>,                                     <span style='color:red'>[15 out of reach pt]</span>.<br>"
      ],
      "text/plain": [
       "<IPython.core.display.Markdown object>"
      ]
     },
     "metadata": {},
     "output_type": "display_data"
    },
    {
     "ename": "TypeError",
     "evalue": "can only concatenate str (not \"NoneType\") to str",
     "output_type": "error",
     "traceback": [
      "\u001b[0;31m---------------------------------------------------------------------------\u001b[0m",
      "\u001b[0;31mTypeError\u001b[0m                                 Traceback (most recent call last)",
      "\u001b[0;32m<ipython-input-213-163200ed3dea>\u001b[0m in \u001b[0;36m<module>\u001b[0;34m\u001b[0m\n\u001b[1;32m      1\u001b[0m \u001b[0mdisplay\u001b[0m\u001b[0;34m(\u001b[0m\u001b[0mMarkdown\u001b[0m\u001b[0;34m(\u001b[0m\u001b[0meval_coloring\u001b[0m\u001b[0;34m(\u001b[0m\u001b[0ms\u001b[0m\u001b[0;34m,\u001b[0m \u001b[0;34m\"s\"\u001b[0m\u001b[0;34m,\u001b[0m \u001b[0mcol_opt\u001b[0m\u001b[0;34m,\u001b[0m \u001b[0;34m\"col_opt\"\u001b[0m\u001b[0;34m,\u001b[0m \u001b[0;34m\"SD\"\u001b[0m\u001b[0;34m,\u001b[0m \u001b[0mpt_green\u001b[0m\u001b[0;34m=\u001b[0m\u001b[0;36m2\u001b[0m\u001b[0;34m,\u001b[0m \u001b[0mpt_red\u001b[0m\u001b[0;34m=\u001b[0m\u001b[0;36m15\u001b[0m\u001b[0;34m)\u001b[0m\u001b[0;34m)\u001b[0m\u001b[0;34m)\u001b[0m\u001b[0;34m\u001b[0m\u001b[0;34m\u001b[0m\u001b[0m\n\u001b[0;32m----> 2\u001b[0;31m \u001b[0mdisplay\u001b[0m\u001b[0;34m(\u001b[0m\u001b[0mMarkdown\u001b[0m\u001b[0;34m(\u001b[0m\u001b[0meval_coloring\u001b[0m\u001b[0;34m(\u001b[0m\u001b[0ms\u001b[0m\u001b[0;34m,\u001b[0m \u001b[0;34m\"s\"\u001b[0m\u001b[0;34m,\u001b[0m \u001b[0mcol_feas\u001b[0m\u001b[0;34m,\u001b[0m \u001b[0;34m\"col_feas\"\u001b[0m\u001b[0;34m,\u001b[0m \u001b[0;34m\"SD\"\u001b[0m\u001b[0;34m,\u001b[0m \u001b[0mpt_green\u001b[0m\u001b[0;34m=\u001b[0m\u001b[0;36m2\u001b[0m\u001b[0;34m,\u001b[0m \u001b[0mpt_red\u001b[0m\u001b[0;34m=\u001b[0m\u001b[0;36m15\u001b[0m\u001b[0;34m)\u001b[0m\u001b[0;34m)\u001b[0m\u001b[0;34m)\u001b[0m\u001b[0;34m\u001b[0m\u001b[0;34m\u001b[0m\u001b[0m\n\u001b[0m\u001b[1;32m      3\u001b[0m \u001b[0mdisplay\u001b[0m\u001b[0;34m(\u001b[0m\u001b[0mMarkdown\u001b[0m\u001b[0;34m(\u001b[0m\u001b[0meval_coloring\u001b[0m\u001b[0;34m(\u001b[0m\u001b[0ms\u001b[0m\u001b[0;34m,\u001b[0m \u001b[0;34m\"s\"\u001b[0m\u001b[0;34m,\u001b[0m \u001b[0mcol_bad1\u001b[0m\u001b[0;34m,\u001b[0m \u001b[0;34m\"col_bad1\"\u001b[0m\u001b[0;34m,\u001b[0m \u001b[0;34m\"SD\"\u001b[0m\u001b[0;34m,\u001b[0m \u001b[0mpt_green\u001b[0m\u001b[0;34m=\u001b[0m\u001b[0;36m2\u001b[0m\u001b[0;34m,\u001b[0m \u001b[0mpt_red\u001b[0m\u001b[0;34m=\u001b[0m\u001b[0;36m15\u001b[0m\u001b[0;34m)\u001b[0m\u001b[0;34m)\u001b[0m\u001b[0;34m)\u001b[0m\u001b[0;34m\u001b[0m\u001b[0;34m\u001b[0m\u001b[0m\n\u001b[1;32m      4\u001b[0m \u001b[0mdisplay\u001b[0m\u001b[0;34m(\u001b[0m\u001b[0mMarkdown\u001b[0m\u001b[0;34m(\u001b[0m\u001b[0meval_coloring\u001b[0m\u001b[0;34m(\u001b[0m\u001b[0ms\u001b[0m\u001b[0;34m,\u001b[0m \u001b[0;34m\"s\"\u001b[0m\u001b[0;34m,\u001b[0m \u001b[0mcol_bad2\u001b[0m\u001b[0;34m,\u001b[0m \u001b[0;34m\"col_bad2\"\u001b[0m\u001b[0;34m,\u001b[0m \u001b[0;34m\"SD\"\u001b[0m\u001b[0;34m,\u001b[0m \u001b[0mpt_green\u001b[0m\u001b[0;34m=\u001b[0m\u001b[0;36m2\u001b[0m\u001b[0;34m,\u001b[0m \u001b[0mpt_red\u001b[0m\u001b[0;34m=\u001b[0m\u001b[0;36m15\u001b[0m\u001b[0;34m)\u001b[0m\u001b[0;34m)\u001b[0m\u001b[0;34m)\u001b[0m\u001b[0;34m\u001b[0m\u001b[0;34m\u001b[0m\u001b[0m\n",
      "\u001b[0;32m<ipython-input-212-49ed08f8c88f>\u001b[0m in \u001b[0;36meval_coloring\u001b[0;34m(s, name_s, col, name_col, subs_type, pt_green, pt_red)\u001b[0m\n\u001b[1;32m    120\u001b[0m         \u001b[0msubs\u001b[0m \u001b[0;34m=\u001b[0m \u001b[0;34m[\u001b[0m\u001b[0ms\u001b[0m\u001b[0;34m[\u001b[0m\u001b[0mi\u001b[0m\u001b[0;34m]\u001b[0m \u001b[0;32mfor\u001b[0m \u001b[0mi\u001b[0m \u001b[0;32min\u001b[0m \u001b[0mrange\u001b[0m\u001b[0;34m(\u001b[0m\u001b[0mlen\u001b[0m\u001b[0;34m(\u001b[0m\u001b[0ms\u001b[0m\u001b[0;34m)\u001b[0m\u001b[0;34m)\u001b[0m \u001b[0;32mif\u001b[0m \u001b[0mcol\u001b[0m\u001b[0;34m[\u001b[0m\u001b[0mi\u001b[0m\u001b[0;34m]\u001b[0m \u001b[0;34m==\u001b[0m \u001b[0mc\u001b[0m\u001b[0;34m]\u001b[0m\u001b[0;34m\u001b[0m\u001b[0;34m\u001b[0m\u001b[0m\n\u001b[1;32m    121\u001b[0m         \u001b[0;32mif\u001b[0m \u001b[0;32mnot\u001b[0m \u001b[0mis_seq_of_type\u001b[0m\u001b[0;34m(\u001b[0m\u001b[0msubs\u001b[0m\u001b[0;34m,\u001b[0m \u001b[0;34m\"subs\"\u001b[0m\u001b[0;34m,\u001b[0m \u001b[0msubs_type\u001b[0m\u001b[0;34m)\u001b[0m\u001b[0;34m[\u001b[0m\u001b[0;36m0\u001b[0m\u001b[0;34m]\u001b[0m\u001b[0;34m:\u001b[0m\u001b[0;34m\u001b[0m\u001b[0;34m\u001b[0m\u001b[0m\n\u001b[0;32m--> 122\u001b[0;31m             \u001b[0;32mreturn\u001b[0m \u001b[0msubmission_string\u001b[0m \u001b[0;34m+\u001b[0m \u001b[0;34mf\"{evaluation_format('No', pt_green,pt_red)}\"\u001b[0m \u001b[0;34m+\u001b[0m \u001b[0;34mf\"Checking the subsequence of the elements colored with {c} within ${LaTexVarName(name_s)}$, that is {subs} ... \"\u001b[0m \u001b[0;34m+\u001b[0m \u001b[0mis_seq_of_type\u001b[0m\u001b[0;34m(\u001b[0m\u001b[0msubs\u001b[0m\u001b[0;34m,\u001b[0m \u001b[0;34m\"subs\"\u001b[0m\u001b[0;34m,\u001b[0m \u001b[0;34m\"subs\"\u001b[0m\u001b[0;34m)\u001b[0m\u001b[0;34m[\u001b[0m\u001b[0;36m1\u001b[0m\u001b[0;34m]\u001b[0m\u001b[0;34m\u001b[0m\u001b[0;34m\u001b[0m\u001b[0m\n\u001b[0m\u001b[1;32m    123\u001b[0m     \u001b[0;32mreturn\u001b[0m \u001b[0msubmission_string\u001b[0m \u001b[0;34m+\u001b[0m \u001b[0;34mf\"{evaluation_format('Si', pt_green,pt_red)}\"\u001b[0m\u001b[0;34m\u001b[0m\u001b[0;34m\u001b[0m\u001b[0m\n\u001b[1;32m    124\u001b[0m \u001b[0;34m\u001b[0m\u001b[0m\n",
      "\u001b[0;31mTypeError\u001b[0m: can only concatenate str (not \"NoneType\") to str"
     ]
    }
   ],
   "source": [
    "display(Markdown(eval_coloring(s, \"s\", col_opt, \"col_opt\", \"SD\", pt_green=2, pt_red=15)))\n",
    "display(Markdown(eval_coloring(s, \"s\", col_feas, \"col_feas\", \"SD\", pt_green=2, pt_red=15)))\n",
    "display(Markdown(eval_coloring(s, \"s\", col_bad1, \"col_bad1\", \"SD\", pt_green=2, pt_red=15)))\n",
    "display(Markdown(eval_coloring(s, \"s\", col_bad2, \"col_bad2\", \"SD\", pt_green=2, pt_red=15)))\n"
   ]
  },
  {
   "cell_type": "code",
   "execution_count": 102,
   "metadata": {},
   "outputs": [
    {
     "data": {
      "text/markdown": [
       "$col\\_opt$"
      ],
      "text/plain": [
       "<IPython.core.display.Markdown object>"
      ]
     },
     "metadata": {},
     "output_type": "display_data"
    }
   ],
   "source": []
  },
  {
   "cell_type": "code",
   "execution_count": null,
   "metadata": {},
   "outputs": [],
   "source": []
  }
 ],
 "metadata": {
  "celltoolbar": "Edit Metadata",
  "hide_input": false,
  "kernelspec": {
   "display_name": "Python 3",
   "language": "python",
   "name": "python3"
  },
  "language_info": {
   "codemirror_mode": {
    "name": "ipython",
    "version": 3
   },
   "file_extension": ".py",
   "mimetype": "text/x-python",
   "name": "python",
   "nbconvert_exporter": "python",
   "pygments_lexer": "ipython3",
   "version": "3.7.7"
  }
 },
 "nbformat": 4,
 "nbformat_minor": 4
}
