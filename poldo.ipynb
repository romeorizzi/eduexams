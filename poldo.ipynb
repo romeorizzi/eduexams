{
 "cells": [
  {
   "cell_type": "code",
   "execution_count": 26,
   "metadata": {
    "hide_input": true,
    "pycharm": {
     "name": "#%%\n"
    }
   },
   "outputs": [],
   "source": [
    "from IPython.core.display import display, HTML, Markdown"
   ]
  },
  {
   "cell_type": "code",
   "execution_count": 46,
   "metadata": {
    "hide_input": false,
    "pycharm": {
     "name": "#%%\n"
    }
   },
   "outputs": [],
   "source": [
    "def is_subseq(s, subs):\n",
    "    \"\"\"\n",
    "    bool: verifica se subs è sottosequenza di s.\n",
    "    \"\"\"\n",
    "    found = 0\n",
    "    pos_r = 0\n",
    "    while pos_r < len(s):\n",
    "        if s[pos_r] == subs[found]:\n",
    "            found += 1\n",
    "            if found >= len(subs):\n",
    "                return True\n",
    "        pos_r += 1\n",
    "    return False\n",
    "\n",
    "def evaluation_format(answ, pt_green,pt_red):\n",
    "    pt_blue=pt_red-pt_green\n",
    "    return f\"{answ}. Totalizzeresti <span style='color:green'>[{pt_green} safe pt]</span>, \\\n",
    "                                    <span style='color:blue'>[{pt_blue} possible pt]</span>, \\\n",
    "                                    <span style='color:red'>[{pt_red} out of reach pt]</span>.<br>\"\n",
    "\n",
    "\"\"\"\n",
    "Legend of possible sequence types:\n",
    "      \"SC\" :  implemented : strettamente crescente\n",
    "      \"ND\" :  implemented : non-decrescente\n",
    "      \"SD\" :  implemented : strettamente decrescente\n",
    "      \"NC\" :  implemented : non-crescente\n",
    "      \"V\"  :  implemented : V-sequence (first down then up)\n",
    "      \"A\"  :  implemented : A-sequence (first up then down)\n",
    "      \"SV\" :  implemented : strict V-sequence (first strict down then strict up)\n",
    "      \"SA\" :  implemented : strict A-sequence (first strict up then strict down)\n",
    "  \"ZigZag\" :  implemented : parte crescente e poi alterna\n",
    "  \"ZagZig\" :  implemented : parte calante e poi alterna\n",
    "\"ZigZagEQ\" :  implemented : parte crescente e poi alterna, due consecutivi possono essere uguali\n",
    "\"ZagZigEQ\" :  implemented : parte calante e poi alterna, due consecutivi possono essere uguali\n",
    "\"132-free\" : not done yet : dal mondo delle permutazioni pattern free per un infinità di problemi in FPT\n",
    "\"\"\"\n",
    "\n",
    "def is_seq_of_type(s, name_s, seq_type):\n",
    "    \"\"\"\n",
    "    valuta se una sequenza s di nome name_s è di tipo seq_type (vedi tabella subito sopra).\n",
    "    valore di ritorno (bool, NO_cert_string):\n",
    "       In caso affermativo il bool ritornato come prima componente è True e la seconda componente è None.\n",
    "       Altrimenti il bool è False e viene restituita una stringa che riporta una violazione puntuale alla proprietà richiesta.\n",
    "    \"\"\"\n",
    "    if len(s) > 1:\n",
    "        already_went_down = s[1] < s[0]\n",
    "        already_went_up = s[1] > s[0]\n",
    "    for i in range(1,len(s)):\n",
    "        if s[i] < s[i-1]:\n",
    "            already_went_down = True\n",
    "            if seq_type==\"V\" and already_went_up:\n",
    "                return (0,f\"L'elemento {s[i]} in posizione {i+1} è minore dell'elemento {s[i-1]} in posizione {i} come anche l'elemento {s[i-2]} in posizione {i-1}.\")\n",
    "            if seq_type in {\"SC\",\"ND\"} or (seq_type in {\"ZigZag\",\"ZigZagEQ\"} and s[i]%2 == 1) or (seq_type in {\"ZagZig\",\"ZagZigEQ\"} and s[i]%2 == 0):\n",
    "                return (0,f\"L'elemento {s[i]} in posizione {i+1} è minore dell'elemento {s[i-1]} in posizione {i}.\")\n",
    "        if s[i] > s[i-1]:\n",
    "            already_went_up = True\n",
    "            if seq_type==\"A\" and already_went_down:\n",
    "                return (0,f\"L'elemento {s[i]} in posizione {i+1} è maggiore dell'elemento {s[i-1]} in posizione {i} come anche l'elemento {s[i-2]} in posizione {i-1}.\")\n",
    "            if seq_type in {\"SD\",\"NC\"} or (seq_type in {\"ZagZig\",\"ZagZigEQ\"} and s[i]%2 == 1) or (seq_type in {\"ZigZag\",\"ZigZagEQ\"} and s[i]%2 == 0):\n",
    "                return (0,f\"L'elemento {s[i]} in posizione {i+1} è maggiore dell'elemento {s[i-1]} in posizione {i}.\")\n",
    "        if s[i] == s[i-1] and seq_type in {\"SC\",\"SD\",\"SV\",\"SA\",\"ZigZag\",\"ZagZig\"}:\n",
    "            return (0,f\"L'elemento {s[i]} in posizione {i+1} non è maggiore dell'elemento {s[i-1]} in posizione {i}.\")\n",
    "    return (1,None)\n",
    "\n",
    "def is_subseq_of_type(s, name_s, subs, name_subs, subs_type, pt_green, pt_red, forced_ele_pos = None, start_banned_interval = None, end_banned_interval = None):\n",
    "    \"\"\"\n",
    "    Verifica se subs, una sequenza di interi di nome name_subs, è sequenza di tipo subs_type (vedi tabella) e sottosequenza della sequenza s.\n",
    "    Se forced_ele_pos != None è richiesto che subs contenga l'elemento s[forced_ele_pos].\n",
    "    Se start_banned_interval,end_banned_interval != None è richiesto che subs eviti il sottointervallo bandito di s.\n",
    "    Restituisce una stringa contenete la valutazione del certificato subs immesso dallo studente, a tale scopo i parametri pt_green e pt_red mentre pt_blue=pt_red-pt_green è fatto implicito.\n",
    "    \"\"\"\n",
    "    submission_string = f\"Hai inserito il certificato ${name_subs}={subs}$.\"\n",
    "    submission_string += f\"<br>L'istanza era data da ${name_s}={s}$.<br>\"\n",
    "\n",
    "    answ,NO_cert_string = is_seq_of_type(subs, name_subs, subs_type)\n",
    "    if not answ:\n",
    "        return submission_string + evaluation_format(\"No\", pt_green,pt_red) + NO_cert_string\n",
    "    if start_banned_interval != None or end_banned_interval != None:\n",
    "        assert start_banned_interval != None and end_banned_interval != None\n",
    "        if forced_ele_pos != None:\n",
    "            assert forced_ele_pos < start_banned_interval or forced_ele_pos > end_banned_interval\n",
    "            if forced_ele_pos > end_banned_interval:\n",
    "               forced_ele_pos -= end_banned_interval \n",
    "        aux = s[:start_banned_interval-1] +s[end_banned_interval:]\n",
    "    if not is_subseq(s, subs):\n",
    "        return submission_string + evaluation_format(\"No\", pt_green,pt_red) + \"La sequenza ${name_subs}$ proposta non è sottosequenza di ${name_s}$.\"\n",
    "    if forced_ele_pos != None:\n",
    "        forced_ele_0basedpos = forced_ele_pos\n",
    "        found_magic_point = False\n",
    "        for guess_0basedpos_in_subs in range(len(subs)):\n",
    "            if subs[guess_0basedpos_in_subs] == s[forced_ele_0basedpos]:\n",
    "                if is_subseq(s[:forced_ele_0basedpos], subs[:guess_0basedpos_in_subs]) and is_subseq(s[forced_ele_0basedpos:], subs[guess_0basedpos_in_subs:]):\n",
    "                    found_magic_point = False\n",
    "        if not found_magic_point:\n",
    "            return submission_string + evaluation_format(\"No\", pt_green,pt_red) + \"La sequenza ${name_subs}$ proposta non è sottosequenza di ${name_s}$.\"\n",
    "        \n",
    "    return submission_string + evaluation_format(\"Si\", pt_green,pt_red)\n"
   ]
  },
  {
   "cell_type": "markdown",
   "metadata": {},
   "source": [
    "## Esercizio \\[60 pts\\]\n",
    "(poldo) Ricerca di sottosequenze strettamente crescenti di massima lughezza."
   ]
  },
  {
   "cell_type": "markdown",
   "metadata": {},
   "source": [
    "Si consideri la seguente sequenza di numeri naturali:"
   ]
  },
  {
   "cell_type": "code",
   "execution_count": 32,
   "metadata": {
    "hide_input": true,
    "readonly": true
   },
   "outputs": [],
   "source": [
    "s = [1, 14, 8, 2, 4, 21, 28, 48, 5, 26, 49, 9, 32, 19, 12, 46, 10, 7, 3, 25, 11, 6, 29, 39, 44, 13]"
   ]
  },
  {
   "cell_type": "code",
   "execution_count": 33,
   "metadata": {},
   "outputs": [
    {
     "name": "stdout",
     "output_type": "stream",
     "text": [
      "[1, 14, 8, 2, 4, 21, 28, 48, 5, 26, 49, 9, 32, 19, 12, 46, 10, 7, 3, 25, 11, 6, 29, 39, 44, 13]\n"
     ]
    }
   ],
   "source": [
    "print(s)"
   ]
  },
  {
   "cell_type": "markdown",
   "metadata": {},
   "source": [
    "\n",
    "__Richieste__:\n"
   ]
  },
  {
   "cell_type": "markdown",
   "metadata": {},
   "source": [
    "1. __[10 pts]__ Trovare una sottosequenza $s1$ strettamente crescente di $s$ che sia la più lunga possibile."
   ]
  },
  {
   "cell_type": "code",
   "execution_count": 38,
   "metadata": {},
   "outputs": [],
   "source": [
    "subs1 = [5,49]"
   ]
  },
  {
   "cell_type": "code",
   "execution_count": 39,
   "metadata": {
    "pycharm": {
     "name": "#%%\n"
    },
    "scrolled": false
   },
   "outputs": [
    {
     "data": {
      "text/markdown": [
       "Hai inserito il certificato $subs1=[5, 49]$.<br>L'istanza era data da $s=[1, 14, 8, 2, 4, 21, 28, 48, 5, 26, 49, 9, 32, 19, 12, 46, 10, 7, 3, 25, 11, 6, 29, 39, 44, 13]$.<br>Si. Totalizzeresti <span style='color:green'>[1 safe pt]</span>,                                     <span style='color:blue'>[9 possible pt]</span>,                                     <span style='color:red'>[10 out of reach pt]</span>.<br>"
      ],
      "text/plain": [
       "<IPython.core.display.Markdown object>"
      ]
     },
     "metadata": {},
     "output_type": "display_data"
    }
   ],
   "source": [
    "display(Markdown(is_subseq_of_type(s, \"s\", subs1, \"subs1\", \"SC\", pt_green=1, pt_red=10, forced_ele_pos=None, start_banned_interval=None, end_banned_interval=None)))"
   ]
  },
  {
   "cell_type": "markdown",
   "metadata": {
    "pycharm": {
     "name": "#%%\n"
    }
   },
   "source": [
    "2. __[10 pts]__ Trovare una sottosequenza $s2$ strettamente decrescente di $s$ che sia la più lunga possibile.\n"
   ]
  },
  {
   "cell_type": "code",
   "execution_count": 40,
   "metadata": {},
   "outputs": [],
   "source": [
    "subs2 = [5,49]"
   ]
  },
  {
   "cell_type": "code",
   "execution_count": 42,
   "metadata": {
    "scrolled": true
   },
   "outputs": [
    {
     "data": {
      "text/markdown": [
       "Hai inserito il certificato $subs2=[5, 49]$.<br>L'istanza era data da $s=[1, 14, 8, 2, 4, 21, 28, 48, 5, 26, 49, 9, 32, 19, 12, 46, 10, 7, 3, 25, 11, 6, 29, 39, 44, 13]$.<br>No. Totalizzeresti <span style='color:green'>[1 safe pt]</span>,                                     <span style='color:blue'>[9 possible pt]</span>,                                     <span style='color:red'>[10 out of reach pt]</span>.<br>L'elemento 49 in posizione 2 è maggiore dell'elemento 5 in posizione 1."
      ],
      "text/plain": [
       "<IPython.core.display.Markdown object>"
      ]
     },
     "metadata": {},
     "output_type": "display_data"
    }
   ],
   "source": [
    "display(Markdown(is_subseq_of_type(s, \"s\", subs2, \"subs2\", \"SD\", pt_green=1, pt_red=10, forced_ele_pos=None, start_banned_interval=None, end_banned_interval=None)))"
   ]
  },
  {
   "cell_type": "markdown",
   "metadata": {},
   "source": [
    "3. __[10 pts]__ Trovare la più lunga sottosequenza crescente che includa l'elemento di valore 7"
   ]
  },
  {
   "cell_type": "code",
   "execution_count": 23,
   "metadata": {},
   "outputs": [
    {
     "name": "stdout",
     "output_type": "stream",
     "text": [
      "7\n"
     ]
    }
   ],
   "source": [
    "print(s[18-1])"
   ]
  },
  {
   "cell_type": "code",
   "execution_count": 22,
   "metadata": {},
   "outputs": [],
   "source": [
    "subs3 = [5,49]"
   ]
  },
  {
   "cell_type": "code",
   "execution_count": 47,
   "metadata": {},
   "outputs": [
    {
     "data": {
      "text/markdown": [
       "Hai inserito il certificato $subs3=[5, 49]$.<br>L'istanza era data da $s=[1, 14, 8, 2, 4, 21, 28, 48, 5, 26, 49, 9, 32, 19, 12, 46, 10, 7, 3, 25, 11, 6, 29, 39, 44, 13]$.<br>No. Totalizzeresti <span style='color:green'>[1 safe pt]</span>,                                     <span style='color:blue'>[9 possible pt]</span>,                                     <span style='color:red'>[10 out of reach pt]</span>.<br>La sequenza ${name_subs}$ proposta non è sottosequenza di ${name_s}$."
      ],
      "text/plain": [
       "<IPython.core.display.Markdown object>"
      ]
     },
     "metadata": {},
     "output_type": "display_data"
    }
   ],
   "source": [
    "display(Markdown(is_subseq_of_type(s, \"s\", subs3, \"subs3\", \"SC\", pt_green=1, pt_red=10, forced_ele_pos=18, start_banned_interval=None, end_banned_interval=None)))"
   ]
  },
  {
   "cell_type": "markdown",
   "metadata": {},
   "source": [
    "4. __[10 pts]__ Una sequenza è detta una _V-sequenza_ se cala fino ad un certo punto, e da lì in poi cresce sempre. Trovare la più lunga V-sequenza che sia una sottosequenza della sequenza data"
   ]
  },
  {
   "cell_type": "code",
   "execution_count": null,
   "metadata": {},
   "outputs": [],
   "source": [
    "subs4 = [5,49]"
   ]
  },
  {
   "cell_type": "code",
   "execution_count": 49,
   "metadata": {},
   "outputs": [
    {
     "ename": "NameError",
     "evalue": "name 'subs4' is not defined",
     "output_type": "error",
     "traceback": [
      "\u001b[0;31m---------------------------------------------------------------------------\u001b[0m",
      "\u001b[0;31mNameError\u001b[0m                                 Traceback (most recent call last)",
      "\u001b[0;32m<ipython-input-49-ece131cb4dc9>\u001b[0m in \u001b[0;36m<module>\u001b[0;34m\u001b[0m\n\u001b[0;32m----> 1\u001b[0;31m \u001b[0mdisplay\u001b[0m\u001b[0;34m(\u001b[0m\u001b[0mMarkdown\u001b[0m\u001b[0;34m(\u001b[0m\u001b[0mis_monotone_subseq\u001b[0m\u001b[0;34m(\u001b[0m\u001b[0ms\u001b[0m\u001b[0;34m,\u001b[0m \u001b[0msubs4\u001b[0m\u001b[0;34m,\u001b[0m \u001b[0;34m\"subs_4\"\u001b[0m\u001b[0;34m,\u001b[0m \u001b[0;34m\"SD\"\u001b[0m\u001b[0;34m)\u001b[0m\u001b[0;34m)\u001b[0m\u001b[0;34m)\u001b[0m\u001b[0;34m\u001b[0m\u001b[0;34m\u001b[0m\u001b[0m\n\u001b[0m",
      "\u001b[0;31mNameError\u001b[0m: name 'subs4' is not defined"
     ]
    }
   ],
   "source": [
    "display(Markdown(is_monotone_subseq(s, subs4, \"subs_4\", \"SD\")))\n",
    "display(Markdown(is_subseq_of_type(s, \"s\", subs4, \"subs4\", \"SD\", pt_green=1, pt_red=10, forced_ele_pos=18, start_banned_interval=None, end_banned_interval=None)))"
   ]
  },
  {
   "cell_type": "markdown",
   "metadata": {},
   "source": [
    "5. __[20 pts]__ Qual è il minor numero possibile di colori _C_ per colorare gli elementi della sequenza in input in modo che, per ogni colore, la sottosequenza degli elementi di quel colore sia monotona non crescente? Specificare per ogni elemento il colore (come colori, usare i numeri da 1 a _C_)\n"
   ]
  }
 ],
 "metadata": {
  "celltoolbar": "Edit Metadata",
  "hide_input": false,
  "kernelspec": {
   "display_name": "Python 3",
   "language": "python",
   "name": "python3"
  },
  "language_info": {
   "codemirror_mode": {
    "name": "ipython",
    "version": 3
   },
   "file_extension": ".py",
   "mimetype": "text/x-python",
   "name": "python",
   "nbconvert_exporter": "python",
   "pygments_lexer": "ipython3",
   "version": "3.7.7"
  }
 },
 "nbformat": 4,
 "nbformat_minor": 4
}
