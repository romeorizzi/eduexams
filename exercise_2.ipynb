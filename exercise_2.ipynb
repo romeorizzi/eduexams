{
 "cells": [
  {
   "cell_type": "code",
   "execution_count": 236,
   "metadata": {
    "hide_input": true,
    "init_cell": true,
    "scrolled": false
   },
   "outputs": [],
   "source": [
    "from IPython.core.display import display, HTML, Markdown, display_html, clear_output, Javascript\n",
    "from ipywidgets import Button, HBox, VBox, widgets\n",
    "from string import Template\n",
    "import ipysheet\n",
    "import pandas as pd\n",
    "import json, random\n",
    "import yaml\n",
    "import math\n",
    "import time\n",
    "import re\n",
    "import os\n",
    "from os import path\n",
    "from datetime import datetime\n",
    "\n",
    "#verificatori\n",
    "from exercise_2.verifier.lis import lis\n",
    "from exercise_2.verifier.nSeq import nSequenza\n",
    "from exercise_2.verifier.lisWithNumber import lisWithNumber\n",
    "from exercise_2.verifier.liscutrange import lisSubwithoutElementInRange\n",
    "from exercise_2.verifier.minNsubDesc import minimoNumSubDESC\n",
    "from exercise_2.verifier.final_results import save_results"
   ]
  },
  {
   "cell_type": "code",
   "execution_count": 237,
   "metadata": {
    "hide_input": false,
    "init_cell": true
   },
   "outputs": [
    {
     "data": {
      "application/vnd.jupyter.widget-view+json": {
       "model_id": "99b69fc1a9e34cac8151da6f16a1c506",
       "version_major": 2,
       "version_minor": 0
      },
      "text/plain": [
       "Button(description='Start exercise', style=ButtonStyle())"
      ]
     },
     "metadata": {},
     "output_type": "display_data"
    },
    {
     "data": {
      "application/vnd.jupyter.widget-view+json": {
       "model_id": "882b9f768b9c48d3a5a877d7f92515e9",
       "version_major": 2,
       "version_minor": 0
      },
      "text/plain": [
       "Output()"
      ]
     },
     "metadata": {},
     "output_type": "display_data"
    }
   ],
   "source": [
    "button_run = widgets.Button(description=\"Start exercise\")\n",
    "output_run = widgets.Output()\n",
    "display(button_run, output_run)\n",
    "\n",
    "def on_run_clicked1(b):\n",
    "    with output_run:\n",
    "        display(Javascript('''\n",
    "        function sleep2(milliseconds) {\n",
    "          var start = new Date().getTime();\n",
    "          for (var i = 0; i < 1e7; i++) {\n",
    "            if ((new Date().getTime() - start) > milliseconds){\n",
    "              break;\n",
    "            }\n",
    "          }\n",
    "        }\n",
    "        var k = 3\n",
    "        //IPython.notebook.execute_cells([0])\n",
    "        try{\n",
    "            while(k < 50){\n",
    "                IPython.notebook.execute_cells([k])\n",
    "                k = k+1\n",
    "                sleep2(50)\n",
    "            }\n",
    "        }catch{}\n",
    "        '''))\n",
    "button_run.on_click(on_run_clicked1)"
   ]
  },
  {
   "cell_type": "code",
   "execution_count": 238,
   "metadata": {
    "hide_input": true,
    "init_cell": true
   },
   "outputs": [
    {
     "data": {
      "application/javascript": [
       "var kernel = IPython.notebook.kernel;\n",
       "var thename = window.document.getElementById(\"notebook_name\").innerHTML;\n",
       "var command = \"theNotebook = \" + \"'\"+thename+\"'\";\n",
       "kernel.execute(command);\n"
      ],
      "text/plain": [
       "<IPython.core.display.Javascript object>"
      ]
     },
     "metadata": {},
     "output_type": "display_data"
    }
   ],
   "source": [
    "%%javascript\n",
    "var kernel = IPython.notebook.kernel;\n",
    "var thename = window.document.getElementById(\"notebook_name\").innerHTML;\n",
    "var command = \"theNotebook = \" + \"'\"+thename+\"'\";\n",
    "kernel.execute(command);"
   ]
  },
  {
   "cell_type": "code",
   "execution_count": 270,
   "metadata": {
    "hide_input": true,
    "scrolled": true
   },
   "outputs": [
    {
     "data": {
      "text/markdown": [
       "# EXERCISE 2\n",
       "Si consideri la seguente sequenza di numeri naturali"
      ],
      "text/plain": [
       "<IPython.core.display.Markdown object>"
      ]
     },
     "execution_count": 270,
     "metadata": {},
     "output_type": "execute_result"
    }
   ],
   "source": [
    "str_list = theNotebook.split(\"_\")\n",
    "exercise = str_list[1]\n",
    "%run -i \"exercise_2/script/load_config.py\"\n",
    "txt = open(yaml_text[0], 'r',encoding='utf-8')\n",
    "content = txt.read()\n",
    "text_str = \"# \"+ str_list[0].upper() + \" \" + str_list[1] + \"\\n\" + content\n",
    "Markdown(text_str)"
   ]
  },
  {
   "cell_type": "code",
   "execution_count": 271,
   "metadata": {
    "hide_input": true,
    "scrolled": true
   },
   "outputs": [
    {
     "data": {
      "text/html": [
       "<table border=\"1\" class=\"dataframe\">\n",
       "  <thead>\n",
       "    <tr style=\"text-align: right;\">\n",
       "      <th>1</th>\n",
       "      <th>2</th>\n",
       "      <th>3</th>\n",
       "      <th>4</th>\n",
       "      <th>5</th>\n",
       "      <th>6</th>\n",
       "      <th>7</th>\n",
       "      <th>8</th>\n",
       "      <th>9</th>\n",
       "      <th>10</th>\n",
       "      <th>11</th>\n",
       "      <th>12</th>\n",
       "      <th>13</th>\n",
       "      <th>14</th>\n",
       "      <th>15</th>\n",
       "      <th>16</th>\n",
       "      <th>17</th>\n",
       "      <th>18</th>\n",
       "      <th>19</th>\n",
       "      <th>20</th>\n",
       "      <th>21</th>\n",
       "      <th>22</th>\n",
       "      <th>23</th>\n",
       "      <th>24</th>\n",
       "      <th>25</th>\n",
       "    </tr>\n",
       "  </thead>\n",
       "  <tbody>\n",
       "    <tr>\n",
       "      <td>34</td>\n",
       "      <td>42</td>\n",
       "      <td>44</td>\n",
       "      <td>49</td>\n",
       "      <td>41</td>\n",
       "      <td>52</td>\n",
       "      <td>63</td>\n",
       "      <td>69</td>\n",
       "      <td>40</td>\n",
       "      <td>60</td>\n",
       "      <td>86</td>\n",
       "      <td>45</td>\n",
       "      <td>66</td>\n",
       "      <td>54</td>\n",
       "      <td>79</td>\n",
       "      <td>81</td>\n",
       "      <td>43</td>\n",
       "      <td>46</td>\n",
       "      <td>38</td>\n",
       "      <td>61</td>\n",
       "      <td>80</td>\n",
       "      <td>48</td>\n",
       "      <td>64</td>\n",
       "      <td>73</td>\n",
       "      <td>47</td>\n",
       "    </tr>\n",
       "  </tbody>\n",
       "</table>"
      ]
     },
     "metadata": {},
     "output_type": "display_data"
    }
   ],
   "source": [
    "file = open(yaml_table_path, 'r',encoding='utf-8')\n",
    "    \n",
    "data = []\n",
    "\n",
    "for line in file.readlines():\n",
    "    data.append(line.split(' '))\n",
    "\n",
    "df = pd.DataFrame(data=data)\n",
    "df.columns = [i for  i in range(1, len(data[0])+1)]\n",
    "\n",
    "display_html(df.to_html(index=False), raw=True)\n",
    "\n",
    "global prog0\n",
    "global command0\n",
    "\n",
    "prog0=0\n",
    "command0=0"
   ]
  },
  {
   "cell_type": "code",
   "execution_count": 272,
   "metadata": {
    "hide_input": true
   },
   "outputs": [
    {
     "name": "stdout",
     "output_type": "stream",
     "text": [
      "Qui puoi compilare la tabella di supporto\n"
     ]
    },
    {
     "data": {
      "application/vnd.jupyter.widget-view+json": {
       "model_id": "282222aa55bd4824b9a4ec2f02b73a8b",
       "version_major": 2,
       "version_minor": 0
      },
      "text/plain": [
       "HBox(children=(Sheet(cells=(Cell(column_end=0, column_start=0, read_only=True, row_end=0, row_start=0, type='t…"
      ]
     },
     "metadata": {},
     "output_type": "display_data"
    }
   ],
   "source": [
    "print(\"Qui puoi compilare la tabella di supporto\")\n",
    "if command0 == 0:\n",
    "    sheet1=ipysheet.sheet(rows=5,columns=len(df.columns),column_headers=False, row_headers=False, column_width=30)\n",
    "    values=df.values.tolist()\n",
    "    for i in range(0,len(df.columns)):\n",
    "        ipysheet.cell(0,i,\"->\",read_only=True)\n",
    "        ipysheet.cell(1,i,\"0\")\n",
    "        ipysheet.cell(2,i,values[0][i],read_only=True)\n",
    "        ipysheet.cell(3,i,\"0\")\n",
    "        ipysheet.cell(4,i,\"<-\",read_only=True)\n",
    "if command0 == 1:\n",
    "    f = open(\"./exercise_2/data/log/lastcheckpoint/tablesupp.txt\", \"r\")\n",
    "    lines = f.readlines()\n",
    "    num=[]\n",
    "    for line in lines:\n",
    "        num.append([int(s) for s in re.findall(r'\\b\\d+\\b', line)])\n",
    "    sheet1=ipysheet.sheet(rows=5,columns=len(df.columns),column_headers=False, row_headers=False, column_width=30)\n",
    "    values=df.values.tolist()\n",
    "    for i in range(0,len(df.columns)):\n",
    "        ipysheet.cell(0,i,\"-->\",read_only=True)\n",
    "        ipysheet.cell(1,i,str(num[0][i]))\n",
    "        ipysheet.cell(2,i,values[0][i],read_only=True)\n",
    "        ipysheet.cell(3,i,str(num[1][i]))\n",
    "        ipysheet.cell(4,i,\"<--\",read_only=True)\n",
    "HBox([sheet1], layout={'max_width' : '1000px', 'overflow_y' : 'auto'})\n",
    "#sheet1"
   ]
  },
  {
   "cell_type": "code",
   "execution_count": 273,
   "metadata": {
    "hide_input": true,
    "scrolled": false
   },
   "outputs": [
    {
     "data": {
      "application/vnd.jupyter.widget-view+json": {
       "model_id": "db6c00111aa14edb8df9d9d833a1ae94",
       "version_major": 2,
       "version_minor": 0
      },
      "text/plain": [
       "HBox(children=(VBox(children=(Button(description='Start from scratch', style=ButtonStyle()),)), VBox(children=…"
      ]
     },
     "metadata": {},
     "output_type": "display_data"
    }
   ],
   "source": [
    "words = ['Start from scratch', 'Make checkpoint', 'Recall last checkpoint']\n",
    "items = [Button(description=w) for w in words]\n",
    "left_box = VBox([items[0]])\n",
    "center_box = VBox([items[1]])\n",
    "right_box = VBox([items[2]])\n",
    "\n",
    "def reset0(_):\n",
    "    global command0\n",
    "    command0=0\n",
    "    display(Javascript('IPython.notebook.execute_cells([5])'))\n",
    "\n",
    "def save0(_):\n",
    "    DIR = \"./exercise_2/data/log/checkpoint\"\n",
    "    timestamp = datetime.timestamp(datetime.now())\n",
    "    prog=len([name for name in os.listdir(DIR) if os.path.isfile(os.path.join(DIR, name))])+1\n",
    "    f = open(\"./exercise_2/data/log/checkpoint/tablesupp_\"+str(prog)+\"_\"+str(timestamp)+\".txt\", \"w\")\n",
    "    f.write(str(list(map(int,ipysheet.to_array(sheet1)[1])))+\"\\n\")\n",
    "    f.write(str(list(map(int,ipysheet.to_array(sheet1)[3]))))\n",
    "    f.close()\n",
    "    f = open(\"./exercise_2/data/log/lastcheckpoint/tablesupp.txt\", \"w\")\n",
    "    f.write(str(list(map(int,ipysheet.to_array(sheet1)[1])))+\"\\n\")\n",
    "    f.write(str(list(map(int,ipysheet.to_array(sheet1)[3]))))\n",
    "    f.close()\n",
    "    print(\"Tabella salvata\")\n",
    "    time.sleep(3)\n",
    "    display(Javascript('IPython.notebook.execute_cells([6])'))\n",
    "\n",
    "def recall0(_):\n",
    "    global command0\n",
    "    if path.exists(\"./exercise_2/data/log/lastcheckpoint/tablesupp.txt\"):   \n",
    "        command0=1\n",
    "    else:\n",
    "        command0=0\n",
    "    display(Javascript('IPython.notebook.execute_cells([5])'))\n",
    "    \n",
    "        \n",
    "items[0].on_click(reset0)\n",
    "items[1].on_click(save0)\n",
    "items[2].on_click(recall0)\n",
    "\n",
    "HBox([left_box,center_box,right_box])\n"
   ]
  },
  {
   "cell_type": "code",
   "execution_count": 274,
   "metadata": {
    "hide_input": true,
    "pycharm": {
     "name": "#%%\n"
    }
   },
   "outputs": [
    {
     "data": {
      "text/markdown": [
       "- Trovare una sottosequenza crescente che sia la più lunga possibile. \\\n",
       "Specificare quanto è lunga e fornirla.\n"
      ],
      "text/plain": [
       "<IPython.core.display.Markdown object>"
      ]
     },
     "execution_count": 274,
     "metadata": {},
     "output_type": "execute_result"
    }
   ],
   "source": [
    "global command1\n",
    "command1 = 0\n",
    "txt = open(yaml_text[1], 'r',encoding='utf-8')\n",
    "content = txt.read()\n",
    "Markdown(content)"
   ]
  },
  {
   "cell_type": "code",
   "execution_count": 275,
   "metadata": {
    "hide_input": true
   },
   "outputs": [
    {
     "name": "stdout",
     "output_type": "stream",
     "text": [
      "Lunghezza della sottosequenza crescente più lunga:\n"
     ]
    },
    {
     "data": {
      "application/vnd.jupyter.widget-view+json": {
       "model_id": "9cd4e5b91b1a4a098549aa9f58a520e3",
       "version_major": 2,
       "version_minor": 0
      },
      "text/plain": [
       "IntText(value=1)"
      ]
     },
     "metadata": {},
     "output_type": "display_data"
    }
   ],
   "source": [
    "print(\"Lunghezza della sottosequenza crescente più lunga:\")\n",
    "global maxsubseq\n",
    "if command1 == 0:\n",
    "    maxsubseq=widgets.IntText(\n",
    "        value=1,\n",
    "        disabled=False\n",
    "    )\n",
    "\n",
    "display(maxsubseq)\n",
    "\n",
    "\n",
    "\n",
    "#9"
   ]
  },
  {
   "cell_type": "code",
   "execution_count": 276,
   "metadata": {
    "hide_input": true,
    "scrolled": false
   },
   "outputs": [
    {
     "data": {
      "application/vnd.jupyter.widget-view+json": {
       "model_id": "9bbf431db7bd42d28b8aad254778c052",
       "version_major": 2,
       "version_minor": 0
      },
      "text/plain": [
       "HBox(children=(Sheet(cells=(Cell(column_end=0, column_start=0, row_end=0, row_start=0, type='text', value='0')…"
      ]
     },
     "metadata": {},
     "output_type": "display_data"
    }
   ],
   "source": [
    "global maxsubseq\n",
    "if command1 == 0:\n",
    "    lunghezza=int(maxsubseq.value)\n",
    "    sheet2=ipysheet.sheet(rows=1,columns=lunghezza,column_headers=False, row_headers=False, column_width=30)\n",
    "    for i in range(0,lunghezza):\n",
    "        ipysheet.cell(0,i,\"0\")\n",
    "\n",
    "if command1 == 1:\n",
    "    f = open(\"./exercise_2/data/log/lastcheckpoint/query1.txt\", \"r\")\n",
    "    line = f.readline()\n",
    "    num=[int(s) for s in re.findall(r'\\b\\d+\\b', line)]\n",
    "    lunghezza=len(num)\n",
    "    sheet2=ipysheet.sheet(rows=1,columns=lunghezza,column_headers=False, row_headers=False, column_width=30)\n",
    "    for i in range(0,lunghezza):\n",
    "        ipysheet.cell(0,i,str(num[i]))\n",
    "    #global maxsubseq\n",
    "    maxsubseq=widgets.IntText(\n",
    "        value=lunghezza,\n",
    "        disabled=False\n",
    "    )\n",
    "    display(Javascript('IPython.notebook.execute_cells([8])'))\n",
    "    \n",
    "if command1 == 2:\n",
    "    f = open(\"./exercise_2/data/log/lastans/ansquery1.txt\", \"r\")\n",
    "    line = f.readline()\n",
    "    num=[int(s) for s in re.findall(r'\\b\\d+\\b', line)]\n",
    "    lunghezza=len(num)\n",
    "    sheet2=ipysheet.sheet(rows=1,columns=lunghezza,column_headers=False, row_headers=False, column_width=30)\n",
    "    for i in range(0,lunghezza):\n",
    "        ipysheet.cell(0,i,str(num[i]))\n",
    "    #global maxsubseq\n",
    "    maxsubseq=widgets.IntText(\n",
    "        value=lunghezza,\n",
    "        disabled=False\n",
    "    )\n",
    "    display(Javascript('IPython.notebook.execute_cells([8])'))\n",
    "\n",
    "HBox([sheet2], layout={'max_width' : '1000px', 'overflow_y' : 'auto'})\n",
    "#sheet2\n",
    "#34, 42, 44, 49, 52, 63, 69, 79, 81"
   ]
  },
  {
   "cell_type": "code",
   "execution_count": 277,
   "metadata": {
    "hide_input": false,
    "scrolled": true
   },
   "outputs": [
    {
     "data": {
      "application/vnd.jupyter.widget-view+json": {
       "model_id": "01def8d652444ba5b2abf010f1baa8da",
       "version_major": 2,
       "version_minor": 0
      },
      "text/plain": [
       "HBox(children=(VBox(children=(Button(description='Start from scratch', style=ButtonStyle()),)), VBox(children=…"
      ]
     },
     "metadata": {},
     "output_type": "display_data"
    }
   ],
   "source": [
    "words = ['Start from scratch', 'Make checkpoint', 'Recall last checkpoint', 'Get feedback', 'Recall last certificate']\n",
    "items = [Button(description=w) for w in words]\n",
    "left_box = VBox([items[0]])\n",
    "cl_box = VBox([items[1]])\n",
    "cc_box = VBox([items[2]])\n",
    "cr_box = VBox([items[3]])\n",
    "right_box = VBox([items[4]])\n",
    "\n",
    "def reset1(_):\n",
    "    global command1\n",
    "    command1=0\n",
    "    display(Javascript('IPython.notebook.execute_cells([9])'))\n",
    "    \n",
    "def save1(_):\n",
    "    DIR = \"./exercise_2/data/log/checkpoint\"\n",
    "    prog=len([name for name in os.listdir(DIR) if os.path.isfile(os.path.join(DIR, name))])+1\n",
    "    timestamp = datetime.timestamp(datetime.now())\n",
    "    f = open(\"./exercise_2/data/log/checkpoint/query1_\"+str(prog)+\"_\"+str(timestamp)+\".txt\", \"w\")\n",
    "    f.write(str(list(map(int,ipysheet.to_array(sheet2)[0]))))\n",
    "    f.close()\n",
    "    f = open(\"./exercise_2/data/log/lastcheckpoint/query1.txt\", \"w\")\n",
    "    f.write(str(list(map(int,ipysheet.to_array(sheet2)[0]))))\n",
    "    f.close()\n",
    "    print(\"Tabella salvata\")\n",
    "    time.sleep(3)\n",
    "    display(Javascript('IPython.notebook.execute_cells([10])'))\n",
    "    \n",
    "def recall1(_):\n",
    "    global command1\n",
    "    if path.exists(\"./exercise_2/data/log/lastcheckpoint/query1.txt\"):   \n",
    "        command1=1\n",
    "    else:\n",
    "        command1=0\n",
    "    display(Javascript('IPython.notebook.execute_cells([9])'))\n",
    "\n",
    "def verify1(_):\n",
    "    DIR = \"./exercise_2/data/log/ans\"\n",
    "    prog=len([name for name in os.listdir(DIR) if os.path.isfile(os.path.join(DIR, name))])+1\n",
    "    timestamp = datetime.timestamp(datetime.now())\n",
    "    f = open(\"./exercise_2/data/log/ans/ansquery1_\"+str(prog)+\"_\"+str(timestamp)+\".txt\", \"w\")\n",
    "    f.write(str(list(map(int,ipysheet.to_array(sheet2)[0]))))\n",
    "    f.close()\n",
    "    f = open(\"./exercise_2/data/log/lastans/ansquery1.txt\", \"w\")\n",
    "    f.write(str(list(map(int,ipysheet.to_array(sheet2)[0]))))\n",
    "    f.close()\n",
    "    lis(values[0], list(ipysheet.to_array(sheet2)[0]), lunghezza)\n",
    "    time.sleep(5)\n",
    "    display(Javascript('IPython.notebook.execute_cells([10])'))\n",
    "    \n",
    "def recallverify1(_):\n",
    "    global command1\n",
    "    if path.exists(\"./exercise_2/data/log/lastans/ansquery1.txt\"):   \n",
    "        command1=2\n",
    "    else:\n",
    "        command1=0\n",
    "    display(Javascript('IPython.notebook.execute_cells([9])'))\n",
    "    \n",
    "        \n",
    "items[0].on_click(reset1)\n",
    "items[1].on_click(save1)\n",
    "items[2].on_click(recall1)\n",
    "items[3].on_click(verify1)\n",
    "items[4].on_click(recallverify1)\n",
    "\n",
    "HBox([left_box,cl_box,cc_box,cr_box,right_box])\n"
   ]
  },
  {
   "cell_type": "code",
   "execution_count": 278,
   "metadata": {
    "hide_input": false,
    "pycharm": {
     "name": "#%%\n"
    },
    "scrolled": true
   },
   "outputs": [
    {
     "data": {
      "text/markdown": [
       "- Una sequenza è detta una N-sequenza, o sequenza crescente con un possibile ripensamento, se esiste un indice i tale cha ciascuno degli elementi della sequenza esclusi al più il primo e l’i-esimo sono strettamente maggiori dell’elemento che immediatamente li precede nella sequenza. \\\n",
       "Trovare la più lunga N-sequenza che sia una sottosequenza della sequenza data. \\\n",
       "Specificare quanto è lunga e fornirla."
      ],
      "text/plain": [
       "<IPython.core.display.Markdown object>"
      ]
     },
     "execution_count": 278,
     "metadata": {},
     "output_type": "execute_result"
    }
   ],
   "source": [
    "global command2\n",
    "command2 = 0\n",
    "txt = open(yaml_text[2], 'r',encoding='utf-8')\n",
    "content = txt.read()\n",
    "Markdown(content)"
   ]
  },
  {
   "cell_type": "code",
   "execution_count": 279,
   "metadata": {
    "hide_input": true,
    "scrolled": true
   },
   "outputs": [
    {
     "name": "stdout",
     "output_type": "stream",
     "text": [
      "Lunghezza della sottosequenza crescente più lunga:\n"
     ]
    },
    {
     "data": {
      "application/vnd.jupyter.widget-view+json": {
       "model_id": "3429571a51084e50a6320b5bbac59dea",
       "version_major": 2,
       "version_minor": 0
      },
      "text/plain": [
       "IntText(value=1)"
      ]
     },
     "metadata": {},
     "output_type": "display_data"
    }
   ],
   "source": [
    "print(\"Lunghezza della sottosequenza crescente più lunga:\")\n",
    "global nseqlen\n",
    "if command2==0:\n",
    "    nseqlen=widgets.IntText(\n",
    "        value=1,\n",
    "        disabled=False\n",
    "    )\n",
    "display(nseqlen)\n",
    "\n",
    "#14"
   ]
  },
  {
   "cell_type": "code",
   "execution_count": 280,
   "metadata": {
    "hide_input": true,
    "scrolled": false
   },
   "outputs": [
    {
     "data": {
      "application/vnd.jupyter.widget-view+json": {
       "model_id": "f7d072f07c954eedb24ed23e3f198267",
       "version_major": 2,
       "version_minor": 0
      },
      "text/plain": [
       "HBox(children=(Sheet(cells=(Cell(column_end=0, column_start=0, row_end=0, row_start=0, type='text', value='0')…"
      ]
     },
     "metadata": {},
     "output_type": "display_data"
    }
   ],
   "source": [
    "global nseqlen\n",
    "if command2 == 0:\n",
    "    lunghezza2=int(nseqlen.value)\n",
    "    sheet3=ipysheet.sheet(rows=1,columns=lunghezza2,column_headers=False, row_headers=False, column_width=30)\n",
    "    for i in range(0,lunghezza2):\n",
    "        ipysheet.cell(0,i,\"0\")\n",
    "        \n",
    "if command2 == 1:\n",
    "    f = open(\"./exercise_2/data/log/lastcheckpoint/query2.txt\", \"r\")\n",
    "    line = f.readline()\n",
    "    num=[int(s) for s in re.findall(r'\\b\\d+\\b', line)]\n",
    "    lunghezza2=len(num)\n",
    "    sheet3=ipysheet.sheet(rows=1,columns=lunghezza2,column_headers=False, row_headers=False, column_width=30)\n",
    "    for i in range(0,lunghezza2):\n",
    "        ipysheet.cell(0,i,str(num[i]))\n",
    "    #global nseqlen\n",
    "    nseqlen=widgets.IntText(\n",
    "        value=lunghezza2,\n",
    "        disabled=False\n",
    "    )\n",
    "    display(Javascript('IPython.notebook.execute_cells([12])'))\n",
    "\n",
    "\n",
    "if command2 == 2:\n",
    "    f = open(\"./exercise_2/data/log/lastans/ansquery2.txt\", \"r\")\n",
    "    line = f.readline()\n",
    "    num=[int(s) for s in re.findall(r'\\b\\d+\\b', line)]\n",
    "    lunghezza2=len(num)\n",
    "    sheet3=ipysheet.sheet(rows=1,columns=lunghezza2,column_headers=False, row_headers=False, column_width=30)\n",
    "    for i in range(0,lunghezza2):\n",
    "        ipysheet.cell(0,i,str(num[i]))\n",
    "    #global nseqlen\n",
    "    nseqlen=widgets.IntText(\n",
    "        value=lunghezza2,\n",
    "        disabled=False\n",
    "    )\n",
    "    display(Javascript('IPython.notebook.execute_cells([12])'))\n",
    "\n",
    "HBox([sheet3], layout={'max_width' : '1000px', 'overflow_y' : 'auto'})\n",
    "#sheet3\n",
    "#34, 42, 44, 49, 52, 63, 69, 79, 81, 43, 46, 61, 64, 73"
   ]
  },
  {
   "cell_type": "code",
   "execution_count": 281,
   "metadata": {
    "hide_input": false,
    "scrolled": true
   },
   "outputs": [
    {
     "data": {
      "application/vnd.jupyter.widget-view+json": {
       "model_id": "27985d2e1cf747ea9e5359f3f760e0b4",
       "version_major": 2,
       "version_minor": 0
      },
      "text/plain": [
       "HBox(children=(VBox(children=(Button(description='Start from scratch', style=ButtonStyle()),)), VBox(children=…"
      ]
     },
     "metadata": {},
     "output_type": "display_data"
    }
   ],
   "source": [
    "words = ['Start from scratch', 'Make checkpoint', 'Recall last checkpoint', 'Get feedback', 'Recall last certificate']\n",
    "items = [Button(description=w) for w in words]\n",
    "left_box = VBox([items[0]])\n",
    "cl_box = VBox([items[1]])\n",
    "cc_box = VBox([items[2]])\n",
    "cr_box = VBox([items[3]])\n",
    "right_box = VBox([items[4]])\n",
    "\n",
    "def reset2(_):\n",
    "    global command2\n",
    "    command2=0\n",
    "    display(Javascript('IPython.notebook.execute_cells([13])'))\n",
    "    \n",
    "def save2(_):\n",
    "    DIR = \"./exercise_2/data/log/checkpoint\"\n",
    "    prog=len([name for name in os.listdir(DIR) if os.path.isfile(os.path.join(DIR, name))])+1\n",
    "    timestamp = datetime.timestamp(datetime.now())\n",
    "    f = open(\"./exercise_2/data/log/checkpoint/query2_\"+str(prog)+\"_\"+str(timestamp)+\".txt\", \"w\")\n",
    "    f.write(str(list(map(int,ipysheet.to_array(sheet3)[0]))))\n",
    "    f.close()\n",
    "    f = open(\"./exercise_2/data/log/lastcheckpoint/query2.txt\", \"w\")\n",
    "    f.write(str(list(map(int,ipysheet.to_array(sheet3)[0]))))\n",
    "    f.close()\n",
    "    print(\"Tabella salvata\")\n",
    "    time.sleep(3)\n",
    "    display(Javascript('IPython.notebook.execute_cells([14])'))\n",
    "    \n",
    "def recall2(_):\n",
    "    global command2\n",
    "    if path.exists(\"./exercise_2/data/log/lastcheckpoint/query2.txt\"):   \n",
    "        command2=1\n",
    "    else:\n",
    "        command2=0\n",
    "    display(Javascript('IPython.notebook.execute_cells([13])'))\n",
    "\n",
    "\n",
    "def verify2(_):\n",
    "    DIR = \"./exercise_2/data/log/ans\"\n",
    "    prog=len([name for name in os.listdir(DIR) if os.path.isfile(os.path.join(DIR, name))])+1\n",
    "    timestamp = datetime.timestamp(datetime.now())\n",
    "    f = open(\"./exercise_2/data/log/ans/ansquery2_\"+str(prog)+\"_\"+str(timestamp)+\".txt\", \"w\")\n",
    "    f.write(str(list(map(int,ipysheet.to_array(sheet3)[0]))))\n",
    "    f.close()\n",
    "    f = open(\"./exercise_2/data/log/lastans/ansquery2.txt\", \"w\")\n",
    "    f.write(str(list(map(int,ipysheet.to_array(sheet3)[0]))))\n",
    "    f.close()\n",
    "    nSequenza(values[0], list(ipysheet.to_array(sheet3)[0]), lunghezza2)\n",
    "    time.sleep(5)\n",
    "    display(Javascript('IPython.notebook.execute_cells([14])'))\n",
    "    \n",
    "def recallverify2(_):\n",
    "    global command2\n",
    "    if path.exists(\"./exercise_2/data/log/lastans/ansquery2.txt\"):   \n",
    "        command2=2\n",
    "    else:\n",
    "        command2=0\n",
    "    display(Javascript('IPython.notebook.execute_cells([13])'))\n",
    "    \n",
    "\n",
    "    \n",
    "        \n",
    "items[0].on_click(reset2)\n",
    "items[1].on_click(save2)\n",
    "items[2].on_click(recall2)\n",
    "items[3].on_click(verify2)\n",
    "items[4].on_click(recallverify2)\n",
    "\n",
    "HBox([left_box,cl_box,cc_box,cr_box,right_box])\n"
   ]
  },
  {
   "cell_type": "code",
   "execution_count": 282,
   "metadata": {
    "hide_input": true,
    "pycharm": {
     "name": "#%%\n"
    },
    "scrolled": true
   },
   "outputs": [
    {
     "data": {
      "text/markdown": [
       "- Trovare la più lunga sottosequenza crescente che includa l’elemento di valore 40.\\\n",
       "Specificare quanto è lunga e fornirla."
      ],
      "text/plain": [
       "<IPython.core.display.Markdown object>"
      ]
     },
     "execution_count": 282,
     "metadata": {},
     "output_type": "execute_result"
    }
   ],
   "source": [
    "global command3\n",
    "command3 = 0\n",
    "txt = open(yaml_text[3], 'r',encoding='utf-8')\n",
    "content = txt.read()\n",
    "Markdown(content)"
   ]
  },
  {
   "cell_type": "code",
   "execution_count": 283,
   "metadata": {
    "hide_input": true,
    "scrolled": true
   },
   "outputs": [
    {
     "name": "stdout",
     "output_type": "stream",
     "text": [
      "Lunghezza della sottosequenza crescente più lunga:\n"
     ]
    },
    {
     "data": {
      "application/vnd.jupyter.widget-view+json": {
       "model_id": "439330d2cdbd4de8b8ef020d2f87bb6d",
       "version_major": 2,
       "version_minor": 0
      },
      "text/plain": [
       "IntText(value=1)"
      ]
     },
     "metadata": {},
     "output_type": "display_data"
    }
   ],
   "source": [
    "print(\"Lunghezza della sottosequenza crescente più lunga:\")\n",
    "global maxsubseq2\n",
    "if command3 == 0:\n",
    "    maxsubseq2=widgets.IntText(\n",
    "        value=1,\n",
    "        disabled=False\n",
    "    )\n",
    "display(maxsubseq2)\n",
    "#7"
   ]
  },
  {
   "cell_type": "code",
   "execution_count": 284,
   "metadata": {
    "hide_input": true,
    "scrolled": false
   },
   "outputs": [
    {
     "data": {
      "application/vnd.jupyter.widget-view+json": {
       "model_id": "2235db300cc145cba935cbaa0c061f47",
       "version_major": 2,
       "version_minor": 0
      },
      "text/plain": [
       "HBox(children=(Sheet(cells=(Cell(column_end=0, column_start=0, row_end=0, row_start=0, type='text', value='0')…"
      ]
     },
     "metadata": {},
     "output_type": "display_data"
    }
   ],
   "source": [
    "global maxsubseq2\n",
    "if command3 == 0:\n",
    "    lunghezza3=int(maxsubseq2.value)\n",
    "    sheet4=ipysheet.sheet(rows=1,columns=lunghezza3,column_headers=False, row_headers=False, column_width=30)\n",
    "    for i in range(0,lunghezza3):\n",
    "        ipysheet.cell(0,i,\"0\")\n",
    "        \n",
    "if command3==1:\n",
    "    f = open(\"./exercise_2/data/log/lastcheckpoint/query3.txt\", \"r\")\n",
    "    line = f.readline()\n",
    "    num=[int(s) for s in re.findall(r'\\b\\d+\\b', line)]\n",
    "    lunghezza3=len(num)\n",
    "    sheet4=ipysheet.sheet(rows=1,columns=lunghezza3,column_headers=False, row_headers=False, column_width=30)\n",
    "    for i in range(0,lunghezza3):\n",
    "        ipysheet.cell(0,i,str(num[i]))\n",
    "    #global maxsubseq2\n",
    "    maxsubseq2=widgets.IntText(\n",
    "        value=lunghezza3,\n",
    "        disabled=False\n",
    "    )\n",
    "    display(Javascript('IPython.notebook.execute_cells([16])'))\n",
    "    \n",
    "if command3==2:\n",
    "    f = open(\"./exercise_2/data/log/lastans/ansquery3.txt\", \"r\")\n",
    "    line = f.readline()\n",
    "    num=[int(s) for s in re.findall(r'\\b\\d+\\b', line)]\n",
    "    lunghezza3=len(num)\n",
    "    sheet4=ipysheet.sheet(rows=1,columns=lunghezza3,column_headers=False, row_headers=False, column_width=30)\n",
    "    for i in range(0,lunghezza3):\n",
    "        ipysheet.cell(0,i,str(num[i]))\n",
    "    #global maxsubseq2\n",
    "    maxsubseq2=widgets.IntText(\n",
    "        value=lunghezza3,\n",
    "        disabled=False\n",
    "    )\n",
    "    display(Javascript('IPython.notebook.execute_cells([16])'))\n",
    "\n",
    "HBox([sheet4], layout={'max_width' : '1000px', 'overflow_y' : 'auto'})    \n",
    "#sheet4\n",
    "\n",
    "#34, 40, 45, 54, 61, 64, 73"
   ]
  },
  {
   "cell_type": "code",
   "execution_count": 285,
   "metadata": {
    "hide_input": false,
    "scrolled": true
   },
   "outputs": [
    {
     "data": {
      "application/vnd.jupyter.widget-view+json": {
       "model_id": "d5fb20f764694708a695d27ceca2f2b5",
       "version_major": 2,
       "version_minor": 0
      },
      "text/plain": [
       "HBox(children=(VBox(children=(Button(description='Start from scratch', style=ButtonStyle()),)), VBox(children=…"
      ]
     },
     "metadata": {},
     "output_type": "display_data"
    }
   ],
   "source": [
    "words = ['Start from scratch', 'Make checkpoint', 'Recall last checkpoint', 'Get feedback', 'Recall last certificate']\n",
    "items = [Button(description=w) for w in words]\n",
    "left_box = VBox([items[0]])\n",
    "cl_box = VBox([items[1]])\n",
    "cc_box = VBox([items[2]])\n",
    "cr_box = VBox([items[3]])\n",
    "right_box = VBox([items[4]])\n",
    "\n",
    "def reset3(_):\n",
    "    global command3\n",
    "    command3=0\n",
    "    display(Javascript('IPython.notebook.execute_cells([17])'))\n",
    "    \n",
    "def save3(_):\n",
    "    DIR = \"./exercise_2/data/log/checkpoint\"\n",
    "    prog=len([name for name in os.listdir(DIR) if os.path.isfile(os.path.join(DIR, name))])+1\n",
    "    timestamp = datetime.timestamp(datetime.now())\n",
    "    f = open(\"./exercise_2/data/log/checkpoint/query3_\"+str(prog)+\"_\"+str(timestamp)+\".txt\", \"w\")\n",
    "    f.write(str(list(map(int,ipysheet.to_array(sheet4)[0]))))\n",
    "    f.close()\n",
    "    f = open(\"./exercise_2/data/log/lastcheckpoint/query3.txt\", \"w\")\n",
    "    f.write(str(list(map(int,ipysheet.to_array(sheet4)[0]))))\n",
    "    f.close()\n",
    "    print(\"Tabella salvata\")\n",
    "    time.sleep(3)\n",
    "    display(Javascript('IPython.notebook.execute_cells([18])'))\n",
    "\n",
    "def recall3(_):\n",
    "    global command3\n",
    "    if path.exists(\"./exercise_2/data/log/lastcheckpoint/query3.txt\"):   \n",
    "        command3=1\n",
    "    else:\n",
    "        command3=0\n",
    "    display(Javascript('IPython.notebook.execute_cells([17])'))\n",
    "\n",
    "def verify3(_):\n",
    "    DIR = \"./exercise_2/data/log/ans\"\n",
    "    prog=len([name for name in os.listdir(DIR) if os.path.isfile(os.path.join(DIR, name))])+1\n",
    "    timestamp = datetime.timestamp(datetime.now())\n",
    "    f = open(\"./exercise_2/data/log/ans/ansquery3_\"+str(prog)+\"_\"+str(timestamp)+\".txt\", \"w\")\n",
    "    f.write(str(list(map(int,ipysheet.to_array(sheet4)[0]))))\n",
    "    f.close()\n",
    "    f = open(\"./exercise_2/data/log/lastans/ansquery3.txt\", \"w\")\n",
    "    f.write(str(list(map(int,ipysheet.to_array(sheet4)[0]))))\n",
    "    f.close()\n",
    "    lisWithNumber(values[0], list(ipysheet.to_array(sheet4)[0]), lunghezza3, 40)\n",
    "    time.sleep(5)\n",
    "    display(Javascript('IPython.notebook.execute_cells([18])'))\n",
    "    \n",
    "def recallverify3(_):\n",
    "    global command3\n",
    "    if path.exists(\"./exercise_2/data/log/lastans/ansquery3.txt\"):   \n",
    "        command3=2\n",
    "    else:\n",
    "        command3=0\n",
    "    display(Javascript('IPython.notebook.execute_cells([17])'))\n",
    "    \n",
    "        \n",
    "items[0].on_click(reset3)\n",
    "items[1].on_click(save3)\n",
    "items[2].on_click(recall3)\n",
    "items[3].on_click(verify3)\n",
    "items[4].on_click(recallverify3)\n",
    "\n",
    "HBox([left_box,cl_box,cc_box,cr_box,right_box])"
   ]
  },
  {
   "cell_type": "code",
   "execution_count": 286,
   "metadata": {
    "hide_input": true,
    "pycharm": {
     "name": "#%%\n"
    },
    "scrolled": true
   },
   "outputs": [
    {
     "data": {
      "text/markdown": [
       "- Trovare una sottosequenza crescente che sia la più lunga possibile ma eviti di utilizzare i primi 4 elementi. \\\n",
       "Specificare quanto è lunga e fornirla.\n"
      ],
      "text/plain": [
       "<IPython.core.display.Markdown object>"
      ]
     },
     "execution_count": 286,
     "metadata": {},
     "output_type": "execute_result"
    }
   ],
   "source": [
    "global command4\n",
    "command4 = 0\n",
    "txt = open(yaml_text[4], 'r',encoding='utf-8')\n",
    "content = txt.read()\n",
    "Markdown(content)"
   ]
  },
  {
   "cell_type": "code",
   "execution_count": 287,
   "metadata": {
    "hide_input": true,
    "scrolled": true
   },
   "outputs": [
    {
     "name": "stdout",
     "output_type": "stream",
     "text": [
      "Lunghezza della sottosequenza crescente più lunga evitando i primi 4 elementi:\n"
     ]
    },
    {
     "data": {
      "application/vnd.jupyter.widget-view+json": {
       "model_id": "241de54db182464f99941d9468bf5d58",
       "version_major": 2,
       "version_minor": 0
      },
      "text/plain": [
       "IntText(value=1)"
      ]
     },
     "metadata": {},
     "output_type": "display_data"
    }
   ],
   "source": [
    "print(\"Lunghezza della sottosequenza crescente più lunga evitando i primi 4 elementi:\")\n",
    "global maxsubseq3\n",
    "if command4 == 0:\n",
    "    maxsubseq3=widgets.IntText(\n",
    "        value=1,\n",
    "        disabled=False\n",
    "    )\n",
    "display(maxsubseq3)\n",
    "#6"
   ]
  },
  {
   "cell_type": "code",
   "execution_count": 288,
   "metadata": {
    "hide_input": false,
    "scrolled": false
   },
   "outputs": [
    {
     "data": {
      "application/vnd.jupyter.widget-view+json": {
       "model_id": "68b28aa346a344e3b398b63a40df04a6",
       "version_major": 2,
       "version_minor": 0
      },
      "text/plain": [
       "HBox(children=(Sheet(cells=(Cell(column_end=0, column_start=0, row_end=0, row_start=0, type='text', value='0')…"
      ]
     },
     "metadata": {},
     "output_type": "display_data"
    }
   ],
   "source": [
    "global maxsubseq3\n",
    "if command4 == 0:\n",
    "    lunghezza4=int(maxsubseq3.value)\n",
    "    sheet5=ipysheet.sheet(rows=1,columns=lunghezza4,column_headers=False, row_headers=False, column_width=30)\n",
    "    for i in range(0,lunghezza4):\n",
    "        ipysheet.cell(0,i,\"0\")\n",
    "        \n",
    "if command4 == 1:\n",
    "    f = open(\"./exercise_2/data/log/lastcheckpoint/query4.txt\", \"r\")\n",
    "    line = f.readline()\n",
    "    num=[int(s) for s in re.findall(r'\\b\\d+\\b', line)]\n",
    "    lunghezza4=len(num)\n",
    "    sheet5=ipysheet.sheet(rows=1,columns=lunghezza4,column_headers=False, row_headers=False, column_width=30)\n",
    "    for i in range(0,lunghezza4):\n",
    "        ipysheet.cell(0,i,str(num[i]))\n",
    "    #global maxsubseq3\n",
    "    maxsubseq3=widgets.IntText(\n",
    "        value=lunghezza4,\n",
    "        disabled=False\n",
    "    )\n",
    "    display(Javascript('IPython.notebook.execute_cells([20])'))\n",
    "    \n",
    "if command4 == 2:\n",
    "    f = open(\"./exercise_2/data/log/lastans/ansquery4.txt\", \"r\")\n",
    "    line = f.readline()\n",
    "    num=[int(s) for s in re.findall(r'\\b\\d+\\b', line)]\n",
    "    lunghezza4=len(num)\n",
    "    sheet5=ipysheet.sheet(rows=1,columns=lunghezza4,column_headers=False, row_headers=False, column_width=30)\n",
    "    for i in range(0,lunghezza4):\n",
    "        ipysheet.cell(0,i,str(num[i]))\n",
    "    #global maxsubseq3\n",
    "    maxsubseq3=widgets.IntText(\n",
    "        value=lunghezza4,\n",
    "        disabled=False\n",
    "    )\n",
    "    display(Javascript('IPython.notebook.execute_cells([20])'))\n",
    "\n",
    "HBox([sheet5], layout={'max_width' : '1000px', 'overflow_y' : 'auto'})    \n",
    "#sheet5\n",
    "\n",
    "#41, 52, 63, 69, 79, 81"
   ]
  },
  {
   "cell_type": "code",
   "execution_count": 289,
   "metadata": {
    "hide_input": false,
    "pycharm": {
     "name": "#%%\n"
    },
    "scrolled": false
   },
   "outputs": [
    {
     "data": {
      "application/vnd.jupyter.widget-view+json": {
       "model_id": "a938224b6b6748f585c22def485f5e0a",
       "version_major": 2,
       "version_minor": 0
      },
      "text/plain": [
       "HBox(children=(VBox(children=(Button(description='Start from scratch', style=ButtonStyle()),)), VBox(children=…"
      ]
     },
     "metadata": {},
     "output_type": "display_data"
    }
   ],
   "source": [
    "words = ['Start from scratch', 'Make checkpoint', 'Recall last checkpoint', 'Get feedback', 'Recall last certificate']\n",
    "items = [Button(description=w) for w in words]\n",
    "left_box = VBox([items[0]])\n",
    "cl_box = VBox([items[1]])\n",
    "cc_box = VBox([items[2]])\n",
    "cr_box = VBox([items[3]])\n",
    "right_box = VBox([items[4]])\n",
    "\n",
    "def reset4(_):\n",
    "    global command4\n",
    "    command4=0\n",
    "    display(Javascript('IPython.notebook.execute_cells([21])'))\n",
    "\n",
    "def save4(_):\n",
    "    DIR = \"./exercise_2/data/log/checkpoint\"\n",
    "    prog=len([name for name in os.listdir(DIR) if os.path.isfile(os.path.join(DIR, name))])+1\n",
    "    timestamp = datetime.timestamp(datetime.now())\n",
    "    f = open(\"./exercise_2/data/log/checkpoint/query4_\"+str(prog)+\"_\"+str(timestamp)+\".txt\", \"w\")\n",
    "    f.write(str(list(map(int,ipysheet.to_array(sheet5)[0]))))\n",
    "    f.close()\n",
    "    f = open(\"./exercise_2/data/log/lastcheckpoint/query4.txt\", \"w\")\n",
    "    f.write(str(list(map(int,ipysheet.to_array(sheet5)[0]))))\n",
    "    f.close()\n",
    "    print(\"Tabella salvata\")\n",
    "    time.sleep(3)\n",
    "    display(Javascript('IPython.notebook.execute_cells([22])'))\n",
    "\n",
    "def recall4(_):\n",
    "    global command4\n",
    "    if path.exists(\"./exercise_2/data/log/lastcheckpoint/query4.txt\"):   \n",
    "        command4=1\n",
    "    else:\n",
    "        command4=0\n",
    "    display(Javascript('IPython.notebook.execute_cells([21])'))\n",
    "\n",
    "def verify4(_):\n",
    "    DIR = \"./exercise_2/data/log/ans\"\n",
    "    prog=len([name for name in os.listdir(DIR) if os.path.isfile(os.path.join(DIR, name))])+1\n",
    "    timestamp = datetime.timestamp(datetime.now())\n",
    "    f = open(\"./exercise_2/data/log/ans/ansquery4_\"+str(prog)+\"_\"+str(timestamp)+\".txt\", \"w\")\n",
    "    f.write(str(list(map(int,ipysheet.to_array(sheet5)[0]))))\n",
    "    f.close()\n",
    "    f = open(\"./exercise_2/data/log/lastans/ansquery4.txt\", \"w\")\n",
    "    f.write(str(list(map(int,ipysheet.to_array(sheet5)[0]))))\n",
    "    f.close()\n",
    "    lisSubwithoutElementInRange(values[0], list(ipysheet.to_array(sheet5)[0]), lunghezza4, 0, 3)\n",
    "    time.sleep(5)\n",
    "    display(Javascript('IPython.notebook.execute_cells([22])'))\n",
    "    \n",
    "def recallverify4(_):\n",
    "    global command4\n",
    "    if path.exists(\"./exercise_2/data/log/lastans/ansquery4.txt\"):   \n",
    "        command4=2\n",
    "    else:\n",
    "        command4=0\n",
    "    display(Javascript('IPython.notebook.execute_cells([21])'))\n",
    "    \n",
    "        \n",
    "items[0].on_click(reset4)\n",
    "items[1].on_click(save4)\n",
    "items[2].on_click(recall4)\n",
    "items[3].on_click(verify4)\n",
    "items[4].on_click(recallverify4)\n",
    "\n",
    "HBox([left_box,cl_box,cc_box,cr_box,right_box])"
   ]
  },
  {
   "cell_type": "code",
   "execution_count": 290,
   "metadata": {
    "hide_input": true,
    "pycharm": {
     "name": "#%%\n"
    },
    "scrolled": false
   },
   "outputs": [
    {
     "data": {
      "text/markdown": [
       "- Trovare una sottosequenza crescente che sia la più lunga possibile ma eviti di utilizzare gli elementi dal 13-esimo a 16-esimo.\\\n",
       "Specificare quanto è lunga e fornirla."
      ],
      "text/plain": [
       "<IPython.core.display.Markdown object>"
      ]
     },
     "execution_count": 290,
     "metadata": {},
     "output_type": "execute_result"
    }
   ],
   "source": [
    "global command5\n",
    "command5 = 0\n",
    "txt = open(yaml_text[5], 'r',encoding='utf-8')\n",
    "content = txt.read()\n",
    "Markdown(content)"
   ]
  },
  {
   "cell_type": "code",
   "execution_count": 291,
   "metadata": {
    "hide_input": true
   },
   "outputs": [
    {
     "name": "stdout",
     "output_type": "stream",
     "text": [
      "Lunghezza della sottosequenza crescente più lunga evitando gli elementi dal 13-esimo a 16-esimo:\n"
     ]
    },
    {
     "data": {
      "application/vnd.jupyter.widget-view+json": {
       "model_id": "30bf287197e44e7395cdce69f65c51d1",
       "version_major": 2,
       "version_minor": 0
      },
      "text/plain": [
       "IntText(value=1)"
      ]
     },
     "metadata": {},
     "output_type": "display_data"
    }
   ],
   "source": [
    "print(\"Lunghezza della sottosequenza crescente più lunga evitando gli elementi dal 13-esimo a 16-esimo:\")\n",
    "global maxsubseq4\n",
    "if command5 == 0:\n",
    "    maxsubseq4=widgets.IntText(\n",
    "        value=1,\n",
    "        disabled=False\n",
    "    )\n",
    "display(maxsubseq4)\n",
    "#9"
   ]
  },
  {
   "cell_type": "code",
   "execution_count": 292,
   "metadata": {
    "hide_input": true,
    "scrolled": false
   },
   "outputs": [
    {
     "data": {
      "application/vnd.jupyter.widget-view+json": {
       "model_id": "7fe3976260d64b9bb8e79e84e5274219",
       "version_major": 2,
       "version_minor": 0
      },
      "text/plain": [
       "HBox(children=(Sheet(cells=(Cell(column_end=0, column_start=0, row_end=0, row_start=0, type='text', value='0')…"
      ]
     },
     "metadata": {},
     "output_type": "display_data"
    }
   ],
   "source": [
    "global maxsubseq4\n",
    "if command5 == 0:\n",
    "    lunghezza5=int(maxsubseq4.value)\n",
    "    sheet6=ipysheet.sheet(rows=1,columns=lunghezza5,column_headers=False, row_headers=False, column_width=30)\n",
    "    for i in range(0,lunghezza5):\n",
    "        ipysheet.cell(0,i,\"0\")\n",
    "\n",
    "if command5 == 1:\n",
    "    f = open(\"./exercise_2/data/log/lastcheckpoint/query5.txt\", \"r\")\n",
    "    line = f.readline()\n",
    "    num=[int(s) for s in re.findall(r'\\b\\d+\\b', line)]\n",
    "    lunghezza5=len(num)\n",
    "    sheet6=ipysheet.sheet(rows=1,columns=lunghezza5,column_headers=False, row_headers=False, column_width=30)\n",
    "    for i in range(0,lunghezza5):\n",
    "        ipysheet.cell(0,i,str(num[i]))\n",
    "    #global maxsubseq4\n",
    "    maxsubseq4=widgets.IntText(\n",
    "        value=lunghezza5,\n",
    "        disabled=False\n",
    "    )\n",
    "    display(Javascript('IPython.notebook.execute_cells([24])'))\n",
    "    \n",
    "if command5 == 2:\n",
    "    f = open(\"./exercise_2/data/log/lastans/ansquery5.txt\", \"r\")\n",
    "    line = f.readline()\n",
    "    num=[int(s) for s in re.findall(r'\\b\\d+\\b', line)]\n",
    "    lunghezza5=len(num)\n",
    "    sheet6=ipysheet.sheet(rows=1,columns=lunghezza5,column_headers=False, row_headers=False, column_width=30)\n",
    "    for i in range(0,lunghezza5):\n",
    "        ipysheet.cell(0,i,str(num[i]))\n",
    "    #global maxsubseq4\n",
    "    maxsubseq4=widgets.IntText(\n",
    "        value=lunghezza5,\n",
    "        disabled=False\n",
    "    )\n",
    "    display(Javascript('IPython.notebook.execute_cells([24])'))\n",
    "\n",
    "\n",
    "HBox([sheet6], layout={'max_width' : '1000px', 'overflow_y' : 'auto'})\n",
    "#sheet6\n",
    "\n",
    "#34, 42, 44, 49, 52, 60, 61, 64, 73"
   ]
  },
  {
   "cell_type": "code",
   "execution_count": 293,
   "metadata": {
    "hide_input": true,
    "pycharm": {
     "name": "#%%\n"
    },
    "scrolled": false
   },
   "outputs": [
    {
     "data": {
      "application/vnd.jupyter.widget-view+json": {
       "model_id": "f6a74ebb13b644eaabec61458d070d26",
       "version_major": 2,
       "version_minor": 0
      },
      "text/plain": [
       "HBox(children=(VBox(children=(Button(description='Start from scratch', style=ButtonStyle()),)), VBox(children=…"
      ]
     },
     "metadata": {},
     "output_type": "display_data"
    }
   ],
   "source": [
    "words = ['Start from scratch', 'Make checkpoint', 'Recall last checkpoint', 'Get feedback', 'Recall last certificate']\n",
    "items = [Button(description=w) for w in words]\n",
    "left_box = VBox([items[0]])\n",
    "cl_box = VBox([items[1]])\n",
    "cc_box = VBox([items[2]])\n",
    "cr_box = VBox([items[3]])\n",
    "right_box = VBox([items[4]])\n",
    "\n",
    "def reset5(_):\n",
    "    global command5\n",
    "    command5=0\n",
    "    display(Javascript('IPython.notebook.execute_cells([25])'))\n",
    "    \n",
    "def save5(_):\n",
    "    DIR = \"./exercise_2/data/log/checkpoint\"\n",
    "    prog=len([name for name in os.listdir(DIR) if os.path.isfile(os.path.join(DIR, name))])+1\n",
    "    timestamp = datetime.timestamp(datetime.now())\n",
    "    f = open(\"./exercise_2/data/log/checkpoint/query5_\"+str(prog)+\"_\"+str(timestamp)+\".txt\", \"w\")\n",
    "    f.write(str(list(map(int,ipysheet.to_array(sheet6)[0]))))\n",
    "    f.close()\n",
    "    f = open(\"./exercise_2/data/log/lastcheckpoint/query5.txt\", \"w\")\n",
    "    f.write(str(list(map(int,ipysheet.to_array(sheet6)[0]))))\n",
    "    f.close()\n",
    "    print(\"Tabella salvata\")\n",
    "    time.sleep(3)\n",
    "    display(Javascript('IPython.notebook.execute_cells([26])'))\n",
    "\n",
    "def recall5(_):\n",
    "    global command5\n",
    "    if path.exists(\"./exercise_2/data/log/lastcheckpoint/query5.txt\"):   \n",
    "        command5=1\n",
    "    else:\n",
    "        command5=0\n",
    "    display(Javascript('IPython.notebook.execute_cells([25])'))\n",
    "\n",
    "def verify5(_):\n",
    "    DIR = \"./exercise_2/data/log/ans\"\n",
    "    prog=len([name for name in os.listdir(DIR) if os.path.isfile(os.path.join(DIR, name))])+1\n",
    "    timestamp = datetime.timestamp(datetime.now())\n",
    "    f = open(\"./exercise_2/data/log/ans/ansquery5_\"+str(prog)+\"_\"+str(timestamp)+\".txt\", \"w\")\n",
    "    f.write(str(list(map(int,ipysheet.to_array(sheet6)[0]))))\n",
    "    f.close()\n",
    "    f = open(\"./exercise_2/data/log/lastans/ansquery5.txt\", \"w\")\n",
    "    f.write(str(list(map(int,ipysheet.to_array(sheet6)[0]))))\n",
    "    f.close()\n",
    "    lisSubwithoutElementInRange(values[0], list(ipysheet.to_array(sheet6)[0]), lunghezza5, 12, 15)\n",
    "    time.sleep(5)\n",
    "    display(Javascript('IPython.notebook.execute_cells([26])'))\n",
    "    \n",
    "def recallverify5(_):\n",
    "    global command5\n",
    "    if path.exists(\"./exercise_2/data/log/lastans/ansquery5.txt\"):   \n",
    "        command5=2\n",
    "    else:\n",
    "        command5=0\n",
    "    display(Javascript('IPython.notebook.execute_cells([25])'))\n",
    "    \n",
    "        \n",
    "items[0].on_click(reset5)\n",
    "items[1].on_click(save5)\n",
    "items[2].on_click(recall5)\n",
    "items[3].on_click(verify5)\n",
    "items[4].on_click(recallverify5)\n",
    "\n",
    "HBox([left_box,cl_box,cc_box,cr_box,right_box])"
   ]
  },
  {
   "cell_type": "code",
   "execution_count": 294,
   "metadata": {
    "hide_input": true,
    "pycharm": {
     "name": "#%%\n"
    },
    "scrolled": true
   },
   "outputs": [
    {
     "data": {
      "text/markdown": [
       "- Fornire un minimo numero di sottosequenze decrescenti tali che ogni elemento della sequenza fornita ricada in almeno una di esse.\\\n",
       "Specificare quante sono e fornirle."
      ],
      "text/plain": [
       "<IPython.core.display.Markdown object>"
      ]
     },
     "execution_count": 294,
     "metadata": {},
     "output_type": "execute_result"
    }
   ],
   "source": [
    "global command6\n",
    "command6 = 0\n",
    "txt = open(yaml_text[6], 'r',encoding='utf-8')\n",
    "content = txt.read()\n",
    "Markdown(content)"
   ]
  },
  {
   "cell_type": "code",
   "execution_count": 295,
   "metadata": {
    "hide_input": true,
    "pycharm": {
     "name": "#%%\n"
    },
    "scrolled": true
   },
   "outputs": [
    {
     "name": "stdout",
     "output_type": "stream",
     "text": [
      "Inserisci il numero di sottosequenze:\n"
     ]
    },
    {
     "data": {
      "application/vnd.jupyter.widget-view+json": {
       "model_id": "2f8758d31dbe4dd8ad90fd8d5f31d2ab",
       "version_major": 2,
       "version_minor": 0
      },
      "text/plain": [
       "IntText(value=1)"
      ]
     },
     "metadata": {},
     "output_type": "display_data"
    }
   ],
   "source": [
    "print(\"Inserisci il numero di sottosequenze:\")\n",
    "global nsubseq\n",
    "if command6 == 0:\n",
    "    nsubseq=widgets.IntText(\n",
    "        value=1,\n",
    "        disabled=False\n",
    "    )\n",
    "display(nsubseq)\n",
    "#9\n"
   ]
  },
  {
   "cell_type": "code",
   "execution_count": 296,
   "metadata": {
    "hide_input": true,
    "pycharm": {
     "name": "#%%\n"
    }
   },
   "outputs": [
    {
     "name": "stdout",
     "output_type": "stream",
     "text": [
      "Inserisci la dimensione della sottosequenza più lunga:\n"
     ]
    },
    {
     "data": {
      "application/vnd.jupyter.widget-view+json": {
       "model_id": "ffa244e71b6549629ac874cb130646fe",
       "version_major": 2,
       "version_minor": 0
      },
      "text/plain": [
       "IntText(value=1)"
      ]
     },
     "metadata": {},
     "output_type": "display_data"
    }
   ],
   "source": [
    "print(\"Inserisci la dimensione della sottosequenza più lunga:\")\n",
    "global maxsubseq5\n",
    "if command6 == 0:\n",
    "    maxsubseq5=widgets.IntText(\n",
    "        value=1,\n",
    "        disabled=False\n",
    "    )\n",
    "display(maxsubseq5)\n",
    "\n",
    "#4 sol errata\n",
    "#5 sol corretta"
   ]
  },
  {
   "cell_type": "code",
   "execution_count": 297,
   "metadata": {
    "hide_input": false,
    "pycharm": {
     "name": "#%%\n"
    }
   },
   "outputs": [
    {
     "data": {
      "application/vnd.jupyter.widget-view+json": {
       "model_id": "21006a5263de460587b44768f3a475bf",
       "version_major": 2,
       "version_minor": 0
      },
      "text/plain": [
       "HBox(children=(Sheet(cells=(Cell(column_end=0, column_start=0, row_end=0, row_start=0, type='text', value='0')…"
      ]
     },
     "metadata": {},
     "output_type": "display_data"
    }
   ],
   "source": [
    "global nsubseq\n",
    "global maxsubseq5\n",
    "if command6 == 0:\n",
    "    r=int(nsubseq.value)\n",
    "    c=int(maxsubseq5.value)\n",
    "    sheet7=ipysheet.sheet(rows=r,columns=c,column_headers=False, row_headers=False, column_width=30)\n",
    "    for i in range(0,r):\n",
    "        for j in range(0,c):\n",
    "            ipysheet.cell(i,j,\"0\")\n",
    "\n",
    "if command6 == 1:\n",
    "    f = open(\"./exercise_2/data/log/lastcheckpoint/query6.txt\", \"r\")\n",
    "    lines = f.readlines()\n",
    "    num=[]\n",
    "    for line in lines:\n",
    "        num.append([int(s) for s in re.findall(r'\\b\\d+\\b', line)])\n",
    "    r=len(num)\n",
    "    c=len(num[0])\n",
    "    sheet7=ipysheet.sheet(rows=r,columns=c,column_headers=False, row_headers=False, column_width=30)\n",
    "    for i in range(0,r):\n",
    "        for j in range(0,c):\n",
    "            ipysheet.cell(i,j,str(num[i][j]))\n",
    "    #global maxsubseq5\n",
    "    maxsubseq5=widgets.IntText(\n",
    "        value=c,\n",
    "        disabled=False\n",
    "    )\n",
    "    #global nsubseq\n",
    "    nsubseq=widgets.IntText(\n",
    "        value=r,\n",
    "        disabled=False\n",
    "    )\n",
    "    display(Javascript('IPython.notebook.execute_cells([28,29])'))\n",
    "    \n",
    "if command6 == 2:\n",
    "    f = open(\"./exercise_2/data/log/lastans/ansquery6.txt\", \"r\")\n",
    "    lines = f.readlines()\n",
    "    num=[]\n",
    "    for line in lines:\n",
    "        num.append([int(s) for s in re.findall(r'\\b\\d+\\b', line)])\n",
    "    r=len(num)\n",
    "    c=len(num[0])\n",
    "    sheet7=ipysheet.sheet(rows=r,columns=c,column_headers=False, row_headers=False, column_width=30)\n",
    "    for i in range(0,r):\n",
    "        for j in range(0,c):\n",
    "            ipysheet.cell(i,j,str(num[i][j]))\n",
    "    #global maxsubseq5\n",
    "    maxsubseq5=widgets.IntText(\n",
    "        value=c,\n",
    "        disabled=False\n",
    "    )\n",
    "    #global nsubseq\n",
    "    nsubseq=widgets.IntText(\n",
    "        value=r,\n",
    "        disabled=False\n",
    "    )\n",
    "    display(Javascript('IPython.notebook.execute_cells([28,29])'))\n",
    "\n",
    "HBox([sheet7], layout={'max_width' : '1000px', 'overflow_y' : 'auto'})\n",
    "#sheet7\n",
    "\n",
    "#34 ; 42,41,40,38; 44,43; 49,45; 52,46; 63,60,54,48; 69,66,61; 86,79,64,47; 81,80,73\n"
   ]
  },
  {
   "cell_type": "code",
   "execution_count": 298,
   "metadata": {
    "hide_input": true,
    "pycharm": {
     "name": "#%%\n"
    }
   },
   "outputs": [
    {
     "data": {
      "application/vnd.jupyter.widget-view+json": {
       "model_id": "482d5313f153484a82d8be3f27805e5e",
       "version_major": 2,
       "version_minor": 0
      },
      "text/plain": [
       "HBox(children=(VBox(children=(Button(description='Start from scratch', style=ButtonStyle()),)), VBox(children=…"
      ]
     },
     "metadata": {},
     "output_type": "display_data"
    }
   ],
   "source": [
    "words = ['Start from scratch', 'Make checkpoint', 'Recall last checkpoint', 'Get feedback', 'Recall last certificate']\n",
    "items = [Button(description=w) for w in words]\n",
    "left_box = VBox([items[0]])\n",
    "cl_box = VBox([items[1]])\n",
    "cc_box = VBox([items[2]])\n",
    "cr_box = VBox([items[3]])\n",
    "right_box = VBox([items[4]])\n",
    "\n",
    "def reset6(_):\n",
    "    global command6\n",
    "    command6=0\n",
    "    display(Javascript('IPython.notebook.execute_cells([30])'))\n",
    "    \n",
    "def save6(_):\n",
    "    DIR = \"./exercise_2/data/log/checkpoint\"\n",
    "    prog=len([name for name in os.listdir(DIR) if os.path.isfile(os.path.join(DIR, name))])+1\n",
    "    timestamp = datetime.timestamp(datetime.now())\n",
    "    aux=ipysheet.to_array(sheet7)\n",
    "    f = open(\"./exercise_2/data/log/checkpoint/query6_\"+str(prog)+\"_\"+str(timestamp)+\".txt\", \"w\")\n",
    "    for elem in aux:\n",
    "        f.write(str(list(map(int,elem)))+\"\\n\")\n",
    "    f.close()\n",
    "    f = open(\"./exercise_2/data/log/lastcheckpoint/query6.txt\", \"w\")\n",
    "    for elem in aux:\n",
    "        f.write(str(list(map(int,elem)))+\"\\n\")\n",
    "    f.close()\n",
    "    print(\"Tabella salvata\")\n",
    "    time.sleep(3)\n",
    "    display(Javascript('IPython.notebook.execute_cells([31])'))\n",
    "    \n",
    "def recall6(_):\n",
    "    global command6\n",
    "    if path.exists(\"./exercise_2/data/log/lastcheckpoint/query6.txt\"):   \n",
    "        command6=1\n",
    "    else:\n",
    "        command6=0\n",
    "    display(Javascript('IPython.notebook.execute_cells([30])'))\n",
    "\n",
    "def verify6(_):\n",
    "    DIR = \"./exercise_2/data/log/ans\"\n",
    "    prog=len([name for name in os.listdir(DIR) if os.path.isfile(os.path.join(DIR, name))])+1\n",
    "    timestamp = datetime.timestamp(datetime.now())\n",
    "    aux=ipysheet.to_array(sheet7)\n",
    "    f = open(\"./exercise_2/data/log/ans/ansquery6_\"+str(prog)+\"_\"+str(timestamp)+\".txt\", \"w\")\n",
    "    for elem in aux:\n",
    "        f.write(str(list(map(int,elem)))+\"\\n\")\n",
    "    f.close()\n",
    "    f = open(\"./exercise_2/data/log/lastans/ansquery6.txt\", \"w\")\n",
    "    for elem in aux:\n",
    "        f.write(str(list(map(int,elem)))+\"\\n\")\n",
    "    f.close()\n",
    "    minimoNumSubDESC(values[0], list(ipysheet.to_array(sheet7)), r)\n",
    "    time.sleep(3)\n",
    "    display(Javascript('IPython.notebook.execute_cells([31])'))\n",
    "    \n",
    "def recallverify6(_):\n",
    "    global command6\n",
    "    if path.exists(\"./exercise_2/data/log/lastans/ansquery6.txt\"):   \n",
    "        command6=2\n",
    "    else:\n",
    "        command6=0\n",
    "    display(Javascript('IPython.notebook.execute_cells([30])'))\n",
    "    \n",
    "        \n",
    "items[0].on_click(reset6)\n",
    "items[1].on_click(save6)\n",
    "items[2].on_click(recall6)\n",
    "items[3].on_click(verify6)\n",
    "items[4].on_click(recallverify6)\n",
    "\n",
    "HBox([left_box,cl_box,cc_box,cr_box,right_box])"
   ]
  },
  {
   "cell_type": "code",
   "execution_count": 299,
   "metadata": {
    "hide_input": false
   },
   "outputs": [
    {
     "data": {
      "application/vnd.jupyter.widget-view+json": {
       "model_id": "364a5283bcd345bca826d75386f462bb",
       "version_major": 2,
       "version_minor": 0
      },
      "text/plain": [
       "VBox(children=(Button(description='Invia tutti i risultati', style=ButtonStyle()), Output()))"
      ]
     },
     "metadata": {},
     "output_type": "display_data"
    }
   ],
   "source": [
    "button6 = widgets.Button(description='Invia tutti i risultati')\n",
    "out = widgets.Output()\n",
    "def on_button_clicked6(_):\n",
    "      with out:\n",
    "        save_results(res_path)\n",
    "        clear_output()\n",
    "        print(\"Risultati inviati\")\n",
    "button6.on_click(on_button_clicked6)\n",
    "widgets.VBox([button6,out])"
   ]
  }
 ],
 "metadata": {
  "hide_input": true,
  "kernelspec": {
   "display_name": "Python 3",
   "language": "python",
   "name": "python3"
  },
  "language_info": {
   "codemirror_mode": {
    "name": "ipython",
    "version": 3
   },
   "file_extension": ".py",
   "mimetype": "text/x-python",
   "name": "python",
   "nbconvert_exporter": "python",
   "pygments_lexer": "ipython3",
   "version": "3.7.7"
  }
 },
 "nbformat": 4,
 "nbformat_minor": 4
}
