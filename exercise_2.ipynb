{
 "cells": [
  {
   "cell_type": "code",
   "execution_count": 4,
   "metadata": {
    "hide_input": false,
    "init_cell": true,
    "scrolled": false
   },
   "outputs": [],
   "source": [
    "from IPython.core.display import display, HTML, Markdown, display_html, clear_output, Javascript\n",
    "from ipywidgets import Button, HBox, VBox, widgets, Layout\n",
    "from string import Template\n",
    "import ipysheet\n",
    "import pandas as pd\n",
    "import json, random\n",
    "import yaml\n",
    "import math\n",
    "import time\n",
    "import re\n",
    "import os\n",
    "from os import path\n",
    "from datetime import datetime\n",
    "\n",
    "#verificatori\n",
    "from exercise_2.verifier.verifier import is_subseq\n",
    "from exercise_2.verifier.verifier import min_subs_of_type\n",
    "from exercise_2.verifier.verifier import is_subseq_of_type\n"
   ]
  },
  {
   "cell_type": "code",
   "execution_count": 5,
   "metadata": {
    "hide_input": false,
    "init_cell": true
   },
   "outputs": [
    {
     "data": {
      "application/vnd.jupyter.widget-view+json": {
       "model_id": "402af214ba604efe9611fa1c08ff9c21",
       "version_major": 2,
       "version_minor": 0
      },
      "text/plain": [
       "Button(description='Start exercise', style=ButtonStyle())"
      ]
     },
     "metadata": {},
     "output_type": "display_data"
    },
    {
     "data": {
      "application/vnd.jupyter.widget-view+json": {
       "model_id": "cc845302362f4f21958d941548f25b21",
       "version_major": 2,
       "version_minor": 0
      },
      "text/plain": [
       "Output()"
      ]
     },
     "metadata": {},
     "output_type": "display_data"
    }
   ],
   "source": [
    "button_run = widgets.Button(description=\"Start exercise\")\n",
    "output_run = widgets.Output()\n",
    "display(button_run, output_run)\n",
    "\n",
    "def on_run_clicked1(b):\n",
    "    with output_run:\n",
    "        display(Javascript('''\n",
    "        function sleep2(milliseconds) {\n",
    "          var start = new Date().getTime();\n",
    "          for (var i = 0; i < 1e7; i++) {\n",
    "            if ((new Date().getTime() - start) > milliseconds){\n",
    "              break;\n",
    "            }\n",
    "          }\n",
    "        }\n",
    "        var k = 3\n",
    "        //IPython.notebook.execute_cells([0])\n",
    "        try{\n",
    "            while(k < 50){\n",
    "                IPython.notebook.execute_cells([k])\n",
    "                k = k+1\n",
    "                sleep2(50)\n",
    "            }\n",
    "        }catch{}\n",
    "        '''))\n",
    "button_run.on_click(on_run_clicked1)"
   ]
  },
  {
   "cell_type": "code",
   "execution_count": 6,
   "metadata": {
    "hide_input": true,
    "init_cell": true
   },
   "outputs": [
    {
     "data": {
      "application/javascript": [
       "var kernel = IPython.notebook.kernel;\n",
       "var thename = window.document.getElementById(\"notebook_name\").innerHTML;\n",
       "var command = \"theNotebook = \" + \"'\"+thename+\"'\";\n",
       "kernel.execute(command);\n"
      ],
      "text/plain": [
       "<IPython.core.display.Javascript object>"
      ]
     },
     "metadata": {},
     "output_type": "display_data"
    }
   ],
   "source": [
    "%%javascript\n",
    "var kernel = IPython.notebook.kernel;\n",
    "var thename = window.document.getElementById(\"notebook_name\").innerHTML;\n",
    "var command = \"theNotebook = \" + \"'\"+thename+\"'\";\n",
    "kernel.execute(command);"
   ]
  },
  {
   "cell_type": "code",
   "execution_count": 37,
   "metadata": {
    "hide_input": true,
    "scrolled": true
   },
   "outputs": [
    {
     "data": {
      "text/markdown": [
       "# EXERCISE 2\n",
       "Si consideri la seguente sequenza di numeri naturali"
      ],
      "text/plain": [
       "<IPython.core.display.Markdown object>"
      ]
     },
     "execution_count": 37,
     "metadata": {},
     "output_type": "execute_result"
    }
   ],
   "source": [
    "str_list = theNotebook.split(\"_\")\n",
    "exercise = str_list[1]\n",
    "%run -i \"exercise_2/script/load_config.py\"\n",
    "txt = open(yaml_text[0], 'r',encoding='utf-8')\n",
    "content = txt.read()\n",
    "text_str = \"# \"+ str_list[0].upper() + \" \" + str_list[1] + \"\\n\" + content\n",
    "Markdown(text_str)"
   ]
  },
  {
   "cell_type": "code",
   "execution_count": 38,
   "metadata": {
    "hide_input": false,
    "scrolled": true
   },
   "outputs": [
    {
     "data": {
      "text/html": [
       "<table border=\"1\" class=\"dataframe\">\n",
       "  <thead>\n",
       "    <tr style=\"text-align: right;\">\n",
       "      <th>1</th>\n",
       "      <th>2</th>\n",
       "      <th>3</th>\n",
       "      <th>4</th>\n",
       "      <th>5</th>\n",
       "      <th>6</th>\n",
       "      <th>7</th>\n",
       "      <th>8</th>\n",
       "      <th>9</th>\n",
       "      <th>10</th>\n",
       "      <th>11</th>\n",
       "      <th>12</th>\n",
       "      <th>13</th>\n",
       "      <th>14</th>\n",
       "      <th>15</th>\n",
       "      <th>16</th>\n",
       "      <th>17</th>\n",
       "      <th>18</th>\n",
       "      <th>19</th>\n",
       "      <th>20</th>\n",
       "      <th>21</th>\n",
       "      <th>22</th>\n",
       "      <th>23</th>\n",
       "      <th>24</th>\n",
       "      <th>25</th>\n",
       "    </tr>\n",
       "  </thead>\n",
       "  <tbody>\n",
       "    <tr>\n",
       "      <td>34</td>\n",
       "      <td>42</td>\n",
       "      <td>44</td>\n",
       "      <td>49</td>\n",
       "      <td>41</td>\n",
       "      <td>52</td>\n",
       "      <td>63</td>\n",
       "      <td>69</td>\n",
       "      <td>40</td>\n",
       "      <td>60</td>\n",
       "      <td>86</td>\n",
       "      <td>45</td>\n",
       "      <td>66</td>\n",
       "      <td>54</td>\n",
       "      <td>79</td>\n",
       "      <td>81</td>\n",
       "      <td>43</td>\n",
       "      <td>46</td>\n",
       "      <td>38</td>\n",
       "      <td>61</td>\n",
       "      <td>80</td>\n",
       "      <td>48</td>\n",
       "      <td>64</td>\n",
       "      <td>73</td>\n",
       "      <td>47</td>\n",
       "    </tr>\n",
       "  </tbody>\n",
       "</table>"
      ]
     },
     "metadata": {},
     "output_type": "display_data"
    }
   ],
   "source": [
    "file = open(yaml_table_path, 'r',encoding='utf-8')\n",
    "    \n",
    "data = []\n",
    "\n",
    "for line in file.readlines():\n",
    "    data.append(line.split(' '))\n",
    "\n",
    "df = pd.DataFrame(data=data)\n",
    "df.columns = [i for  i in range(1, len(data[0])+1)]\n",
    "\n",
    "display_html(df.to_html(index=False), raw=True)\n",
    "\n",
    "global prog0\n",
    "global command0\n",
    "\n",
    "prog0=0\n",
    "command0=0"
   ]
  },
  {
   "cell_type": "code",
   "execution_count": 39,
   "metadata": {
    "hide_input": false
   },
   "outputs": [
    {
     "name": "stdout",
     "output_type": "stream",
     "text": [
      "Qui puoi compilare la tabella di supporto\n"
     ]
    },
    {
     "data": {
      "application/vnd.jupyter.widget-view+json": {
       "model_id": "ad7a035b0e8c4839a50e598d0bcc6ae5",
       "version_major": 2,
       "version_minor": 0
      },
      "text/plain": [
       "HBox(children=(Sheet(cells=(Cell(column_end=0, column_start=0, read_only=True, row_end=0, row_start=0, type='t…"
      ]
     },
     "metadata": {},
     "output_type": "display_data"
    }
   ],
   "source": [
    "print(\"Qui puoi compilare la tabella di supporto\")\n",
    "if command0 == 0:\n",
    "    sheet1=ipysheet.sheet(rows=5,columns=len(df.columns),column_headers=False, row_headers=False, column_width=30)\n",
    "    values=df.values.tolist()\n",
    "    for i in range(0,len(df.columns)):\n",
    "        ipysheet.cell(0,i,\"->\",read_only=True)\n",
    "        ipysheet.cell(1,i,\"0\")\n",
    "        ipysheet.cell(2,i,values[0][i],read_only=True)\n",
    "        ipysheet.cell(3,i,\"0\")\n",
    "        ipysheet.cell(4,i,\"<-\",read_only=True)\n",
    "if command0 == 1:\n",
    "    f = open(\"./exercise_2/data/log/lastcheckpoint/tablesupp.txt\", \"r\")\n",
    "    lines = f.readlines()\n",
    "    num=[]\n",
    "    for line in lines:\n",
    "        num.append([int(s) for s in re.findall(r'\\b\\d+\\b', line)])\n",
    "    sheet1=ipysheet.sheet(rows=5,columns=len(df.columns),column_headers=False, row_headers=False, column_width=25)\n",
    "    values=df.values.tolist()\n",
    "    for i in range(0,len(df.columns)):\n",
    "        ipysheet.cell(0,i,\"->\",read_only=True)\n",
    "        ipysheet.cell(1,i,str(num[0][i]))\n",
    "        ipysheet.cell(2,i,values[0][i],read_only=True)\n",
    "        ipysheet.cell(3,i,str(num[1][i]))\n",
    "        ipysheet.cell(4,i,\"<-\",read_only=True)\n",
    "HBox([sheet1], layout={'max_width' : '1000px', 'overflow_y' : 'auto'})\n",
    "#sheet1"
   ]
  },
  {
   "cell_type": "code",
   "execution_count": 40,
   "metadata": {
    "hide_input": true,
    "scrolled": false
   },
   "outputs": [
    {
     "data": {
      "application/vnd.jupyter.widget-view+json": {
       "model_id": "56634839e15141c399e8d22cd63926ea",
       "version_major": 2,
       "version_minor": 0
      },
      "text/plain": [
       "HBox(children=(VBox(children=(Button(description='Start from scratch', style=ButtonStyle()),)), VBox(children=…"
      ]
     },
     "metadata": {},
     "output_type": "display_data"
    }
   ],
   "source": [
    "words = ['Start from scratch', 'Make checkpoint', 'Recall last checkpoint']\n",
    "items = [Button(description=w) for w in words]\n",
    "left_box = VBox([items[0]])\n",
    "center_box = VBox([items[1]])\n",
    "right_box = VBox([items[2]])\n",
    "\n",
    "def reset0(_):\n",
    "    global command0\n",
    "    command0=0\n",
    "    display(Javascript('IPython.notebook.execute_cells([5])'))\n",
    "\n",
    "def save0(_):\n",
    "    DIR = \"./exercise_2/data/log/checkpoint\"\n",
    "    timestamp = datetime.timestamp(datetime.now())\n",
    "    prog=len([name for name in os.listdir(DIR) if os.path.isfile(os.path.join(DIR, name))])+1\n",
    "    f = open(\"./exercise_2/data/log/checkpoint/tablesupp_\"+str(prog)+\"_\"+str(timestamp)+\".txt\", \"w\")\n",
    "    f.write(str(list(map(int,ipysheet.to_array(sheet1)[1])))+\"\\n\")\n",
    "    f.write(str(list(map(int,ipysheet.to_array(sheet1)[3]))))\n",
    "    f.close()\n",
    "    f = open(\"./exercise_2/data/log/lastcheckpoint/tablesupp.txt\", \"w\")\n",
    "    f.write(str(list(map(int,ipysheet.to_array(sheet1)[1])))+\"\\n\")\n",
    "    f.write(str(list(map(int,ipysheet.to_array(sheet1)[3]))))\n",
    "    f.close()\n",
    "    print(\"Tabella salvata\")\n",
    "    time.sleep(3)\n",
    "    display(Javascript('IPython.notebook.execute_cells([6])'))\n",
    "\n",
    "def recall0(_):\n",
    "    global command0\n",
    "    if path.exists(\"./exercise_2/data/log/lastcheckpoint/tablesupp.txt\"):   \n",
    "        command0=1\n",
    "    else:\n",
    "        command0=0\n",
    "    display(Javascript('IPython.notebook.execute_cells([5])'))\n",
    "    \n",
    "        \n",
    "items[0].on_click(reset0)\n",
    "items[1].on_click(save0)\n",
    "items[2].on_click(recall0)\n",
    "\n",
    "HBox([left_box,center_box,right_box])\n"
   ]
  },
  {
   "cell_type": "code",
   "execution_count": 41,
   "metadata": {
    "hide_input": true,
    "pycharm": {
     "name": "#%%\n"
    }
   },
   "outputs": [
    {
     "data": {
      "text/markdown": [
       "- Trovare una sottosequenza non-decrescente che sia la più lunga possibile. \\\n",
       "Specificare quanto è lunga e fornirla.\n"
      ],
      "text/plain": [
       "<IPython.core.display.Markdown object>"
      ]
     },
     "execution_count": 41,
     "metadata": {},
     "output_type": "execute_result"
    }
   ],
   "source": [
    "global command1\n",
    "command1 = 0\n",
    "txt = open(yaml_text[1], 'r',encoding='utf-8')\n",
    "content = txt.read()\n",
    "Markdown(content)"
   ]
  },
  {
   "cell_type": "code",
   "execution_count": 67,
   "metadata": {
    "hide_input": true
   },
   "outputs": [
    {
     "name": "stdout",
     "output_type": "stream",
     "text": [
      "Imposta la lunghezza della sequenza che intendi immettere:\n"
     ]
    },
    {
     "data": {
      "application/vnd.jupyter.widget-view+json": {
       "model_id": "206347194d70463fa1c702e78b06e49b",
       "version_major": 2,
       "version_minor": 0
      },
      "text/plain": [
       "HBox(children=(BoundedIntText(value=1, layout=Layout(width='10%'), max=25, min=1), Button(description='Imposta…"
      ]
     },
     "metadata": {},
     "output_type": "display_data"
    }
   ],
   "source": [
    "print(\"Imposta la lunghezza della sequenza che intendi immettere:\")\n",
    "global maxsubseq\n",
    "if command1 == 0:\n",
    "    maxsubseq=widgets.BoundedIntText(\n",
    "        value=1,\n",
    "        min=1,\n",
    "        max=len(df.columns),\n",
    "        step=1,       \n",
    "        disabled=False,\n",
    "        layout=Layout(width='10%')\n",
    "    )\n",
    "\n",
    "button0 = widgets.Button(description='Imposta lunghezza selezionata',layout=Layout(width='30%'))\n",
    "\n",
    "def set1(_):\n",
    "    global command1\n",
    "    command1=3\n",
    "    display(Javascript('IPython.notebook.execute_cells([9])'))\n",
    "    \n",
    "button0.on_click(set1)\n",
    "\n",
    "HBox([maxsubseq,button0])\n",
    "#display(maxsubseq)\n",
    "\n",
    "\n",
    "\n",
    "#9"
   ]
  },
  {
   "cell_type": "code",
   "execution_count": 43,
   "metadata": {
    "hide_input": true,
    "scrolled": true
   },
   "outputs": [
    {
     "data": {
      "application/javascript": [
       "IPython.notebook.execute_cells([8])"
      ],
      "text/plain": [
       "<IPython.core.display.Javascript object>"
      ]
     },
     "metadata": {},
     "output_type": "display_data"
    },
    {
     "data": {
      "application/vnd.jupyter.widget-view+json": {
       "model_id": "f9a7ba3a740e4b6491cca2534060cb14",
       "version_major": 2,
       "version_minor": 0
      },
      "text/plain": [
       "HBox(children=(Sheet(cells=(Cell(column_end=0, column_start=0, row_end=0, row_start=0, type='text', value='0')…"
      ]
     },
     "metadata": {},
     "output_type": "display_data"
    }
   ],
   "source": [
    "global maxsubseq\n",
    "if command1 == 0:\n",
    "    lunghezza=1\n",
    "    sheet2=ipysheet.sheet(rows=1,columns=lunghezza,column_headers=False, row_headers=False, column_width=30)\n",
    "    for i in range(0,lunghezza):\n",
    "        ipysheet.cell(0,i,\"0\")\n",
    "    maxsubseq=widgets.BoundedIntText(\n",
    "        value=1,\n",
    "        min=1,\n",
    "        max=len(df.columns),\n",
    "        step=1,       \n",
    "        disabled=False,\n",
    "        layout=Layout(width='10%')\n",
    "    )\n",
    "    display(Javascript('IPython.notebook.execute_cells([8])'))\n",
    "\n",
    "if command1 == 1:\n",
    "    f = open(\"./exercise_2/data/log/lastcheckpoint/query1.txt\", \"r\")\n",
    "    line = f.readline()\n",
    "    num=[int(s) for s in re.findall(r'\\b\\d+\\b', line)]\n",
    "    lunghezza=len(num)\n",
    "    sheet2=ipysheet.sheet(rows=1,columns=lunghezza,column_headers=False, row_headers=False, column_width=30)\n",
    "    for i in range(0,lunghezza):\n",
    "        ipysheet.cell(0,i,str(num[i]))\n",
    "    #global maxsubseq\n",
    "    maxsubseq=widgets.BoundedIntText(\n",
    "        value=lunghezza,\n",
    "        min=1,\n",
    "        max=len(df.columns),\n",
    "        step=1,       \n",
    "        disabled=False,\n",
    "        layout=Layout(width='10%')\n",
    "    )\n",
    "    display(Javascript('IPython.notebook.execute_cells([8])'))\n",
    "    \n",
    "if command1 == 2:\n",
    "    f = open(\"./exercise_2/data/log/lastans/ansquery1.txt\", \"r\")\n",
    "    line = f.readline()\n",
    "    num=[int(s) for s in re.findall(r'\\b\\d+\\b', line)]\n",
    "    lunghezza=len(num)\n",
    "    sheet2=ipysheet.sheet(rows=1,columns=lunghezza,column_headers=False, row_headers=False, column_width=30)\n",
    "    for i in range(0,lunghezza):\n",
    "        ipysheet.cell(0,i,str(num[i]))\n",
    "    #global maxsubseq\n",
    "    maxsubseq=widgets.BoundedIntText(\n",
    "        value=lunghezza,\n",
    "        min=1,\n",
    "        max=len(df.columns),\n",
    "        step=1,       \n",
    "        disabled=False,\n",
    "        layout=Layout(width='10%')\n",
    "    )\n",
    "    display(Javascript('IPython.notebook.execute_cells([8])'))\n",
    "    \n",
    "if command1 == 3:\n",
    "    lunghezza=int(maxsubseq.value)\n",
    "    sheet2=ipysheet.sheet(rows=1,columns=lunghezza,column_headers=False, row_headers=False, column_width=30)\n",
    "    for i in range(0,lunghezza):\n",
    "        ipysheet.cell(0,i,\"0\")\n",
    "\n",
    "HBox([sheet2], layout={'max_width' : '1000px', 'overflow_y' : 'auto'})\n",
    "#sheet2\n",
    "#34, 42, 44, 49, 52, 63, 69, 79, 81"
   ]
  },
  {
   "cell_type": "code",
   "execution_count": 44,
   "metadata": {
    "hide_input": false,
    "scrolled": true
   },
   "outputs": [
    {
     "data": {
      "application/vnd.jupyter.widget-view+json": {
       "model_id": "6f7cc406780b400c87cb58039a65a776",
       "version_major": 2,
       "version_minor": 0
      },
      "text/plain": [
       "HBox(children=(VBox(children=(Button(description='Start from scratch', style=ButtonStyle()),)), VBox(children=…"
      ]
     },
     "metadata": {},
     "output_type": "display_data"
    }
   ],
   "source": [
    "words = ['Start from scratch', 'Make checkpoint', 'Recall last checkpoint', 'Get feedback', 'Recall last certificate']\n",
    "items = [Button(description=w) for w in words]\n",
    "left_box = VBox([items[0]])\n",
    "cl_box = VBox([items[1]])\n",
    "cc_box = VBox([items[2]])\n",
    "cr_box = VBox([items[3]])\n",
    "right_box = VBox([items[4]])\n",
    "\n",
    "def reset1(_):\n",
    "    global command1\n",
    "    command1=0\n",
    "    display(Javascript('IPython.notebook.execute_cells([9])'))\n",
    "    \n",
    "def save1(_):\n",
    "    DIR = \"./exercise_2/data/log/checkpoint\"\n",
    "    prog=len([name for name in os.listdir(DIR) if os.path.isfile(os.path.join(DIR, name))])+1\n",
    "    timestamp = datetime.timestamp(datetime.now())\n",
    "    f = open(\"./exercise_2/data/log/checkpoint/query1_\"+str(prog)+\"_\"+str(timestamp)+\".txt\", \"w\")\n",
    "    f.write(str(list(map(int,ipysheet.to_array(sheet2)[0]))))\n",
    "    f.close()\n",
    "    f = open(\"./exercise_2/data/log/lastcheckpoint/query1.txt\", \"w\")\n",
    "    f.write(str(list(map(int,ipysheet.to_array(sheet2)[0]))))\n",
    "    f.close()\n",
    "    print(\"Tabella salvata\")\n",
    "    time.sleep(3)\n",
    "    display(Javascript('IPython.notebook.execute_cells([10])'))\n",
    "    \n",
    "def recall1(_):\n",
    "    global command1\n",
    "    if path.exists(\"./exercise_2/data/log/lastcheckpoint/query1.txt\"):   \n",
    "        command1=1\n",
    "    else:\n",
    "        command1=0\n",
    "    display(Javascript('IPython.notebook.execute_cells([9])'))\n",
    "\n",
    "def verify1(_):\n",
    "    DIR = \"./exercise_2/data/log/ans\"\n",
    "    prog=len([name for name in os.listdir(DIR) if os.path.isfile(os.path.join(DIR, name))])+1\n",
    "    timestamp = datetime.timestamp(datetime.now())\n",
    "    f = open(\"./exercise_2/data/log/ans/ansquery1_\"+str(prog)+\"_\"+str(timestamp)+\".txt\", \"w\")\n",
    "    f.write(str(list(map(int,ipysheet.to_array(sheet2)[0]))))\n",
    "    f.close()\n",
    "    f = open(\"./exercise_2/data/log/lastans/ansquery1.txt\", \"w\")\n",
    "    f.write(str(list(map(int,ipysheet.to_array(sheet2)[0]))))\n",
    "    f.close()\n",
    "    #res=lis(, list(), lunghezza)\n",
    "    #display(Markdown(res))\n",
    "    display(Markdown(is_subseq_of_type(list(map(int,values[0])), \"s\", list(map(int, ipysheet.to_array(sheet2)[0])), \"s'\", \"ND\", pt_green=1, pt_red=10)))\n",
    "    time.sleep(10)\n",
    "    display(Javascript('IPython.notebook.execute_cells([10])'))\n",
    "    \n",
    "def recallverify1(_):\n",
    "    global command1\n",
    "    if path.exists(\"./exercise_2/data/log/lastans/ansquery1.txt\"):   \n",
    "        command1=2\n",
    "    else:\n",
    "        command1=0\n",
    "    display(Javascript('IPython.notebook.execute_cells([9])'))\n",
    "    \n",
    "        \n",
    "items[0].on_click(reset1)\n",
    "items[1].on_click(save1)\n",
    "items[2].on_click(recall1)\n",
    "items[3].on_click(verify1)\n",
    "items[4].on_click(recallverify1)\n",
    "\n",
    "HBox([left_box,cl_box,cc_box,cr_box,right_box])\n"
   ]
  },
  {
   "cell_type": "code",
   "execution_count": 45,
   "metadata": {
    "hide_input": false,
    "pycharm": {
     "name": "#%%\n"
    },
    "scrolled": true
   },
   "outputs": [
    {
     "data": {
      "text/markdown": [
       "- Una sequenza è detta una N-sequenza, o sequenza non-decrescente con un possibile ripensamento, se esiste un indice i tale cha ciascuno degli elementi della sequenza esclusi al più il primo e l’i-esimo sono strettamente maggiori dell’elemento che immediatamente li precede nella sequenza. \\\n",
       "Trovare la più lunga N-sequenza che sia una sottosequenza della sequenza data. \\\n",
       "Specificare quanto è lunga e fornirla."
      ],
      "text/plain": [
       "<IPython.core.display.Markdown object>"
      ]
     },
     "execution_count": 45,
     "metadata": {},
     "output_type": "execute_result"
    }
   ],
   "source": [
    "global command2\n",
    "command2 = 0\n",
    "txt = open(yaml_text[2], 'r',encoding='utf-8')\n",
    "content = txt.read()\n",
    "Markdown(content)"
   ]
  },
  {
   "cell_type": "code",
   "execution_count": 68,
   "metadata": {
    "hide_input": true,
    "scrolled": true
   },
   "outputs": [
    {
     "name": "stdout",
     "output_type": "stream",
     "text": [
      "Imposta il valore che reputi corretto per la massima lunghezza di una N-sequenza:\n"
     ]
    },
    {
     "data": {
      "application/vnd.jupyter.widget-view+json": {
       "model_id": "eb56bc390b0640fcbd2c015c182e0371",
       "version_major": 2,
       "version_minor": 0
      },
      "text/plain": [
       "HBox(children=(BoundedIntText(value=1, layout=Layout(width='10%'), max=25, min=1), Button(description='Imposta…"
      ]
     },
     "metadata": {},
     "output_type": "display_data"
    }
   ],
   "source": [
    "print(\"Imposta il valore che reputi corretto per la massima lunghezza di una N-sequenza:\")\n",
    "global nseqlen\n",
    "if command2==0:\n",
    "    nseqlen=widgets.BoundedIntText(\n",
    "        value=1,\n",
    "        min=1,\n",
    "        max=len(df.columns),\n",
    "        step=1,       \n",
    "        disabled=False,\n",
    "        layout=Layout(width='10%')\n",
    "    )\n",
    "button1 = widgets.Button(description='Imposta lunghezza selezionata',layout=Layout(width='30%'))\n",
    "\n",
    "def set2(_):\n",
    "    global command2\n",
    "    command2=3\n",
    "    display(Javascript('IPython.notebook.execute_cells([13])'))\n",
    "    \n",
    "button1.on_click(set2)\n",
    "HBox([nseqlen,button1])\n",
    "\n",
    "#14"
   ]
  },
  {
   "cell_type": "code",
   "execution_count": 47,
   "metadata": {
    "hide_input": false,
    "scrolled": false
   },
   "outputs": [
    {
     "data": {
      "application/javascript": [
       "IPython.notebook.execute_cells([12])"
      ],
      "text/plain": [
       "<IPython.core.display.Javascript object>"
      ]
     },
     "metadata": {},
     "output_type": "display_data"
    },
    {
     "data": {
      "application/vnd.jupyter.widget-view+json": {
       "model_id": "75c39d590e3c4afe9975af6573cf5c97",
       "version_major": 2,
       "version_minor": 0
      },
      "text/plain": [
       "HBox(children=(Sheet(cells=(Cell(column_end=0, column_start=0, row_end=0, row_start=0, type='text', value='0')…"
      ]
     },
     "metadata": {},
     "output_type": "display_data"
    }
   ],
   "source": [
    "global nseqlen\n",
    "if command2 == 0:\n",
    "    lunghezza2=1\n",
    "    sheet3=ipysheet.sheet(rows=1,columns=lunghezza2,column_headers=False, row_headers=False, column_width=30)\n",
    "    for i in range(0,lunghezza2):\n",
    "        ipysheet.cell(0,i,\"0\")\n",
    "    nseqlen=widgets.BoundedIntText(\n",
    "        value=1,\n",
    "        min=1,\n",
    "        max=len(df.columns),\n",
    "        step=1,       \n",
    "        disabled=False,\n",
    "        layout=Layout(width='10%')\n",
    "    )\n",
    "    display(Javascript('IPython.notebook.execute_cells([12])'))\n",
    "        \n",
    "if command2 == 1:\n",
    "    f = open(\"./exercise_2/data/log/lastcheckpoint/query2.txt\", \"r\")\n",
    "    line = f.readline()\n",
    "    num=[int(s) for s in re.findall(r'\\b\\d+\\b', line)]\n",
    "    lunghezza2=len(num)\n",
    "    sheet3=ipysheet.sheet(rows=1,columns=lunghezza2,column_headers=False, row_headers=False, column_width=30)\n",
    "    for i in range(0,lunghezza2):\n",
    "        ipysheet.cell(0,i,str(num[i]))\n",
    "    #global nseqlen\n",
    "    nseqlen=widgets.BoundedIntText(\n",
    "        value=lunghezza2,\n",
    "        min=1,\n",
    "        max=len(df.columns),\n",
    "        step=1,       \n",
    "        disabled=False,\n",
    "        layout=Layout(width='10%')\n",
    "    )\n",
    "    display(Javascript('IPython.notebook.execute_cells([12])'))\n",
    "\n",
    "\n",
    "if command2 == 2:\n",
    "    f = open(\"./exercise_2/data/log/lastans/ansquery2.txt\", \"r\")\n",
    "    line = f.readline()\n",
    "    num=[int(s) for s in re.findall(r'\\b\\d+\\b', line)]\n",
    "    lunghezza2=len(num)\n",
    "    sheet3=ipysheet.sheet(rows=1,columns=lunghezza2,column_headers=False, row_headers=False, column_width=30)\n",
    "    for i in range(0,lunghezza2):\n",
    "        ipysheet.cell(0,i,str(num[i]))\n",
    "    #global nseqlen\n",
    "    nseqlen=widgets.BoundedIntText(\n",
    "        value=lunghezza2,\n",
    "        min=1,\n",
    "        max=len(df.columns),\n",
    "        step=1,       \n",
    "        disabled=False,\n",
    "        layout=Layout(width='10%')\n",
    "    )\n",
    "    display(Javascript('IPython.notebook.execute_cells([12])'))\n",
    "\n",
    "if command2 == 3:\n",
    "    lunghezza2=int(nseqlen.value)\n",
    "    sheet3=ipysheet.sheet(rows=1,columns=lunghezza2,column_headers=False, row_headers=False, column_width=30)\n",
    "    for i in range(0,lunghezza2):\n",
    "        ipysheet.cell(0,i,\"0\")\n",
    "\n",
    "HBox([sheet3], layout={'max_width' : '1000px', 'overflow_y' : 'auto'})\n",
    "#sheet3\n",
    "#34, 42, 44, 49, 52, 63, 69, 79, 81, 43, 46, 61, 64, 73"
   ]
  },
  {
   "cell_type": "code",
   "execution_count": 48,
   "metadata": {
    "hide_input": true,
    "scrolled": true
   },
   "outputs": [
    {
     "data": {
      "application/vnd.jupyter.widget-view+json": {
       "model_id": "48d4c19549744622b364757a8545ce02",
       "version_major": 2,
       "version_minor": 0
      },
      "text/plain": [
       "HBox(children=(VBox(children=(Button(description='Start from scratch', style=ButtonStyle()),)), VBox(children=…"
      ]
     },
     "metadata": {},
     "output_type": "display_data"
    }
   ],
   "source": [
    "words = ['Start from scratch', 'Make checkpoint', 'Recall last checkpoint', 'Get feedback', 'Recall last certificate']\n",
    "items = [Button(description=w) for w in words]\n",
    "left_box = VBox([items[0]])\n",
    "cl_box = VBox([items[1]])\n",
    "cc_box = VBox([items[2]])\n",
    "cr_box = VBox([items[3]])\n",
    "right_box = VBox([items[4]])\n",
    "\n",
    "def reset2(_):\n",
    "    global command2\n",
    "    command2=0\n",
    "    display(Javascript('IPython.notebook.execute_cells([13])'))\n",
    "    \n",
    "def save2(_):\n",
    "    DIR = \"./exercise_2/data/log/checkpoint\"\n",
    "    prog=len([name for name in os.listdir(DIR) if os.path.isfile(os.path.join(DIR, name))])+1\n",
    "    timestamp = datetime.timestamp(datetime.now())\n",
    "    f = open(\"./exercise_2/data/log/checkpoint/query2_\"+str(prog)+\"_\"+str(timestamp)+\".txt\", \"w\")\n",
    "    f.write(str(list(map(int,ipysheet.to_array(sheet3)[0]))))\n",
    "    f.close()\n",
    "    f = open(\"./exercise_2/data/log/lastcheckpoint/query2.txt\", \"w\")\n",
    "    f.write(str(list(map(int,ipysheet.to_array(sheet3)[0]))))\n",
    "    f.close()\n",
    "    print(\"Tabella salvata\")\n",
    "    time.sleep(3)\n",
    "    display(Javascript('IPython.notebook.execute_cells([14])'))\n",
    "    \n",
    "def recall2(_):\n",
    "    global command2\n",
    "    if path.exists(\"./exercise_2/data/log/lastcheckpoint/query2.txt\"):   \n",
    "        command2=1\n",
    "    else:\n",
    "        command2=0\n",
    "    display(Javascript('IPython.notebook.execute_cells([13])'))\n",
    "\n",
    "\n",
    "def verify2(_):\n",
    "    DIR = \"./exercise_2/data/log/ans\"\n",
    "    prog=len([name for name in os.listdir(DIR) if os.path.isfile(os.path.join(DIR, name))])+1\n",
    "    timestamp = datetime.timestamp(datetime.now())\n",
    "    f = open(\"./exercise_2/data/log/ans/ansquery2_\"+str(prog)+\"_\"+str(timestamp)+\".txt\", \"w\")\n",
    "    f.write(str(list(map(int,ipysheet.to_array(sheet3)[0]))))\n",
    "    f.close()\n",
    "    f = open(\"./exercise_2/data/log/lastans/ansquery2.txt\", \"w\")\n",
    "    f.write(str(list(map(int,ipysheet.to_array(sheet3)[0]))))\n",
    "    f.close()\n",
    "    #res=nSequenza(values[0], list(ipysheet.to_array(sheet3)[0]), lunghezza2)\n",
    "    #display(Markdown(res))\n",
    "    display(Markdown(is_subseq_of_type(list(map(int,values[0])), \"s\", list(map(int, ipysheet.to_array(sheet3)[0])), \"s'\", \"N\", pt_green=1, pt_red=10)))\n",
    "    time.sleep(10)\n",
    "    display(Javascript('IPython.notebook.execute_cells([14])'))\n",
    "    \n",
    "def recallverify2(_):\n",
    "    global command2\n",
    "    if path.exists(\"./exercise_2/data/log/lastans/ansquery2.txt\"):   \n",
    "        command2=2\n",
    "    else:\n",
    "        command2=0\n",
    "    display(Javascript('IPython.notebook.execute_cells([13])'))\n",
    "    \n",
    "\n",
    "    \n",
    "        \n",
    "items[0].on_click(reset2)\n",
    "items[1].on_click(save2)\n",
    "items[2].on_click(recall2)\n",
    "items[3].on_click(verify2)\n",
    "items[4].on_click(recallverify2)\n",
    "\n",
    "HBox([left_box,cl_box,cc_box,cr_box,right_box])\n"
   ]
  },
  {
   "cell_type": "code",
   "execution_count": 49,
   "metadata": {
    "hide_input": true,
    "pycharm": {
     "name": "#%%\n"
    },
    "scrolled": true
   },
   "outputs": [
    {
     "data": {
      "text/markdown": [
       "- Trovare la più lunga sottosequenza non decrescente che includa il nono elemento (elemento di valore 40).\\\n",
       "Specificare quanto è lunga e fornirla."
      ],
      "text/plain": [
       "<IPython.core.display.Markdown object>"
      ]
     },
     "execution_count": 49,
     "metadata": {},
     "output_type": "execute_result"
    }
   ],
   "source": [
    "global command3\n",
    "command3 = 0\n",
    "txt = open(yaml_text[3], 'r',encoding='utf-8')\n",
    "content = txt.read()\n",
    "Markdown(content)"
   ]
  },
  {
   "cell_type": "code",
   "execution_count": 69,
   "metadata": {
    "hide_input": false,
    "scrolled": true
   },
   "outputs": [
    {
     "name": "stdout",
     "output_type": "stream",
     "text": [
      "Imposta il valore per la massima lunghezza di una sottosequenza non-decrescente che includa il nono elemento (elemento di valore 40):\n"
     ]
    },
    {
     "data": {
      "application/vnd.jupyter.widget-view+json": {
       "model_id": "813a3960534645ed8764805974c420fb",
       "version_major": 2,
       "version_minor": 0
      },
      "text/plain": [
       "HBox(children=(BoundedIntText(value=1, layout=Layout(width='10%'), max=25, min=1), Button(description='Imposta…"
      ]
     },
     "metadata": {},
     "output_type": "display_data"
    }
   ],
   "source": [
    "print(\"Imposta il valore per la massima lunghezza di una sottosequenza non-decrescente che includa il nono elemento (elemento di valore 40):\")\n",
    "global maxsubseq2\n",
    "if command3 == 0:\n",
    "    maxsubseq2=widgets.BoundedIntText(\n",
    "        value=1,\n",
    "        min=1,\n",
    "        max=len(df.columns),\n",
    "        step=1,       \n",
    "        disabled=False,\n",
    "        layout=Layout(width='10%')\n",
    "    )\n",
    "button2 = widgets.Button(description='Imposta lunghezza selezionata',layout=Layout(width='30%'))\n",
    "\n",
    "def set3(_):\n",
    "    global command3\n",
    "    command3=3\n",
    "    display(Javascript('IPython.notebook.execute_cells([17])'))\n",
    "    \n",
    "button2.on_click(set3)\n",
    "HBox([maxsubseq2,button2])\n",
    "#7"
   ]
  },
  {
   "cell_type": "code",
   "execution_count": 51,
   "metadata": {
    "hide_input": true,
    "scrolled": false
   },
   "outputs": [
    {
     "data": {
      "application/javascript": [
       "IPython.notebook.execute_cells([16])"
      ],
      "text/plain": [
       "<IPython.core.display.Javascript object>"
      ]
     },
     "metadata": {},
     "output_type": "display_data"
    },
    {
     "data": {
      "application/vnd.jupyter.widget-view+json": {
       "model_id": "4e23041840374a8282eb2798374fa313",
       "version_major": 2,
       "version_minor": 0
      },
      "text/plain": [
       "HBox(children=(Sheet(cells=(Cell(column_end=0, column_start=0, row_end=0, row_start=0, type='text', value='0')…"
      ]
     },
     "metadata": {},
     "output_type": "display_data"
    }
   ],
   "source": [
    "global maxsubseq2\n",
    "if command3 == 0:\n",
    "    lunghezza3=1\n",
    "    sheet4=ipysheet.sheet(rows=1,columns=lunghezza3,column_headers=False, row_headers=False, column_width=30)\n",
    "    for i in range(0,lunghezza3):\n",
    "        ipysheet.cell(0,i,\"0\")\n",
    "    maxsubseq2=widgets.BoundedIntText(\n",
    "        value=1,\n",
    "        min=1,\n",
    "        max=len(df.columns),\n",
    "        step=1,       \n",
    "        disabled=False,\n",
    "        layout=Layout(width='10%')\n",
    "    )\n",
    "    display(Javascript('IPython.notebook.execute_cells([16])'))\n",
    "        \n",
    "if command3==1:\n",
    "    f = open(\"./exercise_2/data/log/lastcheckpoint/query3.txt\", \"r\")\n",
    "    line = f.readline()\n",
    "    num=[int(s) for s in re.findall(r'\\b\\d+\\b', line)]\n",
    "    lunghezza3=len(num)\n",
    "    sheet4=ipysheet.sheet(rows=1,columns=lunghezza3,column_headers=False, row_headers=False, column_width=30)\n",
    "    for i in range(0,lunghezza3):\n",
    "        ipysheet.cell(0,i,str(num[i]))\n",
    "    #global maxsubseq2\n",
    "    maxsubseq2=widgets.BoundedIntText(\n",
    "        value=lunghezza3,\n",
    "        min=1,\n",
    "        max=len(df.columns),\n",
    "        step=1,       \n",
    "        disabled=False,\n",
    "        layout=Layout(width='10%')\n",
    "    )\n",
    "    display(Javascript('IPython.notebook.execute_cells([16])'))\n",
    "    \n",
    "if command3==2:\n",
    "    f = open(\"./exercise_2/data/log/lastans/ansquery3.txt\", \"r\")\n",
    "    line = f.readline()\n",
    "    num=[int(s) for s in re.findall(r'\\b\\d+\\b', line)]\n",
    "    lunghezza3=len(num)\n",
    "    sheet4=ipysheet.sheet(rows=1,columns=lunghezza3,column_headers=False, row_headers=False, column_width=30)\n",
    "    for i in range(0,lunghezza3):\n",
    "        ipysheet.cell(0,i,str(num[i]))\n",
    "    #global maxsubseq2\n",
    "    maxsubseq2=widgets.BoundedIntText(\n",
    "        value=lunghezza3,\n",
    "        min=1,\n",
    "        max=len(df.columns),\n",
    "        step=1,       \n",
    "        disabled=False,\n",
    "        layout=Layout(width='10%')\n",
    "    )\n",
    "    display(Javascript('IPython.notebook.execute_cells([16])'))\n",
    "    \n",
    "if command3 == 3:\n",
    "    lunghezza3=int(maxsubseq2.value)\n",
    "    sheet4=ipysheet.sheet(rows=1,columns=lunghezza3,column_headers=False, row_headers=False, column_width=30)\n",
    "    for i in range(0,lunghezza3):\n",
    "        ipysheet.cell(0,i,\"0\")\n",
    "\n",
    "HBox([sheet4], layout={'max_width' : '1000px', 'overflow_y' : 'auto'})    \n",
    "#sheet4\n",
    "\n",
    "#34, 40, 45, 54, 61, 64, 73"
   ]
  },
  {
   "cell_type": "code",
   "execution_count": 52,
   "metadata": {
    "hide_input": false,
    "scrolled": true
   },
   "outputs": [
    {
     "data": {
      "application/vnd.jupyter.widget-view+json": {
       "model_id": "1eae13ac58cd46508153a8ba7519c5c8",
       "version_major": 2,
       "version_minor": 0
      },
      "text/plain": [
       "HBox(children=(VBox(children=(Button(description='Start from scratch', style=ButtonStyle()),)), VBox(children=…"
      ]
     },
     "metadata": {},
     "output_type": "display_data"
    }
   ],
   "source": [
    "words = ['Start from scratch', 'Make checkpoint', 'Recall last checkpoint', 'Get feedback', 'Recall last certificate']\n",
    "items = [Button(description=w) for w in words]\n",
    "left_box = VBox([items[0]])\n",
    "cl_box = VBox([items[1]])\n",
    "cc_box = VBox([items[2]])\n",
    "cr_box = VBox([items[3]])\n",
    "right_box = VBox([items[4]])\n",
    "\n",
    "def reset3(_):\n",
    "    global command3\n",
    "    command3=0\n",
    "    display(Javascript('IPython.notebook.execute_cells([17])'))\n",
    "    \n",
    "def save3(_):\n",
    "    DIR = \"./exercise_2/data/log/checkpoint\"\n",
    "    prog=len([name for name in os.listdir(DIR) if os.path.isfile(os.path.join(DIR, name))])+1\n",
    "    timestamp = datetime.timestamp(datetime.now())\n",
    "    f = open(\"./exercise_2/data/log/checkpoint/query3_\"+str(prog)+\"_\"+str(timestamp)+\".txt\", \"w\")\n",
    "    f.write(str(list(map(int,ipysheet.to_array(sheet4)[0]))))\n",
    "    f.close()\n",
    "    f = open(\"./exercise_2/data/log/lastcheckpoint/query3.txt\", \"w\")\n",
    "    f.write(str(list(map(int,ipysheet.to_array(sheet4)[0]))))\n",
    "    f.close()\n",
    "    print(\"Tabella salvata\")\n",
    "    time.sleep(3)\n",
    "    display(Javascript('IPython.notebook.execute_cells([18])'))\n",
    "\n",
    "def recall3(_):\n",
    "    global command3\n",
    "    if path.exists(\"./exercise_2/data/log/lastcheckpoint/query3.txt\"):   \n",
    "        command3=1\n",
    "    else:\n",
    "        command3=0\n",
    "    display(Javascript('IPython.notebook.execute_cells([17])'))\n",
    "\n",
    "def verify3(_):\n",
    "    DIR = \"./exercise_2/data/log/ans\"\n",
    "    prog=len([name for name in os.listdir(DIR) if os.path.isfile(os.path.join(DIR, name))])+1\n",
    "    timestamp = datetime.timestamp(datetime.now())\n",
    "    f = open(\"./exercise_2/data/log/ans/ansquery3_\"+str(prog)+\"_\"+str(timestamp)+\".txt\", \"w\")\n",
    "    f.write(str(list(map(int,ipysheet.to_array(sheet4)[0]))))\n",
    "    f.close()\n",
    "    f = open(\"./exercise_2/data/log/lastans/ansquery3.txt\", \"w\")\n",
    "    f.write(str(list(map(int,ipysheet.to_array(sheet4)[0]))))\n",
    "    f.close()\n",
    "    #res=lisWithNumber(values[0], list(ipysheet.to_array(sheet4)[0]), lunghezza3, 8)\n",
    "    #display(Markdown(res))\n",
    "    display(Markdown(is_subseq_of_type(list(map(int,values[0])), \"s\", list(map(int, ipysheet.to_array(sheet4)[0])), \"s'\", \"ND\", pt_green=1, pt_red=10, forced_ele_pos = 9)))\n",
    "    time.sleep(10)\n",
    "    display(Javascript('IPython.notebook.execute_cells([18])'))\n",
    "    \n",
    "def recallverify3(_):\n",
    "    global command3\n",
    "    if path.exists(\"./exercise_2/data/log/lastans/ansquery3.txt\"):   \n",
    "        command3=2\n",
    "    else:\n",
    "        command3=0\n",
    "    display(Javascript('IPython.notebook.execute_cells([17])'))\n",
    "    \n",
    "        \n",
    "items[0].on_click(reset3)\n",
    "items[1].on_click(save3)\n",
    "items[2].on_click(recall3)\n",
    "items[3].on_click(verify3)\n",
    "items[4].on_click(recallverify3)\n",
    "\n",
    "HBox([left_box,cl_box,cc_box,cr_box,right_box])"
   ]
  },
  {
   "cell_type": "code",
   "execution_count": 53,
   "metadata": {
    "hide_input": false,
    "pycharm": {
     "name": "#%%\n"
    },
    "scrolled": true
   },
   "outputs": [
    {
     "data": {
      "text/markdown": [
       "- Trovare una sottosequenza non-decrescente la più lunga possibile tra quelle che evitino di utilizzare i primi 4 elementi.\n",
       " \\\n",
       "Specificare quanto è lunga e fornirla.\n"
      ],
      "text/plain": [
       "<IPython.core.display.Markdown object>"
      ]
     },
     "execution_count": 53,
     "metadata": {},
     "output_type": "execute_result"
    }
   ],
   "source": [
    "global command4\n",
    "command4 = 0\n",
    "txt = open(yaml_text[4], 'r',encoding='utf-8')\n",
    "content = txt.read()\n",
    "Markdown(content)"
   ]
  },
  {
   "cell_type": "code",
   "execution_count": 70,
   "metadata": {
    "hide_input": false,
    "scrolled": true
   },
   "outputs": [
    {
     "name": "stdout",
     "output_type": "stream",
     "text": [
      "Imposta il valore per la massima lunghezza di una sottosequenza non-decrescente tra quelle che evitino di utilizzare i primi 4 elementi:\n"
     ]
    },
    {
     "data": {
      "application/vnd.jupyter.widget-view+json": {
       "model_id": "46509227d94f4929bb753f118c764bed",
       "version_major": 2,
       "version_minor": 0
      },
      "text/plain": [
       "HBox(children=(BoundedIntText(value=1, layout=Layout(width='10%'), max=25, min=1), Button(description='Imposta…"
      ]
     },
     "metadata": {},
     "output_type": "display_data"
    }
   ],
   "source": [
    "print(\"Imposta il valore per la massima lunghezza di una sottosequenza non-decrescente tra quelle che evitino di utilizzare i primi 4 elementi:\")\n",
    "global maxsubseq3\n",
    "if command4 == 0:\n",
    "    maxsubseq3=widgets.BoundedIntText(\n",
    "        value=1,\n",
    "        min=1,\n",
    "        max=len(df.columns),\n",
    "        step=1,       \n",
    "        disabled=False,\n",
    "        layout=Layout(width='10%')\n",
    "    )\n",
    "button3 = widgets.Button(description='Imposta lunghezza selezionata',layout=Layout(width='30%'))\n",
    "\n",
    "def set4(_):\n",
    "    global command4\n",
    "    command4=3\n",
    "    display(Javascript('IPython.notebook.execute_cells([21])'))\n",
    "    \n",
    "button3.on_click(set4)\n",
    "HBox([maxsubseq3,button3])\n",
    "#6"
   ]
  },
  {
   "cell_type": "code",
   "execution_count": 55,
   "metadata": {
    "hide_input": false,
    "scrolled": false
   },
   "outputs": [
    {
     "data": {
      "application/javascript": [
       "IPython.notebook.execute_cells([20])"
      ],
      "text/plain": [
       "<IPython.core.display.Javascript object>"
      ]
     },
     "metadata": {},
     "output_type": "display_data"
    },
    {
     "data": {
      "application/vnd.jupyter.widget-view+json": {
       "model_id": "1980c13dd7564e989a77c1c45b75d6b2",
       "version_major": 2,
       "version_minor": 0
      },
      "text/plain": [
       "HBox(children=(Sheet(cells=(Cell(column_end=0, column_start=0, row_end=0, row_start=0, type='text', value='0')…"
      ]
     },
     "metadata": {},
     "output_type": "display_data"
    }
   ],
   "source": [
    "global maxsubseq3\n",
    "if command4 == 0:\n",
    "    lunghezza4=1\n",
    "    sheet5=ipysheet.sheet(rows=1,columns=lunghezza4,column_headers=False, row_headers=False, column_width=30)\n",
    "    for i in range(0,lunghezza4):\n",
    "        ipysheet.cell(0,i,\"0\")\n",
    "    maxsubseq3=widgets.BoundedIntText(\n",
    "        value=1,\n",
    "        min=1,\n",
    "        max=len(df.columns),\n",
    "        step=1,       \n",
    "        disabled=False,\n",
    "        layout=Layout(width='10%')\n",
    "    )\n",
    "    display(Javascript('IPython.notebook.execute_cells([20])'))\n",
    "        \n",
    "if command4 == 1:\n",
    "    f = open(\"./exercise_2/data/log/lastcheckpoint/query4.txt\", \"r\")\n",
    "    line = f.readline()\n",
    "    num=[int(s) for s in re.findall(r'\\b\\d+\\b', line)]\n",
    "    lunghezza4=len(num)\n",
    "    sheet5=ipysheet.sheet(rows=1,columns=lunghezza4,column_headers=False, row_headers=False, column_width=30)\n",
    "    for i in range(0,lunghezza4):\n",
    "        ipysheet.cell(0,i,str(num[i]))\n",
    "    #global maxsubseq3\n",
    "    maxsubseq3=widgets.BoundedIntText(\n",
    "        value=lunghezza4,\n",
    "        min=1,\n",
    "        max=len(df.columns),\n",
    "        step=1,       \n",
    "        disabled=False,\n",
    "        layout=Layout(width='10%')\n",
    "    )\n",
    "    display(Javascript('IPython.notebook.execute_cells([20])'))\n",
    "    \n",
    "if command4 == 2:\n",
    "    f = open(\"./exercise_2/data/log/lastans/ansquery4.txt\", \"r\")\n",
    "    line = f.readline()\n",
    "    num=[int(s) for s in re.findall(r'\\b\\d+\\b', line)]\n",
    "    lunghezza4=len(num)\n",
    "    sheet5=ipysheet.sheet(rows=1,columns=lunghezza4,column_headers=False, row_headers=False, column_width=30)\n",
    "    for i in range(0,lunghezza4):\n",
    "        ipysheet.cell(0,i,str(num[i]))\n",
    "    #global maxsubseq3\n",
    "    maxsubseq3=widgets.BoundedIntText(\n",
    "        value=lunghezza4,\n",
    "        min=1,\n",
    "        max=len(df.columns),\n",
    "        step=1,       \n",
    "        disabled=False,\n",
    "        layout=Layout(width='10%')\n",
    "    )\n",
    "    display(Javascript('IPython.notebook.execute_cells([20])'))\n",
    "\n",
    "if command4 == 3:\n",
    "    lunghezza4=int(maxsubseq3.value)\n",
    "    sheet5=ipysheet.sheet(rows=1,columns=lunghezza4,column_headers=False, row_headers=False, column_width=30)\n",
    "    for i in range(0,lunghezza4):\n",
    "        ipysheet.cell(0,i,\"0\")\n",
    "\n",
    "HBox([sheet5], layout={'max_width' : '1000px', 'overflow_y' : 'auto'})    \n",
    "#sheet5\n",
    "\n",
    "#41, 52, 63, 69, 79, 81"
   ]
  },
  {
   "cell_type": "code",
   "execution_count": 56,
   "metadata": {
    "hide_input": false,
    "pycharm": {
     "name": "#%%\n"
    },
    "scrolled": false
   },
   "outputs": [
    {
     "data": {
      "application/vnd.jupyter.widget-view+json": {
       "model_id": "c8deb3b907d14403bdc6ed2e4ebecb87",
       "version_major": 2,
       "version_minor": 0
      },
      "text/plain": [
       "HBox(children=(VBox(children=(Button(description='Start from scratch', style=ButtonStyle()),)), VBox(children=…"
      ]
     },
     "metadata": {},
     "output_type": "display_data"
    }
   ],
   "source": [
    "words = ['Start from scratch', 'Make checkpoint', 'Recall last checkpoint', 'Get feedback', 'Recall last certificate']\n",
    "items = [Button(description=w) for w in words]\n",
    "left_box = VBox([items[0]])\n",
    "cl_box = VBox([items[1]])\n",
    "cc_box = VBox([items[2]])\n",
    "cr_box = VBox([items[3]])\n",
    "right_box = VBox([items[4]])\n",
    "\n",
    "def reset4(_):\n",
    "    global command4\n",
    "    command4=0\n",
    "    display(Javascript('IPython.notebook.execute_cells([21])'))\n",
    "\n",
    "def save4(_):\n",
    "    DIR = \"./exercise_2/data/log/checkpoint\"\n",
    "    prog=len([name for name in os.listdir(DIR) if os.path.isfile(os.path.join(DIR, name))])+1\n",
    "    timestamp = datetime.timestamp(datetime.now())\n",
    "    f = open(\"./exercise_2/data/log/checkpoint/query4_\"+str(prog)+\"_\"+str(timestamp)+\".txt\", \"w\")\n",
    "    f.write(str(list(map(int,ipysheet.to_array(sheet5)[0]))))\n",
    "    f.close()\n",
    "    f = open(\"./exercise_2/data/log/lastcheckpoint/query4.txt\", \"w\")\n",
    "    f.write(str(list(map(int,ipysheet.to_array(sheet5)[0]))))\n",
    "    f.close()\n",
    "    print(\"Tabella salvata\")\n",
    "    time.sleep(3)\n",
    "    display(Javascript('IPython.notebook.execute_cells([22])'))\n",
    "\n",
    "def recall4(_):\n",
    "    global command4\n",
    "    if path.exists(\"./exercise_2/data/log/lastcheckpoint/query4.txt\"):   \n",
    "        command4=1\n",
    "    else:\n",
    "        command4=0\n",
    "    display(Javascript('IPython.notebook.execute_cells([21])'))\n",
    "\n",
    "def verify4(_):\n",
    "    DIR = \"./exercise_2/data/log/ans\"\n",
    "    prog=len([name for name in os.listdir(DIR) if os.path.isfile(os.path.join(DIR, name))])+1\n",
    "    timestamp = datetime.timestamp(datetime.now())\n",
    "    f = open(\"./exercise_2/data/log/ans/ansquery4_\"+str(prog)+\"_\"+str(timestamp)+\".txt\", \"w\")\n",
    "    f.write(str(list(map(int,ipysheet.to_array(sheet5)[0]))))\n",
    "    f.close()\n",
    "    f = open(\"./exercise_2/data/log/lastans/ansquery4.txt\", \"w\")\n",
    "    f.write(str(list(map(int,ipysheet.to_array(sheet5)[0]))))\n",
    "    f.close()\n",
    "    #res=lisSubwithoutElementInRange(values[0], list(ipysheet.to_array(sheet5)[0]), lunghezza4, 0, 4)\n",
    "    #display(Markdown(res))\n",
    "    display(Markdown(is_subseq_of_type(list(map(int,values[0])), \"s\", list(map(int, ipysheet.to_array(sheet5)[0])), \"s'\", \"ND\", pt_green=1, pt_red=10, start_banned_interval = 0, end_banned_interval = 4)))\n",
    "    time.sleep(10)\n",
    "    display(Javascript('IPython.notebook.execute_cells([22])'))\n",
    "    \n",
    "def recallverify4(_):\n",
    "    global command4\n",
    "    if path.exists(\"./exercise_2/data/log/lastans/ansquery4.txt\"):   \n",
    "        command4=2\n",
    "    else:\n",
    "        command4=0\n",
    "    display(Javascript('IPython.notebook.execute_cells([21])'))\n",
    "    \n",
    "        \n",
    "items[0].on_click(reset4)\n",
    "items[1].on_click(save4)\n",
    "items[2].on_click(recall4)\n",
    "items[3].on_click(verify4)\n",
    "items[4].on_click(recallverify4)\n",
    "\n",
    "HBox([left_box,cl_box,cc_box,cr_box,right_box])"
   ]
  },
  {
   "cell_type": "code",
   "execution_count": 57,
   "metadata": {
    "hide_input": true,
    "pycharm": {
     "name": "#%%\n"
    },
    "scrolled": false
   },
   "outputs": [
    {
     "data": {
      "text/markdown": [
       "- Trovare una sottosequenza non-decrescente che sia la più lunga possibile tra quelle che evitino di utilizzare gli elementi dal 13-esimo al 16-esimo.\\\n",
       "Specificare quanto è lunga e fornirla."
      ],
      "text/plain": [
       "<IPython.core.display.Markdown object>"
      ]
     },
     "execution_count": 57,
     "metadata": {},
     "output_type": "execute_result"
    }
   ],
   "source": [
    "global command5\n",
    "command5 = 0\n",
    "txt = open(yaml_text[5], 'r',encoding='utf-8')\n",
    "content = txt.read()\n",
    "Markdown(content)"
   ]
  },
  {
   "cell_type": "code",
   "execution_count": 71,
   "metadata": {
    "hide_input": true
   },
   "outputs": [
    {
     "name": "stdout",
     "output_type": "stream",
     "text": [
      "Imposta il valore per la massima lunghezza di una sottosequenza non-decrescente tra quelle che evitino di utilizzare gli elementi dal 13-esimo al 16-esimo:\n"
     ]
    },
    {
     "data": {
      "application/vnd.jupyter.widget-view+json": {
       "model_id": "34152da39b334160a893657f86ddfe43",
       "version_major": 2,
       "version_minor": 0
      },
      "text/plain": [
       "HBox(children=(BoundedIntText(value=1, layout=Layout(width='10%'), max=25, min=1), Button(description='Imposta…"
      ]
     },
     "metadata": {},
     "output_type": "display_data"
    }
   ],
   "source": [
    "print(\"Imposta il valore per la massima lunghezza di una sottosequenza non-decrescente tra quelle che evitino di utilizzare gli elementi dal 13-esimo al 16-esimo:\")\n",
    "global maxsubseq4\n",
    "if command5 == 0:\n",
    "    maxsubseq4=widgets.BoundedIntText(\n",
    "        value=1,\n",
    "        min=1,\n",
    "        max=len(df.columns),\n",
    "        step=1,       \n",
    "        disabled=False,\n",
    "        layout=Layout(width='10%')\n",
    "    )\n",
    "button4 = widgets.Button(description='Imposta lunghezza selezionata',layout=Layout(width='30%'))\n",
    "\n",
    "def set5(_):\n",
    "    global command5\n",
    "    command5=3\n",
    "    display(Javascript('IPython.notebook.execute_cells([25])'))\n",
    "    \n",
    "button4.on_click(set5)\n",
    "HBox([maxsubseq4,button4])\n",
    "#9"
   ]
  },
  {
   "cell_type": "code",
   "execution_count": 59,
   "metadata": {
    "hide_input": true,
    "scrolled": false
   },
   "outputs": [
    {
     "data": {
      "application/javascript": [
       "IPython.notebook.execute_cells([24])"
      ],
      "text/plain": [
       "<IPython.core.display.Javascript object>"
      ]
     },
     "metadata": {},
     "output_type": "display_data"
    },
    {
     "data": {
      "application/vnd.jupyter.widget-view+json": {
       "model_id": "9e862160c172418b9d5ba79b497dec5b",
       "version_major": 2,
       "version_minor": 0
      },
      "text/plain": [
       "HBox(children=(Sheet(cells=(Cell(column_end=0, column_start=0, row_end=0, row_start=0, type='text', value='0')…"
      ]
     },
     "metadata": {},
     "output_type": "display_data"
    }
   ],
   "source": [
    "global maxsubseq4\n",
    "if command5 == 0:\n",
    "    lunghezza5=1\n",
    "    sheet6=ipysheet.sheet(rows=1,columns=lunghezza5,column_headers=False, row_headers=False, column_width=30)\n",
    "    for i in range(0,lunghezza5):\n",
    "        ipysheet.cell(0,i,\"0\")\n",
    "    maxsubseq4=widgets.BoundedIntText(\n",
    "        value=1,\n",
    "        min=1,\n",
    "        max=len(df.columns),\n",
    "        step=1,       \n",
    "        disabled=False,\n",
    "        layout=Layout(width='10%')\n",
    "    )\n",
    "    display(Javascript('IPython.notebook.execute_cells([24])'))\n",
    "\n",
    "if command5 == 1:\n",
    "    f = open(\"./exercise_2/data/log/lastcheckpoint/query5.txt\", \"r\")\n",
    "    line = f.readline()\n",
    "    num=[int(s) for s in re.findall(r'\\b\\d+\\b', line)]\n",
    "    lunghezza5=len(num)\n",
    "    sheet6=ipysheet.sheet(rows=1,columns=lunghezza5,column_headers=False, row_headers=False, column_width=30)\n",
    "    for i in range(0,lunghezza5):\n",
    "        ipysheet.cell(0,i,str(num[i]))\n",
    "    #global maxsubseq4\n",
    "    maxsubseq4=widgets.IntText(\n",
    "        value=lunghezza5,\n",
    "        min=1,\n",
    "        max=len(df.columns),\n",
    "        step=1,       \n",
    "        disabled=False,\n",
    "        layout=Layout(width='10%')\n",
    "    )\n",
    "    display(Javascript('IPython.notebook.execute_cells([24])'))\n",
    "    \n",
    "if command5 == 2:\n",
    "    f = open(\"./exercise_2/data/log/lastans/ansquery5.txt\", \"r\")\n",
    "    line = f.readline()\n",
    "    num=[int(s) for s in re.findall(r'\\b\\d+\\b', line)]\n",
    "    lunghezza5=len(num)\n",
    "    sheet6=ipysheet.sheet(rows=1,columns=lunghezza5,column_headers=False, row_headers=False, column_width=30)\n",
    "    for i in range(0,lunghezza5):\n",
    "        ipysheet.cell(0,i,str(num[i]))\n",
    "    #global maxsubseq4\n",
    "    maxsubseq4=widgets.IntText(\n",
    "        value=lunghezza5,\n",
    "        min=1,\n",
    "        max=len(df.columns),\n",
    "        step=1,       \n",
    "        disabled=False,\n",
    "        layout=Layout(width='10%')\n",
    "    )\n",
    "    display(Javascript('IPython.notebook.execute_cells([24])'))\n",
    "    \n",
    "if command5 == 3:\n",
    "    lunghezza5=int(maxsubseq4.value)\n",
    "    sheet6=ipysheet.sheet(rows=1,columns=lunghezza5,column_headers=False, row_headers=False, column_width=30)\n",
    "    for i in range(0,lunghezza5):\n",
    "        ipysheet.cell(0,i,\"0\")\n",
    "\n",
    "\n",
    "HBox([sheet6], layout={'max_width' : '1000px', 'overflow_y' : 'auto'})\n",
    "#sheet6\n",
    "\n",
    "#34, 42, 44, 49, 52, 60, 61, 64, 73"
   ]
  },
  {
   "cell_type": "code",
   "execution_count": 60,
   "metadata": {
    "hide_input": true,
    "pycharm": {
     "name": "#%%\n"
    },
    "scrolled": false
   },
   "outputs": [
    {
     "data": {
      "application/vnd.jupyter.widget-view+json": {
       "model_id": "bc9f66662e064cd592d287d8a4608c76",
       "version_major": 2,
       "version_minor": 0
      },
      "text/plain": [
       "HBox(children=(VBox(children=(Button(description='Start from scratch', style=ButtonStyle()),)), VBox(children=…"
      ]
     },
     "metadata": {},
     "output_type": "display_data"
    }
   ],
   "source": [
    "words = ['Start from scratch', 'Make checkpoint', 'Recall last checkpoint', 'Get feedback', 'Recall last certificate']\n",
    "items = [Button(description=w) for w in words]\n",
    "left_box = VBox([items[0]])\n",
    "cl_box = VBox([items[1]])\n",
    "cc_box = VBox([items[2]])\n",
    "cr_box = VBox([items[3]])\n",
    "right_box = VBox([items[4]])\n",
    "\n",
    "def reset5(_):\n",
    "    global command5\n",
    "    command5=0\n",
    "    display(Javascript('IPython.notebook.execute_cells([25])'))\n",
    "    \n",
    "def save5(_):\n",
    "    DIR = \"./exercise_2/data/log/checkpoint\"\n",
    "    prog=len([name for name in os.listdir(DIR) if os.path.isfile(os.path.join(DIR, name))])+1\n",
    "    timestamp = datetime.timestamp(datetime.now())\n",
    "    f = open(\"./exercise_2/data/log/checkpoint/query5_\"+str(prog)+\"_\"+str(timestamp)+\".txt\", \"w\")\n",
    "    f.write(str(list(map(int,ipysheet.to_array(sheet6)[0]))))\n",
    "    f.close()\n",
    "    f = open(\"./exercise_2/data/log/lastcheckpoint/query5.txt\", \"w\")\n",
    "    f.write(str(list(map(int,ipysheet.to_array(sheet6)[0]))))\n",
    "    f.close()\n",
    "    print(\"Tabella salvata\")\n",
    "    time.sleep(3)\n",
    "    display(Javascript('IPython.notebook.execute_cells([26])'))\n",
    "\n",
    "def recall5(_):\n",
    "    global command5\n",
    "    if path.exists(\"./exercise_2/data/log/lastcheckpoint/query5.txt\"):   \n",
    "        command5=1\n",
    "    else:\n",
    "        command5=0\n",
    "    display(Javascript('IPython.notebook.execute_cells([25])'))\n",
    "\n",
    "def verify5(_):\n",
    "    DIR = \"./exercise_2/data/log/ans\"\n",
    "    prog=len([name for name in os.listdir(DIR) if os.path.isfile(os.path.join(DIR, name))])+1\n",
    "    timestamp = datetime.timestamp(datetime.now())\n",
    "    f = open(\"./exercise_2/data/log/ans/ansquery5_\"+str(prog)+\"_\"+str(timestamp)+\".txt\", \"w\")\n",
    "    f.write(str(list(map(int,ipysheet.to_array(sheet6)[0]))))\n",
    "    f.close()\n",
    "    f = open(\"./exercise_2/data/log/lastans/ansquery5.txt\", \"w\")\n",
    "    f.write(str(list(map(int,ipysheet.to_array(sheet6)[0]))))\n",
    "    f.close()\n",
    "    #res=lisSubwithoutElementInRange(values[0], list(ipysheet.to_array(sheet6)[0]), lunghezza5, 12, 16)\n",
    "    #display(Markdown(res))\n",
    "    display(Markdown(is_subseq_of_type(list(map(int,values[0])), \"s\", list(map(int, ipysheet.to_array(sheet6)[0])), \"s'\", \"ND\", pt_green=1, pt_red=10, start_banned_interval = 13, end_banned_interval = 16)))\n",
    "    time.sleep(10)\n",
    "    display(Javascript('IPython.notebook.execute_cells([26])'))\n",
    "    \n",
    "def recallverify5(_):\n",
    "    global command5\n",
    "    if path.exists(\"./exercise_2/data/log/lastans/ansquery5.txt\"):   \n",
    "        command5=2\n",
    "    else:\n",
    "        command5=0\n",
    "    display(Javascript('IPython.notebook.execute_cells([25])'))\n",
    "    \n",
    "        \n",
    "items[0].on_click(reset5)\n",
    "items[1].on_click(save5)\n",
    "items[2].on_click(recall5)\n",
    "items[3].on_click(verify5)\n",
    "items[4].on_click(recallverify5)\n",
    "\n",
    "HBox([left_box,cl_box,cc_box,cr_box,right_box])"
   ]
  },
  {
   "cell_type": "code",
   "execution_count": 61,
   "metadata": {
    "hide_input": true,
    "pycharm": {
     "name": "#%%\n"
    },
    "scrolled": true
   },
   "outputs": [
    {
     "data": {
      "text/markdown": [
       "- Fornire un minimo numero di sottosequenze non-crescenti tali che ogni elemento della sequenza fornita ricada in almeno una di esse.\\\n",
       "Specificare quante sono e fornirle."
      ],
      "text/plain": [
       "<IPython.core.display.Markdown object>"
      ]
     },
     "execution_count": 61,
     "metadata": {},
     "output_type": "execute_result"
    }
   ],
   "source": [
    "global command6\n",
    "command6 = 0\n",
    "txt = open(yaml_text[6], 'r',encoding='utf-8')\n",
    "content = txt.read()\n",
    "Markdown(content)"
   ]
  },
  {
   "cell_type": "code",
   "execution_count": 75,
   "metadata": {
    "hide_input": false,
    "pycharm": {
     "name": "#%%\n"
    },
    "scrolled": true
   },
   "outputs": [
    {
     "name": "stdout",
     "output_type": "stream",
     "text": [
      "Imposta il numero di sottosequenze non-crescenti che intendi impiegare:\n"
     ]
    },
    {
     "data": {
      "application/vnd.jupyter.widget-view+json": {
       "model_id": "e76068c5fb694877a79fa785ae474a8a",
       "version_major": 2,
       "version_minor": 0
      },
      "text/plain": [
       "IntText(value=9, layout=Layout(width='10%'))"
      ]
     },
     "metadata": {},
     "output_type": "display_data"
    }
   ],
   "source": [
    "print(\"Imposta il numero di sottosequenze non-crescenti che intendi impiegare:\")\n",
    "global nsubseq\n",
    "if command6 == 0:\n",
    "    nsubseq=widgets.BoundedIntText(\n",
    "        value=1,\n",
    "        min=1,\n",
    "        max=len(df.columns),\n",
    "        step=1,       \n",
    "        disabled=False,\n",
    "        layout=Layout(width='10%')\n",
    "    )\n",
    "display(nsubseq)\n",
    "#9\n"
   ]
  },
  {
   "cell_type": "code",
   "execution_count": 76,
   "metadata": {
    "hide_input": false,
    "pycharm": {
     "name": "#%%\n"
    }
   },
   "outputs": [
    {
     "name": "stdout",
     "output_type": "stream",
     "text": [
      "Imposta la massima lunghezza per queste sottosequenze non-crescenti:\n"
     ]
    },
    {
     "data": {
      "application/vnd.jupyter.widget-view+json": {
       "model_id": "937920f619c44fbe96d0a3ee92f4f312",
       "version_major": 2,
       "version_minor": 0
      },
      "text/plain": [
       "HBox(children=(IntText(value=4, layout=Layout(width='10%')), Button(description='Imposta parametri selezionati…"
      ]
     },
     "metadata": {},
     "output_type": "display_data"
    }
   ],
   "source": [
    "print(\"Imposta la massima lunghezza per queste sottosequenze non-crescenti:\")\n",
    "global maxsubseq5\n",
    "if command6 == 0:\n",
    "    maxsubseq5=widgets.BoundedIntText(\n",
    "        value=1,\n",
    "        min=1,\n",
    "        max=len(df.columns),\n",
    "        step=1,       \n",
    "        disabled=False,\n",
    "        layout=Layout(width='10%')\n",
    "    )\n",
    "button5 = widgets.Button(description='Imposta parametri selezionati',layout=Layout(width='30%'))\n",
    "\n",
    "def set6(_):\n",
    "    global command6\n",
    "    command6=3\n",
    "    display(Javascript('IPython.notebook.execute_cells([30])'))\n",
    "    \n",
    "button5.on_click(set6)\n",
    "HBox([maxsubseq5,button5])\n",
    "\n",
    "#4"
   ]
  },
  {
   "cell_type": "code",
   "execution_count": 74,
   "metadata": {
    "hide_input": false,
    "pycharm": {
     "name": "#%%\n"
    }
   },
   "outputs": [
    {
     "data": {
      "application/javascript": [
       "IPython.notebook.execute_cells([28,29])"
      ],
      "text/plain": [
       "<IPython.core.display.Javascript object>"
      ]
     },
     "metadata": {},
     "output_type": "display_data"
    },
    {
     "data": {
      "application/vnd.jupyter.widget-view+json": {
       "model_id": "3f3d22ed2acb40eb820b616388311996",
       "version_major": 2,
       "version_minor": 0
      },
      "text/plain": [
       "HBox(children=(Sheet(cells=(Cell(column_end=0, column_start=0, row_end=0, row_start=0, type='text', value='34'…"
      ]
     },
     "metadata": {},
     "output_type": "display_data"
    }
   ],
   "source": [
    "global nsubseq\n",
    "global maxsubseq5\n",
    "if command6 == 0:\n",
    "    r=1\n",
    "    c=1\n",
    "    sheet7=ipysheet.sheet(rows=r,columns=c,column_headers=False, row_headers=False, column_width=30)\n",
    "    for i in range(0,r):\n",
    "        for j in range(0,c):\n",
    "            ipysheet.cell(i,j,\"0\")\n",
    "    maxsubseq5=widgets.BoundedIntText(\n",
    "        value=1,\n",
    "        min=1,\n",
    "        max=len(df.columns),\n",
    "        step=1,       \n",
    "        disabled=False,\n",
    "        layout=Layout(width='10%')\n",
    "    )       \n",
    "    nsubseq=widgets.BoundedIntText(\n",
    "        value=1,\n",
    "        min=1,\n",
    "        max=len(df.columns),\n",
    "        step=1,       \n",
    "        disabled=False,\n",
    "        layout=Layout(width='10%')\n",
    "    )\n",
    "    display(Javascript('IPython.notebook.execute_cells([28,29])'))\n",
    "\n",
    "if command6 == 1:\n",
    "    f = open(\"./exercise_2/data/log/lastcheckpoint/query6.txt\", \"r\")\n",
    "    lines = f.readlines()\n",
    "    num=[]\n",
    "    for line in lines:\n",
    "        num.append([int(s) for s in re.findall(r'\\b\\d+\\b', line)])\n",
    "    r=len(num)\n",
    "    c=len(num[0])\n",
    "    sheet7=ipysheet.sheet(rows=r,columns=c,column_headers=False, row_headers=False, column_width=30)\n",
    "    for i in range(0,r):\n",
    "        for j in range(0,c):\n",
    "            ipysheet.cell(i,j,str(num[i][j]))\n",
    "    #global maxsubseq5\n",
    "    maxsubseq5=widgets.IntText(\n",
    "        value=c,\n",
    "        min=1,\n",
    "        max=len(df.columns),\n",
    "        step=1,       \n",
    "        disabled=False,\n",
    "        layout=Layout(width='10%')\n",
    "    )       \n",
    "    #global nsubseq\n",
    "    nsubseq=widgets.IntText(\n",
    "        value=r,\n",
    "        min=1,\n",
    "        max=len(df.columns),\n",
    "        step=1,       \n",
    "        disabled=False,\n",
    "        layout=Layout(width='10%')\n",
    "    )       \n",
    "    display(Javascript('IPython.notebook.execute_cells([28,29])'))\n",
    "    \n",
    "if command6 == 2:\n",
    "    f = open(\"./exercise_2/data/log/lastans/ansquery6.txt\", \"r\")\n",
    "    lines = f.readlines()\n",
    "    num=[]\n",
    "    for line in lines:\n",
    "        num.append([int(s) for s in re.findall(r'\\b\\d+\\b', line)])\n",
    "    r=len(num)\n",
    "    c=len(num[0])\n",
    "    sheet7=ipysheet.sheet(rows=r,columns=c,column_headers=False, row_headers=False, column_width=30)\n",
    "    for i in range(0,r):\n",
    "        for j in range(0,c):\n",
    "            ipysheet.cell(i,j,str(num[i][j]))\n",
    "    #global maxsubseq5\n",
    "    maxsubseq5=widgets.IntText(\n",
    "        value=c,\n",
    "        min=1,\n",
    "        max=len(df.columns),\n",
    "        step=1,       \n",
    "        disabled=False,\n",
    "        layout=Layout(width='10%')\n",
    "    )       \n",
    "    #global nsubseq\n",
    "    nsubseq=widgets.IntText(\n",
    "        value=r,\n",
    "        min=1,\n",
    "        max=len(df.columns),\n",
    "        step=1,       \n",
    "        disabled=False,\n",
    "        layout=Layout(width='10%')\n",
    "    )       \n",
    "    display(Javascript('IPython.notebook.execute_cells([28,29])'))\n",
    "    \n",
    "if command6 == 3:\n",
    "    r=int(nsubseq.value)\n",
    "    c=int(maxsubseq5.value)\n",
    "    sheet7=ipysheet.sheet(rows=r,columns=c,column_headers=False, row_headers=False, column_width=30)\n",
    "    for i in range(0,r):\n",
    "        for j in range(0,c):\n",
    "            ipysheet.cell(i,j,\"0\")\n",
    "\n",
    "HBox([sheet7], layout={'max_height':'auto','max_width' : 'auto', 'overflow_y' : 'auto'})\n",
    "#sheet7\n",
    "\n",
    "#34 ; 42,41,40,38; 44,43; 49,45; 52,46; 63,60,54,48; 69,66,61; 86,79,64,47; 81,80,73\n"
   ]
  },
  {
   "cell_type": "code",
   "execution_count": 78,
   "metadata": {
    "hide_input": false,
    "pycharm": {
     "name": "#%%\n"
    }
   },
   "outputs": [
    {
     "data": {
      "application/javascript": [
       "IPython.notebook.execute_cells([31])"
      ],
      "text/plain": [
       "<IPython.core.display.Javascript object>"
      ]
     },
     "metadata": {},
     "output_type": "display_data"
    },
    {
     "data": {
      "application/vnd.jupyter.widget-view+json": {
       "model_id": "4feac04974954739ac77b029ffa1ba01",
       "version_major": 2,
       "version_minor": 0
      },
      "text/plain": [
       "HBox(children=(VBox(children=(Button(description='Start from scratch', style=ButtonStyle()),)), VBox(children=…"
      ]
     },
     "metadata": {},
     "output_type": "display_data"
    }
   ],
   "source": [
    "words = ['Start from scratch', 'Make checkpoint', 'Recall last checkpoint', 'Get feedback', 'Recall last certificate']\n",
    "items = [Button(description=w) for w in words]\n",
    "left_box = VBox([items[0]])\n",
    "cl_box = VBox([items[1]])\n",
    "cc_box = VBox([items[2]])\n",
    "cr_box = VBox([items[3]])\n",
    "right_box = VBox([items[4]])\n",
    "\n",
    "def reset6(_):\n",
    "    global command6\n",
    "    command6=0\n",
    "    display(Javascript('IPython.notebook.execute_cells([30])'))\n",
    "    \n",
    "def save6(_):\n",
    "    DIR = \"./exercise_2/data/log/checkpoint\"\n",
    "    prog=len([name for name in os.listdir(DIR) if os.path.isfile(os.path.join(DIR, name))])+1\n",
    "    timestamp = datetime.timestamp(datetime.now())\n",
    "    aux=ipysheet.to_array(sheet7)\n",
    "    f = open(\"./exercise_2/data/log/checkpoint/query6_\"+str(prog)+\"_\"+str(timestamp)+\".txt\", \"w\")\n",
    "    for elem in aux:\n",
    "        f.write(str(list(map(int,elem)))+\"\\n\")\n",
    "    f.close()\n",
    "    f = open(\"./exercise_2/data/log/lastcheckpoint/query6.txt\", \"w\")\n",
    "    for elem in aux:\n",
    "        f.write(str(list(map(int,elem)))+\"\\n\")\n",
    "    f.close()\n",
    "    print(\"Tabella salvata\")\n",
    "    time.sleep(3)\n",
    "    display(Javascript('IPython.notebook.execute_cells([31])'))\n",
    "    \n",
    "def recall6(_):\n",
    "    global command6\n",
    "    if path.exists(\"./exercise_2/data/log/lastcheckpoint/query6.txt\"):   \n",
    "        command6=1\n",
    "    else:\n",
    "        command6=0\n",
    "    display(Javascript('IPython.notebook.execute_cells([30])'))\n",
    "\n",
    "def verify6(_):\n",
    "    DIR = \"./exercise_2/data/log/ans\"\n",
    "    prog=len([name for name in os.listdir(DIR) if os.path.isfile(os.path.join(DIR, name))])+1\n",
    "    timestamp = datetime.timestamp(datetime.now())\n",
    "    aux=ipysheet.to_array(sheet7)\n",
    "    f = open(\"./exercise_2/data/log/ans/ansquery6_\"+str(prog)+\"_\"+str(timestamp)+\".txt\", \"w\")\n",
    "    for elem in aux:\n",
    "        f.write(str(list(map(int,elem)))+\"\\n\")\n",
    "    f.close()\n",
    "    f = open(\"./exercise_2/data/log/lastans/ansquery6.txt\", \"w\")\n",
    "    for elem in aux:\n",
    "        f.write(str(list(map(int,elem)))+\"\\n\")\n",
    "    f.close()\n",
    "    subs=[]\n",
    "    for elem in aux:\n",
    "        elem=list(map(int,elem))\n",
    "        aux2=[]\n",
    "        for n in elem:\n",
    "            if n!=0:\n",
    "                aux2.append(n)\n",
    "        subs.append(aux2)\n",
    "    display(Markdown(min_subs_of_type(list(map(int,values[0])), \"s\", subs, \"subs_list\", \"NC\", pt_green=2, pt_red=15)))\n",
    "    time.sleep(10)\n",
    "    display(Javascript('IPython.notebook.execute_cells([31])'))\n",
    "    \n",
    "def recallverify6(_):\n",
    "    global command6\n",
    "    if path.exists(\"./exercise_2/data/log/lastans/ansquery6.txt\"):   \n",
    "        command6=2\n",
    "    else:\n",
    "        command6=0\n",
    "    display(Javascript('IPython.notebook.execute_cells([30])'))\n",
    "    \n",
    "        \n",
    "items[0].on_click(reset6)\n",
    "items[1].on_click(save6)\n",
    "items[2].on_click(recall6)\n",
    "items[3].on_click(verify6)\n",
    "items[4].on_click(recallverify6)\n",
    "\n",
    "HBox([left_box,cl_box,cc_box,cr_box,right_box])"
   ]
  },
  {
   "cell_type": "code",
   "execution_count": 66,
   "metadata": {
    "hide_input": true
   },
   "outputs": [
    {
     "data": {
      "application/vnd.jupyter.widget-view+json": {
       "model_id": "2987078093e946359a2c9e3fbf66a653",
       "version_major": 2,
       "version_minor": 0
      },
      "text/plain": [
       "VBox(children=(Button(description='Genera report finale', style=ButtonStyle()), Output()))"
      ]
     },
     "metadata": {},
     "output_type": "display_data"
    }
   ],
   "source": [
    "button6 = widgets.Button(description='Genera report finale')\n",
    "out = widgets.Output()\n",
    "def on_button_clicked6(_):\n",
    "      with out:\n",
    "        save_results(res_path)\n",
    "        clear_output()\n",
    "        print(\"Risultati inviati\")\n",
    "button6.on_click(on_button_clicked6)\n",
    "widgets.VBox([button6,out])"
   ]
  }
 ],
 "metadata": {
  "hide_input": true,
  "kernelspec": {
   "display_name": "Python 3",
   "language": "python",
   "name": "python3"
  },
  "language_info": {
   "codemirror_mode": {
    "name": "ipython",
    "version": 3
   },
   "file_extension": ".py",
   "mimetype": "text/x-python",
   "name": "python",
   "nbconvert_exporter": "python",
   "pygments_lexer": "ipython3",
   "version": "3.7.7"
  }
 },
 "nbformat": 4,
 "nbformat_minor": 4
}
