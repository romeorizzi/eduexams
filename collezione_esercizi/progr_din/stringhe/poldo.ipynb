{
 "cells": [
  {
   "cell_type": "code",
   "execution_count": 1,
   "metadata": {
    "hide_input": true,
    "pycharm": {
     "name": "#%%\n"
    }
   },
   "outputs": [],
   "source": [
    "from IPython.core.display import display, HTML, Markdown"
   ]
  },
  {
   "cell_type": "code",
   "execution_count": 8,
   "metadata": {
    "hide_input": false,
    "pycharm": {
     "name": "#%%\n"
    }
   },
   "outputs": [],
   "source": [
    "def is_subseq(s, subs):\n",
    "    \"\"\"\n",
    "    bool: verifica se subs è sottosequenza di s.\n",
    "    \"\"\"\n",
    "    found = 0\n",
    "    pos_r = 0\n",
    "    while pos_r < len(s):\n",
    "        if s[pos_r] == subs[found]:\n",
    "            found+=1\n",
    "            if found >= len(subs):\n",
    "                return True\n",
    "        pos_r += 1\n",
    "    return False\n",
    "\n",
    "def is_monotone(s, mono_type):\n",
    "    \"\"\"\n",
    "    (bool, NO_cert_string): verifica se s presenta la monotonicità di tipo mono_type (vedi tabella):\n",
    "       \"SC\" : strettamente crescente\n",
    "       \"ND\" : non-decrescente\n",
    "       \"SD\" : strettamente decrescente\n",
    "       \"NC\" : non-crescente\n",
    "    In caso affermativo il bool è True.\n",
    "    Altrimenti il bool è False e viene restituita una stringa che riporta una violazione puntuale alla monotonicità richiesta.\n",
    "    \"\"\"\n",
    "    for i in range(1,len(s)):\n",
    "        if s[i] < s[i-1] and mono_type in {\"SC\",\"ND\"}:\n",
    "            return (0,f\"L'elemento {s[i]} in posizione {i+1} è minore dell'elemento {s[i-1]} in posizione {i}.\")\n",
    "        if s[i] > s[i-1] and mono_type in {\"SD\",\"NC\"}:\n",
    "            return (0,f\"L'elemento {s[i]} in posizione {i+1} è maggiore dell'elemento {s[i-1]} in posizione {i}.\")\n",
    "        if s[i] == s[i-1] and mono_type in {\"SC\",\"SD\"}:\n",
    "            return (0,f\"L'elemento {s[i]} in posizione {i+1} non è maggiore dell'elemento {s[i-1]} in posizione {i}.\")\n",
    "    return (1,None)\n",
    "\n",
    "def is_monotone_subseq(s, subs, mono_type):\n",
    "    \"\"\"\n",
    "    (evaluation_string): verifica se s presenta la monotonicità di tipo mono_type (vedi tabella):\n",
    "       \"SC\" : strettamente crescente\n",
    "       \"ND\" : non-decrescente\n",
    "       \"SD\" : strettamente decrescente\n",
    "       \"NC\" : non-crescente\n",
    "    Restituisce una stringa contenete la valutazione del certificato immesso dallo studente.\n",
    "    \"\"\"\n",
    "    submission_string = f\"Hai inserito il certificato $subs= {subs}$.\"\n",
    "    submission_string += f\"<br>L'istanza era data da $s= {s}$.<br>\"\n",
    "    NO_eval = \"No. Totalizzeresti <span style='color:green'>[0 safe pt]</span>, \\\n",
    "                                  <span style='color:blue'>[0 possible pt]</span>, \\\n",
    "                                  <span style='color:red'>[10 out of reach pt]</span>.<br>\"\n",
    "    SI_eval = \"Si. Totalizzeresti <span style='color:green'>[ 1 safe pt]</span>, \\\n",
    "                                  <span style='color:blue'>[9 possible pt]</span>, \\\n",
    "                                  <span style='color:red'>[0 out of reach pt]</span>.<br>\"\n",
    "\n",
    "    ans,NO_cert_string = is_monotone(subs, mono_type)\n",
    "    if not ans:\n",
    "        return submission_string + NO_eval + NO_cert_string\n",
    "    if not is_subseq(s, subs):\n",
    "        return submission_string + NO_eval + \"La sequenza $subs$ proposta non è sottosequenza di $s$.\"\n",
    "    return submission_string + SI_eval\n",
    "\n",
    "def is_monotone_subseq_without_interval(s, subs, mono_type, start, end):\n",
    "    \"\"\"\n",
    "        (evaluation_string): verifica se s presenta la monotonicità di tipo mono_type (vedi tabella):\n",
    "           \"SC\" : strettamente crescente\n",
    "           \"ND\" : non-decrescente\n",
    "           \"SD\" : strettamente decrescente\n",
    "           \"NC\" : non-crescente\n",
    "        Restituisce una stringa contenete la valutazione del certificato immesso dallo studente sulla stringa s\n",
    "        privata degli elementi tra start e end\n",
    "        \"\"\"\n",
    "    aux = s[:]\n",
    "    del aux[start:end]\n",
    "    return is_monotone_subseq(aux,subs, mono_type)\n",
    "\n"
   ]
  },
  {
   "cell_type": "markdown",
   "metadata": {},
   "source": [
    "## Esercizio \\[60 pts\\]\n",
    "(poldo) Ricerca di sottosequenze strettamente crescenti di massima lughezza."
   ]
  },
  {
   "cell_type": "markdown",
   "metadata": {},
   "source": [
    "Si consideri la seguente sequenza di numeri naturali:"
   ]
  },
  {
   "cell_type": "code",
   "execution_count": 3,
   "metadata": {
    "hide_input": true,
    "readonly": true
   },
   "outputs": [],
   "source": [
    "s = [1, 14, 8, 2, 4, 21, 28, 48, 5, 26, 49, 9, 32, 19, 12, 46, 10, 7, 3, 25, 11, 6, 29, 39, 44, 13]"
   ]
  },
  {
   "cell_type": "code",
   "execution_count": 4,
   "metadata": {},
   "outputs": [
    {
     "name": "stdout",
     "output_type": "stream",
     "text": [
      "[1, 14, 8, 2, 4, 21, 28, 48, 5, 26, 49, 9, 32, 19, 12, 46, 10, 7, 3, 25, 11, 6, 29, 39, 44, 13]\n"
     ]
    }
   ],
   "source": [
    "print(s)"
   ]
  },
  {
   "cell_type": "markdown",
   "metadata": {},
   "source": [
    "\n",
    "__Richieste__:\n"
   ]
  },
  {
   "cell_type": "markdown",
   "metadata": {},
   "source": [
    "1. __[10 pts]__ Trovare una sottosequenza $s1$ strettamente crescente di $s$ che sia la più lunga possibile."
   ]
  },
  {
   "cell_type": "code",
   "execution_count": 12,
   "metadata": {},
   "outputs": [],
   "source": [
    "subs1 = [4]"
   ]
  },
  {
   "cell_type": "code",
   "execution_count": 13,
   "metadata": {
    "pycharm": {
     "name": "#%%\n"
    },
    "scrolled": true
   },
   "outputs": [
    {
     "data": {
      "text/markdown": [
       "Hai inserito il certificato $subs= [4]$.<br>L'istanza era data da $s= [4, 21, 28, 48, 5, 26, 49, 9, 32, 19, 12, 46, 10, 7, 3, 25, 11, 6, 29, 39, 44, 13]$.<br>Si. Totalizzeresti <span style='color:green'>[ 1 safe pt]</span>,                                   <span style='color:blue'>[9 possible pt]</span>,                                   <span style='color:red'>[0 out of reach pt]</span>.<br>"
      ],
      "text/plain": [
       "<IPython.core.display.Markdown object>"
      ]
     },
     "metadata": {},
     "output_type": "display_data"
    }
   ],
   "source": [
    "display(Markdown(is_monotone(s, subs1, \"SC\")))"
   ]
  },
  {
   "cell_type": "markdown",
   "metadata": {
    "pycharm": {
     "name": "#%%\n"
    }
   },
   "source": [
    "2. __[10 pts]__ Trovare una sottosequenza $s2$ strettamente decrescente di $s$ che sia la più lunga possibile.\n"
   ]
  },
  {
   "cell_type": "code",
   "execution_count": 14,
   "metadata": {},
   "outputs": [],
   "source": [
    "subs2 = [4]"
   ]
  },
  {
   "cell_type": "code",
   "execution_count": 16,
   "metadata": {},
   "outputs": [
    {
     "data": {
      "text/markdown": [
       "Hai inserito il certificato $subs= [4]$.<br>L'istanza era data da $s= [1, 14, 8, 2, 4, 21, 28, 48, 5, 26, 49, 9, 32, 19, 12, 46, 10, 7, 3, 25, 11, 6, 29, 39, 44, 13]$.<br>Si. Totalizzeresti <span style='color:green'>[ 1 safe pt]</span>,                                   <span style='color:blue'>[9 possible pt]</span>,                                   <span style='color:red'>[0 out of reach pt]</span>.<br>"
      ],
      "text/plain": [
       "<IPython.core.display.Markdown object>"
      ]
     },
     "metadata": {},
     "output_type": "display_data"
    }
   ],
   "source": [
    "display(Markdown(is_monotone_subseq(s, subs2, \"SD\")))"
   ]
  },
  {
   "cell_type": "markdown",
   "metadata": {},
   "source": [
    "3. __[10 pts]__ Trovare la più lunga sottosequenza crescente che includa l'elemento di valore 7"
   ]
  },
  {
   "cell_type": "markdown",
   "metadata": {},
   "source": [
    "4. __[10 pts]__ Una sequenza è detta una _V-sequenza_ se cala fino ad un certo punto, e da lì in poi cresce sempre. Trovare la più lunga V-sequenza che sia una sottosequenza della sequenza data"
   ]
  },
  {
   "cell_type": "markdown",
   "metadata": {},
   "source": [
    "5. __[20 pts]__ Qual è il minor numero possibile di colori _C_ per colorare gli elementi della sequenza in input in modo che, per ogni colore, la sottosequenza degli elementi di quel colore sia monotona non crescente? Specificare per ogni elemento il colore (come colori, usare i numeri da 1 a _C_)\n"
   ]
  }
 ],
 "metadata": {
  "celltoolbar": "Edit Metadata",
  "hide_input": false,
  "kernelspec": {
   "display_name": "Python 3",
   "language": "python",
   "name": "python3"
  },
  "language_info": {
   "codemirror_mode": {
    "name": "ipython",
    "version": 3
   },
   "file_extension": ".py",
   "mimetype": "text/x-python",
   "name": "python",
   "nbconvert_exporter": "python",
   "pygments_lexer": "ipython3",
   "version": "3.7.7"
  }
 },
 "nbformat": 4,
 "nbformat_minor": 4
}
