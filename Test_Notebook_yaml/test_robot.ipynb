{
 "cells": [
  {
   "cell_type": "code",
   "execution_count": null,
   "metadata": {},
   "outputs": [],
   "source": [
    "%%javascript\n",
    "window.findCellIndicesByTag = function findCellIndicesByTag(tagName) {\n",
    "  return (Jupyter.notebook.get_cells()\n",
    "    .filter(\n",
    "      ({metadata: {tags}}) => tags && tags.includes(tagName)\n",
    "    )\n",
    "    .map((cell) => Jupyter.notebook.find_cell_index(cell))\n",
    "  );\n",
    "};\n",
    "\n",
    "window.runCells = function runCells() {\n",
    "    var c = window.findCellIndicesByTag('runcell');\n",
    "    Jupyter.notebook.execute_cells(c);\n",
    "};\n"
   ]
  },
  {
   "cell_type": "code",
   "execution_count": null,
   "metadata": {},
   "outputs": [],
   "source": [
    "from IPython.core.display import display, HTML, Markdown, Javascript\n",
    "from tabulate import tabulate\n",
    "import copy\n",
    "\n",
    "def start():\n",
    "    display(Javascript(\"window.runCells()\"))\n"
   ]
  },
  {
   "cell_type": "code",
   "execution_count": null,
   "metadata": {},
   "outputs": [],
   "source": [
    "#seleziona la cella e premi ctrl-invio\n",
    "start()\n"
   ]
  },
  {
   "cell_type": "code",
   "execution_count": null,
   "metadata": {},
   "outputs": [],
   "source": [
    "campo_minato = [\n",
    "    [ \" \" , \" \" , \" \" , \" \" , \" \" , \" \" , \" \" , \" \" , \"*\" ],\n",
    "    [ \" \" , \" \" , \" \" , \" \" , \"*\" , \"*\" , \" \" , \" \" , \" \" ],\n",
    "    [ \" \" , \"*\" , \" \" , \"*\" , \" \" , \" \" , \" \" , \" \" , \" \" ],\n",
    "    [ \" \" , \" \" , \" \" , \" \" , \" \" , \" \" , \" \" , \"*\" , \" \" ],\n",
    "    [ \" \" , \" \" , \"*\" , \" \" , \"*\" , \" \" , \" \" , \" \" , \" \" ],\n",
    "    [ \" \" , \" \" , \" \" , \" \" , \" \" , \" \" , \"*\" , \" \" , \" \" ],\n",
    "    [ \" \" , \"*\" , \" \" , \" \" , \" \" , \" \" , \" \" , \" \" , \" \" ],\n",
    "    [ \" \" , \" \" , \" \" , \" \" , \" \" , \" \" , \" \" , \" \" , \" \" ]\n",
    "]\n",
    "\n",
    "start_point=(1,1)\n",
    "target_point=(8,9)\n",
    "middle_point_1=(2,3)\n",
    "middle_point_2=(6,6)\n",
    "middle_point_3=(4,5)\n",
    "\n",
    "m = len(campo_minato)\n",
    "n = len(campo_minato[0])\n",
    "mappa = [ [\"*\"]*(n+1) ] + [ ([\"*\"] + r) for r in campo_minato]\n"
   ]
  },
  {
   "cell_type": "code",
   "execution_count": null,
   "metadata": {},
   "outputs": [],
   "source": [
    "def visualizza(env):\n",
    "    if len(env)==m+1 and len(env[0])==n+1:\n",
    "        index=[chr(65+i) for i in range(m)]\n",
    "        aux=[r[1:] for r in env[1:]]\n",
    "        \n",
    "\n",
    "    if len(env)==m+2 and len(env[0])==n+2:\n",
    "        index=[chr(65+i) for i in range(m)]\n",
    "        aux=[r[1:-1] for r in env[1:-1]]\n",
    "\n",
    "    columns=[str(i) for i in range(1,n+1)]\n",
    "    print(tabulate(aux, headers=columns, tablefmt='fancy_grid', showindex=index))\n",
    "        \n",
    "\n",
    "def evaluation_format(answ, pt_green,pt_red):\n",
    "    pt_blue=0\n",
    "    if pt_green!=0:\n",
    "        pt_blue=pt_red-pt_green\n",
    "        pt_red=0\n",
    "    return f\"{answ}. Totalizzeresti <span style='color:green'>[{pt_green} safe pt]</span>,                                     <span style='color:blue'>[{pt_blue} possible pt]</span>,                                     <span style='color:red'>[{pt_red} out of reach pt]</span>.<br>\"\n",
    "\n",
    "def check_num_paths_to(mappa, num_paths_to, return_only_boolan=False):\n",
    "    if len(num_paths_to) != m+1:\n",
    "        if return_only_boolan:\n",
    "                return False\n",
    "        return evaluation_format(\"No\", 0, 10)+f\"Le righe della matrice $num\\_paths\\_to$ devono essere $m+1=${m+1}, non {len(num_paths_to)}.\"\n",
    "    if len(num_paths_to[0]) != n+1:\n",
    "        if return_only_boolan:\n",
    "                return False\n",
    "        return evaluation_format(\"No\", 0, 10)+f\"Le colonne della matrice $num\\_paths\\_to$ devono essere $n+1=${n+1}, non {len(num_paths_to[0])}.\"\n",
    "        \n",
    "    for i in range (0,m):\n",
    "        if num_paths_to[i][0]!=0:\n",
    "            if return_only_boolan:\n",
    "                return False\n",
    "            return evaluation_format(\"No\", 0, 10)+f\"Attenzione, i cammini devono partire dalla cella $(1,1)$ e pertanto $num\\_paths\\_to[${i}$][0] = 0$\"\n",
    "    for j in range (0,n):\n",
    "        if num_paths_to[0][j]!=0:\n",
    "            if return_only_boolan:\n",
    "                return False\n",
    "            return evaluation_format(\"No\", 0, 10)+f\"Attenzione, i cammini devono partire dalla cella $(1,1)$ e pertanto $num\\_paths\\_to[0][${j}$] = 0$\"\n",
    "    num_paths_to_forgiving = copy.deepcopy(num_paths_to)\n",
    "    num_paths_to_forgiving[1][1] = 1\n",
    "    for i in range(m,0,-1):\n",
    "        for j in range (n,0,-1):\n",
    "            if i==1 and j==1:\n",
    "                if return_only_boolan:\n",
    "                    return True\n",
    "                return  evaluation_format(\"Si\", 10, 10)+\"Non riscontro particolari problemi della tua versione della matrice $num\\_paths\\_to$.\"\n",
    "            if mappa[i][j]!=\"*\":\n",
    "                if num_paths_to_forgiving[i][j]!=num_paths_to_forgiving[i-1][j]+num_paths_to_forgiving[i][j-1]:\n",
    "                    if return_only_boolan:\n",
    "                        return False\n",
    "                    return  evaluation_format(\"No\", 0, 10)+\"Ti avviso: riscontro dei problemi nella tua versione della matrice $num\\_paths\\_to$.\"\n",
    "            elif num_paths_to_forgiving[i][j]!=0:\n",
    "                if return_only_boolan:\n",
    "                    return False\n",
    "                return  evaluation_format(\"No\", 0, 10)+\"Ti avviso: riscontro dei problemi nella tua versione della matrice $num\\_paths\\_to$.\"\n",
    "\n",
    "\n",
    "def check_num_paths_from(mappa, num_paths_from, return_only_boolan=False):\n",
    "    if len(num_paths_from) != m+2:\n",
    "        if return_only_boolan:\n",
    "            return False\n",
    "        return evaluation_format(\"No\", 0, 10)+f\"Le righe della matrice $num\\_paths\\_from$ devono essere $m+2=${m+2}, non {len(num_paths_from)}.\"\n",
    "    if len(num_paths_from[0]) != n+2:\n",
    "        if return_only_boolan:\n",
    "                return False\n",
    "        return evaluation_format(\"No\", 0, 10)+f\"Le colonne della matrice $num\\_paths\\_from$ devono essere $n+2=${n+2}, non {len(num_paths_from[0])}.\"\n",
    "        \n",
    "    for i in range (0,m+1):\n",
    "        if num_paths_from[i][n+1]!=0:\n",
    "            if return_only_boolan:\n",
    "                return False\n",
    "            return evaluation_format(\"No\", 0, 10)+f\"Attenzione, i cammini devono partire dalla cella $(8,9)$ e pertanto $num\\_paths\\_from[${i}$][10] = 0$\"\n",
    "    for j in range (0,n+1):\n",
    "        if num_paths_from[m+1][j]!=0:\n",
    "            if return_only_boolan:\n",
    "                return False\n",
    "            return evaluation_format(\"No\", 0, 10)+f\"Attenzione, i cammini devono partire dalla cella $(8,9)$ e pertanto $num\\_paths\\_from[9][${j}$] = 0$\"\n",
    "    num_paths_from_forgiving = copy.deepcopy(num_paths_from)\n",
    "    num_paths_from_forgiving[m][n] = 1\n",
    "    for i in range(1,m-1):\n",
    "        for j in range (1,n-1):\n",
    "            if mappa[i][j]!=\"*\":\n",
    "                if num_paths_from_forgiving[i][j]!=num_paths_from_forgiving[i+1][j]+num_paths_from_forgiving[i][j+1]:\n",
    "                    if return_only_boolan:\n",
    "                        return False\n",
    "                    return  evaluation_format(\"No\", 0, 10)+\"Ti avviso: riscontro dei problemi nella tua versione della matrice $num\\_paths\\_from$.\"\n",
    "            elif num_paths_from_forgiving[i][j]!=0:\n",
    "                if return_only_boolan:\n",
    "                    return False\n",
    "                return  evaluation_format(\"No\", 0, 10)+\"Ti avviso: riscontro dei problemi nella tua versione della matrice $num\\_paths\\_from$.\"\n",
    "    for i in range (1, m):\n",
    "        if mappa[i][n]!=\"*\":\n",
    "            if num_paths_from_forgiving[i][n]!=num_paths_from_forgiving[i+1][n]+num_paths_from_forgiving[i][n+1]:    \n",
    "                if return_only_boolan:\n",
    "                    return False\n",
    "                return  evaluation_format(\"No\", 0, 10)+\"Ti avviso: riscontro dei problemi nella tua versione della matrice $num\\_paths\\_from$.\" \n",
    "        elif num_paths_from_forgiving[i][n]!=0:\n",
    "            if return_only_boolan:\n",
    "                return False\n",
    "            return  evaluation_format(\"No\", 0, 10)+\"Ti avviso: riscontro dei problemi nella tua versione della matrice $num\\_paths\\_from$.\"\n",
    "    for j in range (1, n):\n",
    "        if mappa[m][j]!=\"*\":\n",
    "            if num_paths_from_forgiving[m][j]!=num_paths_from_forgiving[m+1][j]+num_paths_from_forgiving[m][j+1]:\n",
    "                if return_only_boolan:\n",
    "                    return False\n",
    "                return  evaluation_format(\"No\", 0, 10)+\"Ti avviso: riscontro dei problemi nella tua versione della matrice $num\\_paths\\_from$.\" \n",
    "        elif num_paths_from_forgiving[m][j]!=0:\n",
    "            if return_only_boolan:\n",
    "                return False\n",
    "            return  evaluation_format(\"No\", 0, 10)+\"Ti avviso: riscontro dei problemi nella tua versione della matrice $num\\_paths\\_from$.\"\n",
    "    if return_only_boolan:\n",
    "        return True\n",
    "    return  evaluation_format(\"Si\", 10, 10)+\"Non riscontro particolari problemi della tua versione della matrice $num\\_paths\\_from$.\"\n",
    "\n",
    "def Latex_type(string):\n",
    "    return string.replace(\"_\", \"\\_\")\n",
    "\n",
    "def visualizza_e_valuta(nome_matrice, matrice):\n",
    "    display(Markdown(f\"La tua versione attuale della matrice ${Latex_type(nome_matrice)}$ è la seguente:\"))\n",
    "    visualizza(matrice)\n",
    "    display(Markdown(f\"<b>Validazione della tua matrice ${Latex_type(nome_matrice)}$:</b>\"))\n",
    "    display(Markdown(eval(f\"check_{nome_matrice}(mappa,matrice)\")))    \n"
   ]
  },
  {
   "cell_type": "markdown",
   "metadata": {},
   "source": [
    "## Esercizio \\[60 pts\\]\n",
    "(campo minato) Conteggio di cammini in una griglia rettangolare con celle proibite.\n"
   ]
  },
  {
   "cell_type": "markdown",
   "metadata": {},
   "source": [
    "Bimo cammina sulle celle di un campo minato dalla forma di una griglia rettangolare $m\times n$. Le mine sono indicate da un \"*\" mentre le altre celle (\" \") sono tutte transitabili.\n",
    "Le mosse consentite portano Bimo dalla cella $(i,j)$ alla cella $(i+1,j)$ oppure $(i,j+1)$, sempre ove queste siano transitabili.\n",
    "Organizzati per calcolare quanti sono i cammini possibili tra due celle date e per rispondere ad altre domande di questo tipo.\n"
   ]
  },
  {
   "cell_type": "markdown",
   "metadata": {},
   "source": [
    "<b>Notice:</b> Anche se ne hai quì ogni opportunità, non ti è però richiesto in alcun modo di scrivere del codice per condurre a termine il tuo esercizio. Puoi fare tutto a mano e vogliamo essere chiari che noi non facciamo alcuna differenza tra i punti conquistati in un modo piuttosto che in un altro (noi guardiamo ai risultati e ci piace che voi vi ingegniate a modo vostro per portarli a casa, in tutta libertà). Sei incoraggiato piuttosto a ricercare l'approccio per tè più pratico, sicuro, e conveniente. E magari quello che puoi trovare più piacevole e stimolante quando svlgi l'esercizio da casa, dove ti suggerisco sperimentare, potrebbe anche essere diverso .\n",
    "Ciò nononostante, per facilitare chi di voi volesse scrivere del codice a proprio supporto, abbiamo aggiunto alla mappa di $m$ righe ed $n$ colonne una riga e colonna iniziale (di indice zero), fatte interamente di mine, perchè non si crei confusione col fatto che gli indici di liste ed array in programmazione partono da zero.\n"
   ]
  },
  {
   "cell_type": "code",
   "execution_count": null,
   "metadata": {},
   "outputs": [],
   "source": [
    "display(Markdown(f\"Un robot, inizialmente situato nella cella ${chr(64+start_point[0])}{start_point[1]}={start_point}$, deve portarsi nella cella \"\n",
    "                + f\"${chr(64+target_point[0])}{target_point[1]}={target_point}$.\" \n",
    "                + f\"Le celle che riportano il simbolo '*' contengono una mina od altre trapole mortali, ed il robot deve evitarle.\" \n",
    "                + f\"I movimenti base possibili sono il passo verso destra (ad esempio il primo passo potrebbe avvenire dalla cella $A1$ alla cella $A2$)\" \n",
    "                + f\" ed il passo verso il basso (ad esempio, come unica altra alternativa per il primo passo il robot \"\n",
    "                + f\"potrebbe portarsi quindi nella cella $B1$).\" \n",
    "                + f\"Quanti sono i possibili percorsi che può fare il robot per andare dalla cella ${chr(64+start_point[0])}{start_point[1]}$ alla cella ${chr(64+target_point[0])}{target_point[1]}$?\"))\n"
   ]
  },
  {
   "cell_type": "code",
   "execution_count": null,
   "metadata": {},
   "outputs": [],
   "source": [
    "visualizza(mappa)\n"
   ]
  },
  {
   "cell_type": "markdown",
   "metadata": {},
   "source": [
    "__Richieste__:\n"
   ]
  },
  {
   "cell_type": "code",
   "execution_count": null,
   "metadata": {},
   "outputs": [],
   "source": [
    "display(Markdown(f\"1. __\\[10 pts\\]__ A mano o tramite un programma componi la matrice $num\\_paths\\_to$ di dimensione $(m+1)\\times(n+1)$ e tale per cui in $num\\_paths\\_to[i][j]$ sia riposto il numero di cammini dalla cella ${chr(64+start_point[0])}{start_point[1]}={start_point}$ alla generica cella $(i,j)$, per ogni $i = 0,..., m+1$ e $j = 0,..., n+1$.\"))\n"
   ]
  },
  {
   "cell_type": "code",
   "execution_count": null,
   "metadata": {},
   "outputs": [],
   "source": [
    "num_paths_to =[\n",
    "                    [  0,   0,   0,   0,   0,   0,   0,   0,   0,   0], \n",
    "                    [  0,   1,   1,   1,   1,   1,   1,   1,   1,   0], \n",
    "                    [  0,   1,   2,   3,   4,   0,   0,   0,   0,   0], \n",
    "                    [  0,   1,   0,   3,   0,   0,   0,   0,   0,   0], \n",
    "                    [  0,   1,   1,   3,   3,   3,   3,   3,   0,   0], \n",
    "                    [  0,   1,   2,   0,   3,   0,   3,   6,   6,   6], \n",
    "                    [  0,   1,   3,   3,   6,   6,   9,   0,   6,  12], \n",
    "                    [  0,   1,   0,   3,   9,  15,  24,  24,  30,  42], \n",
    "                    [  0,   1,   1,   4,  13,  28,  52,  86, 106, 148]\n",
    "                ]\n"
   ]
  },
  {
   "cell_type": "code",
   "execution_count": null,
   "metadata": {},
   "outputs": [],
   "source": [
    "visualizza_e_valuta('num_paths_to',num_paths_to)\n"
   ]
  },
  {
   "cell_type": "code",
   "execution_count": null,
   "metadata": {},
   "outputs": [],
   "source": [
    "display(Markdown(f\"2. __\\[10 pts\\]__ Componi ora una matrice $num\\_paths\\_from$ di dimensione $(m+2)x(n+2)$\"                     +f\" e tale per cui in $num\\_paths\\_from[i][j]$, per ogni $i = 1,..., m+1$ e $j = 1,..., n+1$,\"                     +f\" sia riposto il numero di cammini dalla generica cella $(i,j)$ alla cella \"                    +f\"${chr(64+target_point[0])}{target_point[1]}={target_point})$.\"))\n"
   ]
  },
  {
   "cell_type": "code",
   "execution_count": null,
   "metadata": {},
   "outputs": [],
   "source": [
    "num_paths_from=[\n",
    "                    [  *,   *,   *,   *,   *,   *,   *,   *,   *,   *], \n",
    "                    [  *,    ,    ,    ,    ,    ,    ,    ,    ,   *], \n",
    "                    [  *,    ,    ,    ,    ,   *,   *,    ,    ,    ], \n",
    "                    [  *,    ,   *,    ,   *,    ,    ,    ,    ,    ], \n",
    "                    [  *,    ,    ,    ,    ,    ,    ,    ,   *,    ], \n",
    "                    [  *,    ,    ,   *,    ,   *,    ,    ,    ,    ], \n",
    "                    [  *,    ,    ,    ,    ,    ,    ,   *,    ,    ], \n",
    "                    [  *,    ,   *,    ,    ,    ,    ,    ,    ,    ], \n",
    "                    [  *,    ,    ,    ,    ,    ,    ,    ,    ,    ]\n",
    "                ]\n"
   ]
  },
  {
   "cell_type": "code",
   "execution_count": null,
   "metadata": {},
   "outputs": [],
   "source": [
    "\"visualizza_e_valuta('num_paths_from',num_paths_from)\n"
   ]
  },
  {
   "cell_type": "code",
   "execution_count": null,
   "metadata": {},
   "outputs": [],
   "source": [
    "\"display(Markdown(f\"3. __\\[10 pts\\]__ Quanti sono i percorsi con partenza in ${chr(64+start_point[0])}{start_point[1]}={start_point}$ ed arrivo in \"                 +f\"${chr(64+target_point[0])}{target_point[1]}={target_point}$.\"))\n"
   ]
  },
  {
   "cell_type": "markdown",
   "metadata": {},
   "source": [
    "\"Inserisci la risposta\n"
   ]
  },
  {
   "cell_type": "code",
   "execution_count": null,
   "metadata": {},
   "outputs": [],
   "source": [
    "\"display(Markdown(f\"4. __\\[10 pts\\]__ Quanti sono i percorsi con partenza in ${chr(64+middle_point_1[0])}{middle_point_1[1]}={middle_point_1}$ ed arrivo in \"                 +f\"${chr(64+target_point[0])}{target_point[1]}={target_point}$.\"))\n"
   ]
  },
  {
   "cell_type": "markdown",
   "metadata": {},
   "source": [
    "\"Inserisci la risposta\n"
   ]
  },
  {
   "cell_type": "code",
   "execution_count": null,
   "metadata": {},
   "outputs": [],
   "source": [
    "\"display(Markdown(f\"5. __\\[10 pts\\]__ Quanti sono i percorsi con partenza in ${chr(64+start_point[0])}{start_point[1]}={start_point}$ ed arrivo in ${chr(64+middle_point_2[0])}{middle_point_2[1]}={middle_point_2}$?\"))\n"
   ]
  },
  {
   "cell_type": "markdown",
   "metadata": {},
   "source": [
    "\"Inserisci la risposta\n"
   ]
  },
  {
   "cell_type": "code",
   "execution_count": null,
   "metadata": {},
   "outputs": [],
   "source": [
    "\"display(Markdown(f\"6. __\\[10 pts\\]__ Quanti sono i percorsi che partono da ${chr(64+start_point[0])}{start_point[1]}={start_point}$, passano da ${chr(64+middle_point_3[0])}{middle_point_3[1]}={middle_point_3}$, ed arrivano in ${chr(64+target_point[0])}{target_point[1]}={target_point}$?\"))\n"
   ]
  },
  {
   "cell_type": "markdown",
   "metadata": {},
   "source": [
    "\"Inserisci la risposta\n"
   ]
  }
 ],
 "metadata": {},
 "nbformat": 4,
 "nbformat_minor": 4
}
