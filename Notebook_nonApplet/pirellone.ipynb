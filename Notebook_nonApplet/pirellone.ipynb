{
 "cells": [
  {
   "cell_type": "code",
   "execution_count": null,
   "outputs": [],
   "source": [
    "from IPython.core.display import display, HTML, Markdown"
   ],
   "metadata": {
    "collapsed": false,
    "pycharm": {
     "name": "#%%\n"
    }
   }
  },
  {
   "cell_type": "code",
   "execution_count": null,
   "outputs": [],
   "source": [
    "def is_subseq(s, subs):\n",
    "    \"\"\"\n",
    "    bool: verifica se subs è sottosequenza di s.\n",
    "    \"\"\"\n",
    "    found = 0\n",
    "    pos_r = 0\n",
    "    while pos_r < len(s):\n",
    "        if s[pos_r] == subs[found]:\n",
    "            found += 1\n",
    "            if found >= len(subs):\n",
    "                return True\n",
    "        pos_r += 1\n",
    "    return False\n",
    "\n",
    "def evaluation_format(answ, pt_green,pt_red):\n",
    "    pt_blue=pt_red-pt_green\n",
    "    return f\"{answ}. Totalizzeresti <span style='color:green'>[{pt_green} safe pt]</span>, \\\n",
    "                                    <span style='color:blue'>[{pt_blue} possible pt]</span>, \\\n",
    "                                    <span style='color:red'>[{pt_red} out of reach pt]</span>.<br>\"\n",
    "\n",
    "\n",
    "# Legend of the possible sequence types:\n",
    "dictionary_of_types = {\n",
    "      \"SC\": (\"implemented\", \"<b>strettamente crescente</b>\"),\n",
    "      \"ND\": (\"implemented\", \"<b>non-decrescente</b>\"),\n",
    "      \"SD\": (\"implemented\", \"<b>strettamente decrescente</b>\"),\n",
    "      \"NC\": (\"implemented\", \"<b>non-crescente</it>\"),\n",
    "       \"V\": (\"implemented\", \"<b>a V</b> <it>(prima giù e poi sù)</it>\"),\n",
    "       \"A\": (\"implemented\", \"<b>ad A</b> (prima sù e poi giù)</it>\"),\n",
    "      \"SV\": (\"implemented\", \"<b>a V stretto</b> <it>(prima strettamente giù e poi strettamente sù)</it>\"),\n",
    "      \"SA\": (\"implemented\", \"<b>ad A stetto</b> <it>(prima strettamente sù e poi strettamente giù)</it>\"),\n",
    "  \"ZigZag\": (\"implemented\", \"<b>a Zig-Zag</b> <it>(primo passo a crescere e poi alterna ad ogni passo)</it>\"),\n",
    "  \"ZagZig\": (\"implemented\", \"<b>a Zag-Zig</b> <it>(primo passo a calare e poi alterna ad ogni passo)</it>\"),\n",
    "\"ZigZagEQ\": (\"implemented\", \"<b>a Zig-Zag debole</b> <it>(primo passo a crescere e poi alterna ad ogni passo, con valori consecutivi che possono essere uguali)</it>\"),\n",
    "\"ZagZigEQ\": (\"implemented\", \"<b>a Zag-Zig debole</b> <it>(primo passo a calare e poi alterna ad ogni passo, con valori consecutivi che possono essere uguali)</it>\"),\n",
    "\"132-free\": (\"not yet done\", \"<b>dal mondo delle permutazioni pattern free per un infinità di problemi in FPT</b>\"),\n",
    "     \"...\": (\"not thought of yet\", \"<b>???</b>\")\n",
    "}\n",
    "\n",
    "def Latex_type(seq_type):\n",
    "    return dictionary_of_types[seq_type][1].replace(\"_\", \"\\_\")\n",
    "\n",
    "\n",
    "def is_seq_of_type(s, name_s, seq_type):\n",
    "    \"\"\"\n",
    "    valuta se la sequenza di interi s, di nome name_s, è di tipo seq_type (vedi tabella subito sopra).\n",
    "    valore di ritorno (bool, NO_cert_string):\n",
    "       In caso affermativo il bool ritornato come prima componente è True e la seconda componente è None.\n",
    "       Altrimenti il bool è False e viene restituita una stringa che riporta una violazione puntuale alla proprietà richiesta.\n",
    "    \"\"\"\n",
    "    if len(s) > 1:\n",
    "        already_went_down = s[1] < s[0]\n",
    "        already_went_up = s[1] > s[0]\n",
    "    for i in range(1,len(s)):\n",
    "        if s[i] < s[i-1]:\n",
    "            already_went_down = True\n",
    "            if seq_type==\"V\" and already_went_up:\n",
    "                return (0,f\"La sequenza ${LaTexVarName(name_s)}$ non è di tipo ${Latex_type('V')}$ poichè ${LaTexVarName(name_s)}[${i-1}$] = {s[i-2]} $<$ {s[i-1]} $= {LaTexVarName(name_s)}[${i}$] > {LaTexVarName(name_s)}[${i+1}$] =$ {s[i]}.\")\n",
    "            if seq_type in {\"SC\",\"ND\"} or (seq_type in {\"ZigZag\",\"ZigZagEQ\"} and s[i]%2 == 1) or (seq_type in {\"ZagZig\",\"ZagZigEQ\"} and s[i]%2 == 0):\n",
    "                return (0,f\"La sequenza ${LaTexVarName(name_s)}$ non è di tipo ${Latex_type(seq_type)}$ poichè ${LaTexVarName(name_s)}[${i}$] = {s[i-1]} $>$ {s[i]} $= {LaTexVarName(name_s)}[${i+1}$]$.\")\n",
    "        if s[i] > s[i-1]:\n",
    "            already_went_up = True\n",
    "            if seq_type==\"A\" and already_went_down:\n",
    "                return (0,f\"La sequenza ${LaTexVarName(name_s)}$ non è di tipo {Latex_type('A')} poichè ${LaTexVarName(name_s)}[${i-1}$] =$ {s[i-2]} $>$ {s[i-1]} $= {LaTexVarName(name_s)}[${i}$] < {LaTexVarName(name_s)}[${i+1}$] =$ {s[i]}.\")\n",
    "            if seq_type in {\"SD\",\"NC\"} or (seq_type in {\"ZagZig\",\"ZagZigEQ\"} and s[i]%2 == 1) or (seq_type in {\"ZigZag\",\"ZigZagEQ\"} and s[i]%2 == 0):\n",
    "                return (0,f\"La sequenza ${LaTexVarName(name_s)}$ non è di tipo {Latex_type(seq_type)} poichè ${LaTexVarName(name_s)}[${i}$] =$ {s[i-1]} $<$ {s[i]} $= {LaTexVarName(name_s)}[${i+1}$]$.\")\n",
    "        if s[i] == s[i-1] and seq_type in {\"SC\",\"SD\",\"SV\",\"SA\",\"ZigZag\",\"ZagZig\"}:\n",
    "            return (0,f\"La sequenza ${LaTexVarName(name_s)}$ non è di tipo {Latex_type(seq_type)} poichè ${LaTexVarName(name_s)}[${i}$] =$ {s[i-1]} $=$ {s[i]} $= {LaTexVarName(name_s)}[${i+1}$]$.\")\n",
    "    return (1,None)\n",
    "\n",
    "def LaTexVarName(var_name):\n",
    "    return var_name.replace(\"_\", \"\\_\")\n",
    "\n",
    "\n",
    "def is_subseq_of_type(s, name_s, subs, name_subs, subs_type, pt_green, pt_red, forced_ele_pos = None, start_banned_interval = None, end_banned_interval = None):\n",
    "    \"\"\"\n",
    "    Verifica se subs, una sequenza di interi di nome name_subs, è sequenza di tipo subs_type (vedi tabella) e sottosequenza della sequenza s.\n",
    "    Se forced_ele_pos != None è richiesto che subs contenga l'elemento s[forced_ele_pos].\n",
    "    Se start_banned_interval,end_banned_interval != None è richiesto che subs eviti il sottointervallo bandito di s.\n",
    "    Restituisce una stringa contenete la valutazione del certificato subs immesso dallo studente, a tale scopo i parametri pt_green e pt_red mentre pt_blue=pt_red-pt_green è fatto implicito.\n",
    "    \"\"\"\n",
    "    submission_string = f\"Hai inserito il certificato ${LaTexVarName(name_subs)}={subs}$.\"\n",
    "    submission_string += f\"<br>L'istanza era data da ${LaTexVarName(name_s)}={s}$.<br>\"\n",
    "\n",
    "    if not is_seq_of_type(subs, \"subs\", subs_type)[0]:\n",
    "        return submission_string + evaluation_format(\"No\", pt_green,pt_red) + is_seq_of_type(subs, \"subs\", subs_type)[1]\n",
    "    if start_banned_interval != None or end_banned_interval != None:\n",
    "        assert start_banned_interval != None and end_banned_interval != None\n",
    "        if forced_ele_pos != None:\n",
    "            assert forced_ele_pos < start_banned_interval or forced_ele_pos > end_banned_interval\n",
    "            if forced_ele_pos > end_banned_interval:\n",
    "               forced_ele_pos -= end_banned_interval \n",
    "        aux = s[:start_banned_interval-1] +s[end_banned_interval:]\n",
    "    if not is_subseq(s, subs):\n",
    "        return submission_string + f\"{evaluation_format('No', pt_green,pt_red)}\" + f\"La sequenza ${LaTexVarName(name_subs)}$ proposta non è sottosequenza di ${LaTexVarName(name_s)}$.\"\n",
    "    if forced_ele_pos != None:\n",
    "        forced_ele_0basedpos = forced_ele_pos\n",
    "        found_magic_point = False\n",
    "        for guess_0basedpos_in_subs in range(len(subs)):\n",
    "            if subs[guess_0basedpos_in_subs] == s[forced_ele_0basedpos]:\n",
    "                if is_subseq(s[:forced_ele_0basedpos], subs[:guess_0basedpos_in_subs]) and is_subseq(s[forced_ele_0basedpos:], subs[guess_0basedpos_in_subs:]):\n",
    "                    found_magic_point = False\n",
    "        if not found_magic_point:\n",
    "            return submission_string + f\"{evaluation_format('No', pt_green,pt_red)}\" + f\"La sequenza $LaTexVarName({name_subs})$ proposta non è sottosequenza di $LaTexVarName({name_s}) che ne includa l'elemento in posizione {forced_ele_pos}$.\"\n",
    "        \n",
    "    return submission_string + f\"{evaluation_format('Si', pt_green,pt_red)}\"\n",
    "\n",
    "def eval_coloring(s, name_s, col, name_col, subs_type, pt_green=2, pt_red=15):\n",
    "    \"\"\"\n",
    "    Verifica se col, una sequenza di interi positivi di nome name_col, offre una colorazione degli elementi nella sequenza s,\n",
    "    di nome name_s, tale che restringendo l'attenzione ai soli elementi di qualsivoglia colore, la sottosequenza di essi\n",
    "    sia sequenza di tipo subs_type (vedi tabella).\n",
    "    Restituisce una stringa contenete la valutazione del certificato col immesso dallo studente, a tale scopo i parametri pt_green e pt_red mentre pt_blue=pt_red-pt_green è fatto implicito.\n",
    "    \"\"\"\n",
    "    submission_string = f\"Hai inserito il certificato ${LaTexVarName(name_col)}={col}$.\"\n",
    "    submission_string += f\"<br>L'istanza era data da ${LaTexVarName(name_s)}={s}$.<br>\"\n",
    "\n",
    "    for c in col:\n",
    "        subs = [s[i] for i in range(len(s)) if col[i] == c]\n",
    "        if not is_seq_of_type(subs, \"subs\", subs_type)[0]:\n",
    "            return submission_string + f\"{evaluation_format('No', pt_green,pt_red)}\" + f\"Checking the subsequence of the elements colored with {c} within ${LaTexVarName(name_s)}$, that is {subs} ... \" + is_seq_of_type(subs, \"subs\", subs_type)[1]        \n",
    "    return submission_string + f\"{evaluation_format('Si', pt_green,pt_red)}\"\n",
    "    \n"
   ],
   "metadata": {
    "collapsed": false,
    "pycharm": {
     "name": "#%%\n"
    }
   }
  },
  {
   "cell_type": "markdown",
   "source": [
    "## Esercizio \\[60 pts\\]\n",
    "(pirellone) Minimizza il numero di celle che lasci accese in una matrice $m\\times n$ di booleani (acceso/spento). Puoi utilizzare le $m+n$ mosse che invertono tutta una riga oppure tutta una colonna."
   ],
   "metadata": {
    "collapsed": false
   }
  },
  {
   "cell_type": "markdown",
   "source": [
    "# Ecco il pirellone in input:\n",
    "p = [\n",
    "       [0, 0, 1, 0, 1, 1],\n",
    "       [0, 0, 1, 0, 0, 1],\n",
    "       [1, 1, 0, 1, 1, 0],\n",
    "       [1, 1, 0, 1, 0, 1],\n",
    "       [0, 0, 1, 0, 0, 1]\n",
    "]\n",
    "interactive_p = p.copy()"
   ],
   "metadata": {
    "collapsed": false
   }
  },
  {
   "cell_type": "markdown",
   "source": [
    "__Richieste__:\n",
    "[2+18pt]\n",
    "Setta nei vettori booleani $flippa\\_riga \\in \\{0,1\\}^m$ e $flippa\\_colonna \\in \\{0,1\\}^n$ le mosse che intendi compiere per spegnere il massimo numero possibile di celle."
   ],
   "metadata": {
    "collapsed": false
   }
  },
  {
   "cell_type": "code",
   "execution_count": null,
   "outputs": [],
   "source": [
    "flippa_riga =  [0, 0, 0, 0, 0] # [0, 0, 1, 1, 0]\n",
    "flippa_colonna = [0, 0, 0, 0, 0, 0] # [0, 0, 1, 0, 0, 1]"
   ],
   "metadata": {
    "collapsed": false,
    "pycharm": {
     "name": "#%%\n"
    }
   }
  },
  {
   "cell_type": "code",
   "execution_count": null,
   "outputs": [],
   "source": [
    "flippa_riga(3)\n",
    "flippa_colonna(3)\n",
    "interactive_p = applica(interactive_p, flippa_riga, flippa_colonna)\n",
    "print(interactive_p)\n",
    "chiedi_valutazione(interactive_p) # verifica_is_the_same(p, interactive_p)\n"
   ],
   "metadata": {
    "collapsed": false,
    "pycharm": {
     "name": "#%%\n"
    }
   }
  },
  {
   "cell_type": "markdown",
   "source": [
    "[30pt]\n",
    "Nel quadro sotto, fornisci argomenti per certificare che non è possibile spegnere un numero maggiore di celle.\n",
    "\n",
    "lista_dei_cattivi = [ [(0,4),(1,5)], [(3,4),(4,3)], [(3,2),(4,2)]]\n",
    "\n",
    "visualizza_i_cattivi_e_validali_come_certificato()\n"
   ],
   "metadata": {
    "collapsed": false
   }
  },
  {
   "cell_type": "code",
   "execution_count": null,
   "outputs": [],
   "source": [],
   "metadata": {
    "collapsed": false,
    "pycharm": {
     "name": "#%%\n"
    }
   }
  }
 ],
 "metadata": {
  "celltoolbar": "Edit Metadata",
  "hide_input": false,
  "kernelspec": {
   "display_name": "Python 3",
   "language": "python",
   "name": "python3"
  },
  "language_info": {
   "codemirror_mode": {
    "name": "ipython",
    "version": 3
   },
   "file_extension": ".py",
   "mimetype": "text/x-python",
   "name": "python",
   "nbconvert_exporter": "python",
   "pygments_lexer": "ipython3",
   "version": "3.7.7"
  }
 },
 "nbformat": 4,
 "nbformat_minor": 4
}