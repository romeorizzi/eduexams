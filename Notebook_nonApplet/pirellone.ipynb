{
 "cells": [
  {
   "cell_type": "code",
   "execution_count": 34,
   "metadata": {
    "pycharm": {
     "name": "#%%\n"
    }
   },
   "outputs": [],
   "source": [
    "from IPython.core.display import display, HTML, Markdown\n",
    "\n",
    "p = [\n",
    "       [0, 0, 1, 0, 1, 1, 0, 1],\n",
    "       [0, 0, 1, 0, 0, 1, 1, 0],\n",
    "       [1, 1, 0, 1, 1, 0, 0, 0],\n",
    "       [1, 1, 0, 1, 0, 1, 1, 0],\n",
    "       [0, 0, 1, 0, 0, 1, 0, 1],\n",
    "       [1, 0, 1, 0, 1, 1, 0, 1]\n",
    "]\n",
    "impostazione_attuale_interruttore_di_riga = [0]*len(p)\n",
    "impostazione_attuale_interruttore_di_colonna = [0]*len(p[0])\n",
    "                \n",
    "def flippa_riga(r):\n",
    "    if r < 0 or r >= len(p):\n",
    "        display(Markdown(f\"<it>Attenzione:</it> gli indici di riga $r$ che puoi immettere nella funzione $flippa\\_riga(r)$ sono i numeri naturali da $0$ a ${len(p)-1}$\"))\n",
    "        return\n",
    "    impostazione_attuale_interruttore_di_riga[r] = 1-impostazione_attuale_interruttore_di_riga[r]\n",
    "        \n",
    "def flippa_colonna(c):\n",
    "    if c < 0 or c >= len(p[0]):\n",
    "        display(Markdown(f\"<it>Attenzione:</it> gli indici di colonna $c$ che puoi immettere nella funzione $flippa\\_colonna(c)$ sono i numeri naturali da $0$ a ${len(p[0])-1}$\"))\n",
    "        return\n",
    "    impostazione_attuale_interruttore_di_colonna[c] = 1-impostazione_attuale_interruttore_di_colonna[c]\n",
    "\n",
    "def visualizza(p):\n",
    "    num_accese = 0;\n",
    "    for r in range(len(p)):\n",
    "        for c in range(len(p[0])):\n",
    "            print(p[r][c],end=\" \")\n",
    "            num_accese += p[r][c]\n",
    "        print()\n",
    "    display(Markdown(f\"Attualmente ci sono <b>{num_accese} luci accese</b>.\"))\n",
    "    \n",
    "    \n",
    "def visualizza_stato_attuale():\n",
    "    new_p = p.copy()\n",
    "    num_accese = 0;\n",
    "    new_p = [[(p[r][c]+impostazione_attuale_interruttore_di_riga[r]+impostazione_attuale_interruttore_di_colonna[c]) % 2  for c in range(len(p[0]))] for r in range(len(p))]\n",
    "    for r in range(len(p)):\n",
    "        for c in range(len(p[0])):\n",
    "            new_p[r][c] = (p[r][c] +impostazione_attuale_interruttore_di_riga[r] +impostazione_attuale_interruttore_di_colonna[c]) % 2\n",
    "            num_accese += new_p[r][c] \n",
    "    display(Markdown(f\"Agendo sugli interruttori settati come segue:<br><b>   Interruttori di riga:</b> {impostazione_attuale_interruttore_di_riga}<br><b>   Interruttori di colonna:</b> {impostazione_attuale_interruttore_di_colonna}\"))\n",
    "    display(Markdown(f\"Ti porti dalla configurazione iniziale riportata in $p$ nella seguente configurazione finale:<br>\"))\n",
    "    visualizza(new_p)\n"
   ]
  },
  {
   "cell_type": "markdown",
   "metadata": {},
   "source": [
    "## Esercizio \\[60 pts\\]\n",
    "(pirellone) Cerca di minimizzare i numero di luci lasciate accese quando, partendo dalla seguente matrice di $m\\times n$ valori booleani (acceso/spento), puoi utilizzare delle $m+n$ mosse che invertono tutta una riga oppure tutta una colonna quelle che reputi più opportuno."
   ]
  },
  {
   "cell_type": "code",
   "execution_count": 35,
   "metadata": {},
   "outputs": [
    {
     "name": "stdout",
     "output_type": "stream",
     "text": [
      "0 0 1 0 1 1 0 1 \n",
      "0 0 1 0 0 1 1 0 \n",
      "1 1 0 1 1 0 0 0 \n",
      "1 1 0 1 0 1 1 0 \n",
      "0 0 1 0 0 1 0 1 \n",
      "1 0 1 0 1 1 0 1 \n"
     ]
    },
    {
     "data": {
      "text/markdown": [
       "Attualmente ci sono <b>24 luci accese</b>."
      ],
      "text/plain": [
       "<IPython.core.display.Markdown object>"
      ]
     },
     "metadata": {},
     "output_type": "display_data"
    }
   ],
   "source": [
    "# Ecco il pirellone in input:\n",
    "visualizza(p)"
   ]
  },
  {
   "cell_type": "markdown",
   "metadata": {},
   "source": [
    "__Richieste__:\n",
    "[15pt] Portati in una configurazione col minor numero possibile di luci accese. Puoi effettuare una mossa alla volta utilizzando le funzioni $flippa\\_riga(indice\\_riga)$ e $flippa\\_colonna(indice\\_colonna)$ per spostarti un pò alla volta fino ad una configurazione che reputi ottima."
   ]
  },
  {
   "cell_type": "code",
   "execution_count": 42,
   "metadata": {
    "pycharm": {
     "name": "#%%\n"
    }
   },
   "outputs": [
    {
     "data": {
      "text/markdown": [
       "Agendo sugli interruttori settati come segue:<br><b>   Interruttori di riga:</b> [0, 0, 1, 1, 0, 0]<br><b>   Interruttori di colonna:</b> [0, 0, 1, 0, 0, 1, 0, 1]"
      ],
      "text/plain": [
       "<IPython.core.display.Markdown object>"
      ]
     },
     "metadata": {},
     "output_type": "display_data"
    },
    {
     "data": {
      "text/markdown": [
       "Ti porti dalla configurazione iniziale riportata in $p$ nella seguente configurazione finale:<br>"
      ],
      "text/plain": [
       "<IPython.core.display.Markdown object>"
      ]
     },
     "metadata": {},
     "output_type": "display_data"
    },
    {
     "name": "stdout",
     "output_type": "stream",
     "text": [
      "0 0 0 0 1 0 0 0 \n",
      "0 0 0 0 0 0 1 1 \n",
      "0 0 0 0 0 0 1 0 \n",
      "0 0 0 0 1 1 0 0 \n",
      "0 0 0 0 0 0 0 0 \n",
      "1 0 0 0 1 0 0 0 \n"
     ]
    },
    {
     "data": {
      "text/markdown": [
       "Attualmente ci sono <b>8 luci accese</b>."
      ],
      "text/plain": [
       "<IPython.core.display.Markdown object>"
      ]
     },
     "metadata": {},
     "output_type": "display_data"
    }
   ],
   "source": [
    "#flippa_riga(3)\n",
    "flippa_colonna(7)\n",
    "visualizza_stato_attuale()"
   ]
  },
  {
   "cell_type": "markdown",
   "metadata": {},
   "source": [
    "[30pt]\n",
    "Nel quadro sotto, fornisci argomenti conclusivi per certificare che non è possibile spegnere un numero maggiore di celle. Faccio presente che questo problema di ottimizzazione non è noto essere in P e pertanto, ove fosse NP-hard, resterebbe allora inesauribile spazio alla tua creatività nel produrre questi argomenti.\n"
   ]
  },
  {
   "cell_type": "markdown",
   "metadata": {
    "pycharm": {
     "name": "#%%\n"
    }
   },
   "source": [
    "Si considerino le seguenti $8$ matrici cattive $2\\times 2$ (e si noti che non hanno alcuna cella in comune):\n",
    "    \n",
    "    righe: 5,4 colonne: 0,1\n",
    "    righe: 5,4 colonne: 4,2\n",
    "    righe: 3,2 colonne: 4,3\n",
    "    righe: 3,2 colonne: 5,2\n",
    "    righe: 2,3 colonne: 6,7\n",
    "    righe: 1,2 colonne: 6,1\n",
    "    righe: 1,2 colonne: 7,2\n",
    "    righe: 0,1 colonne: 4,3\n",
    "        \n",
    "Osserviamo infine, cosa che rende il nostro certificato ancora più piacevole e magico, che ogni luce che abbiamo lasciato accesa nella soluzione sopra data trova posto in precisamente una delle $8$ sottomatrici $2\\times 2$ quì listate (abbiamo avuto cura di porre per prima la riga e la colonna dell'unico $1$ in ciascuna di queste matrici). Valgono cioè quì, almeno su questa istanza, le condizioni degli scarti complementari.\n",
    "Si potrebbe sperare di mettere il problema in P (ma ricordo che un tempo, che mi era stato chiesto, ero riuscito a dare una qualche dimostrazione che mi pareva convincermi dell'NP-hardness di questo problema di ottimizzazione)."
   ]
  },
  {
   "cell_type": "code",
   "execution_count": null,
   "metadata": {},
   "outputs": [],
   "source": []
  }
 ],
 "metadata": {
  "celltoolbar": "Edit Metadata",
  "hide_input": false,
  "kernelspec": {
   "display_name": "Python 3",
   "language": "python",
   "name": "python3"
  },
  "language_info": {
   "codemirror_mode": {
    "name": "ipython",
    "version": 3
   },
   "file_extension": ".py",
   "mimetype": "text/x-python",
   "name": "python",
   "nbconvert_exporter": "python",
   "pygments_lexer": "ipython3",
   "version": "3.7.7"
  }
 },
 "nbformat": 4,
 "nbformat_minor": 4
}
