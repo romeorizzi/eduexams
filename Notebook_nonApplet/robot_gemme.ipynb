{
 "cells": [
  {
   "cell_type": "code",
   "execution_count": null,
   "metadata": {
    "hide_input": false,
    "pycharm": {
     "name": "#%%\n"
    }
   },
   "outputs": [],
   "source": [
    "from IPython.core.display import display, HTML, Markdown\n",
    "from ipywidgets import Button, HBox, VBox, widgets, Layout\n",
    "from tabulate import tabulate\n",
    "import pandas as pd"
   ]
  },
  {
   "cell_type": "code",
   "execution_count": 2,
   "metadata": {
    "hide_input": false,
    "pycharm": {
     "name": "#%%\n"
    }
   },
   "outputs": [],
   "source": [
    "#solver solo per non fare i calcoli a mano\n",
    "\n",
    "def num_percorsi(env,r,c):\n",
    "    m = []\n",
    "    for i in range(0,r):\n",
    "        m.append([0 for j in range(0,c)])\n",
    "    hole = 0\n",
    "    i=0\n",
    "    j=0\n",
    "    for i in range(0,r):\n",
    "        m[i][0]=0\n",
    "    for j in range(0,c):\n",
    "        m[0][j]=0\n",
    "    for i in range(0,r):\n",
    "        for j in range(0,c):\n",
    "            if i==1 and j==1:\n",
    "                m[i][j]=1\n",
    "            else:\n",
    "                if str(env[i][j])==-1:\n",
    "                    m[i][j]=-1\n",
    "                else:\n",
    "                    if m[i-1][j] == -1 and m[i][j-1] == -1:\n",
    "                         m[i][j] =0                    \n",
    "                    elif m[i-1][j] == -1:\n",
    "                        m[i][j]= m[i][j-1];\n",
    "                    elif m[i][j-1] == -1:\n",
    "                        m[i][j]= m[i-1][j]\n",
    "                    else:\n",
    "                        m[i][j] = m[i-1][j] + m[i][j-1];\n",
    "        \n",
    "    return m;\n",
    "\n",
    "def num_percorsi_reverse(env,r,c):\n",
    "    m = []\n",
    "    for i in range(0,r):\n",
    "        m.append([0 for j in range(0,c)])\n",
    "    hole = 0\n",
    "    i=r-1\n",
    "    j=c-1\n",
    "    while i > 0:\n",
    "        if str(env[i][c-1])==-1:\n",
    "            hole=1\n",
    "            m[i][c-1]=-1\n",
    "        elif hole == 0:\n",
    "            m[i][c-1] = 1\n",
    "        else:\n",
    "            m[i][c-1] = 0\n",
    "        i-=1\n",
    "    hole=0\n",
    "    while j > 0:\n",
    "        if str(env[r-1][j])==-1:\n",
    "            hole=1\n",
    "            m[r-1][j] = -1\n",
    "        elif hole == 0:\n",
    "            m[r-1][j] = 1\n",
    "        else:\n",
    "            m[r-1][j] = 0\n",
    "        j-=1\n",
    "    for i in range(r-2,0,-1):\n",
    "        for j in range(c-2,0,-1):\n",
    "                if str(env[i][j])==-1:\n",
    "                    m[i][j]=-1\n",
    "                else:\n",
    "                    if m[i+1][j] == -1 and m[i][j+1] == -1:\n",
    "                         m[i][j] =0                    \n",
    "                    elif m[i+1][j] == -1:\n",
    "                        m[i][j]= m[i][j+1]\n",
    "                    elif m[i][j+1] == -1:\n",
    "                        m[i][j]= m[i+1][j]\n",
    "                    else:\n",
    "                        #print(f\"{m[i+1][j]}+{m[i][j+1]}\")\n",
    "                        m[i][j] = m[i+1][j] + m[i][j+1];\n",
    "    return m\n",
    "            \n"
   ]
  },
  {
   "cell_type": "code",
   "execution_count": 3,
   "metadata": {
    "hide_input": true
   },
   "outputs": [],
   "source": [
    "def evaluation_format(answ, pt_green,pt_red):\n",
    "    pt_blue=0\n",
    "    if pt_green!=0:\n",
    "        pt_blue=pt_red-pt_green\n",
    "        pt_red=0\n",
    "    return f\"{answ}. Totalizzeresti <span style='color:green'>[{pt_green} safe pt]</span>, \\\n",
    "                                    <span style='color:blue'>[{pt_blue} possible pt]</span>, \\\n",
    "                                    <span style='color:red'>[{pt_red} out of reach pt]</span>.<br>\"\n",
    "\n",
    "def check_num_pathss_to_goal(num_paths, row, col):\n",
    "    for i in range (0,row-1):\n",
    "        if num_paths[i][0]!=0:\n",
    "            return evaluation_format(\"No\", 0, 10)+f\"Attenzione, i cammini devono partire dalla cella $(1,1)$ e pertanto $num\\_paths\\_to[${i}$][0] = 0$\"\n",
    "    for j in range (0,col-1):\n",
    "        if num_paths[0][j]!=0:\n",
    "            return evaluation_format(\"No\", 0, 10)+f\"Attenzione, i cammini devono partire dalla cella $(1,1)$ e pertanto $num\\_paths\\_to[0][${j}$] = 0$\"\n",
    "    for i in range(row-1,0,-1):\n",
    "        for j in range (col-1,0,-1):\n",
    "            num_paths_forgiving = num_paths.copy()\n",
    "            num_paths_forgiving[1][1] = 1 \n",
    "            if num_paths_forgiving[i][j]<0:\n",
    "                if num_paths_forgiving[i-1][j]<0 and num_paths_forgiving[i][j-1]<0:\n",
    "                    if num_paths_forgiving[i][j]!=num_paths_forgiving[i-1][j]+num_paths_forgiving[i][j-1]:\n",
    "                        return  evaluation_format(\"No\", 0, 10)+\"Ti avviso: riscontro dei problemi nella tua versione della matrice $num\\_paths\\_to$.\"\n",
    "                elif num_paths_forgiving[i-1][j]<0:\n",
    "                    if num_paths_forgiving[i][j]!=num_paths_forgiving[i-1][j]:\n",
    "                        return  evaluation_format(\"No\", 0, 10)+\"Ti avviso: riscontro dei problemi nella tua versione della matrice $num\\_paths\\_to$.\"\n",
    "                elif num_paths_forgiving[i][j-1]<0:\n",
    "                    if num_paths_forgiving[i][j]!=num_paths_forgiving[i][j-1]:\n",
    "                        return  evaluation_format(\"No\", 0, 10)+\"Ti avviso: riscontro dei problemi nella tua versione della matrice $num\\_paths\\_to$.\"\n",
    "                else:\n",
    "                    if num_paths_forgiving[i][j]!=0:\n",
    "                        return  evaluation_format(\"No\", 0, 10)+\"Ti avviso: riscontro dei problemi nella tua versione della matrice $num\\_paths\\_to$.\"\n",
    "    return  evaluation_format(\"Si\", 1, 10)+\"Non riscontro particolari problemi della tua versione della matrice $num\\_paths\\_to$.\"\n",
    "\n",
    "def check_num_pathss_to_start(num_paths, row, col):\n",
    "    for i in range(1,row-1):\n",
    "        for j in range (1,col-1):\n",
    "            if num_paths[i][j]<0:\n",
    "                if i==row-1 and j==col-1:\n",
    "                    if num_paths[i][j]!=1:\n",
    "                        return  evaluation_format(\"No\", 0, 10)+\"Il valore nella cella $(n+1,m+1)$ non è corretto\"\n",
    "                elif num_paths[i+1][j]<0 and num_paths[i][j+1]<0:\n",
    "                    if num_paths[i][j]!=num_paths[i+1][j]+num_paths[i][j+1]:\n",
    "                        return  evaluation_format(\"No\", 0, 10)+\"Ti avviso: riscontro dei problemi nella tua versione della matrice $num\\_paths\\_to$.\"\n",
    "                elif num_paths[i+1][j]<0:\n",
    "                    if num_paths[i][j]!=num_paths[i+1][j]:\n",
    "                        return  evaluation_format(\"No\", 0, 10)+\"Ti avviso: riscontro dei problemi nella tua versione della matrice $num\\_paths\\_to$.\"\n",
    "                elif num_paths[i][j+1]<0:\n",
    "                    if num_paths[i][j]!=num_paths[i][j+1]:\n",
    "                        return  evaluation_format(\"No\", 0, 10)+\"Ti avviso: riscontro dei problemi nella tua versione della matrice $num\\_paths\\_to$.\"\n",
    "                else:\n",
    "                    if num_paths[i][j]!=0:\n",
    "                        return  evaluation_format(\"No\", 0, 10)+\"Ti avviso: riscontro dei problemi nella tua versione della matrice $num\\_paths\\_to$.\"\n",
    "    return  evaluation_format(\"Si\", 1, 10)+\"La tua soluzione è coerente\"\n",
    "                \n",
    "def check_value(name,table,row,col, value):\n",
    "    submission=f\"Hai inserito il valore {value}, nella tabella {name} in posizione ({row},{col}) è presente il valore {table[row][col]}\"\n",
    "    if table[row][col]==value:\n",
    "        return evaluation_format(\"Si\", 1, 10)+f\"La tua soluzione è coerente con quanto hai inserito nella tabella {name}<br>\"+submission\n",
    "    else:\n",
    "        return evaluation_format(\"No\", 0, 10)+f\"La tua soluzione è coerente con quanto hai inserito nella tabella {name}<br>\"+submission\n",
    "    \n",
    "def check_value_from_tables(table1, table2, row, col, value):\n",
    "    submission=f\"Hai inserito il valore {value}, il valore atteso ricavato dalle tue tabelle è {table1[row][col]*table2[row][col]}\"\n",
    "    if table[row][col]==value:\n",
    "        return evaluation_format(\"Si\", 1, 10)+f\"La tua soluzione è coerente con quanto hai inserito nelle tabelle<br>\"+submission\n",
    "    else:\n",
    "        return evaluation_format(\"No\", 0, 10)+f\"La tua soluzione è coerente con quanto hai inserito nella tabelle<br>\"+submission"
   ]
  },
  {
   "cell_type": "markdown",
   "metadata": {},
   "source": [
    "## Esercizio \\[60 pts\\]\n",
    "(campo minato con monete) Ricerca di cammini in una griglia rettangolare con celle proibite e gemme da raccogliere."
   ]
  },
  {
   "cell_type": "markdown",
   "metadata": {},
   "source": [
    "Si consideri la seguente tabella di numeri interi."
   ]
  },
  {
   "cell_type": "code",
   "execution_count": 8,
   "metadata": {
    "hide_input": false,
    "read_only": true
   },
   "outputs": [],
   "source": [
    "m,n = 8,9\n",
    "table = [\n",
    "         [0, 0 , 0 , 0 , 0 , 0 , 0 , 0 , 0 , 0 ],\n",
    "         [0,-1 , 2 , 3 , 1 , 1 , 1 , 0 , 0 ,-1 ],\n",
    "         [0, 3 , 3 , 1 , 0 ,-1 ,-1 , 0 , 0 , 0 ],\n",
    "         [0, 2 ,-1 , 0 ,-1 , 0 , 0 , 1 , 1 , 1 ],\n",
    "         [0, 0 , 0 , 1 , 0 , 0 , 0 , 1 ,-1 , 0 ],\n",
    "         [0, 0 , 0 ,-1 , 1 ,-1 , 1 , 0 , 0 , 0 ],\n",
    "         [0, 0 , 1 , 1 , 1 , 0 , 3 ,-1 , 0 , 1 ],\n",
    "         [0, 3 ,-1 , 0 , 1 , 2 , 0 , 0 , 1 , 0 ],\n",
    "         [0, 2 , 1 , 2 , 1 , 2 , 1 , 2 , 1 , 0 ]\n",
    "        ]"
   ]
  },
  {
   "cell_type": "code",
   "execution_count": 5,
   "metadata": {
    "hide_input": true
   },
   "outputs": [
    {
     "name": "stdout",
     "output_type": "stream",
     "text": [
      "╒════╤═════╤═════╤═════╤═════╤═════╤═════╤═════╤═════╤═════╕\n",
      "│    │   1 │   2 │   3 │   4 │   5 │   6 │   7 │   8 │   9 │\n",
      "╞════╪═════╪═════╪═════╪═════╪═════╪═════╪═════╪═════╪═════╡\n",
      "│ A  │  -1 │   2 │   3 │   1 │   1 │   1 │   0 │   0 │  -1 │\n",
      "├────┼─────┼─────┼─────┼─────┼─────┼─────┼─────┼─────┼─────┤\n",
      "│ B  │   3 │   3 │   1 │   0 │  -1 │  -1 │   0 │   0 │   0 │\n",
      "├────┼─────┼─────┼─────┼─────┼─────┼─────┼─────┼─────┼─────┤\n",
      "│ C  │   2 │  -1 │   0 │  -1 │   0 │   0 │   1 │   1 │   1 │\n",
      "├────┼─────┼─────┼─────┼─────┼─────┼─────┼─────┼─────┼─────┤\n",
      "│ D  │   0 │   0 │   1 │   0 │   0 │   0 │   1 │  -1 │   0 │\n",
      "├────┼─────┼─────┼─────┼─────┼─────┼─────┼─────┼─────┼─────┤\n",
      "│ E  │   0 │   0 │  -1 │   1 │  -1 │   1 │   0 │   0 │   0 │\n",
      "├────┼─────┼─────┼─────┼─────┼─────┼─────┼─────┼─────┼─────┤\n",
      "│ F  │   0 │   1 │   1 │   1 │   0 │   3 │  -1 │   0 │   1 │\n",
      "├────┼─────┼─────┼─────┼─────┼─────┼─────┼─────┼─────┼─────┤\n",
      "│ G  │   3 │  -1 │   0 │   1 │   2 │   0 │   0 │   1 │   0 │\n",
      "├────┼─────┼─────┼─────┼─────┼─────┼─────┼─────┼─────┼─────┤\n",
      "│ H  │   2 │   1 │   2 │   1 │   2 │   1 │   2 │   1 │   0 │\n",
      "╘════╧═════╧═════╧═════╧═════╧═════╧═════╧═════╧═════╧═════╛\n"
     ]
    }
   ],
   "source": [
    "columns=[\"1\",\"2\",\"3\",\"4\",\"5\",\"6\",\"7\",\"8\",\"9\"]\n",
    "index=pd.Index([\"0\",\"A\",\"B\",\"C\",\"D\",\"E\",\"F\",\"G\",\"H\"])\n",
    "df=pd.DataFrame(table,index=index)\n",
    "df = df.iloc[1:,1:]\n",
    "\n",
    "print(tabulate(df, headers=columns, tablefmt='fancy_grid'))\n",
    "#display(HTML(df.to_html()))"
   ]
  },
  {
   "cell_type": "markdown",
   "metadata": {},
   "source": [
    "Un robot, inizialmente situato nella cella $A1=(1,1)$, deve portarsi nella cella $H9=(8,9)$.\n",
    "Le celle che riportano un numero negativo contengono una mina od altre trapole mortali, ed il robot deve evitarle. Ogni altra cella contiene il numero di monete rappresentato nella tabella.\\\n",
    "I movimenti base possibili sono il passo verso destra (ad esempio il primo passo potrebbe avvenire dalla cella $A1$ alla cella $A2$) ed il passo verso il basso (ad esempio, come unica altra alternativa per il primo passo il robot potrebbe posrtarsi quindi nella cella $B1$).\\\n",
    "Quante monete può raccogliere al massimo il robot in un percorso che vada dalla cella $A1$ alla cella $H9$?\\\n",
    "E quanti sono i percorsi che gli consentono di raccogliere un tale numero di monete?"
   ]
  },
  {
   "cell_type": "markdown",
   "metadata": {},
   "source": [
    "__Richieste__:"
   ]
  },
  {
   "cell_type": "markdown",
   "metadata": {},
   "source": [
    "1. __\\[10 pts\\]__ A mano o tramite un programma componi la matrice $num\\_paths\\_to$ di dimensione $(m+1)\\times(n+1)$, nella cui cella $num\\_paths\\_to[i][j]$, per ogni $i = 0,..., m+1$ e $j = 0,..., n+1$, sia riposto il numero di cammini dalla cella $A1=(1,1)$ alla generica cella $(i,j)$."
   ]
  },
  {
   "cell_type": "code",
   "execution_count": 14,
   "metadata": {},
   "outputs": [],
   "source": [
    "num_paths_to_goal= [ [0]*(n+1) for _ in range(m+1) ]\n",
    "#num_paths_to_goal=[\n",
    "#    [0, 0, 0, 0, 0, 0, 0, 0, 0, 0], \n",
    "#    [0, 1, 1, 1, 1, 1, 1, 1, 1, 'X'], \n",
    "#    [0, 1, 2, 3, 4, 'X', 'X', 1, 2, 2], \n",
    "#    [0, 1, 'X', 3, 'X', 0, 0, 1, 3, 5], \n",
    "#    [0, 1, 1, 4, 4, 4, 4, 5, 'X', 5], \n",
    "#    [0, 1, 2, 'X', 4, 'X', 4, 9, 9, 14], \n",
    "#    [0, 1, 3, 3, 7, 7, 11, 'X', 9, 23], \n",
    "#    [0, 1, 'X', 3, 10, 17, 28, 28, 37, 60], \n",
    "#    [0, 1, 1, 4, 14, 31, 59, 87, 124, 184]\n",
    "#]\n",
    "num_paths_to_goal= num_percorsi(table,len(table),len(table[0]))\n"
   ]
  },
  {
   "cell_type": "code",
   "execution_count": 15,
   "metadata": {},
   "outputs": [
    {
     "data": {
      "text/markdown": [
       "<b>La tua versione attuale della matrice $num\\_paths\\_to$ è la seguente:</b>"
      ],
      "text/plain": [
       "<IPython.core.display.Markdown object>"
      ]
     },
     "metadata": {},
     "output_type": "display_data"
    }
   ],
   "source": [
    "display(Markdown(\"<b>La tua versione attuale della matrice $num\\_paths\\_to$ è la seguente:</b>\"))"
   ]
  },
  {
   "cell_type": "code",
   "execution_count": 16,
   "metadata": {
    "hide_input": true,
    "scrolled": true
   },
   "outputs": [
    {
     "name": "stdout",
     "output_type": "stream",
     "text": [
      "╒════╤═════╤═════╤═════╤═════╤═════╤═════╤══════╤══════╤══════╕\n",
      "│    │   1 │   2 │   3 │   4 │   5 │   6 │    7 │    8 │    9 │\n",
      "╞════╪═════╪═════╪═════╪═════╪═════╪═════╪══════╪══════╪══════╡\n",
      "│ A  │   1 │   1 │   1 │   1 │   1 │   1 │    1 │    1 │    1 │\n",
      "├────┼─────┼─────┼─────┼─────┼─────┼─────┼──────┼──────┼──────┤\n",
      "│ B  │   1 │   2 │   3 │   4 │   5 │   6 │    7 │    8 │    9 │\n",
      "├────┼─────┼─────┼─────┼─────┼─────┼─────┼──────┼──────┼──────┤\n",
      "│ C  │   1 │   3 │   6 │  10 │  15 │  21 │   28 │   36 │   45 │\n",
      "├────┼─────┼─────┼─────┼─────┼─────┼─────┼──────┼──────┼──────┤\n",
      "│ D  │   1 │   4 │  10 │  20 │  35 │  56 │   84 │  120 │  165 │\n",
      "├────┼─────┼─────┼─────┼─────┼─────┼─────┼──────┼──────┼──────┤\n",
      "│ E  │   1 │   5 │  15 │  35 │  70 │ 126 │  210 │  330 │  495 │\n",
      "├────┼─────┼─────┼─────┼─────┼─────┼─────┼──────┼──────┼──────┤\n",
      "│ F  │   1 │   6 │  21 │  56 │ 126 │ 252 │  462 │  792 │ 1287 │\n",
      "├────┼─────┼─────┼─────┼─────┼─────┼─────┼──────┼──────┼──────┤\n",
      "│ G  │   1 │   7 │  28 │  84 │ 210 │ 462 │  924 │ 1716 │ 3003 │\n",
      "├────┼─────┼─────┼─────┼─────┼─────┼─────┼──────┼──────┼──────┤\n",
      "│ H  │   1 │   8 │  36 │ 120 │ 330 │ 792 │ 1716 │ 3432 │ 6435 │\n",
      "╘════╧═════╧═════╧═════╧═════╧═════╧═════╧══════╧══════╧══════╛\n"
     ]
    }
   ],
   "source": [
    "df2=pd.DataFrame(num_paths_to_goal,index=index)\n",
    "df2 = df2.iloc[1:,1:]\n",
    "print(tabulate(df2, headers=columns, tablefmt='fancy_grid'))"
   ]
  },
  {
   "cell_type": "code",
   "execution_count": 18,
   "metadata": {
    "hide_input": false,
    "scrolled": false
   },
   "outputs": [
    {
     "data": {
      "text/markdown": [
       "Si. Totalizzeresti <span style='color:green'>[1 safe pt]</span>,                                     <span style='color:blue'>[9 possible pt]</span>,                                     <span style='color:red'>[0 out of reach pt]</span>.<br>La tua soluzione è coerente"
      ],
      "text/plain": [
       "<IPython.core.display.Markdown object>"
      ]
     },
     "metadata": {},
     "output_type": "display_data"
    }
   ],
   "source": [
    "display(Markdown(check_num_paths_to_goal(num_paths_to_goal,len(num_paths_to_goal),len(num_paths_to_goal[0]))))"
   ]
  },
  {
   "cell_type": "markdown",
   "metadata": {},
   "source": [
    "1. __\\[10 pts\\]__ Componi ora una matrice $num\\_paths\\_from$, di dimensione $(m+2)times(n+2)$, nella cui cella $num\\_paths\\_from[i][j]$, per ogni $i = 1,..., m+1$ e $j = 1,..., n+1$, sia riposto il numero di cammini dalla generica cella $(i,j)$ alla cella $H9=(8,9)$."
   ]
  },
  {
   "cell_type": "code",
   "execution_count": null,
   "metadata": {},
   "outputs": [],
   "source": [
    "num_paths_to_start=[\n",
    "                        [0, 0, 0, 0, 0, 0, 0, 0, 0, 0], \n",
    "                        [0, 184, 63, 36, 9, 9, 9, 9, 2, 'X'], \n",
    "                        [0, 121, 27, 27, 0, 'X', 'X', 7, 2, 1], \n",
    "                        [0, 94, 'X', 27, 'X', 29, 17, 5, 1, 1], \n",
    "                        [0, 94, 49, 27, 27, 12, 12, 4, 'X', 1], \n",
    "                        [0, 45, 22, 'X', 15, 'X', 8, 4, 4, 1], \n",
    "                        [0, 23, 22, 22, 15, 9, 4, 'X', 3, 1], \n",
    "                        [0, 1, 'X', 7, 6, 5, 4, 3, 2, 1], \n",
    "                        [0, 1, 1, 1, 1, 1, 1, 1, 1, 1]\n",
    "                    ]\n",
    "#num_paths_to_start=num_percorsi_reverse(table,len(table),len(table[0]))"
   ]
  },
  {
   "cell_type": "code",
   "execution_count": null,
   "metadata": {
    "scrolled": false
   },
   "outputs": [],
   "source": [
    "\n",
    "df3=pd.DataFrame(num_paths_to_start,index=index)\n",
    "df3 = df3.iloc[1:,1:]\n",
    "print(tabulate(df3, headers=columns, tablefmt='fancy_grid'))"
   ]
  },
  {
   "cell_type": "code",
   "execution_count": null,
   "metadata": {
    "scrolled": true
   },
   "outputs": [],
   "source": [
    "display(Markdown(check_num_paths_to_start(num_paths_to_start,len(num_paths_to_start),len(num_paths_to_start[0]))))"
   ]
  },
  {
   "cell_type": "markdown",
   "metadata": {},
   "source": [
    "1. __\\[10 pts\\]__ [Esercizio senza monete] Quanti sono i percorsi possibili se la partenza è in A–1?"
   ]
  },
  {
   "cell_type": "code",
   "execution_count": null,
   "metadata": {},
   "outputs": [],
   "source": [
    "ans1 = 184"
   ]
  },
  {
   "cell_type": "code",
   "execution_count": null,
   "metadata": {
    "scrolled": true
   },
   "outputs": [],
   "source": [
    "display(Markdown(check_value(\"num_paths_to_start\",num_paths_to_start,1,1,ans1)))"
   ]
  },
  {
   "cell_type": "markdown",
   "metadata": {},
   "source": [
    "2. __\\[10 pts\\]__ E se la partenza è in B–3?"
   ]
  },
  {
   "cell_type": "code",
   "execution_count": null,
   "metadata": {},
   "outputs": [],
   "source": [
    "ans2=27"
   ]
  },
  {
   "cell_type": "code",
   "execution_count": null,
   "metadata": {
    "scrolled": true
   },
   "outputs": [],
   "source": [
    "display(Markdown(check_value(\"num_paths_to_start\",num_paths_to_start,2,3,ans2)))"
   ]
  },
  {
   "cell_type": "markdown",
   "metadata": {},
   "source": [
    "3. __\\[10 pts\\]__ E se con partenza in A–1 il robot deve giungere in F–6?"
   ]
  },
  {
   "cell_type": "code",
   "execution_count": null,
   "metadata": {},
   "outputs": [],
   "source": [
    "ans3=11"
   ]
  },
  {
   "cell_type": "code",
   "execution_count": null,
   "metadata": {},
   "outputs": [],
   "source": [
    "display(Markdown(check_value(\"num_paths_to_goal\",num_paths_to_goal,6,6,ans3)))"
   ]
  },
  {
   "cell_type": "markdown",
   "metadata": {},
   "source": [
    "4. __\\[10 pts\\]__ E se con partenza in A–1 ed arrivo in H–9 al robot viene richiesto di passare per\n",
    "la cella D–5?"
   ]
  },
  {
   "cell_type": "code",
   "execution_count": null,
   "metadata": {},
   "outputs": [],
   "source": [
    "ans4=0"
   ]
  },
  {
   "cell_type": "code",
   "execution_count": null,
   "metadata": {},
   "outputs": [],
   "source": [
    "display(Markdown(check_value_from_tables(num_paths_to_start,num_paths_to_goal,4,5,ans4)))"
   ]
  },
  {
   "cell_type": "markdown",
   "metadata": {},
   "source": [
    "5. __\\[10 pts\\]__ Quale é il massimo valore in premi raccoglibili lungo una traversata da A–1 a H–9?"
   ]
  },
  {
   "cell_type": "markdown",
   "metadata": {},
   "source": [
    "6. __\\[10 pts\\]__ Quanti sono i percorsi possibili che assicurino di portare a case tale massimo valore?"
   ]
  },
  {
   "cell_type": "code",
   "execution_count": null,
   "metadata": {},
   "outputs": [],
   "source": []
  }
 ],
 "metadata": {
  "celltoolbar": "Edit Metadata",
  "hide_input": false,
  "kernelspec": {
   "display_name": "Python 3",
   "language": "python",
   "name": "python3"
  },
  "language_info": {
   "codemirror_mode": {
    "name": "ipython",
    "version": 3
   },
   "file_extension": ".py",
   "mimetype": "text/x-python",
   "name": "python",
   "nbconvert_exporter": "python",
   "pygments_lexer": "ipython3",
   "version": "3.7.7"
  }
 },
 "nbformat": 4,
 "nbformat_minor": 4
}
