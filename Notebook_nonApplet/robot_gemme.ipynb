{
 "cells": [
  {
   "cell_type": "code",
   "execution_count": 2,
   "metadata": {
    "hide_input": false,
    "pycharm": {
     "name": "#%%\n"
    }
   },
   "outputs": [],
   "source": [
    "from IPython.core.display import display, HTML, Markdown\n",
    "from ipywidgets import Button, HBox, VBox, widgets, Layout\n",
    "from tabulate import tabulate\n",
    "import pandas as pd"
   ]
  },
  {
   "cell_type": "code",
   "execution_count": 30,
   "metadata": {
    "hide_input": false,
    "pycharm": {
     "name": "#%%\n"
    }
   },
   "outputs": [],
   "source": [
    "campo_minato = [\n",
    "         [ 0 , 2 , 3 , 1 , 1 , 3 , 4 , 7 ,-1 ],\n",
    "         [ 2 , 1 ,-1 , 2 ,-1 ,-1 , 7 , 1 , 2 ],\n",
    "         [ 4 ,-1 , 2 , 3 , 7 , 1 , 1 , 5 , 4 ],\n",
    "         [ 5 , 1 ,-1 , 4 , 5 ,-1 , 9 , 3 , 6 ],\n",
    "         [ 1 , 3 , 3 ,-1 , 3 , 1 , 1 ,10 , 8 ],\n",
    "         [ 1 , 4 ,-1 , 5 ,-1 , 3 , 1 , 8 , 9 ],\n",
    "         [ 7 , 5 , 2 ,-1 , 2 , 2 , 3 , 4 , 0 ],\n",
    "        ]\n",
    "\n",
    "m = len(campo_minato)\n",
    "n = len(campo_minato[0])\n",
    "mappa = [ [\"*\"]*(n+1) ] + [ ([\"*\"] + r) for r in campo_minato]"
   ]
  },
  {
   "cell_type": "code",
   "execution_count": 4,
   "metadata": {
    "hide_input": true
   },
   "outputs": [],
   "source": [
    "def visualizza_env(env):\n",
    "    if len(env)==m+1 and len(env[0])==n+1:\n",
    "        index=pd.Index([\"0\"]+[chr(65+i) for i in range(m)])\n",
    "        df=pd.DataFrame(env,index=index)\n",
    "        df = df.iloc[1:,1:]\n",
    "        \n",
    "    if len(env)==m+2 and len(env[0])==n+2:\n",
    "        index=pd.Index([\"0\"]+[chr(65+i) for i in range(m)]+[\"0\"])\n",
    "        df = pd.DataFrame(env,index=index)\n",
    "        df = df.iloc[1:-1,1:-1]   \n",
    "    columns=[str(i) for i in range(1,n+1)]\n",
    "    print(tabulate(df, headers=columns, tablefmt='fancy_grid'))\n",
    "\n",
    "def evaluation_format(answ, pt_green,pt_red):\n",
    "    pt_blue=0\n",
    "    if pt_green!=0:\n",
    "        pt_blue=pt_red-pt_green\n",
    "        pt_red=0\n",
    "    return f\"{answ}. Totalizzeresti <span style='color:green'>[{pt_green} safe pt]</span>, \\\n",
    "                                    <span style='color:blue'>[{pt_blue} possible pt]</span>, \\\n",
    "                                    <span style='color:red'>[{pt_red} out of reach pt]</span>.<br>\"\n",
    "\n"
   ]
  },
  {
   "cell_type": "markdown",
   "metadata": {},
   "source": [
    "## Esercizio \\[60 pts\\]\n",
    "(campo minato con monete) Ricerca di cammini in una griglia rettangolare con celle proibite e gemme da raccogliere."
   ]
  },
  {
   "cell_type": "markdown",
   "metadata": {},
   "source": [
    "Bimo cammina sulle celle di un campo minato dalla forma di una griglia rettangolare $m\\times n$.\\\n",
    "Le mine sono indicate da un -1 mentre le altre celle che contengono un numero intero >0 \n",
    "sono tutte transitabili (il numero indica il numero di monete in quella cella).\\\n",
    "Le mosse consentite portano Bimo dalla cella $(i,j)$ alla cella $(i+1,j)$ oppure $(i,j+1)$, sempre ove queste siano transitabili.\\\n",
    "Organizzati per calcolare quante monete riesce a raccogliere Bimo tra due celle date e per rispondere ad altre domande di questo tipo."
   ]
  },
  {
   "cell_type": "markdown",
   "metadata": {},
   "source": [
    "<b>Notice:</b> Anche se ne hai quì ogni opportunità, non ti è però richiesto in alcun modo di scrivere del codice per condurre a termine il tuo esercizio. Puoi fare tutto a mano e vogliamo essere chiari che noi non facciamo alcuna differenza tra i punti conquistati in un modo piuttosto che in un altro (noi guardiamo ai risultati e ci piace che voi vi ingegniate a modo vostro per portarli a casa, in tutta libertà). Sei incoraggiato piuttosto a ricercare l'approccio per tè più pratico, sicuro, e conveniente. E magari quello che puoi trovare più piacevole e stimolante quando svolgi l'esercizio da casa, dove ti suggerisco sperimentare, potrebbe anche essere diverso .\n",
    "Ciò nononostante, per facilitare chi di voi volesse scrivere del codice a proprio supporto, abbiamo aggiunto alla mappa di $m$ righe ed $n$ colonne una riga e colonna iniziale (di indice zero), fatte interamente di mine, perchè non si crei confusione col fatto che gli indici di liste ed array in programmazione partono da zero."
   ]
  },
  {
   "cell_type": "markdown",
   "metadata": {},
   "source": [
    "Un robot, inizialmente situato nella cella $A1=(1,1)$, deve portarsi nella cella $G9=(7,9)$.\n",
    "Le celle che riportano un numero negativo contengono una mina od altre trapole mortali, ed il robot deve evitarle. Ogni altra cella contiene il numero di monete rappresentato nella tabella.\\\n",
    "I movimenti base possibili sono il passo verso destra (ad esempio il primo passo potrebbe avvenire dalla cella $A1$ alla cella $A2$) ed il passo verso il basso (ad esempio, come unica altra alternativa per il primo passo il robot potrebbe posrtarsi quindi nella cella $B1$).\\\n",
    "Quante monete può raccogliere al massimo il robot in un percorso che vada dalla cella $A1$ alla cella $G9$?\\\n",
    "E quanti sono i percorsi che gli consentono di raccogliere un tale numero di monete?"
   ]
  },
  {
   "cell_type": "code",
   "execution_count": 33,
   "metadata": {
    "hide_input": true
   },
   "outputs": [
    {
     "name": "stdout",
     "output_type": "stream",
     "text": [
      "╒════╤═════╤═════╤═════╤═════╤═════╤═════╤═════╤═════╤═════╕\n",
      "│    │   1 │   2 │   3 │   4 │   5 │   6 │   7 │   8 │   9 │\n",
      "╞════╪═════╪═════╪═════╪═════╪═════╪═════╪═════╪═════╪═════╡\n",
      "│ A  │   0 │   2 │   3 │   1 │   1 │   3 │   4 │   7 │  -1 │\n",
      "├────┼─────┼─────┼─────┼─────┼─────┼─────┼─────┼─────┼─────┤\n",
      "│ B  │   2 │   1 │  -1 │   2 │  -1 │  -1 │   7 │   1 │   2 │\n",
      "├────┼─────┼─────┼─────┼─────┼─────┼─────┼─────┼─────┼─────┤\n",
      "│ C  │   4 │  -1 │   2 │   3 │   7 │   1 │   1 │   5 │   4 │\n",
      "├────┼─────┼─────┼─────┼─────┼─────┼─────┼─────┼─────┼─────┤\n",
      "│ D  │   5 │   1 │  -1 │   4 │   5 │  -1 │   9 │   3 │   6 │\n",
      "├────┼─────┼─────┼─────┼─────┼─────┼─────┼─────┼─────┼─────┤\n",
      "│ E  │   1 │   3 │   3 │  -1 │   3 │   1 │   1 │  10 │   8 │\n",
      "├────┼─────┼─────┼─────┼─────┼─────┼─────┼─────┼─────┼─────┤\n",
      "│ F  │   1 │   4 │  -1 │   5 │  -1 │   3 │   1 │   8 │   9 │\n",
      "├────┼─────┼─────┼─────┼─────┼─────┼─────┼─────┼─────┼─────┤\n",
      "│ G  │   7 │   5 │   2 │  -1 │   2 │   2 │   3 │   4 │   0 │\n",
      "╘════╧═════╧═════╧═════╧═════╧═════╧═════╧═════╧═════╧═════╛\n"
     ]
    }
   ],
   "source": [
    "visualizza_env(mappa)"
   ]
  },
  {
   "cell_type": "markdown",
   "metadata": {},
   "source": [
    "__Richieste__:"
   ]
  },
  {
   "cell_type": "markdown",
   "metadata": {},
   "source": [
    "1. __\\[10 pts\\]__ A mano o tramite un programma componi la matrice $num\\_gems\\_to$ di dimensione $(m+1)\\times(n+1)$, nella cui cella $num\\_gems\\_to[i][j]$, per ogni $i = 0,..., m+1$ e $j = 0,..., n+1$, sia riposto il numero di gemme raccolte dalla cella $A1=(1,1)$ alla generica cella $(i,j)$."
   ]
  },
  {
   "cell_type": "code",
   "execution_count": 40,
   "metadata": {},
   "outputs": [],
   "source": [
    "num_gems_to=[\n",
    "                [0, 0, 0, 0, 0, 0, 0, 0, 0, 0], \n",
    "                [0, 0, 2, 5, 6, 7, 10, 14, 21, 0], \n",
    "                [0, 2, 3, 0, 8, 0, 0, 21, 22, 24], \n",
    "                [0, 6, 0, 2, 11, 18, 19, 22, 27, 31], \n",
    "                [0, 11, 12, 0, 15, 23, 0, 31, 34, 40], \n",
    "                [0, 12, 15, 18, 0, 26, 27, 32, 44, 52], \n",
    "                [0, 13, 19, 0, 5, 0, 30, 33, 52, 61], \n",
    "                [0, 20, 25, 27, 0, 2, 32, 36, 56, 61]\n",
    "            ]"
   ]
  },
  {
   "cell_type": "code",
   "execution_count": 41,
   "metadata": {},
   "outputs": [
    {
     "data": {
      "text/markdown": [
       "La tua versione attuale della matrice $num\\_gems\\_to$ è la seguente:"
      ],
      "text/plain": [
       "<IPython.core.display.Markdown object>"
      ]
     },
     "metadata": {},
     "output_type": "display_data"
    },
    {
     "name": "stdout",
     "output_type": "stream",
     "text": [
      "╒════╤═════╤═════╤═════╤═════╤═════╤═════╤═════╤═════╤═════╕\n",
      "│    │   1 │   2 │   3 │   4 │   5 │   6 │   7 │   8 │   9 │\n",
      "╞════╪═════╪═════╪═════╪═════╪═════╪═════╪═════╪═════╪═════╡\n",
      "│ A  │   0 │   2 │   5 │   6 │   7 │  10 │  14 │  21 │   0 │\n",
      "├────┼─────┼─────┼─────┼─────┼─────┼─────┼─────┼─────┼─────┤\n",
      "│ B  │   2 │   3 │   0 │   8 │   0 │   0 │  21 │  22 │  24 │\n",
      "├────┼─────┼─────┼─────┼─────┼─────┼─────┼─────┼─────┼─────┤\n",
      "│ C  │   6 │   0 │   2 │  11 │  18 │  19 │  22 │  27 │  31 │\n",
      "├────┼─────┼─────┼─────┼─────┼─────┼─────┼─────┼─────┼─────┤\n",
      "│ D  │  11 │  12 │   0 │  15 │  23 │   0 │  31 │  34 │  40 │\n",
      "├────┼─────┼─────┼─────┼─────┼─────┼─────┼─────┼─────┼─────┤\n",
      "│ E  │  12 │  15 │  18 │   0 │  26 │  27 │  32 │  44 │  52 │\n",
      "├────┼─────┼─────┼─────┼─────┼─────┼─────┼─────┼─────┼─────┤\n",
      "│ F  │  13 │  19 │   0 │   5 │   0 │  30 │  33 │  52 │  61 │\n",
      "├────┼─────┼─────┼─────┼─────┼─────┼─────┼─────┼─────┼─────┤\n",
      "│ G  │  20 │  25 │  27 │   0 │   2 │  32 │  36 │  56 │  61 │\n",
      "╘════╧═════╧═════╧═════╧═════╧═════╧═════╧═════╧═════╧═════╛\n"
     ]
    },
    {
     "data": {
      "text/markdown": [
       "<b>Validazione della tua matrice $num\\_paths\\_to$:</b>"
      ],
      "text/plain": [
       "<IPython.core.display.Markdown object>"
      ]
     },
     "metadata": {},
     "output_type": "display_data"
    }
   ],
   "source": [
    "display(Markdown(f\"La tua versione attuale della matrice $num\\_gems\\_to$ è la seguente:\"))\n",
    "visualizza_env(num_gems_to)\n",
    "display(Markdown(f\"<b>Validazione della tua matrice $num\\_gems\\_to$:</b>\"))\n",
    "#display(Markdown(check_num_paths_to(mappa,num_paths_to)))"
   ]
  },
  {
   "cell_type": "markdown",
   "metadata": {
    "hide_input": true
   },
   "source": [
    "1. __\\[10 pts\\]__ Componi ora una matrice $num\\_gems\\_from$, di dimensione $(m+2)times(n+2)$, nella cui cella $num\\_gems\\_from[i][j]$, per ogni $i = 1,..., m+1$ e $j = 1,..., n+1$, sia riposto il numero di gemme raccolte dalla generica cella $(i,j)$ alla cella $G9=(7,9)$."
   ]
  },
  {
   "cell_type": "code",
   "execution_count": 68,
   "metadata": {
    "scrolled": false
   },
   "outputs": [],
   "source": [
    "num_gems_from=[\n",
    "                [0, 0, 0, 0, 0, 0, 0, 0, 0, 0, 0], \n",
    "                [0, 61, 61, 59, 56, 55, 54, 51, 43, 0, 0], \n",
    "                [0, 27, 1, 0, 53, 0, 0, 47, 36, 29, 0], \n",
    "                [0, 25, 0, 53, 51, 48, 41, 40, 35, 27, 0], \n",
    "                [0, 21, 15, 0, 41, 37, 0, 39, 30, 23, 0], \n",
    "                [0, 16, 14, 3, 0, 32, 29, 28, 27, 17, 0], \n",
    "                [0, 15, 11, 0, 5, 0, 21, 18, 17, 9, 0], \n",
    "                [0, 14, 7, 2, 0, 11, 9, 7, 4, 0, 0], \n",
    "                [0, 0, 0, 0, 0, 0, 0, 0, 0, 0, 0]\n",
    "            ]\n"
   ]
  },
  {
   "cell_type": "code",
   "execution_count": 69,
   "metadata": {
    "scrolled": false
   },
   "outputs": [
    {
     "data": {
      "text/markdown": [
       "La tua versione attuale della matrice $num\\_gems\\_from$ è la seguente:"
      ],
      "text/plain": [
       "<IPython.core.display.Markdown object>"
      ]
     },
     "metadata": {},
     "output_type": "display_data"
    },
    {
     "name": "stdout",
     "output_type": "stream",
     "text": [
      "╒════╤═════╤═════╤═════╤═════╤═════╤═════╤═════╤═════╤═════╕\n",
      "│    │   1 │   2 │   3 │   4 │   5 │   6 │   7 │   8 │   9 │\n",
      "╞════╪═════╪═════╪═════╪═════╪═════╪═════╪═════╪═════╪═════╡\n",
      "│ A  │  61 │  61 │  59 │  56 │  55 │  54 │  51 │  43 │   0 │\n",
      "├────┼─────┼─────┼─────┼─────┼─────┼─────┼─────┼─────┼─────┤\n",
      "│ B  │  27 │   1 │   0 │  53 │   0 │   0 │  47 │  36 │  29 │\n",
      "├────┼─────┼─────┼─────┼─────┼─────┼─────┼─────┼─────┼─────┤\n",
      "│ C  │  25 │   0 │  53 │  51 │  48 │  41 │  40 │  35 │  27 │\n",
      "├────┼─────┼─────┼─────┼─────┼─────┼─────┼─────┼─────┼─────┤\n",
      "│ D  │  21 │  15 │   0 │  41 │  37 │   0 │  39 │  30 │  23 │\n",
      "├────┼─────┼─────┼─────┼─────┼─────┼─────┼─────┼─────┼─────┤\n",
      "│ E  │  16 │  14 │   3 │   0 │  32 │  29 │  28 │  27 │  17 │\n",
      "├────┼─────┼─────┼─────┼─────┼─────┼─────┼─────┼─────┼─────┤\n",
      "│ F  │  15 │  11 │   0 │   5 │   0 │  21 │  18 │  17 │   9 │\n",
      "├────┼─────┼─────┼─────┼─────┼─────┼─────┼─────┼─────┼─────┤\n",
      "│ G  │  14 │   7 │   2 │   0 │  11 │   9 │   7 │   4 │   0 │\n",
      "╘════╧═════╧═════╧═════╧═════╧═════╧═════╧═════╧═════╧═════╛\n"
     ]
    },
    {
     "data": {
      "text/markdown": [
       "<b>Validazione della tua matrice $num\\_gems\\_from$:</b>"
      ],
      "text/plain": [
       "<IPython.core.display.Markdown object>"
      ]
     },
     "metadata": {},
     "output_type": "display_data"
    }
   ],
   "source": [
    "display(Markdown(f\"La tua versione attuale della matrice $num\\_gems\\_from$ è la seguente:\"))\n",
    "visualizza_env(num_gems_from)\n",
    "display(Markdown(f\"<b>Validazione della tua matrice $num\\_gems\\_from$:</b>\"))\n",
    "#display(Markdown(check_num_paths_to(mappa,num_paths_to))"
   ]
  }
 ],
 "metadata": {
  "celltoolbar": "Edit Metadata",
  "hide_input": false,
  "kernelspec": {
   "display_name": "Python 3",
   "language": "python",
   "name": "python3"
  },
  "language_info": {
   "codemirror_mode": {
    "name": "ipython",
    "version": 3
   },
   "file_extension": ".py",
   "mimetype": "text/x-python",
   "name": "python",
   "nbconvert_exporter": "python",
   "pygments_lexer": "ipython3",
   "version": "3.7.7"
  }
 },
 "nbformat": 4,
 "nbformat_minor": 4
}
