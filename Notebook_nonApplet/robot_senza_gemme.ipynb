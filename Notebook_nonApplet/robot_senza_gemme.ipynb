{
 "cells": [
  {
   "cell_type": "code",
   "execution_count": 74,
   "metadata": {
    "deletable": false,
    "editable": false,
    "hide_input": false
   },
   "outputs": [],
   "source": [
    "from IPython.core.display import display, HTML, Markdown\n",
    "from tabulate import tabulate\n",
    "import pandas as pd"
   ]
  },
  {
   "cell_type": "code",
   "execution_count": 101,
   "metadata": {
    "deletable": false,
    "hide_input": true
   },
   "outputs": [],
   "source": [
    "campo_minato = [\n",
    "    [ \" \" , \" \" , \" \" , \" \" , \" \" , \" \" , \" \" , \" \" , \"*\" ],\n",
    "    [ \" \" , \" \" , \" \" , \" \" , \"*\" , \"*\" , \" \" , \" \" , \" \" ],\n",
    "    [ \" \" , \"*\" , \" \" , \"*\" , \" \" , \" \" , \" \" , \" \" , \" \" ],\n",
    "    [ \" \" , \" \" , \" \" , \" \" , \" \" , \" \" , \" \" , \"*\" , \" \" ],\n",
    "    [ \" \" , \" \" , \"*\" , \" \" , \"*\" , \" \" , \" \" , \" \" , \" \" ],\n",
    "    [ \" \" , \" \" , \" \" , \" \" , \" \" , \" \" , \"*\" , \" \" , \" \" ],\n",
    "    [ \" \" , \"*\" , \" \" , \" \" , \" \" , \" \" , \" \" , \" \" , \" \" ],\n",
    "    [ \" \" , \" \" , \" \" , \" \" , \" \" , \" \" , \" \" , \" \" , \" \" ]\n",
    "]\n",
    "m = len(campo_minato)\n",
    "n = len(campo_minato[0])\n",
    "mappa = [ [\"*\"]*(n+1) ] + [ ([\"*\"] + r) for r in campo_minato]\n",
    "\n",
    "def visualizza_mappa():\n",
    "    columns=[str(i) for i in range(1,n+1)]\n",
    "    index=pd.Index([\"0\"]+[chr(65+i) for i in range(m)])\n",
    "    df=pd.DataFrame(mappa,index=index)\n",
    "    df = df.iloc[1:,1:]\n",
    "    print(tabulate(df, headers=columns, tablefmt='fancy_grid'))\n",
    "\n",
    "def evaluation_format(answ, pt_green,pt_red):\n",
    "    pt_blue=0\n",
    "    if pt_green!=0:\n",
    "        pt_blue=pt_red-pt_green\n",
    "        pt_red=0\n",
    "    return f\"{answ}. Totalizzeresti <span style='color:green'>[{pt_green} safe pt]</span>, \\\n",
    "                                    <span style='color:blue'>[{pt_blue} possible pt]</span>, \\\n",
    "                                    <span style='color:red'>[{pt_red} out of reach pt]</span>.<br>\"\n",
    "\n",
    "def check_num_paths_to(mappa, num_paths_to):\n",
    "    \"\"\"\n",
    "    verifica che la matrice num_paths_to sia conforme alla consegna (perdonando solamente eventuale anomalia su cella (1,1) ).\n",
    "    \"\"\"\n",
    "    if len(num_paths_to) != m+1:\n",
    "        return evaluation_format(\"No\", 0, 10)+f\"Le righe della matrice $num\\_paths\\_to$ devono essere $m+1=${m+1}, non {len(num_paths_to)}.\"\n",
    "    if len(num_paths_to[0]) != n+1:\n",
    "        return evaluation_format(\"No\", 0, 10)+f\"Le colonne della matrice $num\\_paths\\_to$ devono essere $n+1=${n+1}, non {len(num_paths_to[0])}.\"\n",
    "        \n",
    "    for i in range (0,m):\n",
    "        if num_paths_to[i][0]!=0:\n",
    "            return evaluation_format(\"No\", 0, 10)+f\"Attenzione, i cammini devono partire dalla cella $(1,1)$ e pertanto $num\\_paths\\_to[${i}$][0] = 0$\"\n",
    "    for j in range (0,n):\n",
    "        if num_paths_to[0][j]!=0:\n",
    "            return evaluation_format(\"No\", 0, 10)+f\"Attenzione, i cammini devono partire dalla cella $(1,1)$ e pertanto $num\\_paths\\_to[0][${j}$] = 0$\"\n",
    "    num_paths_to_forgiving = num_paths_to.copy()\n",
    "    num_paths_to_forgiving[1][1] = 1\n",
    "    for i in range(m,0,-1):\n",
    "        for j in range (n,0,-1):\n",
    "            if i==1 and j==1:\n",
    "                return  evaluation_format(\"Si\", 10, 10)+\"Non riscontro particolari problemi della tua versione della matrice $num\\_paths\\_to$.\"\n",
    "            if mappa[i][j]!=\"*\":\n",
    "                if num_paths_to_forgiving[i][j]!=num_paths_to_forgiving[i-1][j]+num_paths_to_forgiving[i][j-1]:\n",
    "                    print(f\"exit 1; i={i}, j={j}, mappa[i][j] = {mappa[i][j]}, num_paths_to_forgiving[i][j]={num_paths_to_forgiving[i][j]}, num_paths_to_forgiving[i-1][j]={num_paths_to_forgiving[i-1][j]}, num_paths_to_forgiving[i][j-1]={num_paths_to_forgiving[i][j-1]}\")\n",
    "                    return  evaluation_format(\"No\", 0, 10)+\"Ti avviso: riscontro dei problemi nella tua versione della matrice $num\\_paths\\_to$.\"\n",
    "            elif num_paths_to_forgiving[i][j]!=0:\n",
    "                print(f\"exit 2; i={i}, j={j}, mappa[i][j] = {mappa[i][j]}, num_paths_to_forgiving[i][j]={num_paths_to_forgiving[i][j]}\")\n",
    "                return  evaluation_format(\"No\", 0, 10)+\"Ti avviso: riscontro dei problemi nella tua versione della matrice $num\\_paths\\_to$.\"\n",
    "\n",
    "\n",
    "def check_num_paths_from(mappa, num_paths_from):\n",
    "    \"\"\"\n",
    "    verifica che la matrice num_paths sia conforme alla consegna (perdonando solamente eventuale anomalia su cella (1,1) ).\n",
    "    \"\"\"\n",
    "    if len(num_paths_from) != m+2:\n",
    "        return evaluation_format(\"No\", 0, 10)+f\"Le righe della matrice $num\\_paths\\_from$ devono essere $m+2=${m+2}, non {len(num_paths_from)}.\"\n",
    "    if len(num_paths_from[0]) != n+2:\n",
    "        return evaluation_format(\"No\", 0, 10)+f\"Le colonne della matrice $num\\_paths\\_from$ devono essere $n+2=${n+2}, non {len(num_paths_from[0])}.\"\n",
    "        \n",
    "    for i in range (0,m+1):\n",
    "        if num_paths_from[i][n+1]!=0:\n",
    "            return evaluation_format(\"No\", 0, 10)+f\"Attenzione, i cammini devono partire dalla cella $(8,9)$ e pertanto $num\\_paths\\_from[${i}$][10] = 0$\"\n",
    "    for j in range (0,n+1):\n",
    "        if num_paths_from[m+1][j]!=0:\n",
    "            return evaluation_format(\"No\", 0, 10)+f\"Attenzione, i cammini devono partire dalla cella $(8,9)$ e pertanto $num\\_paths\\_from[9][${j}$] = 0$\"\n",
    "    num_paths_from_forgiving = num_paths_from.copy()\n",
    "    num_paths_from_forgiving[m][n] = 1\n",
    "    for i in range(1,m-1):\n",
    "        for j in range (1,n-1):\n",
    "            if mappa[i][j]!=\"*\":\n",
    "                if num_paths_from_forgiving[i][j]!=num_paths_from_forgiving[i+1][j]+num_paths_from_forgiving[i][j+1]:\n",
    "                    print(f\"exit 1; i={i}, j={j}, mappa[i][j] = {mappa[i][j]}, num_paths_from_forgiving[i][j]={num_paths_from_forgiving[i][j]}, num_paths_from_forgiving[i+1][j]={num_paths_from_forgiving[i+1][j]}, num_paths_from_forgiving[i][j+1]={num_paths_from_forgiving[i][j+1]}\")\n",
    "                    return  evaluation_format(\"No\", 0, 10)+\"Ti avviso: riscontro dei problemi nella tua versione della matrice $num\\_paths\\_from$.\"\n",
    "            elif num_paths_from_forgiving[i][j]!=0:\n",
    "                print(f\"exit 2; i={i}, j={j}, mappa[i][j] = {mappa[i][j]}, num_paths_from_forgiving[i][j]={num_paths_from_forgiving[i][j]}\")\n",
    "                return  evaluation_format(\"No\", 0, 10)+\"Ti avviso: riscontro dei problemi nella tua versione della matrice $num\\_paths\\_from$.\"\n",
    "    for i in range (1, m):\n",
    "        if mappa[i][n]!=\"*\":\n",
    "            if num_paths_from_forgiving[i][n]!=num_paths_from_forgiving[i+1][n]+num_paths_from_forgiving[i][n+1]:    \n",
    "                print(f\"exit 3; i={i}, j={j}, mappa[i][j] = {mappa[i][j]}, num_paths_from_forgiving[i][n]={num_paths_from_forgiving[i][n]}, num_paths_from_forgiving[i+1][n]={num_paths_from_forgiving[i+1][n]}, num_paths_from_forgiving[i][n+1]={num_paths_from_forgiving[i][n+1]}\")\n",
    "                return  evaluation_format(\"No\", 0, 10)+\"Ti avviso: riscontro dei problemi nella tua versione della matrice $num\\_paths\\_from$.\" \n",
    "        elif num_paths_from_forgiving[i][n]!=0:\n",
    "            print(f\"exit 4; i={i}, j={j}, mappa[i][j] = {mappa[i][j]}, num_paths_from_forgiving[i][j]={num_paths_from_forgiving[i][j]}\")\n",
    "            return  evaluation_format(\"No\", 0, 10)+\"Ti avviso: riscontro dei problemi nella tua versione della matrice $num\\_paths\\_from$.\"\n",
    "    for j in range (1, n):\n",
    "        if mappa[m][j]!=\"*\":\n",
    "            if num_paths_from_forgiving[m][j]!=num_paths_from_forgiving[m+1][j]+num_paths_from_forgiving[m][j+1]:\n",
    "                print(f\"exit 5; i={i}, j={j}, mappa[i][j] = {mappa[i][j]}, num_paths_from_forgiving[m][j]={num_paths_from_forgiving[m+1][j]}, num_paths_from_forgiving[m+1][j+1]={num_paths_from_forgiving[i+1][j]}, num_paths_from_forgiving[i][j+1]={num_paths_from_forgiving[i][j+1]}\")\n",
    "                return  evaluation_format(\"No\", 0, 10)+\"Ti avviso: riscontro dei problemi nella tua versione della matrice $num\\_paths\\_from$.\" \n",
    "        elif num_paths_from_forgiving[m][j]!=0:\n",
    "            print(f\"exit 6; i={i}, j={j}, mappa[i][j] = {mappa[i][j]}, num_paths_from_forgiving[i][j]={num_paths_from_forgiving[i][j]}\")\n",
    "            return  evaluation_format(\"No\", 0, 10)+\"Ti avviso: riscontro dei problemi nella tua versione della matrice $num\\_paths\\_from$.\"\n",
    "    return  evaluation_format(\"Si\", 10, 10)+\"Non riscontro particolari problemi della tua versione della matrice $num\\_paths\\_from$.\""
   ]
  },
  {
   "cell_type": "markdown",
   "metadata": {
    "deletable": false,
    "editable": false
   },
   "source": [
    "## Esercizio \\[60 pts\\]\n",
    "(campo minato) Conteggio di cammini in una griglia rettangolare con celle proibite."
   ]
  },
  {
   "cell_type": "markdown",
   "metadata": {
    "deletable": false
   },
   "source": [
    "Stiamo camminando su un campo minato, fortunatamente la seguente matrice fornisce una mappa dove gli $1$ denotano la posizione delle mine, le altre celle sono invece transitabili.\n",
    "Non ti è richiesto programmare, puoi fare tutto a mano e non facciamo alcuna differenza tra i punti conquistati in un modo piuttosto che in un altro (noi guardiamo ai risutati), ma sei incoraggiato piuttosto a ricercare l'approccio per tè più pratico e conveniente, e magari anche più piacevole.\n",
    "Ciò nononostante, per facilitare chi di voi volesse scrivere del codice a proprio supporto, abbiamo aggiunto alla mappa di $m$ righe ed $n$ colonne una riga e colonna iniziale (di indice zero), fatte interamente di mine, perchè non si crei confusione col fatto che gli indici di liste ed array in programmazione partono da zero."
   ]
  },
  {
   "cell_type": "code",
   "execution_count": 96,
   "metadata": {
    "deletable": false,
    "hide_input": false
   },
   "outputs": [
    {
     "name": "stdout",
     "output_type": "stream",
     "text": [
      "╒════╤═════╤═════╤═════╤═════╤═════╤═════╤═════╤═════╤═════╕\n",
      "│    │ 1   │ 2   │ 3   │ 4   │ 5   │ 6   │ 7   │ 8   │ 9   │\n",
      "╞════╪═════╪═════╪═════╪═════╪═════╪═════╪═════╪═════╪═════╡\n",
      "│ A  │     │     │     │     │     │     │     │     │ *   │\n",
      "├────┼─────┼─────┼─────┼─────┼─────┼─────┼─────┼─────┼─────┤\n",
      "│ B  │     │     │     │     │ *   │ *   │     │     │     │\n",
      "├────┼─────┼─────┼─────┼─────┼─────┼─────┼─────┼─────┼─────┤\n",
      "│ C  │     │ *   │     │ *   │     │     │     │     │     │\n",
      "├────┼─────┼─────┼─────┼─────┼─────┼─────┼─────┼─────┼─────┤\n",
      "│ D  │     │     │     │     │     │     │     │ *   │     │\n",
      "├────┼─────┼─────┼─────┼─────┼─────┼─────┼─────┼─────┼─────┤\n",
      "│ E  │     │     │ *   │     │ *   │     │     │     │     │\n",
      "├────┼─────┼─────┼─────┼─────┼─────┼─────┼─────┼─────┼─────┤\n",
      "│ F  │     │     │     │     │     │     │ *   │     │     │\n",
      "├────┼─────┼─────┼─────┼─────┼─────┼─────┼─────┼─────┼─────┤\n",
      "│ G  │     │ *   │     │     │     │     │     │     │     │\n",
      "├────┼─────┼─────┼─────┼─────┼─────┼─────┼─────┼─────┼─────┤\n",
      "│ H  │     │     │     │     │     │     │     │     │     │\n",
      "╘════╧═════╧═════╧═════╧═════╧═════╧═════╧═════╧═════╧═════╛\n"
     ]
    }
   ],
   "source": [
    "campo_minato = [\n",
    "    [ \" \" , \" \" , \" \" , \" \" , \" \" , \" \" , \" \" , \" \" , \"*\" ],\n",
    "    [ \" \" , \" \" , \" \" , \" \" , \"*\" , \"*\" , \" \" , \" \" , \" \" ],\n",
    "    [ \" \" , \"*\" , \" \" , \"*\" , \" \" , \" \" , \" \" , \" \" , \" \" ],\n",
    "    [ \" \" , \" \" , \" \" , \" \" , \" \" , \" \" , \" \" , \"*\" , \" \" ],\n",
    "    [ \" \" , \" \" , \"*\" , \" \" , \"*\" , \" \" , \" \" , \" \" , \" \" ],\n",
    "    [ \" \" , \" \" , \" \" , \" \" , \" \" , \" \" , \"*\" , \" \" , \" \" ],\n",
    "    [ \" \" , \"*\" , \" \" , \" \" , \" \" , \" \" , \" \" , \" \" , \" \" ],\n",
    "    [ \" \" , \" \" , \" \" , \" \" , \" \" , \" \" , \" \" , \" \" , \" \" ]\n",
    "]\n",
    "m = len(campo_minato)\n",
    "n = len(campo_minato[0])\n",
    "mappa = [ [\"*\"]*(n+1) ] + [ ([\"*\"] + r) for r in campo_minato]\n",
    "visualizza_mappa()"
   ]
  },
  {
   "cell_type": "code",
   "execution_count": null,
   "metadata": {
    "deletable": false,
    "hide_input": false
   },
   "outputs": [],
   "source": []
  },
  {
   "cell_type": "markdown",
   "metadata": {
    "deletable": false,
    "editable": false
   },
   "source": [
    "Un robot, inizialmente situato nella cella $A1=(1,1)$, deve portarsi nella cella $H9=(8,9)$.\n",
    "Le celle che riportano il numero 1 contengono una mina od altre trapole mortali, ed il robot deve evitarle. \n",
    "I movimenti base possibili sono il passo verso destra (ad esempio il primo passo potrebbe avvenire dalla cella $A1$ alla cella $A2$) ed il passo verso il basso (ad esempio, come unica altra alternativa per il primo passo il robot potrebbe posrtarsi quindi nella cella $B1$).\\\n",
    "Quanti sono i possibili percorsi che può fare il robot per andare dalla cella $A1$ alla cella $H9$?"
   ]
  },
  {
   "cell_type": "markdown",
   "metadata": {
    "deletable": false,
    "editable": false
   },
   "source": [
    "__Richieste__:"
   ]
  },
  {
   "cell_type": "markdown",
   "metadata": {
    "deletable": false,
    "editable": false
   },
   "source": [
    "1. __\\[10 pts\\]__ A mano o tramite un programma componi la matrice $num\\_paths\\_to$ di dimensione $(m+1)\\times(n+1)$ e tale per cui in $num\\_paths\\_to[i][j]$ sia riposto il numero di cammini dalla cella $A1=(1,1)$ alla generica cella $(i,j)$, per ogni $i = 0,..., m+1$ e $j = 0,..., n+1$."
   ]
  },
  {
   "cell_type": "code",
   "execution_count": 97,
   "metadata": {
    "deletable": false
   },
   "outputs": [],
   "source": [
    "num_paths_to = [\n",
    "    [0, 0, 0, 0, 0, 0, 0, 0, 0, 0], \n",
    "    [0, 1, 1, 1, 1, 1, 1, 1, 1, 0], \n",
    "    [0, 1, 2, 3, 4, 0, 0, 1, 2, 2], \n",
    "    [0, 1, 0, 3, 0, 0, 0, 1, 3, 5],\n",
    "    [0, 1, 1, 4, 4, 4, 4, 5, 0, 5], \n",
    "    [0, 1, 2, 0, 4, 0, 4, 9, 9, 14], \n",
    "    [0, 1, 3, 3, 7, 7, 11, 0, 9, 23], \n",
    "    [0, 1, 0, 3, 10, 17, 28, 28, 37, 60], \n",
    "    [0, 1, 1, 4, 14, 31, 59, 87, 124, 184]\n",
    "]\n"
   ]
  },
  {
   "cell_type": "markdown",
   "metadata": {
    "hide_input": false
   },
   "source": []
  },
  {
   "cell_type": "code",
   "execution_count": 103,
   "metadata": {
    "deletable": false,
    "editable": false,
    "hide_input": true,
    "scrolled": true
   },
   "outputs": [
    {
     "data": {
      "text/markdown": [
       "La tua versione attuale della matrice $num\\_paths\\_to$ è la seguente:"
      ],
      "text/plain": [
       "<IPython.core.display.Markdown object>"
      ]
     },
     "metadata": {},
     "output_type": "display_data"
    },
    {
     "name": "stdout",
     "output_type": "stream",
     "text": [
      "╒════╤═════╤═════╤═════╤═════╤═════╤═════╤═════╤═════╤═════╕\n",
      "│    │   1 │   2 │   3 │   4 │   5 │   6 │   7 │   8 │   9 │\n",
      "╞════╪═════╪═════╪═════╪═════╪═════╪═════╪═════╪═════╪═════╡\n",
      "│ A  │   1 │   1 │   1 │   1 │   1 │   1 │   1 │   1 │   0 │\n",
      "├────┼─────┼─────┼─────┼─────┼─────┼─────┼─────┼─────┼─────┤\n",
      "│ B  │   1 │   2 │   3 │   4 │   0 │   0 │   1 │   2 │   2 │\n",
      "├────┼─────┼─────┼─────┼─────┼─────┼─────┼─────┼─────┼─────┤\n",
      "│ C  │   1 │   0 │   3 │   0 │   0 │   0 │   1 │   3 │   5 │\n",
      "├────┼─────┼─────┼─────┼─────┼─────┼─────┼─────┼─────┼─────┤\n",
      "│ D  │   1 │   1 │   4 │   4 │   4 │   4 │   5 │   0 │   5 │\n",
      "├────┼─────┼─────┼─────┼─────┼─────┼─────┼─────┼─────┼─────┤\n",
      "│ E  │   1 │   2 │   0 │   4 │   0 │   4 │   9 │   9 │  14 │\n",
      "├────┼─────┼─────┼─────┼─────┼─────┼─────┼─────┼─────┼─────┤\n",
      "│ F  │   1 │   3 │   3 │   7 │   7 │  11 │   0 │   9 │  23 │\n",
      "├────┼─────┼─────┼─────┼─────┼─────┼─────┼─────┼─────┼─────┤\n",
      "│ G  │   1 │   0 │   3 │  10 │  17 │  28 │  28 │  37 │  60 │\n",
      "├────┼─────┼─────┼─────┼─────┼─────┼─────┼─────┼─────┼─────┤\n",
      "│ H  │   1 │   1 │   4 │  14 │  31 │  59 │  87 │ 124 │ 184 │\n",
      "╘════╧═════╧═════╧═════╧═════╧═════╧═════╧═════╧═════╧═════╛\n"
     ]
    },
    {
     "data": {
      "text/markdown": [
       "<b>Validazione della tua matrice $num\\_paths\\_to$:</b>"
      ],
      "text/plain": [
       "<IPython.core.display.Markdown object>"
      ]
     },
     "metadata": {},
     "output_type": "display_data"
    },
    {
     "data": {
      "text/markdown": [
       "Si. Totalizzeresti <span style='color:green'>[10 safe pt]</span>,                                     <span style='color:blue'>[0 possible pt]</span>,                                     <span style='color:red'>[0 out of reach pt]</span>.<br>Non riscontro particolari problemi della tua versione della matrice $num\\_paths\\_to$."
      ],
      "text/plain": [
       "<IPython.core.display.Markdown object>"
      ]
     },
     "metadata": {},
     "output_type": "display_data"
    }
   ],
   "source": [
    "display(Markdown(f\"La tua versione attuale della matrice $num\\_paths\\_to$ è la seguente:\"))\n",
    "index=pd.Index([\"0\",\"A\",\"B\",\"C\",\"D\",\"E\",\"F\",\"G\",\"H\"])\n",
    "df2=pd.DataFrame(num_paths_to,index=index)\n",
    "df2 = df2.iloc[1:,1:]\n",
    "print(tabulate(df2, headers=columns, tablefmt='fancy_grid'))\n",
    "display(Markdown(f\"<b>Validazione della tua matrice $num\\_paths\\_to$:</b>\"))\n",
    "display(Markdown(check_num_paths_to(mappa,num_paths_to)))"
   ]
  },
  {
   "cell_type": "code",
   "execution_count": null,
   "metadata": {
    "deletable": false,
    "hide_input": true,
    "scrolled": false
   },
   "outputs": [],
   "source": []
  },
  {
   "cell_type": "markdown",
   "metadata": {
    "deletable": false
   },
   "source": [
    "2. __\\[10 pts\\]__ Componi ora una matrice $num\\_paths\\_from$ di dimensione $(m+2)\\times(n+2)$ e tale per cui in $num\\_paths\\_from[i][j]$, per ogni $i = 1,..., m+1$ e $j = 1,..., n+1$, sia riposto il numero di cammini dalla generica cella $(i,j)$ alla cella $H9=(8,9)$."
   ]
  },
  {
   "cell_type": "code",
   "execution_count": 99,
   "metadata": {
    "deletable": false,
    "scrolled": true
   },
   "outputs": [],
   "source": [
    "num_paths_from=[\n",
    "    [0, 0, 0, 0, 0, 0, 0, 0, 0, 0, 0], \n",
    "    [0, 184, 63, 36, 9, 9, 9, 9, 2, 0, 0], \n",
    "    [0, 121, 27, 27, 0, 0, 0, 7, 2, 1, 0], \n",
    "    [0, 94, 0, 27, 0, 29, 17, 5, 1, 1, 0], \n",
    "    [0, 94, 49, 27, 27, 12, 12, 4, 0, 1, 0], \n",
    "    [0, 45, 22, 0, 15, 0, 8, 4, 4, 1, 0], \n",
    "    [0, 23, 22, 22, 15, 9, 4, 0, 3, 1, 0], \n",
    "    [0, 1, 0, 7, 6, 5, 4, 3, 2, 1, 0], \n",
    "    [0, 1, 1, 1, 1, 1, 1, 1, 1, 1, 0], \n",
    "    [0, 0, 0, 0, 0, 0, 0, 0, 0, 0, 0]\n",
    "]"
   ]
  },
  {
   "cell_type": "markdown",
   "metadata": {
    "deletable": false,
    "hide_input": false
   },
   "source": []
  },
  {
   "cell_type": "code",
   "execution_count": null,
   "metadata": {
    "deletable": false,
    "hide_input": true,
    "scrolled": true
   },
   "outputs": [],
   "source": []
  },
  {
   "cell_type": "code",
   "execution_count": 104,
   "metadata": {
    "deletable": false,
    "editable": false,
    "hide_input": true,
    "scrolled": false
   },
   "outputs": [
    {
     "data": {
      "text/markdown": [
       "La tua versione attuale della matrice $num\\_paths\\_from$ è la seguente:"
      ],
      "text/plain": [
       "<IPython.core.display.Markdown object>"
      ]
     },
     "metadata": {},
     "output_type": "display_data"
    },
    {
     "name": "stdout",
     "output_type": "stream",
     "text": [
      "╒════╤═════╤═════╤═════╤═════╤═════╤═════╤═════╤═════╤═════╕\n",
      "│    │   1 │   2 │   3 │   4 │   5 │   6 │   7 │   8 │   9 │\n",
      "╞════╪═════╪═════╪═════╪═════╪═════╪═════╪═════╪═════╪═════╡\n",
      "│ A  │ 184 │  63 │  36 │   9 │   9 │   9 │   9 │   2 │   0 │\n",
      "├────┼─────┼─────┼─────┼─────┼─────┼─────┼─────┼─────┼─────┤\n",
      "│ B  │ 121 │  27 │  27 │   0 │   0 │   0 │   7 │   2 │   1 │\n",
      "├────┼─────┼─────┼─────┼─────┼─────┼─────┼─────┼─────┼─────┤\n",
      "│ C  │  94 │   0 │  27 │   0 │  29 │  17 │   5 │   1 │   1 │\n",
      "├────┼─────┼─────┼─────┼─────┼─────┼─────┼─────┼─────┼─────┤\n",
      "│ D  │  94 │  49 │  27 │  27 │  12 │  12 │   4 │   0 │   1 │\n",
      "├────┼─────┼─────┼─────┼─────┼─────┼─────┼─────┼─────┼─────┤\n",
      "│ E  │  45 │  22 │   0 │  15 │   0 │   8 │   4 │   4 │   1 │\n",
      "├────┼─────┼─────┼─────┼─────┼─────┼─────┼─────┼─────┼─────┤\n",
      "│ F  │  23 │  22 │  22 │  15 │   9 │   4 │   0 │   3 │   1 │\n",
      "├────┼─────┼─────┼─────┼─────┼─────┼─────┼─────┼─────┼─────┤\n",
      "│ G  │   1 │   0 │   7 │   6 │   5 │   4 │   3 │   2 │   1 │\n",
      "├────┼─────┼─────┼─────┼─────┼─────┼─────┼─────┼─────┼─────┤\n",
      "│ H  │   1 │   1 │   1 │   1 │   1 │   1 │   1 │   1 │   1 │\n",
      "╘════╧═════╧═════╧═════╧═════╧═════╧═════╧═════╧═════╧═════╛\n"
     ]
    },
    {
     "data": {
      "text/markdown": [
       "<b>Validazione della tua matrice $num\\_paths\\_from$:</b>"
      ],
      "text/plain": [
       "<IPython.core.display.Markdown object>"
      ]
     },
     "metadata": {},
     "output_type": "display_data"
    },
    {
     "data": {
      "text/markdown": [
       "Si. Totalizzeresti <span style='color:green'>[10 safe pt]</span>,                                     <span style='color:blue'>[0 possible pt]</span>,                                     <span style='color:red'>[0 out of reach pt]</span>.<br>Non riscontro particolari problemi della tua versione della matrice $num\\_paths\\_from$."
      ],
      "text/plain": [
       "<IPython.core.display.Markdown object>"
      ]
     },
     "metadata": {},
     "output_type": "display_data"
    }
   ],
   "source": [
    "display(Markdown(f\"La tua versione attuale della matrice $num\\_paths\\_from$ è la seguente:\"))\n",
    "index=pd.Index([\"0\",\"A\",\"B\",\"C\",\"D\",\"E\",\"F\",\"G\",\"H\",\"0\"])\n",
    "df3=pd.DataFrame(num_paths_from,index=index)\n",
    "df3 = df3.iloc[1:-1,1:-1]\n",
    "print(tabulate(df3, headers=columns, tablefmt='fancy_grid'))\n",
    "display(Markdown(f\"<b>Validazione della tua matrice $num\\_paths\\_from$:</b>\"))\n",
    "display(Markdown(check_num_paths_from(mappa, num_paths_from)))"
   ]
  },
  {
   "cell_type": "markdown",
   "metadata": {
    "deletable": false,
    "editable": false,
    "hide_input": false
   },
   "source": [
    "1. __\\[10 pts\\]__ Quanti sono i percorsi con partenza in A–1=(1,1) ed arrivo in H–9=(8,9)?"
   ]
  },
  {
   "cell_type": "code",
   "execution_count": 108,
   "metadata": {
    "deletable": false,
    "hide_input": false
   },
   "outputs": [
    {
     "name": "stdout",
     "output_type": "stream",
     "text": [
      "184\n"
     ]
    }
   ],
   "source": [
    "#184\n",
    "assert(num_paths_to[8][9] == num_paths_from[1][1])\n",
    "print(num_paths_to[8][9])\n"
   ]
  },
  {
   "cell_type": "markdown",
   "metadata": {
    "deletable": false,
    "editable": false,
    "hide_input": false
   },
   "source": [
    "2. __\\[10 pts\\]__ Quanti sono i percorsi con partenza in B–3=(2,3) ed arrivo in H–9=(8,9)?"
   ]
  },
  {
   "cell_type": "markdown",
   "metadata": {
    "deletable": false,
    "hide_input": false
   },
   "source": [
    "27"
   ]
  },
  {
   "cell_type": "markdown",
   "metadata": {
    "deletable": false,
    "editable": false,
    "hide_input": false
   },
   "source": [
    "3. __\\[10 pts\\]__ Quanti sono i percorsi con partenza in A–1=(1,1) ed arrivo in F–6=(6,6)?"
   ]
  },
  {
   "cell_type": "markdown",
   "metadata": {
    "deletable": false,
    "hide_input": false
   },
   "source": [
    "11"
   ]
  },
  {
   "cell_type": "markdown",
   "metadata": {
    "deletable": false,
    "editable": false,
    "hide_input": false
   },
   "source": [
    "4. __\\[10 pts\\]__ Quanti sono i percorsi che partono da A–1=(1,1), passano da D-5=(4,5), ed arrivano in H–9=(8,9)?"
   ]
  },
  {
   "cell_type": "code",
   "execution_count": 105,
   "metadata": {
    "deletable": false,
    "hide_input": false
   },
   "outputs": [
    {
     "name": "stdout",
     "output_type": "stream",
     "text": [
      "48\n"
     ]
    }
   ],
   "source": [
    "#48\n",
    "print(num_paths_to[4][5]*num_paths_from[4][5])"
   ]
  },
  {
   "cell_type": "code",
   "execution_count": null,
   "metadata": {},
   "outputs": [],
   "source": []
  }
 ],
 "metadata": {
  "celltoolbar": "Edit Metadata",
  "hide_input": false,
  "kernelspec": {
   "display_name": "Python 3",
   "language": "python",
   "name": "python3"
  },
  "language_info": {
   "codemirror_mode": {
    "name": "ipython",
    "version": 3
   },
   "file_extension": ".py",
   "mimetype": "text/x-python",
   "name": "python",
   "nbconvert_exporter": "python",
   "pygments_lexer": "ipython3",
   "version": "3.7.7"
  }
 },
 "nbformat": 4,
 "nbformat_minor": 4
}
