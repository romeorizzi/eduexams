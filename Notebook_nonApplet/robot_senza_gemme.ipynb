{
 "cells": [
  {
   "cell_type": "code",
   "execution_count": 1,
   "metadata": {
    "deletable": false,
    "hide_input": true
   },
   "outputs": [],
   "source": [
    "from IPython.core.display import display, HTML, Markdown, Latex\n",
    "from tabulate import tabulate\n",
    "import pandas as pd"
   ]
  },
  {
   "cell_type": "code",
   "execution_count": 2,
   "metadata": {
    "deletable": false,
    "editable": false,
    "hide_input": false
   },
   "outputs": [],
   "source": [
    "campo_minato = [\n",
    "    [ \" \" , \" \" , \" \" , \" \" , \" \" , \" \" , \" \" , \" \" , \"*\" ],\n",
    "    [ \" \" , \" \" , \" \" , \" \" , \"*\" , \"*\" , \" \" , \" \" , \" \" ],\n",
    "    [ \" \" , \"*\" , \" \" , \"*\" , \" \" , \" \" , \" \" , \" \" , \" \" ],\n",
    "    [ \" \" , \" \" , \" \" , \" \" , \" \" , \" \" , \" \" , \"*\" , \" \" ],\n",
    "    [ \" \" , \" \" , \"*\" , \" \" , \"*\" , \" \" , \" \" , \" \" , \" \" ],\n",
    "    [ \" \" , \" \" , \" \" , \" \" , \" \" , \" \" , \"*\" , \" \" , \" \" ],\n",
    "    [ \" \" , \"*\" , \" \" , \" \" , \" \" , \" \" , \" \" , \" \" , \" \" ],\n",
    "    [ \" \" , \" \" , \" \" , \" \" , \" \" , \" \" , \" \" , \" \" , \" \" ]\n",
    "]\n",
    "m = len(campo_minato)\n",
    "n = len(campo_minato[0])\n",
    "mappa = [ [\"*\"]*(n+1) ] + [ ([\"*\"] + r) for r in campo_minato]"
   ]
  },
  {
   "cell_type": "code",
   "execution_count": 36,
   "metadata": {
    "deletable": false,
    "hide_input": false
   },
   "outputs": [],
   "source": [
    " def visualizza_env(env):\n",
    "    if len(env)==m+1 and len(env[0])==n+1:\n",
    "        index=pd.Index([\"0\"]+[chr(65+i) for i in range(m)])\n",
    "        df=pd.DataFrame(env,index=index)\n",
    "        df = df.iloc[1:,1:]\n",
    "        \n",
    "    if len(env)==m+2 and len(env[0])==n+2:\n",
    "        index=pd.Index([\"0\"]+[chr(65+i) for i in range(m)]+[\"0\"])\n",
    "        df = pd.DataFrame(env,index=index)\n",
    "        df = df.iloc[1:-1,1:-1]   \n",
    "    \n",
    "    columns=[str(i) for i in range(1,n+1)]\n",
    "    print(tabulate(df, headers=columns, tablefmt='fancy_grid'))\n",
    "    \n",
    "        \n",
    "\n",
    "def evaluation_format(answ, pt_green,pt_red):\n",
    "    pt_blue=0\n",
    "    if pt_green!=0:\n",
    "        pt_blue=pt_red-pt_green\n",
    "        pt_red=0\n",
    "    return f\"{answ}. Totalizzeresti <span style='color:green'>[{pt_green} safe pt]</span>, \\\n",
    "                                    <span style='color:blue'>[{pt_blue} possible pt]</span>, \\\n",
    "                                    <span style='color:red'>[{pt_red} out of reach pt]</span>.<br>\"\n",
    "\n",
    "def check_num_paths_to(mappa, num_paths_to):\n",
    "    \"\"\"\n",
    "    verifica che la matrice num_paths_to sia conforme alla consegna (perdonando solamente eventuale anomalia su cella (1,1) ).\n",
    "    \"\"\"\n",
    "    if len(num_paths_to) != m+1:\n",
    "        return evaluation_format(\"No\", 0, 10)+f\"Le righe della matrice $num\\_paths\\_to$ devono essere $m+1=${m+1}, non {len(num_paths_to)}.\"\n",
    "    if len(num_paths_to[0]) != n+1:\n",
    "        return evaluation_format(\"No\", 0, 10)+f\"Le colonne della matrice $num\\_paths\\_to$ devono essere $n+1=${n+1}, non {len(num_paths_to[0])}.\"\n",
    "        \n",
    "    for i in range (0,m):\n",
    "        if num_paths_to[i][0]!=0:\n",
    "            return evaluation_format(\"No\", 0, 10)+f\"Attenzione, i cammini devono partire dalla cella $(1,1)$ e pertanto $num\\_paths\\_to[${i}$][0] = 0$\"\n",
    "    for j in range (0,n):\n",
    "        if num_paths_to[0][j]!=0:\n",
    "            return evaluation_format(\"No\", 0, 10)+f\"Attenzione, i cammini devono partire dalla cella $(1,1)$ e pertanto $num\\_paths\\_to[0][${j}$] = 0$\"\n",
    "    num_paths_to_forgiving = num_paths_to.copy()\n",
    "    num_paths_to_forgiving[1][1] = 1\n",
    "    for i in range(m,0,-1):\n",
    "        for j in range (n,0,-1):\n",
    "            if i==1 and j==1:\n",
    "                return  evaluation_format(\"Si\", 10, 10)+\"Non riscontro particolari problemi della tua versione della matrice $num\\_paths\\_to$.\"\n",
    "            if mappa[i][j]==\"*\"  or (num_paths_to_forgiving[i-1][j]is None and num_paths_to_forgiving[i][j-1]is None):\n",
    "                if num_paths_to_forgiving[i][j] is not None:\n",
    "                    print(f\"exit 1; i={i}, j={j}, mappa[i][j] = {mappa[i][j]}, num_paths_to_forgiving[i][j]={num_paths_to_forgiving[i][j]}\")\n",
    "                    return  evaluation_format(\"No\", 0, 10)+\"Ti avviso: riscontro dei problemi nella tua versione della matrice $num\\_paths\\_to$.\"\n",
    "            else:\n",
    "                if num_paths_to_forgiving[i][j]!=(num_paths_to_forgiving[i][j-1] if num_paths_to_forgiving[i][j-1] is not None else 0) + (num_paths_to_forgiving[i-1][j] if num_paths_to_forgiving[i-1][j] is not None else 0):\n",
    "                    print(f\"exit 2; i={i}, j={j}, mappa[i][j] = {mappa[i][j]}, num_paths_to_forgiving[i][j]={num_paths_to_forgiving[i][j]}, num_paths_to_forgiving[i-1][j]={num_paths_to_forgiving[i-1][j]}, num_paths_to_forgiving[i][j-1]={num_paths_to_forgiving[i][j-1]}\")\n",
    "                    return  evaluation_format(\"No\", 0, 10)+\"Ti avviso: riscontro dei problemi nella tua versione della matrice $num\\_paths\\_to$.\"\n",
    "\n",
    "def check_num_paths_from(mappa, num_paths_from):\n",
    "    \"\"\"\n",
    "    verifica che la matrice num_paths sia conforme alla consegna (perdonando solamente eventuale anomalia su cella (1,1) ).\n",
    "    \"\"\"\n",
    "    if len(num_paths_from) != m+2:\n",
    "        return evaluation_format(\"No\", 0, 10)+f\"Le righe della matrice $num\\_paths\\_from$ devono essere $m+2=${m+2}, non {len(num_paths_from)}.\"\n",
    "    if len(num_paths_from[0]) != n+2:\n",
    "        return evaluation_format(\"No\", 0, 10)+f\"Le colonne della matrice $num\\_paths\\_from$ devono essere $n+2=${n+2}, non {len(num_paths_from[0])}.\"\n",
    "        \n",
    "    for i in range (0,m+1):\n",
    "        if num_paths_from[i][n+1]!=0:\n",
    "            return evaluation_format(\"No\", 0, 10)+f\"Attenzione, i cammini devono partire dalla cella $(8,9)$ e pertanto $num\\_paths\\_from[${i}$][10] = 0$\"\n",
    "    for j in range (0,n+1):\n",
    "        if num_paths_from[m+1][j]!=0:\n",
    "            return evaluation_format(\"No\", 0, 10)+f\"Attenzione, i cammini devono partire dalla cella $(8,9)$ e pertanto $num\\_paths\\_from[9][${j}$] = 0$\"\n",
    "        \n",
    "    num_paths_from_forgiving = num_paths_from.copy()\n",
    "    num_paths_from_forgiving[m][n] = 1\n",
    "    \n",
    "    for i in range(1,m):\n",
    "        for j in range (1,n):\n",
    "            if mappa[i][j]==\"*\" or (num_paths_from_forgiving[i+1][j] is None and num_paths_from_forgiving[i][j+1]is None):\n",
    "                if num_paths_from_forgiving[i][j]is not None:\n",
    "                    print(f\"exit 1; i={i}, j={j}, mappa[i][j] = {mappa[i][j]}, num_paths_from_forgiving[i][j]={num_paths_from_forgiving[i][j]}\")\n",
    "                    return  evaluation_format(\"No\", 0, 10)+\"Ti avviso: riscontro dei problemi nella tua versione della matrice $num\\_paths\\_from$.\"\n",
    "            else:\n",
    "                if num_paths_from_forgiving[i][j]!=(num_paths_from_forgiving[i][j+1] if num_paths_from_forgiving[i][j+1] is not None else 0) + (num_paths_from_forgiving[i+1][j] if num_paths_from_forgiving[i+1][j] is not None else 0):\n",
    "                    print(f\"exit 2; i={i}, j={j}, mappa[i][j] = {mappa[i][j]}, num_paths_from_forgiving[i][j]={num_paths_from_forgiving[i][j]}, num_paths_from_forgiving[i+1][j]={num_paths_from_forgiving[i+1][j]}, num_paths_from_forgiving[i][j+1]={num_paths_from_forgiving[i][j+1]}\")\n",
    "                    return  evaluation_format(\"No\", 0, 10)+\"Ti avviso: riscontro dei problemi nella tua versione della matrice $num\\_paths\\_from$.\"\n",
    "    \n",
    "    return  evaluation_format(\"Si\", 10, 10)+\"Non riscontro particolari problemi della tua versione della matrice $num\\_paths\\_from$.\""
   ]
  },
  {
   "cell_type": "markdown",
   "metadata": {
    "deletable": false,
    "editable": false
   },
   "source": [
    "## Esercizio \\[60 pts\\]\n",
    "(campo minato) Conteggio di cammini in una griglia rettangolare con celle proibite."
   ]
  },
  {
   "cell_type": "markdown",
   "metadata": {
    "deletable": false
   },
   "source": [
    "Bimo cammina sulle celle di un campo minato dalla forma di una griglia rettangolare $m\\times n$. Le mine sono indicate da un \"*\" mentre le altre celle (\" \") sono tutte transitabili.\n",
    "Le mosse consentite portano Bimo dalla cella $(i,j)$ alla cella $(i+1,j)$ oppure $(i,j+1)$, sempre ove queste siano transitabili.\n",
    "Organizzati per calcolare quanti sono i cammini possibili tra due celle date e per rispondere ad altre domande di questo tipo."
   ]
  },
  {
   "cell_type": "markdown",
   "metadata": {},
   "source": [
    "<b>Notice:</b> Anche se ne hai quì ogni opportunità, non ti è però richiesto in alcun modo di scrivere del codice per condurre a termine il tuo esercizio. Puoi fare tutto a mano e vogliamo essere chiari che noi non facciamo alcuna differenza tra i punti conquistati in un modo piuttosto che in un altro (noi guardiamo ai risultati e ci piace che voi vi ingegniate a modo vostro per portarli a casa, in tutta libertà). Sei incoraggiato piuttosto a ricercare l'approccio per tè più pratico, sicuro, e conveniente. E magari quello che puoi trovare più piacevole e stimolante quando svlgi l'esercizio da casa, dove ti suggerisco sperimentare, potrebbe anche essere diverso .\n",
    "Ciò nononostante, per facilitare chi di voi volesse scrivere del codice a proprio supporto, abbiamo aggiunto alla mappa di $m$ righe ed $n$ colonne una riga e colonna iniziale (di indice zero), fatte interamente di mine, perchè non si crei confusione col fatto che gli indici di liste ed array in programmazione partono da zero."
   ]
  },
  {
   "cell_type": "markdown",
   "metadata": {
    "deletable": false,
    "editable": false
   },
   "source": [
    "Un robot, inizialmente situato nella cella $A1=(1,1)$, deve portarsi nella cella $H9=(8,9)$.\n",
    "Le celle che riportano il simbolo '*' contengono una mina od altre trapole mortali, ed il robot deve evitarle. \n",
    "I movimenti base possibili sono il passo verso destra (ad esempio il primo passo potrebbe avvenire dalla cella $A1$ alla cella $A2$) ed il passo verso il basso (ad esempio, come unica altra alternativa per il primo passo il robot potrebbe posrtarsi quindi nella cella $B1$).\\\n",
    "Quanti sono i possibili percorsi che può fare il robot per andare dalla cella $A1$ alla cella $H9$?"
   ]
  },
  {
   "cell_type": "code",
   "execution_count": 4,
   "metadata": {
    "deletable": false,
    "editable": false,
    "hide_input": true,
    "scrolled": false
   },
   "outputs": [
    {
     "name": "stdout",
     "output_type": "stream",
     "text": [
      "╒════╤═════╤═════╤═════╤═════╤═════╤═════╤═════╤═════╤═════╕\n",
      "│    │ 1   │ 2   │ 3   │ 4   │ 5   │ 6   │ 7   │ 8   │ 9   │\n",
      "╞════╪═════╪═════╪═════╪═════╪═════╪═════╪═════╪═════╪═════╡\n",
      "│ A  │     │     │     │     │     │     │     │     │ *   │\n",
      "├────┼─────┼─────┼─────┼─────┼─────┼─────┼─────┼─────┼─────┤\n",
      "│ B  │     │     │     │     │ *   │ *   │     │     │     │\n",
      "├────┼─────┼─────┼─────┼─────┼─────┼─────┼─────┼─────┼─────┤\n",
      "│ C  │     │ *   │     │ *   │     │     │     │     │     │\n",
      "├────┼─────┼─────┼─────┼─────┼─────┼─────┼─────┼─────┼─────┤\n",
      "│ D  │     │     │     │     │     │     │     │ *   │     │\n",
      "├────┼─────┼─────┼─────┼─────┼─────┼─────┼─────┼─────┼─────┤\n",
      "│ E  │     │     │ *   │     │ *   │     │     │     │     │\n",
      "├────┼─────┼─────┼─────┼─────┼─────┼─────┼─────┼─────┼─────┤\n",
      "│ F  │     │     │     │     │     │     │ *   │     │     │\n",
      "├────┼─────┼─────┼─────┼─────┼─────┼─────┼─────┼─────┼─────┤\n",
      "│ G  │     │ *   │     │     │     │     │     │     │     │\n",
      "├────┼─────┼─────┼─────┼─────┼─────┼─────┼─────┼─────┼─────┤\n",
      "│ H  │     │     │     │     │     │     │     │     │     │\n",
      "╘════╧═════╧═════╧═════╧═════╧═════╧═════╧═════╧═════╧═════╛\n"
     ]
    }
   ],
   "source": [
    "visualizza_env(mappa)"
   ]
  },
  {
   "cell_type": "markdown",
   "metadata": {
    "deletable": false,
    "editable": false
   },
   "source": [
    "__Richieste__:"
   ]
  },
  {
   "cell_type": "markdown",
   "metadata": {
    "deletable": false
   },
   "source": [
    "1. __\\[10 pts\\]__ A mano o tramite un programma componi la matrice $num\\_paths\\_to$ di dimensione $(m+1)\\times(n+1)$ e tale per cui in $num\\_paths\\_to[i][j]$ sia riposto il numero di cammini dalla cella $A1=(1,1)$ alla generica cella $(i,j)$, per ogni $i = 0,..., m+1$ e $j = 0,..., n+1$.\n",
    "Se non esiste un cammino in quella cella (o è una cella con una mina) inserisci None."
   ]
  },
  {
   "cell_type": "code",
   "execution_count": 38,
   "metadata": {
    "deletable": false,
    "scrolled": false
   },
   "outputs": [],
   "source": [
    "num_paths_to = [\n",
    "                [0, 0, 0, 0, 0, 0, 0, 0, 0, 0], \n",
    "                [0, 1, 1, 1, 1, 1, 1, 1, 1, None], \n",
    "                [0, 1, 2, 3, 4, None, None, 1, 2, 2], \n",
    "                [0, 1, None, 3, None, None, None, 1, 3, 5], \n",
    "                [0, 1, 1, 4, 4, 4, 4, 5, None, 5], \n",
    "                [0, 1, 2, None, 4, None, 4, 9, 9, 14], \n",
    "                [0, 1, 3, 3, 7, 7, 11, None, 9, 23], \n",
    "                [0, 1, None, 3, 10, 17, 28, 28, 37, 60], \n",
    "                [0, 1, 1, 4, 14, 31, 59, 87, 124, 184]\n",
    "            ]"
   ]
  },
  {
   "cell_type": "code",
   "execution_count": 39,
   "metadata": {
    "deletable": false,
    "hide_input": false,
    "scrolled": false
   },
   "outputs": [
    {
     "data": {
      "text/markdown": [
       "La tua versione attuale della matrice $num\\_paths\\_to$ è la seguente:"
      ],
      "text/plain": [
       "<IPython.core.display.Markdown object>"
      ]
     },
     "metadata": {},
     "output_type": "display_data"
    },
    {
     "name": "stdout",
     "output_type": "stream",
     "text": [
      "╒════╤═════╤═════╤═════╤═════╤═════╤═════╤═════╤═════╤═════╕\n",
      "│    │   1 │   2 │   3 │   4 │   5 │   6 │   7 │   8 │   9 │\n",
      "╞════╪═════╪═════╪═════╪═════╪═════╪═════╪═════╪═════╪═════╡\n",
      "│ A  │   1 │   1 │   1 │   1 │   1 │   1 │   1 │   1 │ nan │\n",
      "├────┼─────┼─────┼─────┼─────┼─────┼─────┼─────┼─────┼─────┤\n",
      "│ B  │   1 │   2 │   3 │   4 │ nan │ nan │   1 │   2 │   2 │\n",
      "├────┼─────┼─────┼─────┼─────┼─────┼─────┼─────┼─────┼─────┤\n",
      "│ C  │   1 │ nan │   3 │ nan │ nan │ nan │   1 │   3 │   5 │\n",
      "├────┼─────┼─────┼─────┼─────┼─────┼─────┼─────┼─────┼─────┤\n",
      "│ D  │   1 │   1 │   4 │   4 │   4 │   4 │   5 │ nan │   5 │\n",
      "├────┼─────┼─────┼─────┼─────┼─────┼─────┼─────┼─────┼─────┤\n",
      "│ E  │   1 │   2 │ nan │   4 │ nan │   4 │   9 │   9 │  14 │\n",
      "├────┼─────┼─────┼─────┼─────┼─────┼─────┼─────┼─────┼─────┤\n",
      "│ F  │   1 │   3 │   3 │   7 │   7 │  11 │ nan │   9 │  23 │\n",
      "├────┼─────┼─────┼─────┼─────┼─────┼─────┼─────┼─────┼─────┤\n",
      "│ G  │   1 │ nan │   3 │  10 │  17 │  28 │  28 │  37 │  60 │\n",
      "├────┼─────┼─────┼─────┼─────┼─────┼─────┼─────┼─────┼─────┤\n",
      "│ H  │   1 │   1 │   4 │  14 │  31 │  59 │  87 │ 124 │ 184 │\n",
      "╘════╧═════╧═════╧═════╧═════╧═════╧═════╧═════╧═════╧═════╛\n"
     ]
    },
    {
     "data": {
      "text/markdown": [
       "<b>Validazione della tua matrice $num\\_paths\\_to$:</b>"
      ],
      "text/plain": [
       "<IPython.core.display.Markdown object>"
      ]
     },
     "metadata": {},
     "output_type": "display_data"
    },
    {
     "data": {
      "text/markdown": [
       "Si. Totalizzeresti <span style='color:green'>[10 safe pt]</span>,                                    <span style='color:blue'>[0 possible pt]</span>,                                    <span style='color:red'>[0 out of reach pt]</span>.<br>Non riscontro particolari problemi della tua versione della matrice $num\\_paths\\_to$."
      ],
      "text/plain": [
       "<IPython.core.display.Markdown object>"
      ]
     },
     "metadata": {},
     "output_type": "display_data"
    }
   ],
   "source": [
    "display(Markdown(f\"La tua versione attuale della matrice $num\\_paths\\_to$ è la seguente:\"))\n",
    "visualizza_env(num_paths_to)\n",
    "display(Markdown(f\"<b>Validazione della tua matrice $num\\_paths\\_to$:</b>\"))\n",
    "display(Markdown(check_num_paths_to(mappa,num_paths_to)))"
   ]
  },
  {
   "cell_type": "markdown",
   "metadata": {
    "deletable": false
   },
   "source": [
    "2. __\\[10 pts\\]__ Componi ora una matrice $num\\_paths\\_from$ di dimensione $(m+2)\\times(n+2)$ e tale per cui in $num\\_paths\\_from[i][j]$, per ogni $i = 1,..., m+1$ e $j = 1,..., n+1$, sia riposto il numero di cammini dalla generica cella $(i,j)$ alla cella $H9=(8,9)$.\n",
    "Se non esiste un cammino in quella cella (o è una cella con una mina) inserisci None."
   ]
  },
  {
   "cell_type": "code",
   "execution_count": 34,
   "metadata": {
    "deletable": false,
    "scrolled": false
   },
   "outputs": [],
   "source": [
    "num_paths_from=[\n",
    "                [0, 0, 0, 0, 0, 0, 0, 0, 0, 0, 0], \n",
    "                [0, 184, 63, 36, 9, 9, 9, 9, 2, None, 0], \n",
    "                [0, 121, 27, 27, None, None, None, 7, 2, 1, 0], \n",
    "                [0, 94, None, 27, None, 29, 17, 5, 1, 1, 0], \n",
    "                [0, 94, 49, 27, 27, 12, 12, 4, None, 1, 0], \n",
    "                [0, 45, 22, None, 15, None, 8, 4, 4, 1, 0], \n",
    "                [0, 23, 22, 22, 15, 9, 4, None, 3, 1, 0], \n",
    "                [0, 1, None, 7, 6, 5, 4, 3, 2, 1, 0], \n",
    "                [0, 1, 1, 1, 1, 1, 1, 1, 1, 1, 0], \n",
    "                [0, 0, 0, 0, 0, 0, 0, 0, 0, 0, 0]]\n"
   ]
  },
  {
   "cell_type": "code",
   "execution_count": 35,
   "metadata": {
    "deletable": false,
    "hide_input": false,
    "scrolled": false
   },
   "outputs": [
    {
     "data": {
      "text/markdown": [
       "La tua versione attuale della matrice $num\\_paths\\_from$ è la seguente:"
      ],
      "text/plain": [
       "<IPython.core.display.Markdown object>"
      ]
     },
     "metadata": {},
     "output_type": "display_data"
    },
    {
     "name": "stdout",
     "output_type": "stream",
     "text": [
      "╒════╤═════╤═════╤═════╤═════╤═════╤═════╤═════╤═════╤═════╕\n",
      "│    │   1 │   2 │   3 │   4 │   5 │   6 │   7 │   8 │   9 │\n",
      "╞════╪═════╪═════╪═════╪═════╪═════╪═════╪═════╪═════╪═════╡\n",
      "│ A  │ 184 │  63 │  36 │   9 │   9 │   9 │   9 │   2 │ nan │\n",
      "├────┼─────┼─────┼─────┼─────┼─────┼─────┼─────┼─────┼─────┤\n",
      "│ B  │ 121 │  27 │  27 │ nan │ nan │ nan │   7 │   2 │   1 │\n",
      "├────┼─────┼─────┼─────┼─────┼─────┼─────┼─────┼─────┼─────┤\n",
      "│ C  │  94 │ nan │  27 │ nan │  29 │  17 │   5 │   1 │   1 │\n",
      "├────┼─────┼─────┼─────┼─────┼─────┼─────┼─────┼─────┼─────┤\n",
      "│ D  │  94 │  49 │  27 │  27 │  12 │  12 │   4 │ nan │   1 │\n",
      "├────┼─────┼─────┼─────┼─────┼─────┼─────┼─────┼─────┼─────┤\n",
      "│ E  │  45 │  22 │ nan │  15 │ nan │   8 │   4 │   4 │   1 │\n",
      "├────┼─────┼─────┼─────┼─────┼─────┼─────┼─────┼─────┼─────┤\n",
      "│ F  │  23 │  22 │  22 │  15 │   9 │   4 │ nan │   3 │   1 │\n",
      "├────┼─────┼─────┼─────┼─────┼─────┼─────┼─────┼─────┼─────┤\n",
      "│ G  │   1 │ nan │   7 │   6 │   5 │   4 │   3 │   2 │   1 │\n",
      "├────┼─────┼─────┼─────┼─────┼─────┼─────┼─────┼─────┼─────┤\n",
      "│ H  │   1 │   1 │   1 │   1 │   1 │   1 │   1 │   1 │   1 │\n",
      "╘════╧═════╧═════╧═════╧═════╧═════╧═════╧═════╧═════╧═════╛\n"
     ]
    },
    {
     "data": {
      "text/markdown": [
       "<b>Validazione della tua matrice $num\\_paths\\_from$:</b>"
      ],
      "text/plain": [
       "<IPython.core.display.Markdown object>"
      ]
     },
     "metadata": {},
     "output_type": "display_data"
    },
    {
     "data": {
      "text/markdown": [
       "Si. Totalizzeresti <span style='color:green'>[10 safe pt]</span>,                                    <span style='color:blue'>[0 possible pt]</span>,                                    <span style='color:red'>[0 out of reach pt]</span>.<br>Non riscontro particolari problemi della tua versione della matrice $num\\_paths\\_from$."
      ],
      "text/plain": [
       "<IPython.core.display.Markdown object>"
      ]
     },
     "metadata": {},
     "output_type": "display_data"
    }
   ],
   "source": [
    "display(Markdown(f\"La tua versione attuale della matrice $num\\_paths\\_from$ è la seguente:\"))\n",
    "visualizza_env(num_paths_from)\n",
    "display(Markdown(f\"<b>Validazione della tua matrice $num\\_paths\\_from$:</b>\"))\n",
    "display(Markdown(check_num_paths_from(mappa, num_paths_from)))"
   ]
  },
  {
   "cell_type": "markdown",
   "metadata": {
    "deletable": false,
    "editable": false,
    "hide_input": false
   },
   "source": [
    "1. __\\[10 pts\\]__ Quanti sono i percorsi con partenza in A–1=(1,1) ed arrivo in H–9=(8,9)?"
   ]
  },
  {
   "cell_type": "code",
   "execution_count": 9,
   "metadata": {
    "deletable": false,
    "hide_input": false
   },
   "outputs": [
    {
     "name": "stdout",
     "output_type": "stream",
     "text": [
      "184\n"
     ]
    }
   ],
   "source": [
    "#184\n",
    "assert(num_paths_to[8][9] == num_paths_from[1][1])\n",
    "print(num_paths_to[8][9])\n"
   ]
  },
  {
   "cell_type": "markdown",
   "metadata": {
    "deletable": false,
    "editable": false,
    "hide_input": false
   },
   "source": [
    "2. __\\[10 pts\\]__ Quanti sono i percorsi con partenza in B–3=(2,3) ed arrivo in H–9=(8,9)?"
   ]
  },
  {
   "cell_type": "markdown",
   "metadata": {
    "deletable": false,
    "hide_input": false
   },
   "source": [
    "27"
   ]
  },
  {
   "cell_type": "markdown",
   "metadata": {
    "deletable": false,
    "editable": false,
    "hide_input": false
   },
   "source": [
    "3. __\\[10 pts\\]__ Quanti sono i percorsi con partenza in A–1=(1,1) ed arrivo in F–6=(6,6)?"
   ]
  },
  {
   "cell_type": "markdown",
   "metadata": {
    "deletable": false,
    "hide_input": false
   },
   "source": [
    "11"
   ]
  },
  {
   "cell_type": "markdown",
   "metadata": {
    "deletable": false,
    "editable": false,
    "hide_input": false
   },
   "source": [
    "4. __\\[10 pts\\]__ Quanti sono i percorsi che partono da A–1=(1,1), passano da D-5=(4,5), ed arrivano in H–9=(8,9)?"
   ]
  },
  {
   "cell_type": "code",
   "execution_count": 10,
   "metadata": {
    "deletable": false,
    "hide_input": false
   },
   "outputs": [
    {
     "name": "stdout",
     "output_type": "stream",
     "text": [
      "48\n"
     ]
    }
   ],
   "source": [
    "#48\n",
    "print(num_paths_to[4][5]*num_paths_from[4][5])"
   ]
  },
  {
   "cell_type": "code",
   "execution_count": null,
   "metadata": {},
   "outputs": [],
   "source": []
  }
 ],
 "metadata": {
  "celltoolbar": "Edit Metadata",
  "hide_input": false,
  "kernelspec": {
   "display_name": "Python 3",
   "language": "python",
   "name": "python3"
  },
  "language_info": {
   "codemirror_mode": {
    "name": "ipython",
    "version": 3
   },
   "file_extension": ".py",
   "mimetype": "text/x-python",
   "name": "python",
   "nbconvert_exporter": "python",
   "pygments_lexer": "ipython3",
   "version": "3.7.7"
  }
 },
 "nbformat": 4,
 "nbformat_minor": 4
}
