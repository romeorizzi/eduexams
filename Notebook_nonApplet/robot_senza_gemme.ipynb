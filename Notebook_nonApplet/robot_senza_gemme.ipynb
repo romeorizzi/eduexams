{
 "cells": [
  {
   "cell_type": "code",
   "execution_count": 203,
   "metadata": {
    "deletable": false,
    "editable": false,
    "hide_input": false
   },
   "outputs": [],
   "source": [
    "from IPython.core.display import display, HTML, Markdown\n",
    "from tabulate import tabulate\n",
    "import pandas as pd"
   ]
  },
  {
   "cell_type": "code",
   "execution_count": 188,
   "metadata": {
    "deletable": false,
    "editable": false,
    "hide_input": true
   },
   "outputs": [],
   "source": [
    "def evaluation_format(answ, pt_green,pt_red):\n",
    "    pt_blue=0\n",
    "    if pt_green!=0:\n",
    "        pt_blue=pt_red-pt_green\n",
    "        pt_red=0\n",
    "    return f\"{answ}. Totalizzeresti <span style='color:green'>[{pt_green} safe pt]</span>, \\\n",
    "                                    <span style='color:blue'>[{pt_blue} possible pt]</span>, \\\n",
    "                                    <span style='color:red'>[{pt_red} out of reach pt]</span>.<br>\"\n",
    "\n",
    "def check_num_paths_to_goal(env, num_paths, row, col):\n",
    "    for i in range (0,row-1):\n",
    "        if num_paths[i][0]!=0:\n",
    "            return evaluation_format(\"No\", 0, 10)+f\"Attenzione, i cammini devono partire dalla cella $(1,1)$ e pertanto $num\\_paths\\_to[${i}$][0] = 0$\"\n",
    "    for j in range (0,col-1):\n",
    "        if num_paths[0][j]!=0:\n",
    "            return evaluation_format(\"No\", 0, 10)+f\"Attenzione, i cammini devono partire dalla cella $(1,1)$ e pertanto $num\\_paths\\_to[0][${j}$] = 0$\"\n",
    "    num_paths_forgiving = num_paths.copy()\n",
    "    num_paths_forgiving[1][1] = 1\n",
    "    for i in range(row-1,0,-1):\n",
    "        for j in range (col-1,0,-1):\n",
    "            if i==1 and j==1:\n",
    "                return  evaluation_format(\"Si\", 1, 10)+\"Non riscontro particolari problemi della tua versione della matrice $num\\_paths\\_to$.\"\n",
    "            if env[i][j]!=1:\n",
    "                if env[i-1][j]!=1 and env[i][j-1]!=1:\n",
    "                    if num_paths_forgiving[i][j]!=num_paths_forgiving[i-1][j]+num_paths_forgiving[i][j-1]:\n",
    "                        return  evaluation_format(\"No\", 0, 10)+\"Ti avviso: riscontro dei problemi nella tua versione della matrice $num\\_paths\\_to$.\"\n",
    "                elif env[i-1][j]!=1:\n",
    "                     if num_paths_forgiving[i][j]!=num_paths_forgiving[i-1][j]:\n",
    "                            return  evaluation_format(\"No\", 0, 10)+\"Ti avviso: riscontro dei problemi nella tua versione della matrice $num\\_paths\\_to$.\"\n",
    "                elif env[i][j-1]!=1:\n",
    "                    if num_paths_forgiving[i][j]!=num_paths_forgiving[i][j-1]:\n",
    "                        return  evaluation_format(\"No\", 0, 10)+\"Ti avviso: riscontro dei problemi nella tua versione della matrice $num\\_paths\\_to$.\"\n",
    "                else:\n",
    "                    if num_paths_forgiving[i][j]!=0:\n",
    "                        return  evaluation_format(\"No\", 0, 10)+\"Ti avviso: riscontro dei problemi nella tua versione della matrice $num\\_paths\\_to$.\"\n",
    "            else:\n",
    "                if num_paths_forgiving[i][j]!=0:\n",
    "                    return  evaluation_format(\"No\", 0, 10)+\"Ti avviso: riscontro dei problemi nella tua versione della matrice $num\\_paths\\_to$.\"\n",
    "\n",
    "\n",
    "def check_num_paths_to_start(env, num_paths, row, col):\n",
    "    for i in range (0,row-1):\n",
    "        if num_paths[i][col-1]!=0:\n",
    "            return evaluation_format(\"No\", 0, 10)+f\"Attenzione, i cammini devono partire dalla cella $(8,9)$ e pertanto $num\\_paths\\_to[${i}$][10] = 0$\"\n",
    "    for j in range (0,col-1):\n",
    "        if num_paths[row-1][j]!=0:\n",
    "            return evaluation_format(\"No\", 0, 10)+f\"Attenzione, i cammini devono partire dalla cella $(8,9)$ e pertanto $num\\_paths\\_to[9][${j}$] = 0$\"\n",
    "    num_paths_forgiving = num_paths.copy()\n",
    "    num_paths_forgiving[row-2][col-2] = 1\n",
    "    for i in range(1,row-3):\n",
    "        for j in range (1,col-3):\n",
    "            if env[i][j]!=1:\n",
    "                if env[i+1][j]!=1 and env[i][j+1]!=1:\n",
    "                    if num_paths_forgiving[i][j]!=num_paths_forgiving[i+1][j]+num_paths_forgiving[i][j+1]:\n",
    "                        return  evaluation_format(\"No\", 0, 10)+\"Ti avviso: riscontro dei problemi nella tua versione della matrice $num\\_paths\\_to$.\"\n",
    "                elif env[i+1][j]!=1:\n",
    "                     if num_paths_forgiving[i][j]!=num_paths_forgiving[i+1][j]:\n",
    "                            return  evaluation_format(\"No\", 0, 10)+\"Ti avviso: riscontro dei problemi nella tua versione della matrice $num\\_paths\\_to$.\"\n",
    "                elif env[i][j+1]!=1:\n",
    "                    if num_paths_forgiving[i][j]!=num_paths_forgiving[i][j+1]:\n",
    "                        return  evaluation_format(\"No\", 0, 10)+\"Ti avviso: riscontro dei problemi nella tua versione della matrice $num\\_paths\\_to$.\"\n",
    "                else:\n",
    "                    if num_paths_forgiving[i][j]!=0:\n",
    "                        return  evaluation_format(\"No\", 0, 10)+\"Ti avviso: riscontro dei problemi nella tua versione della matrice $num\\_paths\\_to$.\"\n",
    "            else:\n",
    "                if num_paths_forgiving[i][j]!=0:\n",
    "                    return  evaluation_format(\"No\", 0, 10)+\"Ti avviso: riscontro dei problemi nella tua versione della matrice $num\\_paths\\_to$.\"\n",
    "    for i in range (1, row-2):\n",
    "        if env[i][col-2]!=1:\n",
    "            if env[i+1][col-2]!=1:\n",
    "                if num_paths_forgiving[i][col-2]!=num_paths_forgiving[i+1][col-2]+num_paths_forgiving[i][col-2+1]:    \n",
    "                        return  evaluation_format(\"No\", 0, 10)+\"Ti avviso: riscontro dei problemi nella tua versione della matrice $num\\_paths\\_to$.\" \n",
    "            else:\n",
    "                if num_paths_forgiving[i][col-2]!=0:\n",
    "                    return  evaluation_format(\"No\", 0, 10)+\"Ti avviso: riscontro dei problemi nella tua versione della matrice $num\\_paths\\_to$.\"\n",
    "    for j in range (1, col-2):\n",
    "        if env[row-2][j]!=1:\n",
    "            if env[row-2][j+1]!=1:\n",
    "                if num_paths_forgiving[row-2][j]!=num_paths_forgiving[row-2+1][j]+num_paths_forgiving[row-2][j+1]:\n",
    "                        return  evaluation_format(\"No\", 0, 10)+\"Ti avviso: riscontro dei problemi nella tua versione della matrice $num\\_paths\\_to$.\" \n",
    "            else:\n",
    "                if num_paths_forgiving[row-2][j]!=0:\n",
    "                        return  evaluation_format(\"No\", 0, 10)+\"Ti avviso: riscontro dei problemi nella tua versione della matrice $num\\_paths\\_to$.\"\n",
    "    return  evaluation_format(\"Si\", 1, 10)+\"Non riscontro particolari problemi della tua versione della matrice $num\\_paths\\_to$.\""
   ]
  },
  {
   "cell_type": "markdown",
   "metadata": {
    "deletable": false,
    "editable": false
   },
   "source": [
    "## Esercizio \\[60 pts\\]\n",
    "(campo minato) Ricerca di cammini in una griglia rettangolare con celle proibite."
   ]
  },
  {
   "cell_type": "markdown",
   "metadata": {
    "deletable": false,
    "editable": false
   },
   "source": [
    "Si consideri la seguente tabella di numeri interi."
   ]
  },
  {
   "cell_type": "code",
   "execution_count": 204,
   "metadata": {
    "deletable": false,
    "editable": false,
    "hide_input": false
   },
   "outputs": [],
   "source": [
    "m,n = 8,9\n",
    "table = [\n",
    "         [0, 0 , 0 , 0 , 0 , 0 , 0 , 0 , 0 , 0 ],\n",
    "         [0, 0 , 0 , 0 , 0 , 0 , 0 , 0 , 0 ,1 ],\n",
    "         [0, 0 , 0 , 0 , 0 ,1 ,1 , 0 , 0 , 0 ],\n",
    "         [0, 0 ,1 , 0 ,1 , 0 , 0 , 0 , 0 , 0 ],\n",
    "         [0, 0 , 0 , 0 , 0 , 0 , 0 , 0 ,1 , 0 ],\n",
    "         [0, 0 , 0 ,1 , 0 ,1 , 0 , 0 , 0 , 0 ],\n",
    "         [0, 0 , 0 , 0 , 0 , 0 , 0 ,1 , 0 , 0 ],\n",
    "         [0, 0 ,1 , 0 , 0 , 0 , 0 , 0 , 0 , 0 ],\n",
    "         [0, 0 , 0 , 0 , 0 , 0 , 0 , 0 , 0 , 0 ]\n",
    "        ]"
   ]
  },
  {
   "cell_type": "code",
   "execution_count": 205,
   "metadata": {
    "deletable": false,
    "editable": false,
    "hide_input": false
   },
   "outputs": [
    {
     "name": "stdout",
     "output_type": "stream",
     "text": [
      "╒════╤═════╤═════╤═════╤═════╤═════╤═════╤═════╤═════╤═════╕\n",
      "│    │   1 │   2 │   3 │   4 │   5 │   6 │   7 │   8 │   9 │\n",
      "╞════╪═════╪═════╪═════╪═════╪═════╪═════╪═════╪═════╪═════╡\n",
      "│ A  │   0 │   0 │   0 │   0 │   0 │   0 │   0 │   0 │   1 │\n",
      "├────┼─────┼─────┼─────┼─────┼─────┼─────┼─────┼─────┼─────┤\n",
      "│ B  │   0 │   0 │   0 │   0 │   1 │   1 │   0 │   0 │   0 │\n",
      "├────┼─────┼─────┼─────┼─────┼─────┼─────┼─────┼─────┼─────┤\n",
      "│ C  │   0 │   1 │   0 │   1 │   0 │   0 │   0 │   0 │   0 │\n",
      "├────┼─────┼─────┼─────┼─────┼─────┼─────┼─────┼─────┼─────┤\n",
      "│ D  │   0 │   0 │   0 │   0 │   0 │   0 │   0 │   1 │   0 │\n",
      "├────┼─────┼─────┼─────┼─────┼─────┼─────┼─────┼─────┼─────┤\n",
      "│ E  │   0 │   0 │   1 │   0 │   1 │   0 │   0 │   0 │   0 │\n",
      "├────┼─────┼─────┼─────┼─────┼─────┼─────┼─────┼─────┼─────┤\n",
      "│ F  │   0 │   0 │   0 │   0 │   0 │   0 │   1 │   0 │   0 │\n",
      "├────┼─────┼─────┼─────┼─────┼─────┼─────┼─────┼─────┼─────┤\n",
      "│ G  │   0 │   1 │   0 │   0 │   0 │   0 │   0 │   0 │   0 │\n",
      "├────┼─────┼─────┼─────┼─────┼─────┼─────┼─────┼─────┼─────┤\n",
      "│ H  │   0 │   0 │   0 │   0 │   0 │   0 │   0 │   0 │   0 │\n",
      "╘════╧═════╧═════╧═════╧═════╧═════╧═════╧═════╧═════╧═════╛\n"
     ]
    }
   ],
   "source": [
    "columns=[\"1\",\"2\",\"3\",\"4\",\"5\",\"6\",\"7\",\"8\",\"9\"]\n",
    "index=pd.Index([\"0\",\"A\",\"B\",\"C\",\"D\",\"E\",\"F\",\"G\",\"H\"])\n",
    "df=pd.DataFrame(table,index=index)\n",
    "df = df.iloc[1:,1:]\n",
    "\n",
    "print(tabulate(df, headers=columns, tablefmt='fancy_grid'))"
   ]
  },
  {
   "cell_type": "markdown",
   "metadata": {
    "deletable": false,
    "editable": false
   },
   "source": [
    "Un robot, inizialmente situato nella cella $A1=(1,1)$, deve portarsi nella cella $H9=(8,9)$.\n",
    "Le celle che riportano il numero 1 contengono una mina od altre trapole mortali, ed il robot deve evitarle. \n",
    "I movimenti base possibili sono il passo verso destra (ad esempio il primo passo potrebbe avvenire dalla cella $A1$ alla cella $A2$) ed il passo verso il basso (ad esempio, come unica altra alternativa per il primo passo il robot potrebbe posrtarsi quindi nella cella $B1$).\\\n",
    "Quanti sono i possibili percorsi che può fare il robot per andare dalla cella $A1$ alla cella $H9$?\\"
   ]
  },
  {
   "cell_type": "markdown",
   "metadata": {
    "deletable": false,
    "editable": false
   },
   "source": [
    "__Richieste__:"
   ]
  },
  {
   "cell_type": "markdown",
   "metadata": {
    "deletable": false,
    "editable": false
   },
   "source": [
    "1. __\\[10 pts\\]__ A mano o tramite un programma componi la matrice $num\\_paths\\_to$ di dimensione $(m+1)\\times(n+1)$, nella cui cella $num\\_paths\\_to[i][j]$, per ogni $i = 0,..., m+1$ e $j = 0,..., n+1$, sia riposto il numero di cammini dalla cella $A1=(1,1)$ alla generica cella $(i,j)$."
   ]
  },
  {
   "cell_type": "code",
   "execution_count": 29,
   "metadata": {
    "deletable": false
   },
   "outputs": [],
   "source": [
    "num_paths_to_goal= [ [0]*(n+1) for _ in range(m+1) ]\n",
    "\n",
    "num_paths_to_goal= [\n",
    "                    [0, 0, 0, 0, 0, 0, 0, 0, 0, 0], \n",
    "                    [0, 1, 1, 1, 1, 1, 1, 1, 1, 0], \n",
    "                    [0, 1, 2, 3, 4, 0, 0, 1, 2, 2], \n",
    "                    [0, 1, 0, 3, 0, 0, 0, 1, 3, 5],\n",
    "                    [0, 1, 1, 4, 4, 4, 4, 5, 0, 5], \n",
    "                    [0, 1, 2, 0, 4, 0, 4, 9, 9, 14], \n",
    "                    [0, 1, 3, 3, 7, 7, 11, 0, 9, 23], \n",
    "                    [0, 1, 0, 3, 10, 17, 28, 28, 37, 60], \n",
    "                    [0, 1, 1, 4, 14, 31, 59, 87, 124, 184]\n",
    "                   ]\n"
   ]
  },
  {
   "cell_type": "markdown",
   "metadata": {
    "deletable": false,
    "editable": false,
    "hide_input": false
   },
   "source": [
    "La tua versione attuale della matrice $num\\_paths\\_to$ è la seguente:"
   ]
  },
  {
   "cell_type": "code",
   "execution_count": 206,
   "metadata": {
    "deletable": false,
    "editable": false,
    "hide_input": true,
    "scrolled": true
   },
   "outputs": [
    {
     "name": "stdout",
     "output_type": "stream",
     "text": [
      "╒════╤═════╤═════╤═════╤═════╤═════╤═════╤═════╤═════╤═════╕\n",
      "│    │   1 │   2 │   3 │   4 │   5 │   6 │   7 │   8 │   9 │\n",
      "╞════╪═════╪═════╪═════╪═════╪═════╪═════╪═════╪═════╪═════╡\n",
      "│ A  │   1 │   1 │   1 │   1 │   1 │   1 │   1 │   1 │   0 │\n",
      "├────┼─────┼─────┼─────┼─────┼─────┼─────┼─────┼─────┼─────┤\n",
      "│ B  │   1 │   2 │   3 │   4 │   0 │   0 │   1 │   2 │   2 │\n",
      "├────┼─────┼─────┼─────┼─────┼─────┼─────┼─────┼─────┼─────┤\n",
      "│ C  │   1 │   0 │   3 │   0 │   0 │   0 │   1 │   3 │   5 │\n",
      "├────┼─────┼─────┼─────┼─────┼─────┼─────┼─────┼─────┼─────┤\n",
      "│ D  │   1 │   1 │   4 │   4 │   4 │   4 │   5 │   0 │   5 │\n",
      "├────┼─────┼─────┼─────┼─────┼─────┼─────┼─────┼─────┼─────┤\n",
      "│ E  │   1 │   2 │   0 │   4 │   0 │   4 │   9 │   9 │  14 │\n",
      "├────┼─────┼─────┼─────┼─────┼─────┼─────┼─────┼─────┼─────┤\n",
      "│ F  │   1 │   3 │   3 │   7 │   7 │  11 │   0 │   9 │  23 │\n",
      "├────┼─────┼─────┼─────┼─────┼─────┼─────┼─────┼─────┼─────┤\n",
      "│ G  │   1 │   0 │   3 │  10 │  17 │  28 │  28 │  37 │  60 │\n",
      "├────┼─────┼─────┼─────┼─────┼─────┼─────┼─────┼─────┼─────┤\n",
      "│ H  │   1 │   1 │   4 │  14 │  31 │  59 │  87 │ 124 │ 184 │\n",
      "╘════╧═════╧═════╧═════╧═════╧═════╧═════╧═════╧═════╧═════╛\n"
     ]
    }
   ],
   "source": [
    "df2=pd.DataFrame(num_paths_to_goal,index=index)\n",
    "df2 = df2.iloc[1:,1:]\n",
    "print(tabulate(df2, headers=columns, tablefmt='fancy_grid'))"
   ]
  },
  {
   "cell_type": "code",
   "execution_count": 207,
   "metadata": {
    "deletable": false,
    "editable": false,
    "hide_input": true,
    "scrolled": true
   },
   "outputs": [
    {
     "data": {
      "text/markdown": [
       "Si. Totalizzeresti <span style='color:green'>[1 safe pt]</span>,                                     <span style='color:blue'>[9 possible pt]</span>,                                     <span style='color:red'>[0 out of reach pt]</span>.<br>Non riscontro particolari problemi della tua versione della matrice $num\\_paths\\_to$."
      ],
      "text/plain": [
       "<IPython.core.display.Markdown object>"
      ]
     },
     "metadata": {},
     "output_type": "display_data"
    }
   ],
   "source": [
    "display(Markdown(check_num_paths_to_goal(table,num_paths_to_goal,m+1,n+1)))"
   ]
  },
  {
   "cell_type": "markdown",
   "metadata": {
    "deletable": false,
    "editable": false
   },
   "source": [
    "1. __\\[10 pts\\]__ Componi ora una matrice $num\\_paths\\_from$, di dimensione $(m+2)times(n+2)$, nella cui cella $num\\_paths\\_from[i][j]$, per ogni $i = 1,..., m+1$ e $j = 1,..., n+1$, sia riposto il numero di cammini dalla generica cella $(i,j)$ alla cella $H9=(8,9)$."
   ]
  },
  {
   "cell_type": "code",
   "execution_count": 208,
   "metadata": {
    "deletable": false,
    "scrolled": true
   },
   "outputs": [],
   "source": [
    "num_paths_to_start= [ [0]*(n+2) for _ in range(m+2) ]\n",
    "num_paths_to_start=[\n",
    "                    [0, 0, 0, 0, 0, 0, 0, 0, 0, 0, 0], \n",
    "                    [0, 184, 63, 36, 9, 9, 9, 9, 2, 0, 0], \n",
    "                    [0, 121, 27, 27, 0, 0, 0, 7, 2, 1, 0], \n",
    "                    [0, 94, 0, 27, 0, 29, 17, 5, 1, 1, 0], \n",
    "                    [0, 94, 49, 27, 27, 12, 12, 4, 0, 1, 0], \n",
    "                    [0, 45, 22, 0, 15, 0, 8, 4, 4, 1, 0], \n",
    "                    [0, 23, 22, 22, 15, 9, 4, 0, 3, 1, 0], \n",
    "                    [0, 1, 0, 7, 6, 5, 4, 3, 2, 1, 0], \n",
    "                    [0, 1, 1, 1, 1, 1, 1, 1, 1, 1, 0], \n",
    "                    [0, 0, 0, 0, 0, 0, 0, 0, 0, 0, 0]\n",
    "                   ]\n"
   ]
  },
  {
   "cell_type": "markdown",
   "metadata": {
    "deletable": false,
    "editable": false,
    "hide_input": false
   },
   "source": [
    "La tua versione attuale della matrice $num\\_paths\\_to$ è la seguente:"
   ]
  },
  {
   "cell_type": "code",
   "execution_count": 200,
   "metadata": {
    "deletable": false,
    "editable": false,
    "hide_input": true,
    "scrolled": true
   },
   "outputs": [
    {
     "name": "stdout",
     "output_type": "stream",
     "text": [
      "╒════╤═════╤═════╤═════╤═════╤═════╤═════╤═════╤═════╤═════╕\n",
      "│    │   1 │   2 │   3 │   4 │   5 │   6 │   7 │   8 │   9 │\n",
      "╞════╪═════╪═════╪═════╪═════╪═════╪═════╪═════╪═════╪═════╡\n",
      "│ A  │ 184 │  63 │  36 │   9 │   9 │   9 │   9 │   2 │   0 │\n",
      "├────┼─────┼─────┼─────┼─────┼─────┼─────┼─────┼─────┼─────┤\n",
      "│ B  │ 121 │  27 │  27 │   0 │   0 │   0 │   7 │   2 │   1 │\n",
      "├────┼─────┼─────┼─────┼─────┼─────┼─────┼─────┼─────┼─────┤\n",
      "│ C  │  94 │   0 │  27 │   0 │  29 │  17 │   5 │   1 │   1 │\n",
      "├────┼─────┼─────┼─────┼─────┼─────┼─────┼─────┼─────┼─────┤\n",
      "│ D  │  94 │  49 │  27 │  27 │  12 │  12 │   4 │   0 │   1 │\n",
      "├────┼─────┼─────┼─────┼─────┼─────┼─────┼─────┼─────┼─────┤\n",
      "│ E  │  45 │  22 │   0 │  15 │   0 │   8 │   4 │   4 │   1 │\n",
      "├────┼─────┼─────┼─────┼─────┼─────┼─────┼─────┼─────┼─────┤\n",
      "│ F  │  23 │  22 │  22 │  15 │   9 │   4 │   0 │   3 │   1 │\n",
      "├────┼─────┼─────┼─────┼─────┼─────┼─────┼─────┼─────┼─────┤\n",
      "│ G  │   1 │   0 │   7 │   6 │   5 │   4 │   3 │   2 │   1 │\n",
      "├────┼─────┼─────┼─────┼─────┼─────┼─────┼─────┼─────┼─────┤\n",
      "│ H  │   1 │   1 │   1 │   1 │   1 │   1 │   1 │   1 │   1 │\n",
      "╘════╧═════╧═════╧═════╧═════╧═════╧═════╧═════╧═════╧═════╛\n"
     ]
    }
   ],
   "source": [
    "index=pd.Index([\"0\",\"A\",\"B\",\"C\",\"D\",\"E\",\"F\",\"G\",\"H\",\"0\"])\n",
    "df3=pd.DataFrame(num_paths_to_start,index=index)\n",
    "df3 = df3.iloc[1:-1,1:-1]\n",
    "print(tabulate(df3, headers=columns, tablefmt='fancy_grid'))"
   ]
  },
  {
   "cell_type": "code",
   "execution_count": 201,
   "metadata": {
    "deletable": false,
    "editable": false,
    "hide_input": true,
    "scrolled": false
   },
   "outputs": [
    {
     "data": {
      "text/markdown": [
       "Si. Totalizzeresti <span style='color:green'>[1 safe pt]</span>,                                     <span style='color:blue'>[9 possible pt]</span>,                                     <span style='color:red'>[0 out of reach pt]</span>.<br>Non riscontro particolari problemi della tua versione della matrice $num\\_paths\\_to$."
      ],
      "text/plain": [
       "<IPython.core.display.Markdown object>"
      ]
     },
     "metadata": {},
     "output_type": "display_data"
    }
   ],
   "source": [
    "display(Markdown(check_num_paths_to_start(table, num_paths_to_start,m+2,n+2)))"
   ]
  },
  {
   "cell_type": "markdown",
   "metadata": {
    "deletable": false,
    "editable": false,
    "hide_input": false
   },
   "source": [
    "1. __\\[10 pts\\]__ [Esercizio senza monete] Quanti sono i percorsi possibili se la partenza è in A–1?"
   ]
  },
  {
   "cell_type": "markdown",
   "metadata": {
    "deletable": false,
    "hide_input": false
   },
   "source": [
    "184"
   ]
  },
  {
   "cell_type": "markdown",
   "metadata": {
    "deletable": false,
    "editable": false,
    "hide_input": false
   },
   "source": [
    "2. __\\[10 pts\\]__ E se la partenza è in B–3?"
   ]
  },
  {
   "cell_type": "markdown",
   "metadata": {
    "deletable": false,
    "hide_input": false
   },
   "source": [
    "27"
   ]
  },
  {
   "cell_type": "markdown",
   "metadata": {
    "deletable": false,
    "editable": false,
    "hide_input": false
   },
   "source": [
    "3. __\\[10 pts\\]__ E se con partenza in A–1 il robot deve giungere in F–6?"
   ]
  },
  {
   "cell_type": "markdown",
   "metadata": {
    "deletable": false,
    "hide_input": false
   },
   "source": [
    "11"
   ]
  },
  {
   "cell_type": "markdown",
   "metadata": {
    "deletable": false,
    "editable": false,
    "hide_input": false
   },
   "source": [
    "4. __\\[10 pts\\]__ E se con partenza in A–1 ed arrivo in H–9 al robot viene richiesto di passare per\n",
    "la cella D–5?"
   ]
  },
  {
   "cell_type": "markdown",
   "metadata": {
    "deletable": false,
    "hide_input": false
   },
   "source": [
    "48"
   ]
  }
 ],
 "metadata": {
  "celltoolbar": "Edit Metadata",
  "hide_input": false,
  "kernelspec": {
   "display_name": "Python 3",
   "language": "python",
   "name": "python3"
  },
  "language_info": {
   "codemirror_mode": {
    "name": "ipython",
    "version": 3
   },
   "file_extension": ".py",
   "mimetype": "text/x-python",
   "name": "python",
   "nbconvert_exporter": "python",
   "pygments_lexer": "ipython3",
   "version": "3.7.7"
  }
 },
 "nbformat": 4,
 "nbformat_minor": 4
}
