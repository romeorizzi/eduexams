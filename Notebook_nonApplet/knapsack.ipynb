{
 "cells": [
  {
   "cell_type": "code",
   "execution_count": 18,
   "metadata": {},
   "outputs": [],
   "source": [
    "from IPython.core.display import display, HTML, Markdown\n",
    "import numpy as np"
   ]
  },
  {
   "cell_type": "code",
   "execution_count": 19,
   "metadata": {},
   "outputs": [],
   "source": [
    "def evaluation_format(answ, pt_green,pt_red):\n",
    "    pt_blue=0\n",
    "    if pt_green!=0:\n",
    "        pt_blue=pt_red-pt_green\n",
    "        pt_red=0\n",
    "    return f\"{answ}. Totalizzeresti <span style='color:green'>[{pt_green} safe pt]</span>, \\\n",
    "                                    <span style='color:blue'>[{pt_blue} possible pt]</span>, \\\n",
    "                                    <span style='color:red'>[{pt_red} out of reach pt]</span>.<br>\"\n",
    "\n",
    "\n",
    "def verifknapsack(elementi,pesi, valori, MAX_CAP,answer):\n",
    "    n = len(pesi)\n",
    "    S = [[0 for j in range(MAX_CAP+1)] for i in range(n)] \n",
    "    for i in range(1,n):\n",
    "        for j in range(MAX_CAP+1):\n",
    "            S[i][j] = S[i-1][j]\n",
    "            if pesi[i] <= j and S[i-1][j-pesi[i]] + valori[i] > S[i][j]:\n",
    "                S[i][j] = S[i-1][j-pesi[i]] + valori[i]\n",
    "    max_val=S[-1][-1]\n",
    "    if type(answer)==int:\n",
    "        if answer==max_val:\n",
    "            display(Markdown(evaluation_format(\"Si\", 20,20)+\"La somma massima dei valori è corretta.\"))\n",
    "        else:\n",
    "            display(Markdown(evaluation_format(\"No\", 0,20)+\"La somma massima dei valori non è corretta.\"))\n",
    "    else:\n",
    "        sum=0\n",
    "        for i in range(len(answer)):\n",
    "            sum+=valori[elementi.index(answer[i])]\n",
    "        if sum==max_val:\n",
    "            display(Markdown(evaluation_format(\"Si\", 20,20)+\"Il sottoinsieme di elementi è corretto.\"))\n",
    "        else:\n",
    "            display(Markdown(evaluation_format(\"No\", 0,20)+\"Il sottoinsieme di elementi non è corretto.\"))\n"
   ]
  },
  {
   "cell_type": "markdown",
   "metadata": {},
   "source": [
    "Esercizio Knapsack\n",
    "==="
   ]
  },
  {
   "cell_type": "markdown",
   "metadata": {},
   "source": [
    "Sia B=36 la capacità del mio zaino. Si supponga di voler trasportare un sottoinsieme dei seguenti elementi tale che la somma dei loro valori sia massima, tenendo conto del vincolo che la somma dei loro pesi non ecceda B."
   ]
  },
  {
   "cell_type": "markdown",
   "metadata": {},
   "source": [
    "| nome   | A | B | C | D | E | F | G | H | I |\n",
    "|--------|---|---|---|---|---|---|---|---|---|\n",
    "| peso   |15   | 15 | 15  |13   | 13  |5   | 5  | 3  |1   |\n",
    "| valore | 52  | 52 | 52  | 40  | 40  | 17  | 17  | 7  | 8  |\n"
   ]
  },
  {
   "cell_type": "code",
   "execution_count": 20,
   "metadata": {},
   "outputs": [
    {
     "name": "stdout",
     "output_type": "stream",
     "text": [
      "Elementi = ['A', 'B', 'C', 'D', 'E', 'F', 'G', 'H', 'I']\n",
      "Pesi = [15, 15, 15, 13, 13, 5, 5, 3, 1]\n",
      "Valori = [52, 52, 52, 40, 40, 17, 17, 7, 8]\n"
     ]
    }
   ],
   "source": [
    "B=36\n",
    "elementi=[\"A\",\"B\",\"C\",\"D\",\"E\",\"F\",\"G\",\"H\",\"I\"]\n",
    "pesi = [15,15,15,13,13,5,5,3,1]\n",
    "valori = [52,52,52,40,40,17,17,7,8]\n",
    "print (\"Elementi = \" + str(elementi))\n",
    "print (\"Pesi = \" + str(pesi))\n",
    "print (\"Valori = \" + str(valori))"
   ]
  },
  {
   "cell_type": "markdown",
   "metadata": {},
   "source": [
    "Quanto vale la somma massima dei valori degli elementi trasportabili?"
   ]
  },
  {
   "cell_type": "code",
   "execution_count": 21,
   "metadata": {},
   "outputs": [
    {
     "data": {
      "text/markdown": [
       "Si. Totalizzeresti <span style='color:green'>[20 safe pt]</span>,                                     <span style='color:blue'>[0 possible pt]</span>,                                     <span style='color:red'>[0 out of reach pt]</span>.<br>La somma massima dei valori è corretta."
      ],
      "text/plain": [
       "<IPython.core.display.Markdown object>"
      ]
     },
     "metadata": {},
     "output_type": "display_data"
    },
    {
     "data": {
      "text/markdown": [
       "No. Totalizzeresti <span style='color:green'>[0 safe pt]</span>,                                     <span style='color:blue'>[0 possible pt]</span>,                                     <span style='color:red'>[20 out of reach pt]</span>.<br>La somma massima dei valori non è corretta."
      ],
      "text/plain": [
       "<IPython.core.display.Markdown object>"
      ]
     },
     "metadata": {},
     "output_type": "display_data"
    }
   ],
   "source": [
    "#corretta\n",
    "answer=129\n",
    "verifknapsack(elementi,pesi,valori,B,answer)\n",
    "#sbagliata\n",
    "answer=155\n",
    "verifknapsack(elementi,pesi,valori,B,answer)"
   ]
  },
  {
   "cell_type": "markdown",
   "metadata": {},
   "source": [
    "Quali elementi devo prendere?"
   ]
  },
  {
   "cell_type": "code",
   "execution_count": 22,
   "metadata": {},
   "outputs": [
    {
     "data": {
      "text/markdown": [
       "Si. Totalizzeresti <span style='color:green'>[20 safe pt]</span>,                                     <span style='color:blue'>[0 possible pt]</span>,                                     <span style='color:red'>[0 out of reach pt]</span>.<br>Il sottoinsieme di elementi è corretto."
      ],
      "text/plain": [
       "<IPython.core.display.Markdown object>"
      ]
     },
     "metadata": {},
     "output_type": "display_data"
    },
    {
     "data": {
      "text/markdown": [
       "Si. Totalizzeresti <span style='color:green'>[20 safe pt]</span>,                                     <span style='color:blue'>[0 possible pt]</span>,                                     <span style='color:red'>[0 out of reach pt]</span>.<br>Il sottoinsieme di elementi è corretto."
      ],
      "text/plain": [
       "<IPython.core.display.Markdown object>"
      ]
     },
     "metadata": {},
     "output_type": "display_data"
    },
    {
     "data": {
      "text/markdown": [
       "No. Totalizzeresti <span style='color:green'>[0 safe pt]</span>,                                     <span style='color:blue'>[0 possible pt]</span>,                                     <span style='color:red'>[20 out of reach pt]</span>.<br>Il sottoinsieme di elementi non è corretto."
      ],
      "text/plain": [
       "<IPython.core.display.Markdown object>"
      ]
     },
     "metadata": {},
     "output_type": "display_data"
    }
   ],
   "source": [
    "answer=[\"A\",\"B\",\"F\",\"I\"]\n",
    "verifknapsack(elementi,pesi,valori,B,answer)\n",
    "#alternativa\n",
    "answer=[\"B\",\"C\",\"G\",\"I\"]\n",
    "verifknapsack(elementi,pesi,valori,B,answer)\n",
    "#sbagliato\n",
    "answer=[\"E\",\"I\"]\n",
    "verifknapsack(elementi,pesi,valori,B,answer)"
   ]
  },
  {
   "cell_type": "markdown",
   "metadata": {},
   "source": [
    "Cosa accade se si esclude l'elemento I?"
   ]
  },
  {
   "cell_type": "code",
   "execution_count": 23,
   "metadata": {},
   "outputs": [
    {
     "name": "stdout",
     "output_type": "stream",
     "text": [
      "Elementi = ['A', 'B', 'C', 'D', 'E', 'F', 'G', 'H']\n",
      "Pesi = [15, 15, 15, 13, 13, 5, 5, 3]\n",
      "Valori = [52, 52, 52, 40, 40, 17, 17, 7]\n"
     ]
    },
    {
     "data": {
      "text/markdown": [
       "Si. Totalizzeresti <span style='color:green'>[20 safe pt]</span>,                                     <span style='color:blue'>[0 possible pt]</span>,                                     <span style='color:red'>[0 out of reach pt]</span>.<br>La somma massima dei valori è corretta."
      ],
      "text/plain": [
       "<IPython.core.display.Markdown object>"
      ]
     },
     "metadata": {},
     "output_type": "display_data"
    },
    {
     "data": {
      "text/markdown": [
       "Si. Totalizzeresti <span style='color:green'>[20 safe pt]</span>,                                     <span style='color:blue'>[0 possible pt]</span>,                                     <span style='color:red'>[0 out of reach pt]</span>.<br>Il sottoinsieme di elementi è corretto."
      ],
      "text/plain": [
       "<IPython.core.display.Markdown object>"
      ]
     },
     "metadata": {},
     "output_type": "display_data"
    }
   ],
   "source": [
    "B=36\n",
    "elementi=[\"A\",\"B\",\"C\",\"D\",\"E\",\"F\",\"G\",\"H\"]\n",
    "pesi = [15,15,15,13,13,5,5,3]\n",
    "valori = [52,52,52,40,40,17,17,7]\n",
    "print (\"Elementi = \" + str(elementi))\n",
    "print (\"Pesi = \" + str(pesi))\n",
    "print (\"Valori = \" + str(valori))\n",
    "sum_val=121\n",
    "sub_set=[\"A\",\"B\",\"F\"]\n",
    "verifknapsack(elementi,pesi,valori,B,sum_val)\n",
    "verifknapsack(elementi,pesi,valori,B,sub_set)\n"
   ]
  },
  {
   "cell_type": "markdown",
   "metadata": {},
   "source": [
    "Cosa accede nel caso in cui B=33 e si considerano tutti gli elementi?"
   ]
  },
  {
   "cell_type": "code",
   "execution_count": 24,
   "metadata": {},
   "outputs": [
    {
     "name": "stdout",
     "output_type": "stream",
     "text": [
      "Elementi = ['A', 'B', 'C', 'D', 'E', 'F', 'G', 'H', 'I']\n",
      "Pesi = [15, 15, 15, 13, 13, 5, 5, 3, 1]\n",
      "Valori = [52, 52, 52, 40, 40, 17, 17, 7, 8]\n"
     ]
    },
    {
     "data": {
      "text/markdown": [
       "Si. Totalizzeresti <span style='color:green'>[20 safe pt]</span>,                                     <span style='color:blue'>[0 possible pt]</span>,                                     <span style='color:red'>[0 out of reach pt]</span>.<br>La somma massima dei valori è corretta."
      ],
      "text/plain": [
       "<IPython.core.display.Markdown object>"
      ]
     },
     "metadata": {},
     "output_type": "display_data"
    },
    {
     "data": {
      "text/markdown": [
       "Si. Totalizzeresti <span style='color:green'>[20 safe pt]</span>,                                     <span style='color:blue'>[0 possible pt]</span>,                                     <span style='color:red'>[0 out of reach pt]</span>.<br>Il sottoinsieme di elementi è corretto."
      ],
      "text/plain": [
       "<IPython.core.display.Markdown object>"
      ]
     },
     "metadata": {},
     "output_type": "display_data"
    }
   ],
   "source": [
    "B=33\n",
    "elementi=[\"A\",\"B\",\"C\",\"D\",\"E\",\"F\",\"G\",\"H\",\"I\"]\n",
    "pesi = [15,15,15,13,13,5,5,3,1]\n",
    "valori = [52,52,52,40,40,17,17,7,8]\n",
    "print (\"Elementi = \" + str(elementi))\n",
    "print (\"Pesi = \" + str(pesi))\n",
    "print (\"Valori = \" + str(valori))\n",
    "answer=112\n",
    "verifknapsack(elementi,pesi,valori,B,answer)\n",
    "answer=[\"A\",\"B\",\"I\"]\n",
    "verifknapsack(elementi,pesi,valori,B,answer)"
   ]
  }
 ],
 "metadata": {
  "hide_input": false,
  "kernelspec": {
   "display_name": "Python 3",
   "language": "python",
   "name": "python3"
  },
  "language_info": {
   "codemirror_mode": {
    "name": "ipython",
    "version": 3
   },
   "file_extension": ".py",
   "mimetype": "text/x-python",
   "name": "python",
   "nbconvert_exporter": "python",
   "pygments_lexer": "ipython3",
   "version": "3.7.6"
  }
 },
 "nbformat": 4,
 "nbformat_minor": 4
}
