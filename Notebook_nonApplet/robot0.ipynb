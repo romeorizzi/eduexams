{
 "cells": [
  {
   "cell_type": "code",
   "execution_count": 10,
   "metadata": {
    "hide_input": false,
    "pycharm": {
     "name": "#%%\n"
    }
   },
   "outputs": [],
   "source": [
    "from IPython.core.display import display, HTML, Markdown\n",
    "from ipywidgets import Button, HBox, VBox, widgets, Layout\n",
    "from tabulate import tabulate\n",
    "import pandas as pd"
   ]
  },
  {
   "cell_type": "code",
   "execution_count": 11,
   "metadata": {
    "hide_input": false,
    "pycharm": {
     "name": "#%%\n"
    }
   },
   "outputs": [],
   "source": [
    "#solver solo per non fare i calcoli a mano\n",
    "\n",
    "def num_percorsi(env,r,c):\n",
    "    m = []\n",
    "    for i in range(0,r):\n",
    "        m.append([0 for j in range(0,c)])\n",
    "    hole = 0\n",
    "    i=0\n",
    "    j=0\n",
    "    for i in range(0,r):\n",
    "        m[i][0]=0\n",
    "    for j in range(0,c):\n",
    "        m[0][j]=0\n",
    "    for i in range(0,r):\n",
    "        for j in range(0,c):\n",
    "            if i==1 and j==1:\n",
    "                m[i][j]=1\n",
    "            else:\n",
    "                if str(env[i][j])==\"X\":\n",
    "                    m[i][j]=\"X\"\n",
    "                else:\n",
    "                    if m[i-1][j] == \"X\" and m[i][j-1] == \"X\":\n",
    "                         m[i][j] =0                    \n",
    "                    elif m[i-1][j] == \"X\":\n",
    "                        m[i][j]= m[i][j-1];\n",
    "                    elif m[i][j-1] == \"X\":\n",
    "                        m[i][j]= m[i-1][j]\n",
    "                    else:\n",
    "                        m[i][j] = m[i-1][j] + m[i][j-1];\n",
    "        \n",
    "    return m;\n",
    "\n",
    "\n",
    "            \n"
   ]
  },
  {
   "cell_type": "code",
   "execution_count": 45,
   "metadata": {},
   "outputs": [],
   "source": [
    "def evaluation_format(answ, pt_green,pt_red):\n",
    "    if pt_green!=0:\n",
    "        pt_blue=pt_red-pt_green\n",
    "        pt_red=0\n",
    "    return f\"{answ}. Totalizzeresti <span style='color:green'>[{pt_green} safe pt]</span>, \\\n",
    "                                    <span style='color:blue'>[{pt_blue} possible pt]</span>, \\\n",
    "                                    <span style='color:red'>[{pt_red} out of reach pt]</span>.<br>\"\n",
    "\n",
    "def check_num_paths_to_goal(num_path, row, col):\n",
    "    for i in range (0,row-1):\n",
    "        if num_path[i][0]!=0:\n",
    "            return evaluation_format(\"No\", 0, 10)+\"Attenzione, il numero di cammini parte dalla cella $(1,1)$\"\n",
    "    for j in range (0,col-1):\n",
    "        if num_path[0][j]!=0:\n",
    "            return evaluation_format(\"No\", 0, 10)+\"Attenzione, il numero di cammini parte dalla cella $(1,1)$\"\n",
    "    for i in range(row-1,0,-1):\n",
    "        for j in range (col-1,0,-1):\n",
    "            #print(f\"{i},{j} -> {num_path[i][j]}={num_path[i-1][j]}+{num_path[i][j-1]}\")\n",
    "            if num_path[i][j]!=\"X\":\n",
    "                if i==1 and j==1:\n",
    "                    if num_path[i][j]!=1:\n",
    "                        return  evaluation_format(\"No\", 0, 10)+\"Il valore nella cella $(1,1)$ non è corretto\"\n",
    "                elif num_path[i-1][j]!=\"X\" and num_path[i][j-1]!=\"X\":\n",
    "                    if num_path[i][j]!=num_path[i-1][j]+num_path[i][j-1]:\n",
    "                        return  evaluation_format(\"No\", 0, 10)+\"La tua soluzione non è coerente\"\n",
    "                elif num_path[i-1][j]!=\"X\":\n",
    "                    if num_path[i][j]!=num_path[i-1][j]:\n",
    "                        return  evaluation_format(\"No\", 0, 10)+\"La tua soluzione non è coerente\"\n",
    "                elif num_path[i][j-1]!=\"X\":\n",
    "                    if num_path[i][j]!=num_path[i][j-1]:\n",
    "                        return  evaluation_format(\"No\", 0, 10)+\"La tua soluzione non è coerente\"\n",
    "                else:\n",
    "                    if num_path[i][j]!=0:\n",
    "                        return  evaluation_format(\"No\", 0, 10)+\"La tua soluzione non è coerente\"\n",
    "    return  evaluation_format(\"Si\", 1, 10)+\"La tua soluzione è coerente\"\n",
    "        \n",
    "                \n",
    "                        \n",
    "            "
   ]
  },
  {
   "cell_type": "markdown",
   "metadata": {},
   "source": [
    "## Esercizio \\[60 pts\\]\n",
    "(campo minato) Ricerca dei cammini."
   ]
  },
  {
   "cell_type": "markdown",
   "metadata": {},
   "source": [
    "Un robot R, inizialmente situato nella cella $A1$, deve portarsi nella sua home H situata nella cella $H9$."
   ]
  },
  {
   "cell_type": "code",
   "execution_count": 13,
   "metadata": {
    "hide_input": false
   },
   "outputs": [
    {
     "name": "stdout",
     "output_type": "stream",
     "text": [
      "╒════╤═════╤═════╤═════╤═════╤═════╤═════╤═════╤═════╤═════╕\n",
      "│    │ 1   │ 2   │ 3   │ 4   │ 5   │ 6   │ 7   │ 8   │ 9   │\n",
      "╞════╪═════╪═════╪═════╪═════╪═════╪═════╪═════╪═════╪═════╡\n",
      "│ A  │ R   │ 2   │ 3   │ 1   │ 1   │ 1   │ 0   │ 0   │ X   │\n",
      "├────┼─────┼─────┼─────┼─────┼─────┼─────┼─────┼─────┼─────┤\n",
      "│ B  │ 3   │ 3   │ 1   │ 0   │ X   │ X   │ 0   │ 0   │ 0   │\n",
      "├────┼─────┼─────┼─────┼─────┼─────┼─────┼─────┼─────┼─────┤\n",
      "│ C  │ 2   │ X   │ 0   │ X   │ 0   │ 0   │ 1   │ 1   │ 1   │\n",
      "├────┼─────┼─────┼─────┼─────┼─────┼─────┼─────┼─────┼─────┤\n",
      "│ D  │ 0   │ 0   │ 1   │ 0   │ 0   │ 0   │ 1   │ X   │ 0   │\n",
      "├────┼─────┼─────┼─────┼─────┼─────┼─────┼─────┼─────┼─────┤\n",
      "│ E  │ 0   │ 0   │ X   │ 1   │ X   │ 1   │ 0   │ 0   │ 0   │\n",
      "├────┼─────┼─────┼─────┼─────┼─────┼─────┼─────┼─────┼─────┤\n",
      "│ F  │ 0   │ 1   │ 1   │ 1   │ 0   │ 3   │ X   │ 0   │ 1   │\n",
      "├────┼─────┼─────┼─────┼─────┼─────┼─────┼─────┼─────┼─────┤\n",
      "│ G  │ 3   │ X   │ 0   │ 1   │ 2   │ 0   │ 0   │ 1   │ 0   │\n",
      "├────┼─────┼─────┼─────┼─────┼─────┼─────┼─────┼─────┼─────┤\n",
      "│ H  │ 2   │ 1   │ 2   │ 1   │ 2   │ 1   │ 2   │ 1   │ H   │\n",
      "╘════╧═════╧═════╧═════╧═════╧═════╧═════╧═════╧═════╧═════╛\n"
     ]
    }
   ],
   "source": [
    "table = [\n",
    "         [0, 0, 0, 0, 0, 0, 0, 0, 0, 0],\n",
    "         [0, \"R\" , 2 , 3 , 1 , 1 , 1 , 0 , 0 , \"X\" ],\n",
    "         [0, 3 , 3 , 1 , 0 , \"X\" , \"X\" , 0 , 0 , 0 ],\n",
    "         [0, 2 , \"X\" , 0 , \"X\" , 0 , 0 , 1 , 1 , 1 ],\n",
    "         [0, 0 , 0 , 1 , 0 , 0 , 0 , 1 , \"X\" , 0 ],\n",
    "         [0, 0 , 0 , \"X\" , 1 , \"X\" , 1 , 0 , 0 , 0 ],\n",
    "         [0, 0 , 1 , 1 , 1 , 0 , 3 , \"X\" , 0 , 1 ],\n",
    "         [0, 3 , \"X\" , 0 , 1 , 2 , 0 , 0 , 1 , 0 ],\n",
    "         [0, 2 , 1 , 2 , 1 , 2 , 1 , 2 , 1 , \"H\"] ,\n",
    "        ]\n",
    "\n",
    "\n",
    "columns=[\"1\",\"2\",\"3\",\"4\",\"5\",\"6\",\"7\",\"8\",\"9\"]\n",
    "index=pd.Index([\"0\",\"A\",\"B\",\"C\",\"D\",\"E\",\"F\",\"G\",\"H\"])\n",
    "df=pd.DataFrame(table,index=index)\n",
    "df = df.iloc[1:,1:]\n",
    "\n",
    "\n",
    "\n",
    "print(tabulate(df, headers=columns, tablefmt='fancy_grid'))\n",
    "#display(HTML(df.to_html()))"
   ]
  },
  {
   "cell_type": "markdown",
   "metadata": {},
   "source": [
    "Ogni cella senza mina contiene un numero di monetine come rappresentato.\\\n",
    "Quante monetine può raccogliere al massimo il robot?"
   ]
  },
  {
   "cell_type": "markdown",
   "metadata": {},
   "source": [
    "I movimenti base possibili sono il passo verso destra (ad esempio dalla cella A4 alla cella A5) ed il passo verso in basso (ad esempio dalla cella A4 alla cella B4).\\\n",
    "Tuttavia il robot non può visitare le celle occupate da un Pacman (indicate con la X)."
   ]
  },
  {
   "cell_type": "markdown",
   "metadata": {},
   "source": [
    "__Richieste__:"
   ]
  },
  {
   "cell_type": "markdown",
   "metadata": {},
   "source": [
    "1. __\\[10 pts\\]__ Costrisci una matrice *num_paths_to_goal* di dimensione $(m+1)x(n+1)$ dove per ogni $i = 0,..., m$ e $j = 0,..., n$ si riporti il numero di cammini dalla cella $(1,1)$ alla cella $(i,j)$"
   ]
  },
  {
   "cell_type": "code",
   "execution_count": 14,
   "metadata": {},
   "outputs": [],
   "source": [
    "num_paths_to_goal=[[],[],[],[],[],[],[],[],[]]\n",
    "num_paths_to_goal= num_percorsi(table,len(table),len(table[0]))\n",
    "\n"
   ]
  },
  {
   "cell_type": "code",
   "execution_count": 15,
   "metadata": {},
   "outputs": [
    {
     "name": "stdout",
     "output_type": "stream",
     "text": [
      "La soluzione proposta è la seguente:\n",
      "╒════╤═════╤═════╤═════╤═════╤═════╤═════╤═════╤═════╤═════╕\n",
      "│    │   1 │ 2   │ 3   │ 4   │ 5   │ 6   │ 7   │ 8   │ 9   │\n",
      "╞════╪═════╪═════╪═════╪═════╪═════╪═════╪═════╪═════╪═════╡\n",
      "│ A  │   1 │ 1   │ 1   │ 1   │ 1   │ 1   │ 1   │ 1   │ X   │\n",
      "├────┼─────┼─────┼─────┼─────┼─────┼─────┼─────┼─────┼─────┤\n",
      "│ B  │   1 │ 2   │ 3   │ 4   │ X   │ X   │ 1   │ 2   │ 2   │\n",
      "├────┼─────┼─────┼─────┼─────┼─────┼─────┼─────┼─────┼─────┤\n",
      "│ C  │   1 │ X   │ 3   │ X   │ 0   │ 0   │ 1   │ 3   │ 5   │\n",
      "├────┼─────┼─────┼─────┼─────┼─────┼─────┼─────┼─────┼─────┤\n",
      "│ D  │   1 │ 1   │ 4   │ 4   │ 4   │ 4   │ 5   │ X   │ 5   │\n",
      "├────┼─────┼─────┼─────┼─────┼─────┼─────┼─────┼─────┼─────┤\n",
      "│ E  │   1 │ 2   │ X   │ 4   │ X   │ 4   │ 9   │ 9   │ 14  │\n",
      "├────┼─────┼─────┼─────┼─────┼─────┼─────┼─────┼─────┼─────┤\n",
      "│ F  │   1 │ 3   │ 3   │ 7   │ 7   │ 11  │ X   │ 9   │ 23  │\n",
      "├────┼─────┼─────┼─────┼─────┼─────┼─────┼─────┼─────┼─────┤\n",
      "│ G  │   1 │ X   │ 3   │ 10  │ 17  │ 28  │ 28  │ 37  │ 60  │\n",
      "├────┼─────┼─────┼─────┼─────┼─────┼─────┼─────┼─────┼─────┤\n",
      "│ H  │   1 │ 1   │ 4   │ 14  │ 31  │ 59  │ 87  │ 124 │ 184 │\n",
      "╘════╧═════╧═════╧═════╧═════╧═════╧═════╧═════╧═════╧═════╛\n"
     ]
    }
   ],
   "source": [
    "print(\"La soluzione proposta è la seguente:\")\n",
    "df2=pd.DataFrame(num_paths_to_goal,index=index)\n",
    "df2 = df2.iloc[1:,1:]\n",
    "print(tabulate(df2, headers=columns, tablefmt='fancy_grid'))"
   ]
  },
  {
   "cell_type": "code",
   "execution_count": 46,
   "metadata": {
    "scrolled": false
   },
   "outputs": [
    {
     "name": "stdout",
     "output_type": "stream",
     "text": [
      "8,9 -> 184=60+124\n",
      "8,8 -> 124=37+87\n",
      "8,7 -> 87=28+59\n",
      "8,6 -> 59=28+31\n",
      "8,5 -> 31=17+14\n",
      "8,4 -> 14=10+4\n",
      "8,3 -> 4=3+1\n",
      "8,2 -> 1=X+1\n",
      "8,1 -> 1=1+0\n",
      "7,9 -> 60=23+37\n",
      "7,8 -> 37=9+28\n",
      "7,7 -> 28=X+28\n",
      "7,6 -> 28=11+17\n",
      "7,5 -> 17=7+10\n",
      "7,4 -> 10=7+3\n",
      "7,3 -> 3=3+X\n",
      "7,2 -> X=3+1\n",
      "7,1 -> 1=1+0\n",
      "6,9 -> 23=14+9\n",
      "6,8 -> 9=9+X\n",
      "6,7 -> X=9+11\n",
      "6,6 -> 11=4+7\n",
      "6,5 -> 7=X+7\n",
      "6,4 -> 7=4+3\n",
      "6,3 -> 3=X+3\n",
      "6,2 -> 3=2+1\n",
      "6,1 -> 1=1+0\n",
      "5,9 -> 14=5+9\n",
      "5,8 -> 9=X+9\n",
      "5,7 -> 9=5+4\n",
      "5,6 -> 4=4+X\n",
      "5,5 -> X=4+4\n",
      "5,4 -> 4=4+X\n",
      "5,3 -> X=4+2\n",
      "5,2 -> 2=1+1\n",
      "5,1 -> 1=1+0\n",
      "4,9 -> 5=5+X\n",
      "4,8 -> X=3+5\n",
      "4,7 -> 5=1+4\n",
      "4,6 -> 4=0+4\n",
      "4,5 -> 4=0+4\n",
      "4,4 -> 4=X+4\n",
      "4,3 -> 4=3+1\n",
      "4,2 -> 1=X+1\n",
      "4,1 -> 1=1+0\n",
      "3,9 -> 5=2+3\n",
      "3,8 -> 3=2+1\n",
      "3,7 -> 1=1+0\n",
      "3,6 -> 0=X+0\n",
      "3,5 -> 0=X+X\n",
      "3,4 -> X=4+3\n",
      "3,3 -> 3=3+X\n",
      "3,2 -> X=2+1\n",
      "3,1 -> 1=1+0\n",
      "2,9 -> 2=X+2\n",
      "2,8 -> 2=1+1\n",
      "2,7 -> 1=1+X\n",
      "2,6 -> X=1+X\n",
      "2,5 -> X=1+4\n",
      "2,4 -> 4=1+3\n",
      "2,3 -> 3=1+2\n",
      "2,2 -> 2=1+1\n",
      "2,1 -> 1=1+0\n",
      "1,9 -> X=0+1\n",
      "1,8 -> 1=0+1\n",
      "1,7 -> 1=0+1\n",
      "1,6 -> 1=0+1\n",
      "1,5 -> 1=0+1\n",
      "1,4 -> 1=0+1\n",
      "1,3 -> 1=0+1\n",
      "1,2 -> 1=0+1\n",
      "1,1 -> 1=0+0\n"
     ]
    },
    {
     "data": {
      "text/markdown": [
       "Si. Totalizzeresti <span style='color:green'>[1 safe pt]</span>,                                     <span style='color:blue'>[9 possible pt]</span>,                                     <span style='color:red'>[0 out of reach pt]</span>.<br>La tua soluzione è coerente"
      ],
      "text/plain": [
       "<IPython.core.display.Markdown object>"
      ]
     },
     "metadata": {},
     "output_type": "display_data"
    }
   ],
   "source": [
    "display(Markdown(check_num_paths_to_goal(num_paths_to_goal,len(num_paths_to_goal),len(num_paths_to_goal[0]))))"
   ]
  },
  {
   "cell_type": "markdown",
   "metadata": {},
   "source": [
    "1. __\\[10 pts\\]__ Quanti sono i percorsi possibili se la partenza è in A–1?"
   ]
  },
  {
   "cell_type": "markdown",
   "metadata": {},
   "source": [
    "2. __\\[10 pts\\]__ E se la partenza è in B–3?"
   ]
  },
  {
   "cell_type": "markdown",
   "metadata": {},
   "source": [
    "3. __\\[10 pts\\]__ E se con partenza in A–1 il robot deve giungere in F–6?"
   ]
  },
  {
   "cell_type": "markdown",
   "metadata": {},
   "source": [
    "4. __\\[10 pts\\]__ E se con partenza in A–1 ed arrivo in H–9 al robot viene richiesto di passare per\n",
    "la cella D–5?"
   ]
  },
  {
   "cell_type": "markdown",
   "metadata": {},
   "source": [
    "5. __\\[10 pts\\]__ Quale é il massimo valore in premi raccoglibili lungo una traversata da A–1 a H–9?"
   ]
  },
  {
   "cell_type": "markdown",
   "metadata": {},
   "source": [
    "6. __\\[10 pts\\]__ Quanti sono i percorsi possibili che assicurino di portare a case tale massimo valore?"
   ]
  },
  {
   "cell_type": "code",
   "execution_count": null,
   "metadata": {},
   "outputs": [],
   "source": []
  }
 ],
 "metadata": {
  "celltoolbar": "Edit Metadata",
  "hide_input": false,
  "kernelspec": {
   "display_name": "Python 3",
   "language": "python",
   "name": "python3"
  },
  "language_info": {
   "codemirror_mode": {
    "name": "ipython",
    "version": 3
   },
   "file_extension": ".py",
   "mimetype": "text/x-python",
   "name": "python",
   "nbconvert_exporter": "python",
   "pygments_lexer": "ipython3",
   "version": "3.7.7"
  }
 },
 "nbformat": 4,
 "nbformat_minor": 4
}
