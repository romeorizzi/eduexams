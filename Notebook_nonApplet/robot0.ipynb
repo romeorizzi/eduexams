{
 "cells": [
  {
   "cell_type": "code",
   "execution_count": 1,
   "metadata": {
    "hide_input": false,
    "pycharm": {
     "name": "#%%\n"
    }
   },
   "outputs": [],
   "source": [
    "from IPython.core.display import display, HTML, Markdown\n",
    "from ipywidgets import Button, HBox, VBox, widgets, Layout\n",
    "from tabulate import tabulate\n",
    "import pandas as pd"
   ]
  },
  {
   "cell_type": "code",
   "execution_count": 16,
   "metadata": {
    "hide_input": false,
    "pycharm": {
     "name": "#%%\n"
    }
   },
   "outputs": [],
   "source": [
    "#solver solo per non fare i calcoli a mano\n",
    "\n",
    "def num_percorsi(env,r,c):\n",
    "    m = []\n",
    "    for i in range(0,r):\n",
    "        m.append([0 for j in range(0,c)])\n",
    "    hole = 0\n",
    "    i=0\n",
    "    j=0\n",
    "    for i in range(0,r):\n",
    "        m[i][0]=0\n",
    "    for j in range(0,c):\n",
    "        m[0][j]=0\n",
    "    for i in range(0,r):\n",
    "        for j in range(0,c):\n",
    "            if i==1 and j==1:\n",
    "                m[i][j]=1\n",
    "            else:\n",
    "                if str(env[i][j])==\"X\":\n",
    "                    m[i][j]=\"X\"\n",
    "                else:\n",
    "                    if m[i-1][j] == \"X\" and m[i][j-1] == \"X\":\n",
    "                         m[i][j] =0                    \n",
    "                    elif m[i-1][j] == \"X\":\n",
    "                        m[i][j]= m[i][j-1];\n",
    "                    elif m[i][j-1] == \"X\":\n",
    "                        m[i][j]= m[i-1][j]\n",
    "                    else:\n",
    "                        m[i][j] = m[i-1][j] + m[i][j-1];\n",
    "        \n",
    "    return m;\n",
    "\n",
    "def num_percorsi_reverse(env,r,c):\n",
    "    m = []\n",
    "    for i in range(0,r):\n",
    "        m.append([0 for j in range(0,c)])\n",
    "    hole = 0\n",
    "    i=r-1\n",
    "    j=c-1\n",
    "    while i > 0:\n",
    "        if str(env[i][c-1])==\"X\":\n",
    "            hole=1\n",
    "            m[i][c-1]=\"X\"\n",
    "        elif hole == 0:\n",
    "            m[i][c-1] = 1\n",
    "        else:\n",
    "            m[i][c-1] = 0\n",
    "        i-=1\n",
    "    hole=0\n",
    "    while j > 0:\n",
    "        if str(env[r-1][j])==\"X\":\n",
    "            hole=1\n",
    "            m[r-1][j] = \"X\"\n",
    "        elif hole == 0:\n",
    "            m[r-1][j] = 1\n",
    "        else:\n",
    "            m[r-1][j] = 0\n",
    "        j-=1\n",
    "    for i in range(r-2,0,-1):\n",
    "        for j in range(c-2,0,-1):\n",
    "                if str(env[i][j])==\"X\":\n",
    "                    m[i][j]=\"X\"\n",
    "                else:\n",
    "                    if m[i+1][j] == \"X\" and m[i][j+1] == \"X\":\n",
    "                         m[i][j] =0                    \n",
    "                    elif m[i+1][j] == \"X\":\n",
    "                        m[i][j]= m[i][j+1]\n",
    "                    elif m[i][j+1] == \"X\":\n",
    "                        m[i][j]= m[i+1][j]\n",
    "                    else:\n",
    "                        #print(f\"{m[i+1][j]}+{m[i][j+1]}\")\n",
    "                        m[i][j] = m[i+1][j] + m[i][j+1];\n",
    "    return m\n",
    "            \n"
   ]
  },
  {
   "cell_type": "code",
   "execution_count": 93,
   "metadata": {
    "hide_input": true
   },
   "outputs": [],
   "source": [
    "def evaluation_format(answ, pt_green,pt_red):\n",
    "    pt_blue=0\n",
    "    if pt_green!=0:\n",
    "        pt_blue=pt_red-pt_green\n",
    "        pt_red=0\n",
    "    return f\"{answ}. Totalizzeresti <span style='color:green'>[{pt_green} safe pt]</span>, \\\n",
    "                                    <span style='color:blue'>[{pt_blue} possible pt]</span>, \\\n",
    "                                    <span style='color:red'>[{pt_red} out of reach pt]</span>.<br>\"\n",
    "\n",
    "def check_num_paths_to_goal(num_path, row, col):\n",
    "    for i in range (0,row-1):\n",
    "        if num_path[i][0]!=0:\n",
    "            return evaluation_format(\"No\", 0, 10)+\"Attenzione, il numero di cammini parte dalla cella $(1,1)$\"\n",
    "    for j in range (0,col-1):\n",
    "        if num_path[0][j]!=0:\n",
    "            return evaluation_format(\"No\", 0, 10)+\"Attenzione, il numero di cammini parte dalla cella $(1,1)$\"\n",
    "    for i in range(row-1,0,-1):\n",
    "        for j in range (col-1,0,-1):\n",
    "            if num_path[i][j]!=\"X\":\n",
    "                if i==1 and j==1:\n",
    "                    if num_path[i][j]!=1:\n",
    "                        return  evaluation_format(\"No\", 0, 10)+\"Il valore nella cella $(1,1)$ non è corretto\"\n",
    "                elif num_path[i-1][j]!=\"X\" and num_path[i][j-1]!=\"X\":\n",
    "                    if num_path[i][j]!=num_path[i-1][j]+num_path[i][j-1]:\n",
    "                        return  evaluation_format(\"No\", 0, 10)+\"La tua soluzione non è coerente\"\n",
    "                elif num_path[i-1][j]!=\"X\":\n",
    "                    if num_path[i][j]!=num_path[i-1][j]:\n",
    "                        return  evaluation_format(\"No\", 0, 10)+\"La tua soluzione non è coerente\"\n",
    "                elif num_path[i][j-1]!=\"X\":\n",
    "                    if num_path[i][j]!=num_path[i][j-1]:\n",
    "                        return  evaluation_format(\"No\", 0, 10)+\"La tua soluzione non è coerente\"\n",
    "                else:\n",
    "                    if num_path[i][j]!=0:\n",
    "                        return  evaluation_format(\"No\", 0, 10)+\"La tua soluzione non è coerente\"\n",
    "    return  evaluation_format(\"Si\", 1, 10)+\"La tua soluzione è coerente\"\n",
    "\n",
    "def check_num_paths_to_start(num_path, row, col):\n",
    "    for i in range(1,row-1):\n",
    "        for j in range (1,col-1):\n",
    "            if num_path[i][j]!=\"X\":\n",
    "                if i==row-1 and j==col-1:\n",
    "                    if num_path[i][j]!=1:\n",
    "                        return  evaluation_format(\"No\", 0, 10)+\"Il valore nella cella $(n+1,m+1)$ non è corretto\"\n",
    "                elif num_path[i+1][j]!=\"X\" and num_path[i][j+1]!=\"X\":\n",
    "                    if num_path[i][j]!=num_path[i+1][j]+num_path[i][j+1]:\n",
    "                        return  evaluation_format(\"No\", 0, 10)+\"La tua soluzione non è coerente\"\n",
    "                elif num_path[i+1][j]!=\"X\":\n",
    "                    if num_path[i][j]!=num_path[i+1][j]:\n",
    "                        return  evaluation_format(\"No\", 0, 10)+\"La tua soluzione non è coerente\"\n",
    "                elif num_path[i][j+1]!=\"X\":\n",
    "                    if num_path[i][j]!=num_path[i][j+1]:\n",
    "                        return  evaluation_format(\"No\", 0, 10)+\"La tua soluzione non è coerente\"\n",
    "                else:\n",
    "                    if num_path[i][j]!=0:\n",
    "                        return  evaluation_format(\"No\", 0, 10)+\"La tua soluzione non è coerente\"\n",
    "    return  evaluation_format(\"Si\", 1, 10)+\"La tua soluzione è coerente\"\n",
    "                \n",
    "def check_value(name,table,row,col, value):\n",
    "    submission=f\"Hai inserito il valore {value}, nella tabella {name} in posizione ({row},{col}) è presente il valore {table[row][col]}\"\n",
    "    if table[row][col]==value:\n",
    "        return evaluation_format(\"Si\", 1, 10)+f\"La tua soluzione è coerente con quanto hai inserito nella tabella {name}<br>\"+submission\n",
    "    else:\n",
    "        return evaluation_format(\"No\", 0, 10)+f\"La tua soluzione è coerente con quanto hai inserito nella tabella {name}<br>\"+submission\n",
    "    \n",
    "def check_value_from_tables(table1, table2, row, col, value):\n",
    "    submission=f\"Hai inserito il valore {value}, il valore atteso ricavato dalle tue tabelle è {table1[row][col]*table2[row][col]}\"\n",
    "    if table[row][col]==value:\n",
    "        return evaluation_format(\"Si\", 1, 10)+f\"La tua soluzione è coerente con quanto hai inserito nelle tabelle<br>\"+submission\n",
    "    else:\n",
    "        return evaluation_format(\"No\", 0, 10)+f\"La tua soluzione è coerente con quanto hai inserito nella tabelle<br>\"+submission"
   ]
  },
  {
   "cell_type": "markdown",
   "metadata": {},
   "source": [
    "## Esercizio \\[60 pts\\]\n",
    "(campo minato) Ricerca dei cammini."
   ]
  },
  {
   "cell_type": "markdown",
   "metadata": {},
   "source": [
    "Un robot R, inizialmente situato nella cella $A1$, deve portarsi nella sua home H situata nella cella $H9$."
   ]
  },
  {
   "cell_type": "code",
   "execution_count": 54,
   "metadata": {
    "hide_input": false
   },
   "outputs": [
    {
     "name": "stdout",
     "output_type": "stream",
     "text": [
      "╒════╤═════╤═════╤═════╤═════╤═════╤═════╤═════╤═════╤═════╕\n",
      "│    │ 1   │ 2   │ 3   │ 4   │ 5   │ 6   │ 7   │ 8   │ 9   │\n",
      "╞════╪═════╪═════╪═════╪═════╪═════╪═════╪═════╪═════╪═════╡\n",
      "│ A  │ R   │ 2   │ 3   │ 1   │ 1   │ 1   │ 0   │ 0   │ X   │\n",
      "├────┼─────┼─────┼─────┼─────┼─────┼─────┼─────┼─────┼─────┤\n",
      "│ B  │ 3   │ 3   │ 1   │ 0   │ X   │ X   │ 0   │ 0   │ 0   │\n",
      "├────┼─────┼─────┼─────┼─────┼─────┼─────┼─────┼─────┼─────┤\n",
      "│ C  │ 2   │ X   │ 0   │ X   │ 0   │ 0   │ 1   │ 1   │ 1   │\n",
      "├────┼─────┼─────┼─────┼─────┼─────┼─────┼─────┼─────┼─────┤\n",
      "│ D  │ 0   │ 0   │ 1   │ 0   │ 0   │ 0   │ 1   │ X   │ 0   │\n",
      "├────┼─────┼─────┼─────┼─────┼─────┼─────┼─────┼─────┼─────┤\n",
      "│ E  │ 0   │ 0   │ X   │ 1   │ X   │ 1   │ 0   │ 0   │ 0   │\n",
      "├────┼─────┼─────┼─────┼─────┼─────┼─────┼─────┼─────┼─────┤\n",
      "│ F  │ 0   │ 1   │ 1   │ 1   │ 0   │ 3   │ X   │ 0   │ 1   │\n",
      "├────┼─────┼─────┼─────┼─────┼─────┼─────┼─────┼─────┼─────┤\n",
      "│ G  │ 3   │ X   │ 0   │ 1   │ 2   │ 0   │ 0   │ 1   │ 0   │\n",
      "├────┼─────┼─────┼─────┼─────┼─────┼─────┼─────┼─────┼─────┤\n",
      "│ H  │ 2   │ 1   │ 2   │ 1   │ 2   │ 1   │ 2   │ 1   │ H   │\n",
      "╘════╧═════╧═════╧═════╧═════╧═════╧═════╧═════╧═════╧═════╛\n"
     ]
    }
   ],
   "source": [
    "table = [\n",
    "         [0, 0, 0, 0, 0, 0, 0, 0, 0, 0],\n",
    "         [0, \"R\" , 2 , 3 , 1 , 1 , 1 , 0 , 0 , \"X\" ],\n",
    "         [0, 3 , 3 , 1 , 0 , \"X\" , \"X\" , 0 , 0 , 0 ],\n",
    "         [0, 2 , \"X\" , 0 , \"X\" , 0 , 0 , 1 , 1 , 1 ],\n",
    "         [0, 0 , 0 , 1 , 0 , 0 , 0 , 1 , \"X\" , 0 ],\n",
    "         [0, 0 , 0 , \"X\" , 1 , \"X\" , 1 , 0 , 0 , 0 ],\n",
    "         [0, 0 , 1 , 1 , 1 , 0 , 3 , \"X\" , 0 , 1 ],\n",
    "         [0, 3 , \"X\" , 0 , 1 , 2 , 0 , 0 , 1 , 0 ],\n",
    "         [0, 2 , 1 , 2 , 1 , 2 , 1 , 2 , 1 , \"H\"] ,\n",
    "        ]\n",
    "\n",
    "\n",
    "columns=[\"1\",\"2\",\"3\",\"4\",\"5\",\"6\",\"7\",\"8\",\"9\"]\n",
    "index=pd.Index([\"0\",\"A\",\"B\",\"C\",\"D\",\"E\",\"F\",\"G\",\"H\"])\n",
    "df=pd.DataFrame(table,index=index)\n",
    "df = df.iloc[1:,1:]\n",
    "\n",
    "\n",
    "\n",
    "print(tabulate(df, headers=columns, tablefmt='fancy_grid'))\n",
    "#display(HTML(df.to_html()))"
   ]
  },
  {
   "cell_type": "markdown",
   "metadata": {},
   "source": [
    "Ogni cella senza mina contiene un numero di monetine come rappresentato.\\\n",
    "Quante monetine può raccogliere al massimo il robot?"
   ]
  },
  {
   "cell_type": "markdown",
   "metadata": {},
   "source": [
    "I movimenti base possibili sono il passo verso destra (ad esempio dalla cella A4 alla cella A5) ed il passo verso in basso (ad esempio dalla cella A4 alla cella B4).\\\n",
    "Tuttavia il robot non può visitare le celle occupate da un Pacman (indicate con la X)."
   ]
  },
  {
   "cell_type": "markdown",
   "metadata": {},
   "source": [
    "__Richieste__:"
   ]
  },
  {
   "cell_type": "markdown",
   "metadata": {},
   "source": [
    "1. __\\[10 pts\\]__ Costrisci una matrice *num_paths_to_goal* di dimensione $(m+1)x(n+1)$ dove per ogni $i = 0,..., m$ e $j = 0,..., n$ si riporti il numero di cammini dalla cella $(1,1)$ alla cella $(i,j)$"
   ]
  },
  {
   "cell_type": "code",
   "execution_count": 55,
   "metadata": {},
   "outputs": [],
   "source": [
    "#num_paths_to_goal=[\n",
    "#    [0, 0, 0, 0, 0, 0, 0, 0, 0, 0], \n",
    "#    [0, 1, 1, 1, 1, 1, 1, 1, 1, 'X'], \n",
    "#    [0, 1, 2, 3, 4, 'X', 'X', 1, 2, 2], \n",
    "#    [0, 1, 'X', 3, 'X', 0, 0, 1, 3, 5], \n",
    "#    [0, 1, 1, 4, 4, 4, 4, 5, 'X', 5], \n",
    "#    [0, 1, 2, 'X', 4, 'X', 4, 9, 9, 14], \n",
    "#    [0, 1, 3, 3, 7, 7, 11, 'X', 9, 23], \n",
    "#    [0, 1, 'X', 3, 10, 17, 28, 28, 37, 60], \n",
    "#    [0, 1, 1, 4, 14, 31, 59, 87, 124, 184]\n",
    "#]\n",
    "num_paths_to_goal= num_percorsi(table,len(table),len(table[0]))"
   ]
  },
  {
   "cell_type": "code",
   "execution_count": 56,
   "metadata": {},
   "outputs": [
    {
     "name": "stdout",
     "output_type": "stream",
     "text": [
      "La soluzione proposta è la seguente:\n",
      "╒════╤═════╤═════╤═════╤═════╤═════╤═════╤═════╤═════╤═════╕\n",
      "│    │   1 │ 2   │ 3   │ 4   │ 5   │ 6   │ 7   │ 8   │ 9   │\n",
      "╞════╪═════╪═════╪═════╪═════╪═════╪═════╪═════╪═════╪═════╡\n",
      "│ A  │   1 │ 1   │ 1   │ 1   │ 1   │ 1   │ 1   │ 1   │ X   │\n",
      "├────┼─────┼─────┼─────┼─────┼─────┼─────┼─────┼─────┼─────┤\n",
      "│ B  │   1 │ 2   │ 3   │ 4   │ X   │ X   │ 1   │ 2   │ 2   │\n",
      "├────┼─────┼─────┼─────┼─────┼─────┼─────┼─────┼─────┼─────┤\n",
      "│ C  │   1 │ X   │ 3   │ X   │ 0   │ 0   │ 1   │ 3   │ 5   │\n",
      "├────┼─────┼─────┼─────┼─────┼─────┼─────┼─────┼─────┼─────┤\n",
      "│ D  │   1 │ 1   │ 4   │ 4   │ 4   │ 4   │ 5   │ X   │ 5   │\n",
      "├────┼─────┼─────┼─────┼─────┼─────┼─────┼─────┼─────┼─────┤\n",
      "│ E  │   1 │ 2   │ X   │ 4   │ X   │ 4   │ 9   │ 9   │ 14  │\n",
      "├────┼─────┼─────┼─────┼─────┼─────┼─────┼─────┼─────┼─────┤\n",
      "│ F  │   1 │ 3   │ 3   │ 7   │ 7   │ 11  │ X   │ 9   │ 23  │\n",
      "├────┼─────┼─────┼─────┼─────┼─────┼─────┼─────┼─────┼─────┤\n",
      "│ G  │   1 │ X   │ 3   │ 10  │ 17  │ 28  │ 28  │ 37  │ 60  │\n",
      "├────┼─────┼─────┼─────┼─────┼─────┼─────┼─────┼─────┼─────┤\n",
      "│ H  │   1 │ 1   │ 4   │ 14  │ 31  │ 59  │ 87  │ 124 │ 184 │\n",
      "╘════╧═════╧═════╧═════╧═════╧═════╧═════╧═════╧═════╧═════╛\n"
     ]
    }
   ],
   "source": [
    "print(\"La soluzione proposta è la seguente:\")\n",
    "df2=pd.DataFrame(num_paths_to_goal,index=index)\n",
    "df2 = df2.iloc[1:,1:]\n",
    "print(tabulate(df2, headers=columns, tablefmt='fancy_grid'))"
   ]
  },
  {
   "cell_type": "code",
   "execution_count": 59,
   "metadata": {
    "hide_input": true,
    "scrolled": false
   },
   "outputs": [
    {
     "data": {
      "text/markdown": [
       "Si. Totalizzeresti <span style='color:green'>[1 safe pt]</span>,                                     <span style='color:blue'>[9 possible pt]</span>,                                     <span style='color:red'>[0 out of reach pt]</span>.<br>La tua soluzione è coerente"
      ],
      "text/plain": [
       "<IPython.core.display.Markdown object>"
      ]
     },
     "metadata": {},
     "output_type": "display_data"
    }
   ],
   "source": [
    "display(Markdown(check_num_paths_to_goal(num_paths_to_goal,len(num_paths_to_goal),len(num_paths_to_goal[0]))))"
   ]
  },
  {
   "cell_type": "markdown",
   "metadata": {},
   "source": [
    "1. __\\[10 pts\\]__ Costrisci una matrice *num_paths_to_start* di dimensione $(m+1)x(n+1)$ dove per ogni $i = 0,..., m$ e $j = 0,..., n$ si riporti il numero di cammini dalla cella $(i,j)$ alla cella $(1,1)$"
   ]
  },
  {
   "cell_type": "code",
   "execution_count": 60,
   "metadata": {},
   "outputs": [],
   "source": [
    "num_paths_to_start=[\n",
    "                        [0, 0, 0, 0, 0, 0, 0, 0, 0, 0], \n",
    "                        [0, 184, 63, 36, 9, 9, 9, 9, 2, 'X'], \n",
    "                        [0, 121, 27, 27, 0, 'X', 'X', 7, 2, 1], \n",
    "                        [0, 94, 'X', 27, 'X', 29, 17, 5, 1, 1], \n",
    "                        [0, 94, 49, 27, 27, 12, 12, 4, 'X', 1], \n",
    "                        [0, 45, 22, 'X', 15, 'X', 8, 4, 4, 1], \n",
    "                        [0, 23, 22, 22, 15, 9, 4, 'X', 3, 1], \n",
    "                        [0, 1, 'X', 7, 6, 5, 4, 3, 2, 1], \n",
    "                        [0, 1, 1, 1, 1, 1, 1, 1, 1, 1]\n",
    "                    ]\n",
    "#num_paths_to_start=num_percorsi_reverse(table,len(table),len(table[0]))"
   ]
  },
  {
   "cell_type": "code",
   "execution_count": 61,
   "metadata": {
    "scrolled": false
   },
   "outputs": [
    {
     "name": "stdout",
     "output_type": "stream",
     "text": [
      "╒════╤═════╤═════╤═════╤═════╤═════╤═════╤═════╤═════╤═════╕\n",
      "│    │   1 │ 2   │ 3   │ 4   │ 5   │ 6   │ 7   │ 8   │ 9   │\n",
      "╞════╪═════╪═════╪═════╪═════╪═════╪═════╪═════╪═════╪═════╡\n",
      "│ A  │ 184 │ 63  │ 36  │ 9   │ 9   │ 9   │ 9   │ 2   │ X   │\n",
      "├────┼─────┼─────┼─────┼─────┼─────┼─────┼─────┼─────┼─────┤\n",
      "│ B  │ 121 │ 27  │ 27  │ 0   │ X   │ X   │ 7   │ 2   │ 1   │\n",
      "├────┼─────┼─────┼─────┼─────┼─────┼─────┼─────┼─────┼─────┤\n",
      "│ C  │  94 │ X   │ 27  │ X   │ 29  │ 17  │ 5   │ 1   │ 1   │\n",
      "├────┼─────┼─────┼─────┼─────┼─────┼─────┼─────┼─────┼─────┤\n",
      "│ D  │  94 │ 49  │ 27  │ 27  │ 12  │ 12  │ 4   │ X   │ 1   │\n",
      "├────┼─────┼─────┼─────┼─────┼─────┼─────┼─────┼─────┼─────┤\n",
      "│ E  │  45 │ 22  │ X   │ 15  │ X   │ 8   │ 4   │ 4   │ 1   │\n",
      "├────┼─────┼─────┼─────┼─────┼─────┼─────┼─────┼─────┼─────┤\n",
      "│ F  │  23 │ 22  │ 22  │ 15  │ 9   │ 4   │ X   │ 3   │ 1   │\n",
      "├────┼─────┼─────┼─────┼─────┼─────┼─────┼─────┼─────┼─────┤\n",
      "│ G  │   1 │ X   │ 7   │ 6   │ 5   │ 4   │ 3   │ 2   │ 1   │\n",
      "├────┼─────┼─────┼─────┼─────┼─────┼─────┼─────┼─────┼─────┤\n",
      "│ H  │   1 │ 1   │ 1   │ 1   │ 1   │ 1   │ 1   │ 1   │ 1   │\n",
      "╘════╧═════╧═════╧═════╧═════╧═════╧═════╧═════╧═════╧═════╛\n"
     ]
    }
   ],
   "source": [
    "\n",
    "df3=pd.DataFrame(num_paths_to_start,index=index)\n",
    "df3 = df3.iloc[1:,1:]\n",
    "print(tabulate(df3, headers=columns, tablefmt='fancy_grid'))"
   ]
  },
  {
   "cell_type": "code",
   "execution_count": 62,
   "metadata": {
    "scrolled": true
   },
   "outputs": [
    {
     "data": {
      "text/markdown": [
       "Si. Totalizzeresti <span style='color:green'>[1 safe pt]</span>,                                     <span style='color:blue'>[9 possible pt]</span>,                                     <span style='color:red'>[0 out of reach pt]</span>.<br>La tua soluzione è coerente"
      ],
      "text/plain": [
       "<IPython.core.display.Markdown object>"
      ]
     },
     "metadata": {},
     "output_type": "display_data"
    }
   ],
   "source": [
    "display(Markdown(check_num_paths_to_start(num_paths_to_start,len(num_paths_to_start),len(num_paths_to_start[0]))))"
   ]
  },
  {
   "cell_type": "markdown",
   "metadata": {},
   "source": [
    "1. __\\[10 pts\\]__ Quanti sono i percorsi possibili se la partenza è in A–1?"
   ]
  },
  {
   "cell_type": "code",
   "execution_count": 79,
   "metadata": {},
   "outputs": [],
   "source": [
    "ans1 = 184"
   ]
  },
  {
   "cell_type": "code",
   "execution_count": 80,
   "metadata": {
    "scrolled": true
   },
   "outputs": [
    {
     "data": {
      "text/markdown": [
       "Si. Totalizzeresti <span style='color:green'>[1 safe pt]</span>,                                     <span style='color:blue'>[9 possible pt]</span>,                                     <span style='color:red'>[0 out of reach pt]</span>.<br>La tua soluzione è coerente con quanto hai inserito nella tabella num_paths_to_start<br>Hai inserito il valore 184, nella tabella num_paths_to_start in posizione (1,1) è presente il valore 184"
      ],
      "text/plain": [
       "<IPython.core.display.Markdown object>"
      ]
     },
     "metadata": {},
     "output_type": "display_data"
    }
   ],
   "source": [
    "display(Markdown(check_value(\"num_paths_to_start\",num_paths_to_start,1,1,ans1)))"
   ]
  },
  {
   "cell_type": "markdown",
   "metadata": {},
   "source": [
    "2. __\\[10 pts\\]__ E se la partenza è in B–3?"
   ]
  },
  {
   "cell_type": "code",
   "execution_count": 82,
   "metadata": {},
   "outputs": [],
   "source": [
    "ans2=27"
   ]
  },
  {
   "cell_type": "code",
   "execution_count": 83,
   "metadata": {
    "scrolled": true
   },
   "outputs": [
    {
     "data": {
      "text/markdown": [
       "Si. Totalizzeresti <span style='color:green'>[1 safe pt]</span>,                                     <span style='color:blue'>[9 possible pt]</span>,                                     <span style='color:red'>[0 out of reach pt]</span>.<br>La tua soluzione è coerente con quanto hai inserito nella tabella num_paths_to_start<br>Hai inserito il valore 27, nella tabella num_paths_to_start in posizione (2,3) è presente il valore 27"
      ],
      "text/plain": [
       "<IPython.core.display.Markdown object>"
      ]
     },
     "metadata": {},
     "output_type": "display_data"
    }
   ],
   "source": [
    "display(Markdown(check_value(\"num_paths_to_start\",num_paths_to_start,2,3,ans2)))"
   ]
  },
  {
   "cell_type": "markdown",
   "metadata": {},
   "source": [
    "3. __\\[10 pts\\]__ E se con partenza in A–1 il robot deve giungere in F–6?"
   ]
  },
  {
   "cell_type": "code",
   "execution_count": 88,
   "metadata": {},
   "outputs": [],
   "source": [
    "ans3=11"
   ]
  },
  {
   "cell_type": "code",
   "execution_count": 89,
   "metadata": {},
   "outputs": [
    {
     "data": {
      "text/markdown": [
       "Si. Totalizzeresti <span style='color:green'>[1 safe pt]</span>,                                     <span style='color:blue'>[9 possible pt]</span>,                                     <span style='color:red'>[0 out of reach pt]</span>.<br>La tua soluzione è coerente con quanto hai inserito nella tabella num_paths_to_goal<br>Hai inserito il valore 11, nella tabella num_paths_to_goal in posizione (6,6) è presente il valore 11"
      ],
      "text/plain": [
       "<IPython.core.display.Markdown object>"
      ]
     },
     "metadata": {},
     "output_type": "display_data"
    }
   ],
   "source": [
    "display(Markdown(check_value(\"num_paths_to_goal\",num_paths_to_goal,6,6,ans3)))"
   ]
  },
  {
   "cell_type": "markdown",
   "metadata": {},
   "source": [
    "4. __\\[10 pts\\]__ E se con partenza in A–1 ed arrivo in H–9 al robot viene richiesto di passare per\n",
    "la cella D–5?"
   ]
  },
  {
   "cell_type": "code",
   "execution_count": 94,
   "metadata": {},
   "outputs": [],
   "source": [
    "ans4=0"
   ]
  },
  {
   "cell_type": "code",
   "execution_count": 95,
   "metadata": {},
   "outputs": [
    {
     "data": {
      "text/markdown": [
       "Si. Totalizzeresti <span style='color:green'>[1 safe pt]</span>,                                     <span style='color:blue'>[9 possible pt]</span>,                                     <span style='color:red'>[0 out of reach pt]</span>.<br>La tua soluzione è coerente con quanto hai inserito nelle tabelle<br>Hai inserito il valore 0, il valore atteso ricavato dalle tue tabelle è 48"
      ],
      "text/plain": [
       "<IPython.core.display.Markdown object>"
      ]
     },
     "metadata": {},
     "output_type": "display_data"
    }
   ],
   "source": [
    "display(Markdown(check_value_from_tables(num_paths_to_start,num_paths_to_goal,4,5,ans4)))"
   ]
  },
  {
   "cell_type": "markdown",
   "metadata": {},
   "source": [
    "5. __\\[10 pts\\]__ Quale é il massimo valore in premi raccoglibili lungo una traversata da A–1 a H–9?"
   ]
  },
  {
   "cell_type": "markdown",
   "metadata": {},
   "source": [
    "6. __\\[10 pts\\]__ Quanti sono i percorsi possibili che assicurino di portare a case tale massimo valore?"
   ]
  },
  {
   "cell_type": "code",
   "execution_count": null,
   "metadata": {},
   "outputs": [],
   "source": []
  }
 ],
 "metadata": {
  "celltoolbar": "Edit Metadata",
  "hide_input": true,
  "kernelspec": {
   "display_name": "Python 3",
   "language": "python",
   "name": "python3"
  },
  "language_info": {
   "codemirror_mode": {
    "name": "ipython",
    "version": 3
   },
   "file_extension": ".py",
   "mimetype": "text/x-python",
   "name": "python",
   "nbconvert_exporter": "python",
   "pygments_lexer": "ipython3",
   "version": "3.7.7"
  }
 },
 "nbformat": 4,
 "nbformat_minor": 4
}
