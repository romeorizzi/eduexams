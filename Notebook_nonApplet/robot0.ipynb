{
 "cells": [
  {
   "cell_type": "code",
   "execution_count": 2,
   "metadata": {
    "hide_input": false,
    "pycharm": {
     "name": "#%%\n"
    }
   },
   "outputs": [],
   "source": [
    "from IPython.core.display import display, HTML, Markdown\n",
    "from ipywidgets import Button, HBox, VBox, widgets, Layout\n",
    "import ipysheet\n",
    "from tabulate import tabulate\n",
    "import pandas as pd\n",
    "import numpy as np"
   ]
  },
  {
   "cell_type": "code",
   "execution_count": 19,
   "metadata": {
    "hide_input": false,
    "pycharm": {
     "name": "#%%\n"
    }
   },
   "outputs": [],
   "source": [
    "def num_percorsi(env,r,c):\n",
    "    m = []\n",
    "    for i in range(0,r):\n",
    "        m.append([0 for j in range(0,c)])\n",
    "    hole = 0\n",
    "    i=0\n",
    "    j=0\n",
    "    while i < r:\n",
    "        if str(env[i][0])==\"X\":\n",
    "            hole=1\n",
    "        if hole == 0:\n",
    "            m[i][0] = 1;\n",
    "        else: \n",
    "             m[i][0] = 0;\n",
    "        i+=1\n",
    "    hole=0\n",
    "    while j < c:\n",
    "        if str(env[0][j])==\"X\":\n",
    "            hole=1\n",
    "        if hole == 0:\n",
    "            m[0][j] = 1;\n",
    "        else:\n",
    "            m[0][j] = 0;\n",
    "        j+=1\n",
    "        \n",
    "    for i in range(0,r):\n",
    "        for j in range(0,c):\n",
    "            if str(env[i][j])==\"X\":\n",
    "                m[i][j]=\"X\"\n",
    "            else:\n",
    "                if m[i-1][j] == \"X\" and m[i][j-1] == \"X\":\n",
    "                     m[i][j] =0                    \n",
    "                elif m[i-1][j] == \"X\":\n",
    "                    m[i][j]= m[i][j-1];\n",
    "                elif m[i][j-1] == \"X\":\n",
    "                    m[i][j]= m[i-1][j]\n",
    "                else:\n",
    "                    m[i][j] = m[i-1][j] + m[i][j-1];\n",
    "        \n",
    "    return m;\n",
    "\n"
   ]
  },
  {
   "cell_type": "markdown",
   "metadata": {},
   "source": [
    "## Esercizio \\[60 pts\\]\n",
    "(campo minato) Ricerca dei cammini."
   ]
  },
  {
   "cell_type": "markdown",
   "metadata": {},
   "source": [
    "Un robot R, inizialmente situato nella cella $A1$, deve portarsi nella sua home H situata nella cella $H9$."
   ]
  },
  {
   "cell_type": "code",
   "execution_count": 6,
   "metadata": {
    "hide_input": false
   },
   "outputs": [
    {
     "name": "stdout",
     "output_type": "stream",
     "text": [
      "╒════╤═════╤═════╤═════╤═════╤═════╤═════╤═════╤═════╤═════╕\n",
      "│    │ 1   │ 2   │ 3   │ 4   │ 5   │ 6   │ 7   │ 8   │ 9   │\n",
      "╞════╪═════╪═════╪═════╪═════╪═════╪═════╪═════╪═════╪═════╡\n",
      "│ A  │ R   │ 2   │ 3   │ 1   │ 1   │ 1   │ 0   │ 0   │ X   │\n",
      "├────┼─────┼─────┼─────┼─────┼─────┼─────┼─────┼─────┼─────┤\n",
      "│ B  │ 3   │ 3   │ 1   │ 0   │ X   │ X   │ 0   │ 0   │ 0   │\n",
      "├────┼─────┼─────┼─────┼─────┼─────┼─────┼─────┼─────┼─────┤\n",
      "│ C  │ 2   │ X   │ 0   │ X   │ 0   │ 0   │ 1   │ 1   │ 1   │\n",
      "├────┼─────┼─────┼─────┼─────┼─────┼─────┼─────┼─────┼─────┤\n",
      "│ D  │ 0   │ 0   │ 1   │ 0   │ 0   │ 0   │ 1   │ X   │ 0   │\n",
      "├────┼─────┼─────┼─────┼─────┼─────┼─────┼─────┼─────┼─────┤\n",
      "│ E  │ 0   │ 0   │ X   │ 1   │ X   │ 1   │ 0   │ 0   │ 0   │\n",
      "├────┼─────┼─────┼─────┼─────┼─────┼─────┼─────┼─────┼─────┤\n",
      "│ F  │ 0   │ 1   │ 1   │ 1   │ 0   │ 3   │ X   │ 0   │ 1   │\n",
      "├────┼─────┼─────┼─────┼─────┼─────┼─────┼─────┼─────┼─────┤\n",
      "│ G  │ 3   │ X   │ 0   │ 1   │ 2   │ 0   │ 0   │ 1   │ 0   │\n",
      "├────┼─────┼─────┼─────┼─────┼─────┼─────┼─────┼─────┼─────┤\n",
      "│ H  │ 2   │ 1   │ 2   │ 1   │ 2   │ 1   │ 2   │ 1   │ H   │\n",
      "╘════╧═════╧═════╧═════╧═════╧═════╧═════╧═════╧═════╧═════╛\n"
     ]
    }
   ],
   "source": [
    "table = [\n",
    "         [ \"R\" , 2 , 3 , 1 , 1 , 1 , 0 , 0 , \"X\" ],\n",
    "         [ 3 , 3 , 1 , 0 , \"X\" , \"X\" , 0 , 0 , 0 ],\n",
    "         [ 2 , \"X\" , 0 , \"X\" , 0 , 0 , 1 , 1 , 1 ],\n",
    "         [ 0 , 0 , 1 , 0 , 0 , 0 , 1 , \"X\" , 0 ],\n",
    "         [ 0 , 0 , \"X\" , 1 , \"X\" , 1 , 0 , 0 , 0 ],\n",
    "         [ 0 , 1 , 1 , 1 , 0 , 3 , \"X\" , 0 , 1 ],\n",
    "         [ 3 , \"X\" , 0 , 1 , 2 , 0 , 0 , 1 , 0 ],\n",
    "         [ 2 , 1 , 2 , 1 , 2 , 1 , 2 , 1 , \"H\"] ,\n",
    "        ]\n",
    "\n",
    "\n",
    "columns=[\"1\",\"2\",\"3\",\"4\",\"5\",\"6\",\"7\",\"8\",\"9\"]\n",
    "index=pd.Index([\"A\",\"B\",\"C\",\"D\",\"E\",\"F\",\"G\",\"H\"])\n",
    "df=pd.DataFrame(table,columns=columns,index=index)\n",
    "\n",
    "\n",
    "print(tabulate(df, headers=columns, tablefmt='fancy_grid'))\n",
    "#display(HTML(df.to_html()))"
   ]
  },
  {
   "cell_type": "code",
   "execution_count": 22,
   "metadata": {
    "scrolled": false
   },
   "outputs": [
    {
     "ename": "SyntaxError",
     "evalue": "invalid syntax (<ipython-input-22-e9dde1b92104>, line 2)",
     "output_type": "error",
     "traceback": [
      "\u001b[0;36m  File \u001b[0;32m\"<ipython-input-22-e9dde1b92104>\"\u001b[0;36m, line \u001b[0;32m2\u001b[0m\n\u001b[0;31m    print(tabulate(df2, headers=columns, tablefmt='fancy_grid'))\u001b[0m\n\u001b[0m        ^\u001b[0m\n\u001b[0;31mSyntaxError\u001b[0m\u001b[0;31m:\u001b[0m invalid syntax\n"
     ]
    }
   ],
   "source": [
    "df2=pd.DataFrame(num_percorsi(table,len(table),len(table[0]),columns=columns,index=index)\n",
    "print(tabulate(df2, headers=columns, tablefmt='fancy_grid'))"
   ]
  },
  {
   "cell_type": "markdown",
   "metadata": {},
   "source": [
    "Ogni cella senza mina contiene un numero di monetine come rappresentato.\\\n",
    "Quante monetine può raccogliere al massimo il robot?"
   ]
  },
  {
   "cell_type": "markdown",
   "metadata": {},
   "source": [
    "I movimenti base possibili sono il passo verso destra (ad esempio dalla cella A4 alla cella A5) ed il passo verso in basso (ad esempio dalla cella A4 alla cella B4).\\\n",
    "Tuttavia il robot non può visitare le celle occupate da un Pacman (indicate con la X)."
   ]
  },
  {
   "cell_type": "markdown",
   "metadata": {},
   "source": [
    "__Richieste__:"
   ]
  },
  {
   "cell_type": "markdown",
   "metadata": {},
   "source": [
    "1. __\\[10 pts\\]__ Quante monetine può raccogliere al massimo il robot, spostandosi dalla sua posizione iniziale A1 fino a H?"
   ]
  },
  {
   "cell_type": "markdown",
   "metadata": {},
   "source": [
    "2. __\\[10 pts\\]__ E se la partenza è in D4?"
   ]
  },
  {
   "cell_type": "markdown",
   "metadata": {},
   "source": [
    "3. __\\[10 pts\\]__ Quante sono le soluzioni ottime con partenza in D4?"
   ]
  },
  {
   "cell_type": "markdown",
   "metadata": {},
   "source": [
    "4. __\\[10 pts\\]__ E se con partenza in A1 il robot deve giungere in F7?"
   ]
  },
  {
   "cell_type": "markdown",
   "metadata": {},
   "source": [
    "5. __\\[10 pts\\]__ Quante sono le soluzioni ottime con arrivo in F7?"
   ]
  },
  {
   "cell_type": "markdown",
   "metadata": {},
   "source": [
    "6. __\\[10 pts\\]__ E se con partenza in A1 e arrivo in G9 al robot viene richiesto di passare per la cella D4?"
   ]
  },
  {
   "cell_type": "code",
   "execution_count": 21,
   "metadata": {},
   "outputs": [],
   "source": []
  }
 ],
 "metadata": {
  "celltoolbar": "Edit Metadata",
  "hide_input": false,
  "kernelspec": {
   "display_name": "Python 3",
   "language": "python",
   "name": "python3"
  },
  "language_info": {
   "codemirror_mode": {
    "name": "ipython",
    "version": 3
   },
   "file_extension": ".py",
   "mimetype": "text/x-python",
   "name": "python",
   "nbconvert_exporter": "python",
   "pygments_lexer": "ipython3",
   "version": "3.7.7"
  }
 },
 "nbformat": 4,
 "nbformat_minor": 4
}
