{
 "cells": [
  {
   "cell_type": "code",
   "execution_count": 14,
   "metadata": {
    "pycharm": {
     "name": "#%%\n"
    }
   },
   "outputs": [],
   "source": [
    "from IPython.core.display import display, HTML, Markdown\n",
    "import copy\n",
    "\n",
    "n = 20\n",
    "# segue una lista di precedenze della forma [u,v], cl significato che u deve essere schedulato oprima di v.\n",
    "prec_original_instance = [\n",
    "       [0, 1],   # l'attività 0 deve essere schedulata prima dell'attività 1\n",
    "       [0, 4],\n",
    "       [0, 7],\n",
    "       [0, 15],\n",
    "       [0, 18],\n",
    "       [1, 1],\n",
    "       [1, 4],\n",
    "       [1, 7],\n",
    "       [1, 15],\n",
    "       [1, 18],\n",
    "]\n",
    "\n",
    "def visualizza(ordinamento):\n",
    "    # mathplotlib o networkx o ?\n",
    "    # visualizziammo il grafo \n",
    "    # il problem-solver deve rendersi conto di quali archi sono rivolti all'indietro.\n",
    "    pass\n",
    "\n"
   ]
  },
  {
   "cell_type": "markdown",
   "metadata": {},
   "source": [
    "## Esercizio \\[60 pts\\]\n",
    "(CICLI)"
   ]
  },
  {
   "cell_type": "code",
   "execution_count": 15,
   "metadata": {},
   "outputs": [
    {
     "name": "stdout",
     "output_type": "stream",
     "text": [
      "0 0 1 0 1 1 0 1 \n",
      "0 0 1 0 0 1 1 0 \n",
      "1 1 0 1 1 0 0 0 \n",
      "1 1 0 1 0 1 1 0 \n",
      "0 0 1 0 0 1 0 1 \n",
      "1 0 1 0 1 1 0 1 \n"
     ]
    },
    {
     "data": {
      "text/markdown": [
       "Attualmente ci sono <b>24 luci accese</b>."
      ],
      "text/plain": [
       "<IPython.core.display.Markdown object>"
      ]
     },
     "metadata": {},
     "output_type": "display_data"
    }
   ],
   "source": [
    "# Ecco il grafo in input:\n",
    "visualizza()"
   ]
  },
  {
   "cell_type": "markdown",
   "metadata": {},
   "source": [
    "__Richieste__:\n",
    "[15pt] Portati in una configurazione col minor numero possibile di luci accese. Puoi effettuare una mossa alla volta utilizzando le funzioni $flippa\\_riga(indice\\_riga)$ e $flippa\\_colonna(indice\\_colonna)$ per spostarti un pò alla volta fino ad una configurazione che reputi ottima."
   ]
  },
  {
   "cell_type": "code",
   "execution_count": 19,
   "metadata": {
    "pycharm": {
     "name": "#%%\n"
    },
    "scrolled": true
   },
   "outputs": [
    {
     "data": {
      "text/markdown": [
       "Agendo sugli interruttori settati come segue:<br><b>   Interruttori di riga:</b> [0, 0, 1, 1, 0, 0]<br><b>   Interruttori di colonna:</b> [0, 0, 1, 0, 0, 1, 0, 1]"
      ],
      "text/plain": [
       "<IPython.core.display.Markdown object>"
      ]
     },
     "metadata": {},
     "output_type": "display_data"
    },
    {
     "data": {
      "text/markdown": [
       "Ti porti dalla configurazione iniziale riportata in $p$ nella seguente configurazione finale:<br>"
      ],
      "text/plain": [
       "<IPython.core.display.Markdown object>"
      ]
     },
     "metadata": {},
     "output_type": "display_data"
    },
    {
     "name": "stdout",
     "output_type": "stream",
     "text": [
      "0 0 0 0 1 0 0 0 \n",
      "0 0 0 0 0 0 1 1 \n",
      "0 0 0 0 0 0 1 0 \n",
      "0 0 0 0 1 1 0 0 \n",
      "0 0 0 0 0 0 0 0 \n",
      "1 0 0 0 1 0 0 0 \n"
     ]
    },
    {
     "data": {
      "text/markdown": [
       "Attualmente ci sono <b>8 luci accese</b>."
      ],
      "text/plain": [
       "<IPython.core.display.Markdown object>"
      ]
     },
     "metadata": {},
     "output_type": "display_data"
    }
   ],
   "source": [
    "# Certificato di si, HA CICLI NEGATIVI\n",
    "# fornisci sottosequenza di archi\n"
   ]
  },
  {
   "cell_type": "code",
   "execution_count": null,
   "metadata": {},
   "outputs": [],
   "source": [
    "# Certificato di no, fornire peso che fa si che tutti gli archi abbiano un peso positivo\n",
    "# i nodi vanno da 1 a n-1, mettimi il valore da sommare per far si di farmi vedere che tutti i cicli sono positivi\n",
    "\n",
    "lista_pesi=[1 , 5 ,6 , 9, 41]"
   ]
  },
  {
   "cell_type": "code",
   "execution_count": null,
   "metadata": {},
   "outputs": [],
   "source": []
  }
 ],
 "metadata": {
  "celltoolbar": "Edit Metadata",
  "hide_input": false,
  "kernelspec": {
   "display_name": "Python 3",
   "language": "python",
   "name": "python3"
  },
  "language_info": {
   "codemirror_mode": {
    "name": "ipython",
    "version": 3
   },
   "file_extension": ".py",
   "mimetype": "text/x-python",
   "name": "python",
   "nbconvert_exporter": "python",
   "pygments_lexer": "ipython3",
   "version": "3.7.7"
  }
 },
 "nbformat": 4,
 "nbformat_minor": 4
}
