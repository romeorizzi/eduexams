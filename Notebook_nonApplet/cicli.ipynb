{
 "cells": [
  {
   "cell_type": "code",
   "execution_count": 16,
   "metadata": {
    "pycharm": {
     "name": "#%%\n"
    }
   },
   "outputs": [],
   "source": [
    "from IPython.core.display import display, HTML, Markdown\n",
    "import networkx as nx\n",
    "import copy\n",
    "import matplotlib.pyplot as plt\n",
    "import warnings\n",
    "warnings.simplefilter(action='ignore', category=FutureWarning)\n"
   ]
  },
  {
   "cell_type": "code",
   "execution_count": 17,
   "metadata": {},
   "outputs": [],
   "source": [
    "def evaluation_format(answ, pt_green,pt_red):\n",
    "    pt_blue=0\n",
    "    if pt_green!=0:\n",
    "        pt_blue=pt_red-pt_green\n",
    "        pt_red=0\n",
    "    return f\"{answ}. Totalizzeresti <span style='color:green'>[{pt_green} safe pt]</span>, \\\n",
    "                                    <span style='color:blue'>[{pt_blue} possible pt]</span>, \\\n",
    "                                    <span style='color:red'>[{pt_red} out of reach pt]</span>.<br>\"\n",
    "\n",
    "def visualizza(grafo):\n",
    "    #layout grafo\n",
    "    pos=nx.planar_layout(grafo)\n",
    "    #disegna nodi e etichette sui nodi\n",
    "    nx.draw_networkx_nodes(grafo, pos)\n",
    "    nx.draw_networkx_labels(grafo, pos)\n",
    "    #disegna archi e etichette sugli archi\n",
    "    nx.draw_networkx_edges(grafo, pos)\n",
    "    labels = nx.get_edge_attributes(grafo,'w')\n",
    "    nx.draw_networkx_edge_labels(grafo,pos,edge_labels=labels)\n",
    "    plt.show()\n",
    "    \n",
    "def verifica_ciclo_negativo(grafo,node_list):\n",
    "    n=len(node_list)\n",
    "    check = 0\n",
    "    try:\n",
    "        for i in range(1,n):\n",
    "            check += G[node_list[i-1]][node_list[i]]['w']\n",
    "        check += G[node_list[n-1]][node_list[0]]['w']\n",
    "        if check < 0:\n",
    "            return  evaluation_format(\"Si\", 10, 10)+f\"La sequenza di nodi $node_list={node_list}$ che hai fornito contiene un ciclo negativo.\"\n",
    "        else:\n",
    "            evaluation_format(\"No\", 0, 10)+f\"La sequenza di nodi $node_list={node_list}$ che hai fornito NON contiene un ciclo negativo.\"\n",
    "    except:\n",
    "        return evaluation_format(\"No\", 0, 10)+f\"La sequenza di nodi $node_list={node_list}$ che hai fornito non forma un ciclo nel grafo\"\n",
    "    \n",
    "def verifica_presenza_solo_cicli_positivi(grafo, pesi_nodi):\n",
    "    if len(pesi_nodi)!=len(grafo.nodes):\n",
    "        return evaluation_format(\"No\", 0, 10)+f\"La lista che hai fornito dà un peso a ${len(pesi_nodi)}$ nodi, mentre i nodi nel grafo sono ${len(grafo.nodes)}$\"\n",
    "    G=copy.deepcopy(grafo)\n",
    "    for (u,v) in G.edges:\n",
    "        G[u][v]['w'] = G[u][v]['w'] - pesi_nodi[v] + pesi_nodi[u]\n",
    "    visualizza(G)\n",
    "    for (u,v) in G.edges:\n",
    "        if G[u][v]['w'] < 0:\n",
    "            return evaluation_format(\"No\", 0, 10)+f\"Come vedi dal grafo $G'$ sopra rappresentato, ricavato da $G$ con i valori da te inseriti, compare ancora un ciclo negativo\"\n",
    "    return evaluation_format(\"SI\", 10, 10)+f\"Come vedi dal grafo $G'$ sopra rappresentato, ricavato da $G$ con i valori da te inseriti, mi hai dimostrato che in $G$ non sono presenti cicli negativi\""
   ]
  },
  {
   "cell_type": "code",
   "execution_count": 18,
   "metadata": {},
   "outputs": [],
   "source": [
    "#grafo ciclo negativo\n",
    "nodes=[0,1,2,3]\n",
    "edges=[(0,2,{'w': 1}),(2,1,{'w': 1}),(2,3,{'w': 2}),(1,0,{'w': -5}),(1,3,{'w': 1})]\n",
    "G = nx.DiGraph()\n",
    "G.add_nodes_from(nodes)\n",
    "G.add_edges_from(edges)\n",
    "\n",
    "#grafo senza cicli negativi\n",
    "nodes=[0,1,2,3]\n",
    "edges=[(0,2,{'w': -1}),(2,1,{'w': -1}),(2,3,{'w': 2}),(1,0,{'w': 4}),(1,3,{'w': 1})]\n",
    "H = nx.DiGraph()\n",
    "H.add_nodes_from(nodes)\n",
    "H.add_edges_from(edges)\n",
    "\n",
    "#grafo random di test visualizzazione\n",
    "#R=nx.gn_graph(15)"
   ]
  },
  {
   "cell_type": "markdown",
   "metadata": {},
   "source": [
    "## Esercizio \\[60 pts\\]\n",
    "(CICLI) Riconosci cicli se in un grafo è presente un ciclo negativo oppure forniscimi la prova che nel grafo non vi sono cicli negativi"
   ]
  },
  {
   "cell_type": "markdown",
   "metadata": {},
   "source": [
    "Dato il seguente grafo orientato G=(|V|=n,|E|=m) con i nodi etichettati da 0 a n-1 e gli archi pesati, rispondi alle seguenti domande."
   ]
  },
  {
   "cell_type": "code",
   "execution_count": 19,
   "metadata": {},
   "outputs": [
    {
     "data": {
      "text/markdown": [
       "G=(V,E)"
      ],
      "text/plain": [
       "<IPython.core.display.Markdown object>"
      ]
     },
     "metadata": {},
     "output_type": "display_data"
    },
    {
     "data": {
      "text/markdown": [
       "V=[0, 1, 2, 3]"
      ],
      "text/plain": [
       "<IPython.core.display.Markdown object>"
      ]
     },
     "metadata": {},
     "output_type": "display_data"
    },
    {
     "data": {
      "text/markdown": [
       "E=[(0, 2, {'w': 1}), (1, 0, {'w': -5}), (1, 3, {'w': 1}), (2, 1, {'w': 1}), (2, 3, {'w': 2})]"
      ],
      "text/plain": [
       "<IPython.core.display.Markdown object>"
      ]
     },
     "metadata": {},
     "output_type": "display_data"
    },
    {
     "data": {
      "image/png": "[encoded data removed]",
      "text/plain": [
       "<Figure size 432x288 with 1 Axes>"
      ]
     },
     "metadata": {},
     "output_type": "display_data"
    }
   ],
   "source": [
    "# Ecco il grafo in input:\n",
    "display(Markdown(f\"G=(V,E)\"))\n",
    "display(Markdown(f\"V={G.nodes}\"))\n",
    "display(Markdown(f\"E={G.edges.data()}\"))\n",
    "visualizza(G)"
   ]
  },
  {
   "cell_type": "markdown",
   "metadata": {},
   "source": [
    "__Richieste__:"
   ]
  },
  {
   "cell_type": "markdown",
   "metadata": {},
   "source": [
    "1. Forniscimi una lista di vertici che formano un ciclo negativo (rispetta la direzione degli archi)"
   ]
  },
  {
   "cell_type": "code",
   "execution_count": 7,
   "metadata": {
    "pycharm": {
     "name": "#%%\n"
    },
    "scrolled": false
   },
   "outputs": [
    {
     "data": {
      "text/markdown": [
       "Si. Totalizzeresti <span style='color:green'>[10 safe pt]</span>,                                     <span style='color:blue'>[0 possible pt]</span>,                                     <span style='color:red'>[0 out of reach pt]</span>.<br>La sequenza di nodi $node_list=[2, 1, 0]$ che hai fornito contiene un ciclo negativo."
      ],
      "text/plain": [
       "<IPython.core.display.Markdown object>"
      ]
     },
     "metadata": {},
     "output_type": "display_data"
    }
   ],
   "source": [
    "# Certificato di si, HA CICLI NEGATIVI\n",
    "# fornisci sottosequenza di archi\n",
    "\n",
    "ciclo_neg=[2,1,0]\n",
    "display(Markdown(verifica_ciclo_negativo(G,ciclo_neg)))"
   ]
  },
  {
   "cell_type": "code",
   "execution_count": 14,
   "metadata": {},
   "outputs": [
    {
     "data": {
      "image/png": "[encoded data removed]",
      "text/plain": [
       "<Figure size 432x288 with 1 Axes>"
      ]
     },
     "metadata": {},
     "output_type": "display_data"
    },
    {
     "data": {
      "text/markdown": [
       "SI. Totalizzeresti <span style='color:green'>[10 safe pt]</span>,                                     <span style='color:blue'>[0 possible pt]</span>,                                     <span style='color:red'>[0 out of reach pt]</span>.<br>Come vedi dal grafo $G'$ sopra rappresentato, ricavato da $G$ con i valori da te inseriti, mi hai dimostrato che in $G$ non sono presenti cicli negativi"
      ],
      "text/plain": [
       "<IPython.core.display.Markdown object>"
      ]
     },
     "metadata": {},
     "output_type": "display_data"
    }
   ],
   "source": [
    "# Certificato di no, fornire peso che fa si che tutti gli archi abbiano un peso positivo\n",
    "# i nodi vanno da 1 a n-1, mettimi il valore da sommare per far si di farmi vedere che tutti i cicli sono positivi\n",
    "\n",
    "pesi_nodi=[12,8,10,0]\n",
    "display(Markdown(verifica_presenza_solo_cicli_positivi(H,pesi_nodi)))"
   ]
  }
 ],
 "metadata": {
  "celltoolbar": "Edit Metadata",
  "hide_input": false,
  "kernelspec": {
   "display_name": "Python 3",
   "language": "python",
   "name": "python3"
  },
  "language_info": {
   "codemirror_mode": {
    "name": "ipython",
    "version": 3
   },
   "file_extension": ".py",
   "mimetype": "text/x-python",
   "name": "python",
   "nbconvert_exporter": "python",
   "pygments_lexer": "ipython3",
   "version": "3.7.7"
  }
 },
 "nbformat": 4,
 "nbformat_minor": 4
}
