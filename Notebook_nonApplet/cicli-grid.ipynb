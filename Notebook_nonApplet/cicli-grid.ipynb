{
 "cells": [
  {
   "cell_type": "code",
   "execution_count": 28,
   "metadata": {},
   "outputs": [
    {
     "data": {
      "image/png": "[encoded data removed]",
      "text/plain": [
       "<Figure size 720x504 with 1 Axes>"
      ]
     },
     "metadata": {},
     "output_type": "display_data"
    }
   ],
   "source": [
    "edges=[\n",
    "        (0,1,{'w': -7}), #1,0 freccia al contrario\n",
    "        (0,5,{'w': 1}),\n",
    "        (1,2,{'w': 2}),\n",
    "        (1,6,{'w': -5}),\n",
    "        (2,3,{'w': 9}),\n",
    "        (2,7,{'w': 3}),\n",
    "        (3,4,{'w': 7}),\n",
    "        (3,8,{'w': 5}),\n",
    "        (4,9,{'w': -1}),\n",
    "        (5,6,{'w': 11}),\n",
    "        (5,10,{'w': 8}),\n",
    "        (6,7,{'w': 6}),\n",
    "        (6,11,{'w': -2}),\n",
    "        (7,8,{'w': -7}),\n",
    "        (7,12,{'w': -17}),\n",
    "        (8,9,{'w': 12}),\n",
    "        (8,13,{'w': 19}),\n",
    "        (9,14,{'w': 3}),\n",
    "        (10,11,{'w': -9}),\n",
    "        (10,15,{'w': -1}),\n",
    "        (11,12,{'w': -1}),\n",
    "        (11,16,{'w': -1}),\n",
    "        (12,13,{'w': 7}),\n",
    "        (12,17,{'w': -5}),\n",
    "        (13,14,{'w': 11}),\n",
    "        (13,18,{'w': 18}),\n",
    "        (14,19,{'w': -9}),    \n",
    "        (15,16,{'w': -9}),\n",
    "        (15,20,{'w': -1}),\n",
    "        (16,17,{'w': -1}),\n",
    "        (16,21,{'w': -1}),\n",
    "        (17,18,{'w': 7}),\n",
    "        (17,22,{'w': -5}),\n",
    "        (18,19,{'w': 11}),\n",
    "        (18,23,{'w': 18}),\n",
    "        (19,24,{'w': -9}),\n",
    "        (20,21,{'w': -5}),\n",
    "        (21,22,{'w': 11}),\n",
    "        (22,23,{'w': 18}),\n",
    "        (23,24,{'w': -9})\n",
    "        ]\n",
    "\n",
    "#G=nx.grid_2d_graph(5,5)\n",
    "#pos = dict( (n, n) for n in G.nodes() )\n",
    "#labels = dict( ((i, j), i * 5 + j) for i, j in G.nodes() )\n",
    "#G.add_edges_from(edges)\n",
    "#nx.draw_networkx(G, pos=pos, labels=labels)\n",
    "\n",
    "H\n",
    "\n",
    "plt.axis('off')\n",
    "plt.show()"
   ]
  },
  {
   "cell_type": "code",
   "execution_count": 11,
   "metadata": {
    "pycharm": {
     "name": "#%%\n"
    }
   },
   "outputs": [],
   "source": [
    "from IPython.core.display import display, HTML, Markdown\n",
    "import networkx as nx\n",
    "import copy\n",
    "import matplotlib.pyplot as plt\n",
    "import warnings\n",
    "warnings.simplefilter(action='ignore', category=FutureWarning)\n",
    "plt.rcParams[\"figure.figsize\"] = (10,7)\n"
   ]
  },
  {
   "cell_type": "code",
   "execution_count": null,
   "metadata": {},
   "outputs": [],
   "source": [
    "def evaluation_format(answ, pt_green,pt_red):\n",
    "    pt_blue=0\n",
    "    if pt_green!=0:\n",
    "        pt_blue=pt_red-pt_green\n",
    "        pt_red=0\n",
    "    return f\"{answ}. Totalizzeresti <span style='color:green'>[{pt_green} safe pt]</span>, \\\n",
    "                                    <span style='color:blue'>[{pt_blue} possible pt]</span>, \\\n",
    "                                    <span style='color:red'>[{pt_red} out of reach pt]</span>.<br>\"\n",
    "\n",
    "def Latex_type(string):\n",
    "    return string.replace(\"_\", \"\\_\")\n",
    "\n",
    "def visualizza(grafo):\n",
    "    #layout grafo\n",
    "    pos=nx.planar_layout(grafo)\n",
    "    #pos=nx.spring_layout(grafo)\n",
    "    #disegna nodi e etichette sui nodi\n",
    "    nx.draw_networkx_nodes(grafo, pos, alpha=0.6) #node_color='cyan',\n",
    "    nx.draw_networkx_labels(grafo, pos)\n",
    "    #disegna archi e etichette sugli archi\n",
    "    positive=[(u,v) for (u,v,d) in grafo.edges(data=True) if d['w'] >= 0]\n",
    "    negative=[(u,v) for (u,v,d) in grafo.edges(data=True) if d['w'] < 0]\n",
    "    \n",
    "    \n",
    "    nx.draw_networkx_edges(grafo,pos,edgelist=positive,width=2,alpha = 0.6,edge_color = \"g\",arrows=True)\n",
    "    nx.draw_networkx_edges(grafo,pos,edgelist=negative,width=2,alpha = 0.6,edge_color = \"r\",arrows=True)\n",
    "    \n",
    "    labels = nx.get_edge_attributes(grafo,'w')\n",
    "    nx.draw_networkx_edge_labels(grafo,pos,edge_labels=labels)\n",
    "    #nx.draw_networkx_edges(grafo, pos)\n",
    "    #labels = nx.get_edge_attributes(grafo,'w')\n",
    "    #nx.draw_networkx_edge_labels(grafo,pos,edge_labels=labels)\n",
    "    plt.show()\n",
    "    \n",
    "def visualizza_icosaedro(grafo):\n",
    "    front_face = [15, 16, 17, 18, 19]\n",
    "    back_face = [0, 1, 2, 3, 4]\n",
    "    middle = list(set(range(20)).difference(front_face + back_face))\n",
    "    shells = [front_face] + [middle] + [back_face]\n",
    "    pos = nx.shell_layout(grafo, shells)\n",
    "    #nx.draw_networkx(icosaedro, pos)\n",
    "    nx.draw_networkx_nodes(grafo, pos, alpha=0.6) #node_color='cyan',\n",
    "    nx.draw_networkx_labels(grafo, pos)\n",
    "    #disegna archi e etichette sugli archi\n",
    "    positive=[(u,v) for (u,v,d) in grafo.edges(data=True) if d['w'] >= 0]\n",
    "    negative=[(u,v) for (u,v,d) in grafo.edges(data=True) if d['w'] < 0]\n",
    "    \n",
    "    \n",
    "    nx.draw_networkx_edges(grafo,pos,edgelist=positive,width=2,alpha = 0.6,edge_color = \"g\",arrows=True)\n",
    "    nx.draw_networkx_edges(grafo,pos,edgelist=negative,width=2,alpha = 0.6,edge_color = \"r\",arrows=True)\n",
    "    \n",
    "    labels = nx.get_edge_attributes(grafo,'w')\n",
    "    nx.draw_networkx_edge_labels(grafo,pos,edge_labels=labels)\n",
    "    ax = plt.gca()\n",
    "    ax.set_aspect('equal')\n",
    "    ax.set_axis_off()\n",
    "    \n",
    "def verifica_ciclo_negativo(grafo,node_list, return_only_boolean=False):\n",
    "    n=len(node_list)\n",
    "    check = 0\n",
    "    try:\n",
    "        for i in range(1,n):\n",
    "            check = check + grafo[node_list[i-1]][node_list[i]]['w']\n",
    "        check = check + grafo[node_list[n-1]][node_list[0]]['w']\n",
    "        if check < 0:\n",
    "            if return_only_boolean==False:\n",
    "                visualizza_icosaedro(grafo)\n",
    "            if return_only_boolean:\n",
    "                return True\n",
    "            return  evaluation_format(\"Si\", 10, 10)+f\"Mi hai convinto! La sequenza di nodi $node\\_list={node_list}$  che hai fornito descrive effettivamente un ciclo negativo.\"\n",
    "        else:\n",
    "            if return_only_boolean:\n",
    "                return False\n",
    "            evaluation_format(\"No\", 0, 10)+f\"La sequenza di nodi $node\\_list={node_list}$ che hai fornito NON descrive un ciclo negativo.\"\n",
    "    except:\n",
    "        if return_only_boolean:\n",
    "            return False\n",
    "        return evaluation_format(\"No\", 0, 10)+f\"La sequenza di nodi $node\\_list={node_list}$ che hai fornito non forma un ciclo nel grafo\"\n",
    "    \n",
    "def verifica_presenza_solo_cicli_positivi(grafo, pesi_nodi, return_only_boolean=False):\n",
    "    if len(pesi_nodi)!=len(grafo.nodes):\n",
    "        if return_only_boolean:\n",
    "            return False\n",
    "        return evaluation_format(\"No\", 0, 10)+f\"La lista che hai fornito dà un peso a ${len(pesi_nodi)}$ nodi, mentre i nodi nel grafo sono ${len(grafo.nodes)}$\"\n",
    "    G=copy.deepcopy(grafo)\n",
    "    for (u,v) in G.edges:\n",
    "        G[u][v]['w'] = G[u][v]['w'] - pesi_nodi[v] + pesi_nodi[u]\n",
    "    if return_only_boolean==False:\n",
    "        visualizza_icosaedro(G)\n",
    "    for (u,v) in G.edges:\n",
    "        if G[u][v]['w'] < 0:\n",
    "            if return_only_boolean:\n",
    "                return False\n",
    "            return evaluation_format(\"No\", 0, 10)+f\"Come vedi il grafo pesato $(𝐺, w'_2)$ NON è conservativo in quanto la pesatura $w'_2$ è negativa su almeno un arco, dove il peso /ridotto' $w'_2[(u,v)] := w_2[(u,v)] -pot[v] + pot[u]$ per ogni arco $(u,v)$ di $G$. Chiaramente $(𝐺, w'_2)$ è conservativo se e solo se $(𝐺, w_2)$ è conservativo dato che $\\sum_\"\"{(u,v) \\in C\"\"} w'_2[(u,v)] = \\sum_\"\"{(u,v) \\in C\"\"} w_2[(u,v)]$ per ogni ciclo di $G$ e, più in generale, $\\sum_\"\"{(u,v) \\in P\"\"} w'_2[(u,v)] = \\sum_\"\"{(u,v) \\in P\"\"} w_2[(u,v)] -pot[t] +pot[s]$ per ogni cammino $P$ che vada da un nodo $s$ ad un nodo $t$.\"\n",
    "    if return_only_boolean:\n",
    "        return True\n",
    "    return evaluation_format(\"SI\", 10, 10)+f\"Come vedi il grafo pesato $(𝐺, w'_2)$ è certamente conservativo in quanto la pesatura $w'_2$ non è negativa su alcun arco, dove il peso /ridotto' $w'_2[(u,v)] := w_2[(u,v)] -pot[v] + pot[u]$ per ogni arco $(u,v)$ di $G$. Chiaramente $(𝐺, w'_2)$ è conservativo se e solo se $(𝐺, w_2)$ è conservativo dato che $\\sum_\"\"{(u,v) \\in C\"\"} w'_2[(u,v)] = \\sum_\"\"{(u,v) \\in C\"\"} w_2[(u,v)]$ per ogni ciclo di $G$ e, più in generale, $\\sum_\"\"{(u,v) \\in P\"\"} w'_2[(u,v)] = \\sum_\"\"{(u,v) \\in P\"\"} w_2[(u,v)] -pot[t] +pot[s]$ per ogni cammino $P$ che vada da un nodo $s$ ad un nodo $t$.\""
   ]
  },
  {
   "cell_type": "code",
   "execution_count": null,
   "metadata": {},
   "outputs": [],
   "source": [
    "#Unit test\n",
    "#grafo ciclo negativo\n",
    "nodes=[0,1,2,3]\n",
    "edges=[(0,2,{'w': 1}),(2,1,{'w': 1}),(2,3,{'w': 2}),(1,0,{'w': -5}),(1,3,{'w': 1})]\n",
    "G = nx.DiGraph()\n",
    "G.add_nodes_from(nodes)\n",
    "G.add_edges_from(edges)\n",
    "\n",
    "#grafo senza cicli negativi\n",
    "nodes=[0,1,2,3]\n",
    "edges=[(0,2,{'w': -1}),(2,1,{'w': -1}),(2,3,{'w': 2}),(1,0,{'w': 4}),(1,3,{'w': 1})]\n",
    "H = nx.DiGraph()\n",
    "H.add_nodes_from(nodes)\n",
    "H.add_edges_from(edges)\n",
    "\n",
    "assert(verifica_ciclo_negativo(G,[0,2,1],True)==True)\n",
    "assert(verifica_ciclo_negativo(G,[3,2,1],True)==False)\n",
    "assert(verifica_presenza_solo_cicli_positivi(H,[12,8,10,0],True)==True)"
   ]
  },
  {
   "cell_type": "code",
   "execution_count": null,
   "metadata": {},
   "outputs": [],
   "source": [
    "nodes=[(0+i) for i in range(20)]\n",
    "edges=[\n",
    "        (0,1,{'w': -7}), #1,0 freccia al contrario\n",
    "        (1,2,{'w': 1}),\n",
    "        (2,3,{'w': 2}),\n",
    "        (0,4,{'w': -5}),\n",
    "        (4,3,{'w': 9}),\n",
    "        (5,0,{'w': 3}),\n",
    "        (1,7,{'w': 7}),\n",
    "        (2,9,{'w': 5}),\n",
    "        (11,3,{'w': -1}),\n",
    "        (13,4,{'w': 11}),\n",
    "        (14,13,{'w': 8}),\n",
    "        (13,12,{'w': 6}),\n",
    "        (11,12,{'w': -2}),\n",
    "        (10,11,{'w': -7}),\n",
    "        (9,10,{'w': -17}),\n",
    "        (8,9,{'w': 12}),\n",
    "        (8,7,{'w': 19}),\n",
    "        (6,7,{'w': 3}),\n",
    "        (14,5,{'w': -9}),\n",
    "        (5,6,{'w': -1}),\n",
    "        (6,15,{'w': -1}),\n",
    "        (16,8,{'w': -1}),\n",
    "        (2,3,{'w': 7}),\n",
    "        (10,17,{'w': -5}),\n",
    "        (12,18,{'w': 11}),\n",
    "        (19,14,{'w': 18}),\n",
    "        (17,16,{'w': -9}),\n",
    "        (16,15,{'w': 10}),\n",
    "        (19,15,{'w': 1}),\n",
    "        (18,19,{'w': 19}),\n",
    "        (18,17,{'w': -23})\n",
    "        \n",
    "        ]\n",
    "icosaedro_1=nx.DiGraph()\n",
    "icosaedro_1.add_nodes_from(nodes)\n",
    "icosaedro_1.add_edges_from(edges)\n",
    "\n",
    "nodes=[(0+i) for i in range(20)]\n",
    "edges=[\n",
    "        (0,1,{'w': -7}), #1,0 freccia al contrario\n",
    "        (1,2,{'w': 1}),\n",
    "        (2,3,{'w': 2}),\n",
    "        (0,4,{'w': -5}),\n",
    "        (4,3,{'w': 9}),\n",
    "        (5,0,{'w': 3}),\n",
    "        (1,7,{'w': 7}),\n",
    "        (2,9,{'w': 5}),\n",
    "        (11,3,{'w': -1}),\n",
    "        (13,4,{'w': 11}),\n",
    "        (14,13,{'w': 8}),\n",
    "        (13,12,{'w': 6}),\n",
    "        (11,12,{'w': -2}),\n",
    "        (10,11,{'w': -7}),\n",
    "        (9,10,{'w': -17}),\n",
    "        (8,9,{'w': 120}),\n",
    "        (8,7,{'w': 19}),\n",
    "        (6,7,{'w': 3}),\n",
    "        (14,5,{'w': -9}),\n",
    "        (5,6,{'w': -1}),\n",
    "        (6,15,{'w': -1}),\n",
    "        (16,8,{'w': -1}),\n",
    "        (2,3,{'w': 7}),\n",
    "        (10,17,{'w': -5}),\n",
    "        (12,18,{'w': 11}),\n",
    "        (19,14,{'w': 18}),\n",
    "        (17,16,{'w': -9}),\n",
    "        (16,15,{'w': 10}),\n",
    "        (19,15,{'w': 1}),\n",
    "        (18,19,{'w': 19}),\n",
    "        (18,17,{'w': -23})\n",
    "        \n",
    "        ]\n",
    "icosaedro_2=nx.DiGraph()\n",
    "icosaedro_2.add_nodes_from(nodes)\n",
    "icosaedro_2.add_edges_from(edges)\n",
    "\n",
    "from networkx import grid_graph\n",
    "G = grid_graph(dim=[2, 3])\n"
   ]
  },
  {
   "cell_type": "markdown",
   "metadata": {},
   "source": [
    "## Esercizio \\[N pts\\]\n",
    "(Bellman-Ford) Un grafo diretto pesato con numeri interi sugli archi è detto conservativo se non contiene alcun ciclo negativo.\\\n",
    "Un ciclo è considerato negativo se è negativa la somma dei pesi dei suoi archi. \\\n",
    "Questo esercizio ti chiede di riconoscere se un grafo $G$ diretto e pesato a tè assegnato è conservativo oppure no, esprimendo il certificato del caso (o una sequenza ciclica di nodi che indichi il ciclo negativo od un numero intero $pot$ per ogni nodo tale che valga $pot[v] \\leq pot[u] + peso[(u,v)]$ per ogni arco $(u,v)$). \\\n",
    "In realtà ti forniremo due diverse istanze di questo problema (due diverse pesature $w_1$ e $w_2$ di un stesso grafo diretto $G=(V,A)$) e ti chiederemo di stabilire quale delle due offra un grafo conservativo e quale no."
   ]
  },
  {
   "cell_type": "code",
   "execution_count": null,
   "metadata": {
    "scrolled": false
   },
   "outputs": [],
   "source": [
    "display(Markdown(f\"Ecco la prima versione del grafo con la pesatura $w_1$:\"))\n",
    "visualizza_icosaedro(icosaedro_1)"
   ]
  },
  {
   "cell_type": "code",
   "execution_count": null,
   "metadata": {
    "scrolled": false
   },
   "outputs": [],
   "source": [
    "display(Markdown(f\"Ecco la seconda versione del grafo con la pesatura $w_2$:\"))\n",
    "visualizza_icosaedro(icosaedro_2)"
   ]
  },
  {
   "cell_type": "markdown",
   "metadata": {},
   "source": [
    "__Richieste__:"
   ]
  },
  {
   "cell_type": "markdown",
   "metadata": {},
   "source": [
    "1. Individua quali tra le due pesature $w_1$ e $w_2$ contiene un cilo negativo.\\\n",
    "Forniscimi una lista di vertici che formano un ciclo negativo (rispetta la direzione degli archi)."
   ]
  },
  {
   "cell_type": "code",
   "execution_count": null,
   "metadata": {
    "pycharm": {
     "name": "#%%\n"
    },
    "scrolled": false
   },
   "outputs": [],
   "source": [
    "#passa come parametri alla funzione verifica_ciclo_negativo il grafo che contiene il ciclo negativo (icosaedro_1\n",
    "#se pensi sia quello con la pesatura w1 oppure icosaedro_2 se pensi sia quello con la pesatuta w2) e la lista che \n",
    "#contiene i vertici che formano il ciclo negativo\n",
    "\n",
    "ciclo_neg=[8,9,10,17,16]\n",
    "display(Markdown(verifica_ciclo_negativo(icosaedro_1,ciclo_neg)))"
   ]
  },
  {
   "cell_type": "markdown",
   "metadata": {},
   "source": [
    "2. Forniscimi un certificato che nel grafo G non esista un ciclo negativo.\\\n",
    "  Per fare questo forniscimi una lista con i pesi da dare ai nodi (da 0 a n-1) in modo che il grafo G' derivato     dal grafo G applicando i pesi sui nodi dimostri la presenza di soli cicli positivi."
   ]
  },
  {
   "cell_type": "code",
   "execution_count": null,
   "metadata": {},
   "outputs": [],
   "source": [
    "# Certificato di no, fornire peso che fa si che tutti gli archi abbiano un peso positivo\n",
    "# i nodi vanno da 1 a n-1, mettimi il valore da sommare per far si di farmi vedere che tutti i cicli sono positivi\n",
    "\n",
    "pesi_nodi=[8,0,0,-27,0,6,2,-33,-52,0,-18,-25,-30,0,15,-41,-51,-42,-19,0]\n",
    "display(Markdown(verifica_presenza_solo_cicli_positivi(icosaedro_2,pesi_nodi)))"
   ]
  },
  {
   "cell_type": "markdown",
   "metadata": {},
   "source": [
    "Hint: nel caso avessi dei dubbi nello svolgimento degli esercizi precedenti puoi visualizzare i seguenti link che ti aiuteranno a comprendere meglio il problema.\n",
    "\n",
    "https://en.wikipedia.org/wiki/Bellman%E2%80%93Ford_algorithm"
   ]
  },
  {
   "cell_type": "code",
   "execution_count": null,
   "metadata": {},
   "outputs": [],
   "source": []
  }
 ],
 "metadata": {
  "celltoolbar": "Edit Metadata",
  "hide_input": false,
  "kernelspec": {
   "display_name": "Python 3",
   "language": "python",
   "name": "python3"
  },
  "language_info": {
   "codemirror_mode": {
    "name": "ipython",
    "version": 3
   },
   "file_extension": ".py",
   "mimetype": "text/x-python",
   "name": "python",
   "nbconvert_exporter": "python",
   "pygments_lexer": "ipython3",
   "version": "3.7.7"
  }
 },
 "nbformat": 4,
 "nbformat_minor": 4
}
