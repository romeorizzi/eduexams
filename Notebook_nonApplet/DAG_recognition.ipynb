{
 "cells": [
  {
   "cell_type": "code",
   "execution_count": 14,
   "metadata": {
    "pycharm": {
     "name": "#%%\n"
    }
   },
   "outputs": [],
   "source": [
    "from IPython.core.display import display, HTML, Markdown\n",
    "import copy\n",
    "\n",
    "n = 20\n",
    "# segue una lista di precedenze della forma [u,v], cl significato che u deve essere schedulato oprima di v.\n",
    "prec_original_instance = [\n",
    "       [0, 1],   # l'attività 0 deve essere schedulata prima dell'attività 1\n",
    "       [0, 4],\n",
    "       [0, 7],\n",
    "       [0, 15],\n",
    "       [0, 18],\n",
    "       [1, 1],\n",
    "       [1, 4],\n",
    "       [1, 7],\n",
    "       [1, 15],\n",
    "       [1, 18],\n",
    "]\n",
    "\n",
    "def visualizza(ordinamento):\n",
    "    # mathplotlib o networkx o ?\n",
    "    # visualizziammo il grafo coi nodi sulla linea nelle posizioni specificate da ordinamento e gli archi che fanno panza per poterli vedere\n",
    "    # il problem-solver deve rendersi conto di quali archi sono rivolti all'indietro.\n",
    "    pass\n",
    "\"\"\"\n",
    "    num_back = 0;\n",
    "    for r in range(len(p)):\n",
    "        for c in range(len(p[0])):\n",
    "            print(p[r][c],end=\" \")\n",
    "            num_back += p[r][c]\n",
    "        print()\n",
    "    display(Markdown(f\"Attualmente ci sono <b>{num_back} archi rivolti all'indietro (precedenze non rispettate)</b>.\"))\n",
    "\"\"\"    \n",
    "    \n",
    "def visualizza_lo_stato_che_si_ottiene_con_gli_interruttori_impostati(agisci_riga, agisci_col):\n",
    "    new_p = copy.deepcopy(p_original_instance)\n",
    "    num_accese = 0;\n",
    "    for r in range(len(agisci_riga)):\n",
    "        for c in range(len(agisci_col)):\n",
    "            if (agisci_riga[r] + agisci_col[c]) % 2 != 0:\n",
    "                new_p[r][c] = 1-new_p[r][c]\n",
    "                num_accese += new_p[r][c] \n",
    "    display(Markdown(f\"Agendo sugli interruttori settati come segue:<br><b>   Interruttori di riga:</b> {agisci_riga}<br><b>   Interruttori di colonna:</b> {agisci_col}\"))\n",
    "    display(Markdown(f\"Ti porti dalla configurazione iniziale riportata in $p$ nella seguente configurazione finale:<br>\"))\n",
    "    visualizza(new_p)\n"
   ]
  },
  {
   "cell_type": "markdown",
   "metadata": {},
   "source": [
    "## Esercizio \\[60 pts\\]\n",
    "(pirellone) Partendo dalla seguente matrice di $m\\times n$ valori booleani (acceso/spento), utilizza quelle che credi delle $m+n$ mosse che invertono tutta una riga oppure tutta una colonna. Il tuo scopo è minimizzare il numero di luci che trovi accese alla fine."
   ]
  },
  {
   "cell_type": "code",
   "execution_count": 15,
   "metadata": {},
   "outputs": [
    {
     "name": "stdout",
     "output_type": "stream",
     "text": [
      "0 0 1 0 1 1 0 1 \n",
      "0 0 1 0 0 1 1 0 \n",
      "1 1 0 1 1 0 0 0 \n",
      "1 1 0 1 0 1 1 0 \n",
      "0 0 1 0 0 1 0 1 \n",
      "1 0 1 0 1 1 0 1 \n"
     ]
    },
    {
     "data": {
      "text/markdown": [
       "Attualmente ci sono <b>24 luci accese</b>."
      ],
      "text/plain": [
       "<IPython.core.display.Markdown object>"
      ]
     },
     "metadata": {},
     "output_type": "display_data"
    }
   ],
   "source": [
    "# Ecco il pirellone in input:\n",
    "visualizza(p)"
   ]
  },
  {
   "cell_type": "markdown",
   "metadata": {},
   "source": [
    "__Richieste__:\n",
    "[15pt] Portati in una configurazione col minor numero possibile di luci accese. Puoi effettuare una mossa alla volta utilizzando le funzioni $flippa\\_riga(indice\\_riga)$ e $flippa\\_colonna(indice\\_colonna)$ per spostarti un pò alla volta fino ad una configurazione che reputi ottima."
   ]
  },
  {
   "cell_type": "code",
   "execution_count": 19,
   "metadata": {
    "pycharm": {
     "name": "#%%\n"
    },
    "scrolled": true
   },
   "outputs": [
    {
     "data": {
      "text/markdown": [
       "Agendo sugli interruttori settati come segue:<br><b>   Interruttori di riga:</b> [0, 0, 1, 1, 0, 0]<br><b>   Interruttori di colonna:</b> [0, 0, 1, 0, 0, 1, 0, 1]"
      ],
      "text/plain": [
       "<IPython.core.display.Markdown object>"
      ]
     },
     "metadata": {},
     "output_type": "display_data"
    },
    {
     "data": {
      "text/markdown": [
       "Ti porti dalla configurazione iniziale riportata in $p$ nella seguente configurazione finale:<br>"
      ],
      "text/plain": [
       "<IPython.core.display.Markdown object>"
      ]
     },
     "metadata": {},
     "output_type": "display_data"
    },
    {
     "name": "stdout",
     "output_type": "stream",
     "text": [
      "0 0 0 0 1 0 0 0 \n",
      "0 0 0 0 0 0 1 1 \n",
      "0 0 0 0 0 0 1 0 \n",
      "0 0 0 0 1 1 0 0 \n",
      "0 0 0 0 0 0 0 0 \n",
      "1 0 0 0 1 0 0 0 \n"
     ]
    },
    {
     "data": {
      "text/markdown": [
       "Attualmente ci sono <b>8 luci accese</b>."
      ],
      "text/plain": [
       "<IPython.core.display.Markdown object>"
      ]
     },
     "metadata": {},
     "output_type": "display_data"
    }
   ],
   "source": [
    "# Ordina le attività in modo da minimizzare il numero di precedenze non rispettate.\n",
    "# Le attività sono rappresentate dai numeri compresi da 0 a n-1\n",
    "\n",
    "lista_da_sinistra_a_destra = [4, 7, 2, 0, 11, 5, 19, 18, 6, 17, 14, 16, 3, 1, 9, 13, 8, ]\n",
    "\n",
    "\n",
    "visualizza_e valuta_le_precedenze_non_rispettate(lista_da_sinistra_a_destra)"
   ]
  },
  {
   "cell_type": "code",
   "execution_count": null,
   "metadata": {},
   "outputs": [],
   "source": [
    "# Riesci a fornire un ordinamento delle attività che rispetti ogni precedenza?\n",
    "# In caso affermativo riponi le attività entro una lista disposti secondo tale ordine.\n",
    "# Le attività sono rappresentate dai numeri compresi da 0 a n-1\n",
    "\n",
    "lista_ordinata = [\n",
    "    4, 7, 2, 0, 11, 5, 19, 18, 6, 17, 14, 16, 3, 1, 9, 13, 8\n",
    "]\n",
    "\n",
    "\n",
    "verifica_il_rispetto_delle_precedenze(lista_ordinata)"
   ]
  },
  {
   "cell_type": "code",
   "execution_count": null,
   "metadata": {},
   "outputs": [],
   "source": [
    "# Riesci a fornire una sequenza ciclica S di attività tale che se a precede immediatemente b in S allora [a,b] è una precedenza richiesta.\n",
    "# Nota: per sequenza ciclica intendiamo che, dove s e t siano il primo e l'ultimo elemento nella sequenza allora noi si possa dire che t precede immediatemente s. \n",
    "\n",
    "ciclo_di precedenze = [\n",
    "    4, 7, 2, 0, 11, 5, 19, 18, 6, 17, 14, 16, 3, 1, 9, 13, 8\n",
    "]\n",
    "\n",
    "\n",
    "verifica_il_rispetto_delle_precedenze(lista_ordinata)"
   ]
  },
  {
   "cell_type": "code",
   "execution_count": null,
   "metadata": {},
   "outputs": [],
   "source": [
    "__Richieste__:\n",
    "[15pt] Portati in una configurazione col minor numero possibile di luci accese. Puoi effettuare una mossa alla volta utilizzando le funzioni $flippa\\_riga(indice\\_riga)$ e $flippa\\_colonna(indice\\_colonna)$ per spostarti un pò alla volta fino ad una configurazione che reputi ottima."
   ]
  },
  {
   "cell_type": "markdown",
   "metadata": {},
   "source": [
    "[30pt]\n",
    "Nel quadro sotto, fornisci argomenti conclusivi per certificare che non è possibile spegnere un numero maggiore di celle. Faccio presente che questo problema di ottimizzazione non è noto essere in P e pertanto, ove fosse NP-hard, resterebbe allora inesauribile spazio alla tua creatività nel produrre questi argomenti.\n"
   ]
  },
  {
   "cell_type": "code",
   "execution_count": null,
   "metadata": {},
   "outputs": [],
   "source": []
  },
  {
   "cell_type": "markdown",
   "metadata": {
    "pycharm": {
     "name": "#%%\n"
    }
   },
   "source": [
    "Si considerino le seguenti $8$ matrici cattive $2\\times 2$ (e si noti che non hanno alcuna cella in comune):\n",
    "    \n",
    "    righe: 5,4 colonne: 0,1\n",
    "    righe: 5,4 colonne: 4,2\n",
    "    righe: 3,2 colonne: 4,3\n",
    "    righe: 3,2 colonne: 5,2\n",
    "    righe: 2,3 colonne: 6,7\n",
    "    righe: 1,2 colonne: 6,1\n",
    "    righe: 1,2 colonne: 7,2\n",
    "    righe: 0,1 colonne: 4,3\n",
    "        \n",
    "Osserviamo infine, cosa che rende il nostro certificato ancora più piacevole e magico, che ogni luce che abbiamo lasciato accesa nella soluzione sopra data trova posto in precisamente una delle $8$ sottomatrici $2\\times 2$ quì listate (abbiamo avuto cura di porre per prima la riga e la colonna dell'unico $1$ in ciascuna di queste matrici). Valgono cioè quì, almeno su questa istanza, le condizioni degli scarti complementari.\n",
    "Si potrebbe sperare di mettere il problema in P (ma ricordo che un tempo, che mi era stato chiesto, ero riuscito a dare una qualche dimostrazione che mi pareva convincermi dell'NP-hardness di questo problema di ottimizzazione)."
   ]
  },
  {
   "cell_type": "code",
   "execution_count": null,
   "metadata": {},
   "outputs": [],
   "source": []
  }
 ],
 "metadata": {
  "celltoolbar": "Edit Metadata",
  "hide_input": false,
  "kernelspec": {
   "display_name": "Python 3",
   "language": "python",
   "name": "python3"
  },
  "language_info": {
   "codemirror_mode": {
    "name": "ipython",
    "version": 3
   },
   "file_extension": ".py",
   "mimetype": "text/x-python",
   "name": "python",
   "nbconvert_exporter": "python",
   "pygments_lexer": "ipython3",
   "version": "3.7.7"
  }
 },
 "nbformat": 4,
 "nbformat_minor": 4
}
