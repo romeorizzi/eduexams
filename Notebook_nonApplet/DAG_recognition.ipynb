{
 "cells": [
  {
   "cell_type": "code",
   "execution_count": 15,
   "metadata": {},
   "outputs": [],
   "source": [
    "from IPython.core.display import display, HTML, Markdown\n",
    "import copy\n",
    "import numpy as np\n",
    "import matplotlib.pyplot as plt\n",
    "from networkx import nx\n",
    "\n",
    "n = 20\n",
    "# segue una lista di precedenze della forma [u,v], cl significato che u deve essere schedulato oprima di v.\n",
    "prec_original_instance = [\n",
    "       [7,4],\n",
    "       [0, 1],   # l'attività 0 deve essere schedulata prima dell'attività 1\n",
    "       [0, 4],\n",
    "       [0, 7],\n",
    "       [0, 15],\n",
    "       [0, 18],\n",
    "       [1, 1],\n",
    "       [1, 4],\n",
    "       [1, 7],\n",
    "       [1, 15],\n",
    "       [1, 18],\n",
    "       [18,0],\n",
    "]"
   ]
  },
  {
   "cell_type": "code",
   "execution_count": 10,
   "metadata": {
    "pycharm": {
     "name": "#%%\n"
    }
   },
   "outputs": [],
   "source": [
    "\n",
    "def visualizza_e_valuta_le_precedenze_non_rispettate(soluzione_problem_solver,silent=False):\n",
    "    #controllo sulla lunghezza della lista fornita\n",
    "    if(len(soluzione_problem_solver)!=n):\n",
    "        #modifcare l'output, dire di che lunghezza voglio la lista e di che lunghezza l'ha data lui\n",
    "        if(silent):\n",
    "            return 0\n",
    "        else:\n",
    "            return \"hai fornito una soluzione di lungezza \"+len(soluzione_problem_solver) + \", \\\n",
    "                    dovresti fornirla di lunghezza \"+n\n",
    "    \n",
    "    check=np.zeros(len(soluzione_problem_solver))\n",
    "    #incremento la posizione soluzione_problem_solver[i] di uno , se sono inseriti tutti correttamente avrò\n",
    "    #un array di soli 1\n",
    "    for i in range(len(soluzione_problem_solver)):\n",
    "        try:\n",
    "            check[soluzione_problem_solver[i]]=check[soluzione_problem_solver[i]]+1\n",
    "        except:\n",
    "            if(silent):\n",
    "                return 0\n",
    "            else:\n",
    "                return \"hai inserito l'attività \"+soluzione_problem_solver[i]+\", ti ricordo che le attività \\\n",
    "                        vanno da 0 a \" + n-1 \n",
    "                    \n",
    "    \n",
    "    contatore_errori=0\n",
    "    \n",
    "    #la lista contiene una e una volta sola tutti gli elementi\n",
    "    if(np.all((check == 1))):\n",
    "        for element in prec_original_instance:\n",
    "            indice1=soluzione_problem_solver.index(element[0])\n",
    "            indice2=soluzione_problem_solver.index(element[1])\n",
    "            if(indice1>indice2):\n",
    "                contatore_errori=contatore_errori+1\n",
    "        if(contatore_errori==0):\n",
    "            if(silent):\n",
    "                return 1\n",
    "            else:\n",
    "                return \"hai rispettato tutte le precedenze\"\n",
    "        else:\n",
    "            if(silent):\n",
    "                return 0\n",
    "            else:\n",
    "                return \"non hai rispettato \"+str(contatore_errori)+\" precedenze \"\n",
    "        \n",
    "    #manca un elemento e/o un elemento viene ripetuto più di una volta\n",
    "    else:\n",
    "        if(silent):\n",
    "            return 0\n",
    "        else:\n",
    "            return \"l'array NON contiene tutte le attività\"\n",
    "    \n",
    "    \n",
    "\n",
    "def visualizza(ordinamento):\n",
    "    G = nx.DiGraph()\n",
    "    # mathplotlib o networkx o ?\n",
    "    # visualizziammo il grafo coi nodi sulla linea nelle posizioni specificate da ordinamento e gli archi che fanno panza per poterli vedere\n",
    "    # il problem-solver deve rendersi conto di quali archi sono rivolti all'indietro.\n",
    "    #for i in range(len(ordinamento)-1):\n",
    "    #    G.add_edge(ordinamento[i],ordinamento[i+1])\n",
    "    G.add_edges_from(ordinamento)\n",
    "    nx.draw_planar(G,with_labels=True,arrows=True)\n",
    "    plt.plot()\n",
    "    \n",
    "def ciclo_di_precedenze(soluzione_problem_solver,silent=False):\n",
    "    if(len(soluzione_problem_solver)!=n):\n",
    "        #modifcare l'output, dire di che lunghezza voglio la lista e di che lunghezza l'ha data lui\n",
    "        if(silent):\n",
    "            return 0\n",
    "        else:\n",
    "            return \"hai fornito una soluzione di lungezza \" +len(soluzione_problem_solver) + \", dovresti fornirla \\\n",
    "                    di lunghezza \"+n\n",
    "    \n",
    "    check=np.zeros(len(soluzione_problem_solver))\n",
    "    #incremento la posizione soluzione_problem_solver[i] di uno , se sono inseriti tutti correttamente avrò\n",
    "    #un array di soli 1\n",
    "    for i in range(len(soluzione_problem_solver)):\n",
    "        try:\n",
    "            check[soluzione_problem_solver[i]]=check[soluzione_problem_solver[i]]+1\n",
    "        except:\n",
    "            if(silent):\n",
    "                return 0\n",
    "            else:\n",
    "                return \"hai inserito l'attività \"+soluzione_problem_solver[i]+\", ti ricordo che le attività \\\n",
    "                        vanno da 0 a \" + n-1 \n",
    "                    \n",
    "    \n",
    "    contatore_errori=0\n",
    "    \n",
    "    #la lista contiene una e una volta sola tutti gli elementi\n",
    "    if(np.all((check == 1))):\n",
    "        for element in prec_original_instance:\n",
    "            indice1=soluzione_problem_solver.index(element[0])\n",
    "            indice2=soluzione_problem_solver.index(element[1])\n",
    "            if(indice1>indice2):\n",
    "                contatore_errori=contatore_errori+1\n",
    "        if(contatore_errori==1):\n",
    "            if ([soluzione_problem_solver[(n-1)],soluzione_problem_solver[0]] in prec_original_instance):\n",
    "                if(silent):\n",
    "                    return 1\n",
    "                else:\n",
    "                    return \"sembra che la tua lista contenga un ciclo\"\n",
    "            else:\n",
    "                if(silent):\n",
    "                    return 0\n",
    "                else:\n",
    "                    return \"attenzione, non hai fornito una lista ciclica\"        \n",
    "        else:\n",
    "            if(silent):\n",
    "                return 0\n",
    "            else:\n",
    "                return \"non hai rispettato \"+str(contatore_errori)+\" precedenze \"\n",
    "        \n",
    "    #manca un elemento e/o un elemento viene ripetuto più di una volta\n",
    "    else:\n",
    "        if(silent):\n",
    "            return 0\n",
    "        else:\n",
    "            return \"l'array NON contiene tutte le attività\"\n",
    "    \n"
   ]
  },
  {
   "cell_type": "code",
   "execution_count": 11,
   "metadata": {
    "pycharm": {
     "name": "#%%\n"
    },
    "scrolled": true
   },
   "outputs": [
    {
     "name": "stdout",
     "output_type": "stream",
     "text": [
      "non hai rispettato 7 precedenze \n"
     ]
    },
    {
     "data": {
      "image/png": "[encoded data removed]",
      "text/plain": [
       "<Figure size 432x288 with 1 Axes>"
      ]
     },
     "metadata": {},
     "output_type": "display_data"
    }
   ],
   "source": [
    "# Ordina le attività in modo da rispettare tutte le precedenze, se ritieni che non sia possibile cerca di\n",
    "#minimizzare il numero di precedenze non rispettate.\n",
    "# Le attività sono rappresentate dai numeri compresi da 0 a n-1\n",
    "\n",
    "lista_da_sinistra_a_destra = [4, 7, 2, 0, 11, 5, 19, 18, 6, 17, 14, 16, 3, 1, 9, 13, 8, 12 ,15 ,10]\n",
    "\n",
    "\n",
    "print(visualizza_e_valuta_le_precedenze_non_rispettate(lista_da_sinistra_a_destra))\n",
    "visualizza(prec_original_instance)"
   ]
  },
  {
   "cell_type": "code",
   "execution_count": 16,
   "metadata": {},
   "outputs": [
    {
     "name": "stdout",
     "output_type": "stream",
     "text": [
      "attenzione, non hai fornito una lista ciclica\n"
     ]
    }
   ],
   "source": [
    "# Riesci a fornire una sequenza ciclica S di attività tale che se a precede immediatemente b in S allora [a,b] è una precedenza richiesta.\n",
    "# Nota: per sequenza ciclica intendiamo che, dove s e t siano il primo e l'ultimo elemento nella sequenza allora si possa dire che t precede immediatemente s. \n",
    "\n",
    "ciclo  = [4, 7, 2, 0, 11, 5, 19, 18, 6, 17, 14, 16, 3, 1, 9, 13, 8, 12 ,15 ,10]            \n",
    "            \n",
    "print(ciclo_di_precedenze(ciclo))"
   ]
  },
  {
   "cell_type": "code",
   "execution_count": null,
   "metadata": {},
   "outputs": [],
   "source": []
  },
  {
   "cell_type": "code",
   "execution_count": null,
   "metadata": {},
   "outputs": [],
   "source": []
  }
 ],
 "metadata": {
  "celltoolbar": "Edit Metadata",
  "hide_input": false,
  "kernelspec": {
   "display_name": "Python 3",
   "language": "python",
   "name": "python3"
  },
  "language_info": {
   "codemirror_mode": {
    "name": "ipython",
    "version": 3
   },
   "file_extension": ".py",
   "mimetype": "text/x-python",
   "name": "python",
   "nbconvert_exporter": "python",
   "pygments_lexer": "ipython3",
   "version": "3.7.1"
  }
 },
 "nbformat": 4,
 "nbformat_minor": 4
}
