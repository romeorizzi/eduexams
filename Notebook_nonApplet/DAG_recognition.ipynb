{
 "cells": [
  {
   "cell_type": "code",
   "execution_count": 1,
   "metadata": {},
   "outputs": [],
   "source": [
    "from IPython.core.display import display, HTML, Markdown\n",
    "import copy\n",
    "import numpy as np\n",
    "import matplotlib.pyplot as plt\n",
    "from networkx import nx\n",
    "\n",
    "n = 20\n",
    "# segue una lista di precedenze della forma [u,v], cl significato che u deve essere schedulato oprima di v.\n",
    "prec_original_instance = [\n",
    "       [7,4],\n",
    "       [0, 1],   # l'attività 0 deve essere schedulata prima dell'attività 1\n",
    "       [0, 4],\n",
    "       [0, 7],\n",
    "       [0, 15],\n",
    "       [3, 4],\n",
    "       [1, 4],\n",
    "       [9, 7],\n",
    "       [1, 15],\n",
    "       [1, 18],\n",
    "       [18,0],\n",
    "]\n",
    "\n",
    "prec_original_instance2 = [\n",
    "       [7,4],\n",
    "       [0, 1],   # l'attività 0 deve essere schedulata prima dell'attività 1\n",
    "       [0, 4],\n",
    "       [0, 7],\n",
    "       [0, 15],\n",
    "       [3, 4],\n",
    "       [1, 4],\n",
    "       [9, 7],\n",
    "       [1, 15],\n",
    "       [18, 1],\n",
    "       [18,0],\n",
    "]"
   ]
  },
  {
   "cell_type": "code",
   "execution_count": 27,
   "metadata": {
    "pycharm": {
     "name": "#%%\n"
    }
   },
   "outputs": [],
   "source": [
    "\n",
    "def visualizza_e_valuta_le_precedenze_non_rispettate(soluzione_problem_solver,lista_di_precedenze=1,silent=False):\n",
    "    #controllo sulla lunghezza della lista fornita\n",
    "    if(len(soluzione_problem_solver)!=n):\n",
    "        #modifcare l'output, dire di che lunghezza voglio la lista e di che lunghezza l'ha data lui\n",
    "        if(silent):\n",
    "            return 0\n",
    "        else:\n",
    "            return \"hai fornito una soluzione di lungezza \"+str(len(soluzione_problem_solver)) + \", \\\n",
    "dovresti fornirla di lunghezza \"+str(n)\n",
    "    \n",
    "    check=np.zeros(len(soluzione_problem_solver))\n",
    "    #incremento la posizione soluzione_problem_solver[i] di uno , se sono inseriti tutti correttamente avrò\n",
    "    #un array di soli 1\n",
    "    for i in range(len(soluzione_problem_solver)):\n",
    "        try:\n",
    "            check[soluzione_problem_solver[i]]=check[soluzione_problem_solver[i]]+1\n",
    "        except:\n",
    "            if(silent):\n",
    "                return 0\n",
    "            else:\n",
    "                return \"hai inserito l'attività \"+str(soluzione_problem_solver[i])+\", ti ricordo che le attività \\\n",
    "vanno da 0 a \" + str(n-1)\n",
    "                    \n",
    "    \n",
    "    contatore_errori=0\n",
    "    \n",
    "    #la lista contiene una e una volta sola tutti gli elementi\n",
    "    if(np.all((check == 1))):\n",
    "        if(lista_di_precedenze==1):\n",
    "            for element in prec_original_instance:\n",
    "                indice1=soluzione_problem_solver.index(element[0])\n",
    "                indice2=soluzione_problem_solver.index(element[1])\n",
    "                if(indice1>indice2):\n",
    "                    contatore_errori=contatore_errori+1\n",
    "        if(lista_di_precedenze==2):\n",
    "                for element in prec_original_instance2:\n",
    "                    indice1=soluzione_problem_solver.index(element[0])\n",
    "                    indice2=soluzione_problem_solver.index(element[1])\n",
    "                    if(indice1>indice2):\n",
    "                        contatore_errori=contatore_errori+1\n",
    "        if(lista_di_precedenze!=2 and lista_di_precedenze!=1):\n",
    "            return \"Vorresti valutare la tua soluzione rispetto alla lista di precedenze numero \\\n",
    "\" +str(lista_di_precedenze)+ \" ti ricordo che le liste di precedenze sono 2, \\\n",
    "se vuoi valutare la tua soluzione rispetto alla prima lista digita 1 , altrimenti 2\"\n",
    "        \n",
    "        if(contatore_errori==0):\n",
    "            if(silent):\n",
    "                return 1\n",
    "            else:\n",
    "                return \"Sei riuscito a rispettare tutte le precedenze, hai dimostrato che il grafo fornito è un DAG!\"\n",
    "        else:\n",
    "            if(silent):\n",
    "                return 0\n",
    "            else:\n",
    "                return \"non hai rispettato \"+str(contatore_errori)+\" precedenze \"\n",
    "        \n",
    "    #manca un elemento e/o un elemento viene ripetuto più di una volta\n",
    "    else:\n",
    "        if(silent):\n",
    "            return 0\n",
    "        else:\n",
    "            for k in range(len(check)):\n",
    "                if(check[k]==0):\n",
    "                    if(silent):\n",
    "                        return 0\n",
    "                    else:\n",
    "                        return \"l'array NON contiene tutte le attività, l'attività numero \" + str(k) + \" non è presente \"\n",
    "\n",
    "def visualizza(ordinamento):\n",
    "    G = nx.DiGraph()\n",
    "    # mathplotlib o networkx o ?\n",
    "    # visualizziammo il grafo coi nodi sulla linea nelle posizioni specificate da ordinamento e gli archi che fanno panza per poterli vedere\n",
    "    # il problem-solver deve rendersi conto di quali archi sono rivolti all'indietro.\n",
    "    #for i in range(len(ordinamento)-1):\n",
    "    #    G.add_edge(ordinamento[i],ordinamento[i+1])\n",
    "    G.add_edges_from(ordinamento)\n",
    "    nx.draw_planar(G,with_labels=True,arrows=True)\n",
    "    plt.plot()\n",
    "    \n",
    "def ciclo_di_precedenze(soluzione_problem_solver,lista_di_precedenze=1,silent=False):\n",
    "    lunghezza=len(soluzione_problem_solver)\n",
    "    precedenze_da_valutare=0\n",
    "    if(lista_di_precedenze==1):\n",
    "        precedenze_da_valutare=prec_original_instance\n",
    "    if(lista_di_precedenze==2):\n",
    "        precedenze_da_valutare=prec_original_instance2\n",
    "    if(lista_di_precedenze!=1 and lista_di_precedenze!=2):\n",
    "        if(silent):\n",
    "            return 0\n",
    "        else:\n",
    "            return \"Vorresti valutare la tua soluzione rispetto alla lista di precedenze numero \\\n",
    "\" +str(lista_di_precedenze)+ \" ti ricordo che le liste di precedenze sono 2, \\\n",
    "se vuoi valutare la tua soluzione rispetto alla prima lista digita 1 , altrimenti 2\"\n",
    "    #la lista contiene una e una volta sola tutti gli elementi\n",
    "    if ([soluzione_problem_solver[(len(soluzione_problem_solver)-1)],soluzione_problem_solver[0]] in precedenze_da_valutare):\n",
    "        for i in range(len(soluzione_problem_solver)-1):\n",
    "            if([soluzione_problem_solver[i],soluzione_problem_solver[i+1]] not in precedenze_da_valutare):\n",
    "                if(silent):\n",
    "                    return 0\n",
    "                else:\n",
    "                    return  \"sembra che la tua lista non contenga un ciclo, controlla le precedenze tra l'attività \" + str(soluzione_problem_solver[i]) + \" e  l'attività \" + str(soluzione_problem_solver[i+1])\n",
    "        if(silent):\n",
    "            return 1\n",
    "        else:\n",
    "            return \"La sequenza di nodi\"+ str(soluzione_problem_solver)+\" che hai fornito descrive un ciclo presente in G\"\n",
    "    else:\n",
    "        if(silent):\n",
    "            return 0\n",
    "        else:\n",
    "            return \"sembra che la tua lista non contenga un ciclo , controlla le precedenze tra l'attività \" + str(soluzione_problem_solver[lunghezza-1]) +  \" e  l'attività \" + str(soluzione_problem_solver[lunghezza-lunghezza])\n",
    "        \n",
    "\n",
    "def visualizza_icosaedro(grafo):\n",
    "    front_face = [15, 16, 17, 18, 19]\n",
    "    back_face = [0, 1, 2, 3, 4]\n",
    "    middle = list(set(range(20)).difference(front_face + back_face))\n",
    "    shells = [front_face] + [middle] + [back_face]\n",
    "    pos = nx.shell_layout(grafo, shells)\n",
    "    #nx.draw_networkx(icosaedro, pos)\n",
    "    nx.draw_networkx_nodes(grafo, pos, alpha=0.6) #node_color='cyan',\n",
    "    nx.draw_networkx_labels(grafo, pos)\n",
    "    #disegna archi e etichette sugli archi\n",
    "    #positive=[(u,v) for (u,v,d) in grafo.edges(data=True) if d['w'] >= 0]\n",
    "    #negative=[(u,v) for (u,v,d) in grafo.edges(data=True) if d['w'] < 0]\n",
    "    positive=[(u,v)for (u,v,d) in grafo.edges(data=True)]\n",
    "    \n",
    "    nx.draw_networkx_edges(grafo,pos,edgelist=positive,width=2,alpha = 0.6,edge_color = \"g\",arrows=True)\n",
    "    #nx.draw_networkx_edges(grafo,pos,edgelist=negative,width=2,alpha = 0.6,edge_color = \"r\",arrows=True)\n",
    "    \n",
    "    #labels = nx.get_edge_attributes(grafo,'w')\n",
    "    #nx.draw_networkx_edge_labels(grafo,pos,edge_labels=labels)\n",
    "    ax = plt.gca()\n",
    "    ax.set_aspect('equal')\n",
    "    ax.set_axis_off()"
   ]
  },
  {
   "cell_type": "code",
   "execution_count": 30,
   "metadata": {},
   "outputs": [],
   "source": [
    "nodes=[(0+i) for i in range(20)]\n",
    "edges=prec_original_instance\n",
    "icosaedro_1=nx.DiGraph()\n",
    "icosaedro_1.add_nodes_from(nodes)\n",
    "icosaedro_1.add_edges_from(edges)\n"
   ]
  },
  {
   "cell_type": "code",
   "execution_count": 31,
   "metadata": {},
   "outputs": [
    {
     "data": {
      "image/png": "[encoded data removed]",
      "text/plain": [
       "<Figure size 432x288 with 1 Axes>"
      ]
     },
     "metadata": {},
     "output_type": "display_data"
    }
   ],
   "source": [
    "visualizza_icosaedro(icosaedro_1)"
   ]
  },
  {
   "cell_type": "code",
   "execution_count": 4,
   "metadata": {},
   "outputs": [],
   "source": [
    "#Un grafo diretto è un DAG (un acronimo per Directed Acyclic Graph) se non contiene alcun ciclo diretto. \n",
    "#Un ciclo diretto in un grafo diretto G=(V,A) è una sequenza ciclica di nodi tale che\n",
    "#la coppia ordinata (u,v) sia arco di G ogniqualvota u e v appaiano consecutivi ed in questo ordine \n",
    "#entro la sequenza, oppure u sia l'ultimo nodo e v il primo. Questo esercizio ti chiede di riconoscere se \n",
    "#un grafo G diretto a tè assegnato è un DAG oppure no, esprimendo il certificato del caso (o una sequenza \n",
    "#ciclica di nodi che indichi il ciclo o un ordinamento dei nodi tale che ogni arco di G sia rivolto in avanti \n",
    "#entro l'ordinamento). \n",
    "#In realtà ti forniremo due diverse istanze di questo problema e ti chiederemo di stabilire quale delle due offra \n",
    "#un DAG e quale no."
   ]
  },
  {
   "cell_type": "code",
   "execution_count": 20,
   "metadata": {
    "pycharm": {
     "name": "#%%\n"
    },
    "scrolled": true
   },
   "outputs": [
    {
     "name": "stdout",
     "output_type": "stream",
     "text": [
      "sembra che la tua lista non contenga un ciclo, controlla le precedenze tra l'attività 1 e  l'attività 18\n"
     ]
    }
   ],
   "source": [
    "# Riesci a fornire una sequenza ciclica S di attività tale che se a precede immediatemente b in S allora [a,b] è una precedenza richiesta.\n",
    "# Nota: per sequenza ciclica intendiamo che, dove s e t siano il primo e l'ultimo elemento nella sequenza allora si possa dire che t precede immediatemente s. \n",
    "# Nota: Ti vengono fornite 2 liste di precedenze, ricorda che la fuzione ha bisogno,oltre che alla lista fornita da te, il numero della lista di precedenze\n",
    "#       rispetto alla quale vuoi verificare che la tua lista contenga un ciclo. inserisci 1 per la prima o 2 per la seconda.\n",
    "ciclo  = [0,1,18]            \n",
    "print(ciclo_di_precedenze(ciclo,2))"
   ]
  },
  {
   "cell_type": "code",
   "execution_count": 30,
   "metadata": {},
   "outputs": [
    {
     "name": "stdout",
     "output_type": "stream",
     "text": [
      "Vorresti valutare la tua soluzione rispetto alla lista di precedenze numero 3 ti ricordo che le liste di precedenze sono 2, se vuoi valutare la tua soluzione rispetto alla prima lista digita 1 , altrimenti 2\n"
     ]
    },
    {
     "data": {
      "image/png": "[encoded data removed]",
      "text/plain": [
       "<Figure size 432x288 with 1 Axes>"
      ]
     },
     "metadata": {},
     "output_type": "display_data"
    }
   ],
   "source": [
    "# Ordina le attività in modo da rispettare tutte le precedenze, se ritieni che non sia possibile cerca di\n",
    "#minimizzare il numero di precedenze non rispettate.\n",
    "# Le attività sono rappresentate dai numeri compresi da 0 a n-1\n",
    "#Nota: Ti vengono fornite 2 liste di precedenze, ricorda che la fuzione ha bisogno,oltre che alla lista fornita da te, il numero della lista di precedenze\n",
    "#       rispetto alla quale vuoi verificare che la tua lista non contenga un ciclo. inserisci 1 per la prima o 2 per la seconda.\n",
    "\n",
    "lista_da_sinistra_a_destra = [4, 7, 2, 0, 11, 5, 19, 18, 6, 17, 14, 16, 3, 1, 9, 13, 8, 12 ,15, 10]\n",
    "\n",
    "\n",
    "print(visualizza_e_valuta_le_precedenze_non_rispettate(lista_da_sinistra_a_destra,1))\n",
    "#visualizza(prec_original_instance)"
   ]
  },
  {
   "cell_type": "code",
   "execution_count": null,
   "metadata": {},
   "outputs": [],
   "source": [
    "#link utili alla risoluzione dell'esercizio\n",
    "# https://en.wikipedia.org/wiki/Directed_acyclic_graph"
   ]
  }
 ],
 "metadata": {
  "celltoolbar": "Edit Metadata",
  "hide_input": false,
  "kernelspec": {
   "display_name": "Python 3",
   "language": "python",
   "name": "python3"
  },
  "language_info": {
   "codemirror_mode": {
    "name": "ipython",
    "version": 3
   },
   "file_extension": ".py",
   "mimetype": "text/x-python",
   "name": "python",
   "nbconvert_exporter": "python",
   "pygments_lexer": "ipython3",
   "version": "3.7.1"
  }
 },
 "nbformat": 4,
 "nbformat_minor": 4
}
