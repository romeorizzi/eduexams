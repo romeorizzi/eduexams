{
 "cells": [
  {
   "cell_type": "code",
   "execution_count": 1,
   "metadata": {
    "hide_input": true,
    "init_cell": true,
    "scrolled": false
   },
   "outputs": [],
   "source": [
    "from IPython.core.display import display, HTML, Markdown, display_html, clear_output, Javascript\n",
    "from ipywidgets import Button, HBox, VBox, widgets\n",
    "from string import Template\n",
    "import ipysheet\n",
    "import pandas as pd\n",
    "import json, random\n",
    "import yaml\n",
    "import math\n",
    "import time\n",
    "import re\n",
    "import os\n",
    "from os import path\n",
    "from datetime import datetime\n",
    "\n",
    "#verificatori\n",
    "from exercise_3.verifier.lds import lds\n",
    "from exercise_3.verifier.zSeq import zSequenza\n",
    "from exercise_3.verifier.ldsWithNumber import ldsWithNumber\n",
    "from exercise_3.verifier.ldscutrange import ldsSubwithoutElementInRange\n",
    "from exercise_3.verifier.minNsubCre import minimoNumSubCRE\n",
    "from exercise_3.verifier.final_results import save_results"
   ]
  },
  {
   "cell_type": "code",
   "execution_count": 2,
   "metadata": {
    "hide_input": false,
    "init_cell": true
   },
   "outputs": [
    {
     "data": {
      "application/vnd.jupyter.widget-view+json": {
       "model_id": "32bd29b03c6843a5bb28e2d1f2cb546c",
       "version_major": 2,
       "version_minor": 0
      },
      "text/plain": [
       "Button(description='Start exercise', style=ButtonStyle())"
      ]
     },
     "metadata": {},
     "output_type": "display_data"
    },
    {
     "data": {
      "application/vnd.jupyter.widget-view+json": {
       "model_id": "9779f01f96fa43b5bab1e569ef029a71",
       "version_major": 2,
       "version_minor": 0
      },
      "text/plain": [
       "Output()"
      ]
     },
     "metadata": {},
     "output_type": "display_data"
    }
   ],
   "source": [
    "button_run = widgets.Button(description=\"Start exercise\")\n",
    "output_run = widgets.Output()\n",
    "display(button_run, output_run)\n",
    "\n",
    "def on_run_clicked1(b):\n",
    "    with output_run:\n",
    "        display(Javascript('''\n",
    "        function sleep2(milliseconds) {\n",
    "          var start = new Date().getTime();\n",
    "          for (var i = 0; i < 1e7; i++) {\n",
    "            if ((new Date().getTime() - start) > milliseconds){\n",
    "              break;\n",
    "            }\n",
    "          }\n",
    "        }\n",
    "        var k = 3\n",
    "        //IPython.notebook.execute_cells([0])\n",
    "        try{\n",
    "            while(k < 50){\n",
    "                IPython.notebook.execute_cells([k])\n",
    "                k = k+1\n",
    "                sleep2(50)\n",
    "            }\n",
    "        }catch{}\n",
    "        '''))\n",
    "button_run.on_click(on_run_clicked1)"
   ]
  },
  {
   "cell_type": "code",
   "execution_count": 3,
   "metadata": {
    "hide_input": true,
    "init_cell": true
   },
   "outputs": [
    {
     "data": {
      "application/javascript": [
       "var kernel = IPython.notebook.kernel;\n",
       "var thename = window.document.getElementById(\"notebook_name\").innerHTML;\n",
       "var command = \"theNotebook = \" + \"'\"+thename+\"'\";\n",
       "kernel.execute(command);\n"
      ],
      "text/plain": [
       "<IPython.core.display.Javascript object>"
      ]
     },
     "metadata": {},
     "output_type": "display_data"
    }
   ],
   "source": [
    "%%javascript\n",
    "var kernel = IPython.notebook.kernel;\n",
    "var thename = window.document.getElementById(\"notebook_name\").innerHTML;\n",
    "var command = \"theNotebook = \" + \"'\"+thename+\"'\";\n",
    "kernel.execute(command);"
   ]
  },
  {
   "cell_type": "code",
   "execution_count": 55,
   "metadata": {
    "hide_input": true,
    "scrolled": true
   },
   "outputs": [
    {
     "data": {
      "text/markdown": [
       "# EXERCISE 3\n",
       "Si consideri la seguente sequenza di numeri naturali"
      ],
      "text/plain": [
       "<IPython.core.display.Markdown object>"
      ]
     },
     "execution_count": 55,
     "metadata": {},
     "output_type": "execute_result"
    }
   ],
   "source": [
    "str_list = theNotebook.split(\"_\")\n",
    "exercise = str_list[1]\n",
    "%run -i \"exercise_3/script/load_config.py\"\n",
    "txt = open(yaml_text[0], 'r',encoding='utf-8')\n",
    "content = txt.read()\n",
    "text_str = \"# \"+ str_list[0].upper() + \" \" + str_list[1] + \"\\n\" + content\n",
    "Markdown(text_str)"
   ]
  },
  {
   "cell_type": "code",
   "execution_count": 56,
   "metadata": {
    "hide_input": true,
    "scrolled": true
   },
   "outputs": [
    {
     "data": {
      "text/html": [
       "<table border=\"1\" class=\"dataframe\">\n",
       "  <thead>\n",
       "    <tr style=\"text-align: right;\">\n",
       "      <th>1</th>\n",
       "      <th>2</th>\n",
       "      <th>3</th>\n",
       "      <th>4</th>\n",
       "      <th>5</th>\n",
       "      <th>6</th>\n",
       "      <th>7</th>\n",
       "      <th>8</th>\n",
       "      <th>9</th>\n",
       "      <th>10</th>\n",
       "      <th>11</th>\n",
       "      <th>12</th>\n",
       "      <th>13</th>\n",
       "      <th>14</th>\n",
       "      <th>15</th>\n",
       "      <th>16</th>\n",
       "      <th>17</th>\n",
       "      <th>18</th>\n",
       "      <th>19</th>\n",
       "      <th>20</th>\n",
       "      <th>21</th>\n",
       "      <th>22</th>\n",
       "      <th>23</th>\n",
       "      <th>24</th>\n",
       "      <th>25</th>\n",
       "      <th>26</th>\n",
       "      <th>27</th>\n",
       "    </tr>\n",
       "  </thead>\n",
       "  <tbody>\n",
       "    <tr>\n",
       "      <td>9</td>\n",
       "      <td>65</td>\n",
       "      <td>57</td>\n",
       "      <td>55</td>\n",
       "      <td>50</td>\n",
       "      <td>58</td>\n",
       "      <td>47</td>\n",
       "      <td>36</td>\n",
       "      <td>30</td>\n",
       "      <td>59</td>\n",
       "      <td>39</td>\n",
       "      <td>13</td>\n",
       "      <td>54</td>\n",
       "      <td>33</td>\n",
       "      <td>45</td>\n",
       "      <td>20</td>\n",
       "      <td>18</td>\n",
       "      <td>56</td>\n",
       "      <td>53</td>\n",
       "      <td>61</td>\n",
       "      <td>38</td>\n",
       "      <td>19</td>\n",
       "      <td>51</td>\n",
       "      <td>35</td>\n",
       "      <td>26</td>\n",
       "      <td>52</td>\n",
       "      <td>70</td>\n",
       "    </tr>\n",
       "  </tbody>\n",
       "</table>"
      ]
     },
     "metadata": {},
     "output_type": "display_data"
    }
   ],
   "source": [
    "file = open(yaml_table_path, 'r',encoding='utf-8')\n",
    "    \n",
    "data = []\n",
    "\n",
    "for line in file.readlines():\n",
    "    data.append(line.split(' '))\n",
    "\n",
    "df = pd.DataFrame(data=data)\n",
    "df.columns = [i for  i in range(1, len(data[0])+1)]\n",
    "\n",
    "display_html(df.to_html(index=False), raw=True)\n",
    "\n",
    "global prog0\n",
    "global command0\n",
    "\n",
    "prog0=0\n",
    "command0=0"
   ]
  },
  {
   "cell_type": "code",
   "execution_count": 57,
   "metadata": {
    "hide_input": false
   },
   "outputs": [
    {
     "name": "stdout",
     "output_type": "stream",
     "text": [
      "Qui puoi compilare la tabella di supporto\n"
     ]
    },
    {
     "data": {
      "application/vnd.jupyter.widget-view+json": {
       "model_id": "b63a824a5d614305b32e578bcd14f4bb",
       "version_major": 2,
       "version_minor": 0
      },
      "text/plain": [
       "Sheet(cells=(Cell(column_end=0, column_start=0, read_only=True, row_end=0, row_start=0, type='text', value='--…"
      ]
     },
     "metadata": {},
     "output_type": "display_data"
    }
   ],
   "source": [
    "print(\"Qui puoi compilare la tabella di supporto\")\n",
    "if command0 == 0:\n",
    "    sheet1=ipysheet.sheet(rows=5,columns=len(df.columns),column_headers=False, row_headers=False)\n",
    "    values=df.values.tolist()\n",
    "    for i in range(0,len(df.columns)):\n",
    "        ipysheet.cell(0,i,\"-->\",read_only=True)\n",
    "        ipysheet.cell(1,i,\"0\")\n",
    "        ipysheet.cell(2,i,values[0][i],read_only=True)\n",
    "        ipysheet.cell(3,i,\"0\")\n",
    "        ipysheet.cell(4,i,\"<--\",read_only=True)\n",
    "if command0 == 1:\n",
    "    f = open(\"./exercise_3/data/log/lastcheckpoint/tablesupp.txt\", \"r\")\n",
    "    lines = f.readlines()\n",
    "    num=[]\n",
    "    for line in lines:\n",
    "        num.append([int(s) for s in re.findall(r'\\b\\d+\\b', line)])\n",
    "    sheet1=ipysheet.sheet(rows=5,columns=len(df.columns),column_headers=False, row_headers=False)\n",
    "    values=df.values.tolist()\n",
    "    for i in range(0,len(df.columns)):\n",
    "        ipysheet.cell(0,i,\"-->\",read_only=True)\n",
    "        ipysheet.cell(1,i,str(num[0][i]))\n",
    "        ipysheet.cell(2,i,values[0][i],read_only=True)\n",
    "        ipysheet.cell(3,i,str(num[1][i]))\n",
    "        ipysheet.cell(4,i,\"<--\",read_only=True)\n",
    "sheet1"
   ]
  },
  {
   "cell_type": "code",
   "execution_count": 58,
   "metadata": {
    "hide_input": false,
    "scrolled": false
   },
   "outputs": [
    {
     "data": {
      "application/vnd.jupyter.widget-view+json": {
       "model_id": "9e22f7138bef4da697e6878d21ba99e2",
       "version_major": 2,
       "version_minor": 0
      },
      "text/plain": [
       "HBox(children=(VBox(children=(Button(description='Start from scratch', style=ButtonStyle()),)), VBox(children=…"
      ]
     },
     "metadata": {},
     "output_type": "display_data"
    }
   ],
   "source": [
    "words = ['Start from scratch', 'Make checkpoint', 'Checkpoint recall']\n",
    "items = [Button(description=w) for w in words]\n",
    "left_box = VBox([items[0]])\n",
    "center_box = VBox([items[1]])\n",
    "right_box = VBox([items[2]])\n",
    "\n",
    "def reset0(_):\n",
    "    global command0\n",
    "    command0=0\n",
    "    display(Javascript('IPython.notebook.execute_cells([5])'))\n",
    "\n",
    "def save0(_):\n",
    "    DIR = \"./exercise_3/data/log/checkpoint\"\n",
    "    timestamp = datetime.timestamp(datetime.now())\n",
    "    prog=len([name for name in os.listdir(DIR) if os.path.isfile(os.path.join(DIR, name))])+1\n",
    "    f = open(\"./exercise_3/data/log/checkpoint/tablesupp_\"+str(prog)+\"_\"+str(timestamp)+\".txt\", \"w\")\n",
    "    f.write(str(list(map(int,ipysheet.to_array(sheet1)[1])))+\"\\n\")\n",
    "    f.write(str(list(map(int,ipysheet.to_array(sheet1)[3]))))\n",
    "    f.close()\n",
    "    f = open(\"./exercise_3/data/log/lastcheckpoint/tablesupp.txt\", \"w\")\n",
    "    f.write(str(list(map(int,ipysheet.to_array(sheet1)[1])))+\"\\n\")\n",
    "    f.write(str(list(map(int,ipysheet.to_array(sheet1)[3]))))\n",
    "    f.close()\n",
    "    print(\"Tabella salvata\")\n",
    "    time.sleep(3)\n",
    "    display(Javascript('IPython.notebook.execute_cells([6])'))\n",
    "\n",
    "def recall0(_):\n",
    "    global command0\n",
    "    if path.exists(\"./exercise_3/data/log/lastcheckpoint/tablesupp.txt\"):   \n",
    "        command0=1\n",
    "    else:\n",
    "        command0=0\n",
    "    display(Javascript('IPython.notebook.execute_cells([5])'))\n",
    "    \n",
    "        \n",
    "items[0].on_click(reset0)\n",
    "items[1].on_click(save0)\n",
    "items[2].on_click(recall0)\n",
    "\n",
    "HBox([left_box,center_box,right_box])\n"
   ]
  },
  {
   "cell_type": "code",
   "execution_count": 59,
   "metadata": {
    "hide_input": true,
    "pycharm": {
     "name": "#%%\n"
    }
   },
   "outputs": [
    {
     "data": {
      "text/markdown": [
       "- Trovare una sottosequenza decrescente che sia la più lunga possibile. \\\n",
       "Specificare quanto è lunga e fornirla.\n",
       "\n"
      ],
      "text/plain": [
       "<IPython.core.display.Markdown object>"
      ]
     },
     "execution_count": 59,
     "metadata": {},
     "output_type": "execute_result"
    }
   ],
   "source": [
    "global command1\n",
    "command1 = 0\n",
    "txt = open(yaml_text[1], 'r',encoding='utf-8')\n",
    "content = txt.read()\n",
    "Markdown(content)"
   ]
  },
  {
   "cell_type": "code",
   "execution_count": 86,
   "metadata": {
    "hide_input": false
   },
   "outputs": [
    {
     "name": "stdout",
     "output_type": "stream",
     "text": [
      "Lunghezza della sottosequenza decrescente più lunga:\n"
     ]
    },
    {
     "data": {
      "application/vnd.jupyter.widget-view+json": {
       "model_id": "9e7e77c5b2804374bf40f1b665236745",
       "version_major": 2,
       "version_minor": 0
      },
      "text/plain": [
       "IntText(value=9)"
      ]
     },
     "metadata": {},
     "output_type": "display_data"
    }
   ],
   "source": [
    "print(\"Lunghezza della sottosequenza decrescente più lunga:\")\n",
    "global maxsubseq\n",
    "if command1 == 0:\n",
    "    maxsubseq=widgets.IntText(\n",
    "        value=1,\n",
    "        disabled=False\n",
    "    )\n",
    "\n",
    "display(maxsubseq)\n",
    "\n",
    "\n",
    "\n",
    "#9"
   ]
  },
  {
   "cell_type": "code",
   "execution_count": 85,
   "metadata": {
    "hide_input": false,
    "scrolled": false
   },
   "outputs": [
    {
     "data": {
      "application/javascript": [
       "IPython.notebook.execute_cells([8])"
      ],
      "text/plain": [
       "<IPython.core.display.Javascript object>"
      ]
     },
     "metadata": {},
     "output_type": "display_data"
    },
    {
     "data": {
      "application/vnd.jupyter.widget-view+json": {
       "model_id": "c1b476f385bd45c8a0f64bda60ad6951",
       "version_major": 2,
       "version_minor": 0
      },
      "text/plain": [
       "Sheet(cells=(Cell(column_end=0, column_start=0, row_end=0, row_start=0, type='text', value='65'), Cell(column_…"
      ]
     },
     "metadata": {},
     "output_type": "display_data"
    }
   ],
   "source": [
    "global maxsubseq\n",
    "if command1 == 0:\n",
    "    lunghezza=int(maxsubseq.value)\n",
    "    sheet2=ipysheet.sheet(rows=1,columns=lunghezza,column_headers=False, row_headers=False)\n",
    "    for i in range(0,lunghezza):\n",
    "        ipysheet.cell(0,i,\"0\")\n",
    "\n",
    "if command1 == 1:\n",
    "    f = open(\"./exercise_3/data/log/lastcheckpoint/query1.txt\", \"r\")\n",
    "    line = f.readline()\n",
    "    num=[int(s) for s in re.findall(r'\\b\\d+\\b', line)]\n",
    "    lunghezza=len(num)\n",
    "    sheet2=ipysheet.sheet(rows=1,columns=lunghezza,column_headers=False, row_headers=False)\n",
    "    for i in range(0,lunghezza):\n",
    "        ipysheet.cell(0,i,str(num[i]))\n",
    "    #global maxsubseq\n",
    "    maxsubseq=widgets.IntText(\n",
    "        value=lunghezza,\n",
    "        disabled=False\n",
    "    )\n",
    "    display(Javascript('IPython.notebook.execute_cells([8])'))\n",
    "    \n",
    "if command1 == 2:\n",
    "    f = open(\"./exercise_3/data/log/lastans/ansquery1.txt\", \"r\")\n",
    "    line = f.readline()\n",
    "    num=[int(s) for s in re.findall(r'\\b\\d+\\b', line)]\n",
    "    lunghezza=len(num)\n",
    "    sheet2=ipysheet.sheet(rows=1,columns=lunghezza,column_headers=False, row_headers=False)\n",
    "    for i in range(0,lunghezza):\n",
    "        ipysheet.cell(0,i,str(num[i]))\n",
    "    #global maxsubseq\n",
    "    maxsubseq=widgets.IntText(\n",
    "        value=lunghezza,\n",
    "        disabled=False\n",
    "    )\n",
    "    display(Javascript('IPython.notebook.execute_cells([8])'))\n",
    "\n",
    "sheet2\n",
    "#65, 57, 55, 50, 47, 36, 30, 20, 18"
   ]
  },
  {
   "cell_type": "code",
   "execution_count": 62,
   "metadata": {
    "hide_input": false,
    "scrolled": true
   },
   "outputs": [
    {
     "data": {
      "application/vnd.jupyter.widget-view+json": {
       "model_id": "81434727029c42a59d056e7b1bc462b6",
       "version_major": 2,
       "version_minor": 0
      },
      "text/plain": [
       "HBox(children=(VBox(children=(Button(description='Start from scratch', style=ButtonStyle()),)), VBox(children=…"
      ]
     },
     "metadata": {},
     "output_type": "display_data"
    },
    {
     "data": {
      "application/javascript": [
       "IPython.notebook.execute_cells([9])"
      ],
      "text/plain": [
       "<IPython.core.display.Javascript object>"
      ]
     },
     "metadata": {},
     "output_type": "display_data"
    }
   ],
   "source": [
    "words = ['Start from scratch', 'Make checkpoint', 'Checkpoint recall', 'Get feedback', 'Feedback recall']\n",
    "items = [Button(description=w) for w in words]\n",
    "left_box = VBox([items[0]])\n",
    "cl_box = VBox([items[1]])\n",
    "cc_box = VBox([items[2]])\n",
    "cr_box = VBox([items[3]])\n",
    "right_box = VBox([items[4]])\n",
    "\n",
    "def reset1(_):\n",
    "    global command1\n",
    "    command1=0\n",
    "    display(Javascript('IPython.notebook.execute_cells([9])'))\n",
    "    \n",
    "def save1(_):\n",
    "    DIR = \"./exercise_3/data/log/checkpoint\"\n",
    "    prog=len([name for name in os.listdir(DIR) if os.path.isfile(os.path.join(DIR, name))])+1\n",
    "    timestamp = datetime.timestamp(datetime.now())\n",
    "    f = open(\"./exercise_3/data/log/checkpoint/query1_\"+str(prog)+\"_\"+str(timestamp)+\".txt\", \"w\")\n",
    "    f.write(str(list(map(int,ipysheet.to_array(sheet2)[0]))))\n",
    "    f.close()\n",
    "    f = open(\"./exercise_3/data/log/lastcheckpoint/query1.txt\", \"w\")\n",
    "    f.write(str(list(map(int,ipysheet.to_array(sheet2)[0]))))\n",
    "    f.close()\n",
    "    print(\"Tabella salvata\")\n",
    "    time.sleep(3)\n",
    "    display(Javascript('IPython.notebook.execute_cells([10])'))\n",
    "    \n",
    "def recall1(_):\n",
    "    global command1\n",
    "    if path.exists(\"./exercise_3/data/log/lastcheckpoint/query1.txt\"):   \n",
    "        command1=1\n",
    "    else:\n",
    "        command1=0\n",
    "    display(Javascript('IPython.notebook.execute_cells([9])'))\n",
    "\n",
    "def verify1(_):\n",
    "    DIR = \"./exercise_3/data/log/ans\"\n",
    "    prog=len([name for name in os.listdir(DIR) if os.path.isfile(os.path.join(DIR, name))])+1\n",
    "    timestamp = datetime.timestamp(datetime.now())\n",
    "    f = open(\"./exercise_3/data/log/ans/ansquery1_\"+str(prog)+\"_\"+str(timestamp)+\".txt\", \"w\")\n",
    "    f.write(str(list(map(int,ipysheet.to_array(sheet2)[0]))))\n",
    "    f.close()\n",
    "    f = open(\"./exercise_3/data/log/lastans/ansquery1.txt\", \"w\")\n",
    "    f.write(str(list(map(int,ipysheet.to_array(sheet2)[0]))))\n",
    "    f.close()\n",
    "    lds(values[0], list(ipysheet.to_array(sheet2)[0]), lunghezza)\n",
    "    time.sleep(5)\n",
    "    display(Javascript('IPython.notebook.execute_cells([10])'))\n",
    "    \n",
    "def recallverify1(_):\n",
    "    global command1\n",
    "    if path.exists(\"./exercise_3/data/log/lastans/ansquery1.txt\"):   \n",
    "        command1=2\n",
    "    else:\n",
    "        command1=0\n",
    "    display(Javascript('IPython.notebook.execute_cells([9])'))\n",
    "    \n",
    "        \n",
    "items[0].on_click(reset1)\n",
    "items[1].on_click(save1)\n",
    "items[2].on_click(recall1)\n",
    "items[3].on_click(verify1)\n",
    "items[4].on_click(recallverify1)\n",
    "\n",
    "HBox([left_box,cl_box,cc_box,cr_box,right_box])\n"
   ]
  },
  {
   "cell_type": "code",
   "execution_count": 63,
   "metadata": {
    "hide_input": false,
    "pycharm": {
     "name": "#%%\n"
    },
    "scrolled": true
   },
   "outputs": [
    {
     "data": {
      "text/markdown": [
       "- Una sequenza è detta una Z-sequenza, o sequenza decrescente con un possibile ripensamento, se esiste un indice i tale cha ciascuno degli elementi della sequenza esclusi al più il primo e l’i-esimo sono strettamente minori dell’elemento che immediatamente li precede nella sequenza. \\\n",
       "Trovare la più lunga Z-sequenza che sia una sottosequenza della sequenza data. \\\n",
       "Specificare quanto è lunga e fornirla."
      ],
      "text/plain": [
       "<IPython.core.display.Markdown object>"
      ]
     },
     "execution_count": 63,
     "metadata": {},
     "output_type": "execute_result"
    }
   ],
   "source": [
    "global command2\n",
    "command2 = 0\n",
    "txt = open(yaml_text[2], 'r',encoding='utf-8')\n",
    "content = txt.read()\n",
    "Markdown(content)"
   ]
  },
  {
   "cell_type": "code",
   "execution_count": 88,
   "metadata": {
    "hide_input": true,
    "scrolled": true
   },
   "outputs": [
    {
     "name": "stdout",
     "output_type": "stream",
     "text": [
      "Lunghezza della sottosequenza decrescente più lunga:\n"
     ]
    },
    {
     "data": {
      "application/vnd.jupyter.widget-view+json": {
       "model_id": "998a55539ee945968a0c4503af715a49",
       "version_major": 2,
       "version_minor": 0
      },
      "text/plain": [
       "IntText(value=14)"
      ]
     },
     "metadata": {},
     "output_type": "display_data"
    }
   ],
   "source": [
    "print(\"Lunghezza della sottosequenza decrescente più lunga:\")\n",
    "global nseqlen\n",
    "if command2==0:\n",
    "    nseqlen=widgets.IntText(\n",
    "        value=1,\n",
    "        disabled=False\n",
    "    )\n",
    "display(nseqlen)\n",
    "\n",
    "#14"
   ]
  },
  {
   "cell_type": "code",
   "execution_count": 87,
   "metadata": {
    "hide_input": true,
    "scrolled": false
   },
   "outputs": [
    {
     "data": {
      "application/javascript": [
       "IPython.notebook.execute_cells([12])"
      ],
      "text/plain": [
       "<IPython.core.display.Javascript object>"
      ]
     },
     "metadata": {},
     "output_type": "display_data"
    },
    {
     "data": {
      "application/vnd.jupyter.widget-view+json": {
       "model_id": "41586123e3d44cdcbd06307efda39d71",
       "version_major": 2,
       "version_minor": 0
      },
      "text/plain": [
       "Sheet(cells=(Cell(column_end=0, column_start=0, row_end=0, row_start=0, type='text', value='65'), Cell(column_…"
      ]
     },
     "metadata": {},
     "output_type": "display_data"
    }
   ],
   "source": [
    "global nseqlen\n",
    "if command2 == 0:\n",
    "    lunghezza2=int(nseqlen.value)\n",
    "    sheet3=ipysheet.sheet(rows=1,columns=lunghezza2,column_headers=False, row_headers=False)\n",
    "    for i in range(0,lunghezza2):\n",
    "        ipysheet.cell(0,i,\"0\")\n",
    "        \n",
    "if command2 == 1:\n",
    "    f = open(\"./exercise_3/data/log/lastcheckpoint/query2.txt\", \"r\")\n",
    "    line = f.readline()\n",
    "    num=[int(s) for s in re.findall(r'\\b\\d+\\b', line)]\n",
    "    lunghezza2=len(num)\n",
    "    sheet3=ipysheet.sheet(rows=1,columns=lunghezza2,column_headers=False, row_headers=False)\n",
    "    for i in range(0,lunghezza2):\n",
    "        ipysheet.cell(0,i,str(num[i]))\n",
    "    #global nseqlen\n",
    "    nseqlen=widgets.IntText(\n",
    "        value=lunghezza2,\n",
    "        disabled=False\n",
    "    )\n",
    "    display(Javascript('IPython.notebook.execute_cells([12])'))\n",
    "\n",
    "\n",
    "if command2 == 2:\n",
    "    f = open(\"./exercise_3/data/log/lastans/ansquery2.txt\", \"r\")\n",
    "    line = f.readline()\n",
    "    num=[int(s) for s in re.findall(r'\\b\\d+\\b', line)]\n",
    "    lunghezza2=len(num)\n",
    "    sheet3=ipysheet.sheet(rows=1,columns=lunghezza2,column_headers=False, row_headers=False)\n",
    "    for i in range(0,lunghezza2):\n",
    "        ipysheet.cell(0,i,str(num[i]))\n",
    "    #global nseqlen\n",
    "    nseqlen=widgets.IntText(\n",
    "        value=lunghezza2,\n",
    "        disabled=False\n",
    "    )\n",
    "    display(Javascript('IPython.notebook.execute_cells([12])'))\n",
    "\n",
    "sheet3\n",
    "#65, 57, 55, 50, 47, 36, 30, 20, 18, 56, 53, 38, 35, 26"
   ]
  },
  {
   "cell_type": "code",
   "execution_count": 66,
   "metadata": {
    "hide_input": false,
    "scrolled": true
   },
   "outputs": [
    {
     "data": {
      "application/vnd.jupyter.widget-view+json": {
       "model_id": "61e6dbaf1b704eab8db3a862a0fc93a9",
       "version_major": 2,
       "version_minor": 0
      },
      "text/plain": [
       "HBox(children=(VBox(children=(Button(description='Start from scratch', style=ButtonStyle()),)), VBox(children=…"
      ]
     },
     "metadata": {},
     "output_type": "display_data"
    },
    {
     "data": {
      "application/javascript": [
       "IPython.notebook.execute_cells([13])"
      ],
      "text/plain": [
       "<IPython.core.display.Javascript object>"
      ]
     },
     "metadata": {},
     "output_type": "display_data"
    }
   ],
   "source": [
    "words = ['Start from scratch', 'Make checkpoint', 'Checkpoint recall', 'Get feedback', 'Feedback recall']\n",
    "items = [Button(description=w) for w in words]\n",
    "left_box = VBox([items[0]])\n",
    "cl_box = VBox([items[1]])\n",
    "cc_box = VBox([items[2]])\n",
    "cr_box = VBox([items[3]])\n",
    "right_box = VBox([items[4]])\n",
    "\n",
    "def reset2(_):\n",
    "    global command2\n",
    "    command2=0\n",
    "    display(Javascript('IPython.notebook.execute_cells([13])'))\n",
    "    \n",
    "def save2(_):\n",
    "    DIR = \"./exercise_3/data/log/checkpoint\"\n",
    "    prog=len([name for name in os.listdir(DIR) if os.path.isfile(os.path.join(DIR, name))])+1\n",
    "    timestamp = datetime.timestamp(datetime.now())\n",
    "    f = open(\"./exercise_3/data/log/checkpoint/query2_\"+str(prog)+\"_\"+str(timestamp)+\".txt\", \"w\")\n",
    "    f.write(str(list(map(int,ipysheet.to_array(sheet3)[0]))))\n",
    "    f.close()\n",
    "    f = open(\"./exercise_3/data/log/lastcheckpoint/query2.txt\", \"w\")\n",
    "    f.write(str(list(map(int,ipysheet.to_array(sheet3)[0]))))\n",
    "    f.close()\n",
    "    print(\"Tabella salvata\")\n",
    "    time.sleep(3)\n",
    "    display(Javascript('IPython.notebook.execute_cells([14])'))\n",
    "    \n",
    "def recall2(_):\n",
    "    global command2\n",
    "    if path.exists(\"./exercise_3/data/log/lastcheckpoint/query2.txt\"):   \n",
    "        command2=1\n",
    "    else:\n",
    "        command2=0\n",
    "    display(Javascript('IPython.notebook.execute_cells([13])'))\n",
    "\n",
    "\n",
    "def verify2(_):\n",
    "    DIR = \"./exercise_3/data/log/ans\"\n",
    "    prog=len([name for name in os.listdir(DIR) if os.path.isfile(os.path.join(DIR, name))])+1\n",
    "    timestamp = datetime.timestamp(datetime.now())\n",
    "    f = open(\"./exercise_3/data/log/ans/ansquery2_\"+str(prog)+\"_\"+str(timestamp)+\".txt\", \"w\")\n",
    "    f.write(str(list(map(int,ipysheet.to_array(sheet3)[0]))))\n",
    "    f.close()\n",
    "    f = open(\"./exercise_3/data/log/lastans/ansquery2.txt\", \"w\")\n",
    "    f.write(str(list(map(int,ipysheet.to_array(sheet3)[0]))))\n",
    "    f.close()\n",
    "    zSequenza(values[0], list(ipysheet.to_array(sheet3)[0]), lunghezza2)\n",
    "    time.sleep(5)\n",
    "    display(Javascript('IPython.notebook.execute_cells([14])'))\n",
    "    \n",
    "def recallverify2(_):\n",
    "    global command2\n",
    "    if path.exists(\"./exercise_3/data/log/lastans/ansquery2.txt\"):   \n",
    "        command2=2\n",
    "    else:\n",
    "        command2=0\n",
    "    display(Javascript('IPython.notebook.execute_cells([13])'))\n",
    "    \n",
    "\n",
    "    \n",
    "        \n",
    "items[0].on_click(reset2)\n",
    "items[1].on_click(save2)\n",
    "items[2].on_click(recall2)\n",
    "items[3].on_click(verify2)\n",
    "items[4].on_click(recallverify2)\n",
    "\n",
    "HBox([left_box,cl_box,cc_box,cr_box,right_box])\n"
   ]
  },
  {
   "cell_type": "code",
   "execution_count": 67,
   "metadata": {
    "hide_input": true,
    "pycharm": {
     "name": "#%%\n"
    },
    "scrolled": true
   },
   "outputs": [
    {
     "data": {
      "text/markdown": [
       "- Trovare la più lunga sottosequenza decrescente che includa l’elemento di valore 59.\\\n",
       "Specificare quanto è lunga e fornirla."
      ],
      "text/plain": [
       "<IPython.core.display.Markdown object>"
      ]
     },
     "execution_count": 67,
     "metadata": {},
     "output_type": "execute_result"
    }
   ],
   "source": [
    "global command3\n",
    "command3 = 0\n",
    "txt = open(yaml_text[3], 'r',encoding='utf-8')\n",
    "content = txt.read()\n",
    "Markdown(content)"
   ]
  },
  {
   "cell_type": "code",
   "execution_count": 90,
   "metadata": {
    "hide_input": true,
    "scrolled": true
   },
   "outputs": [
    {
     "name": "stdout",
     "output_type": "stream",
     "text": [
      "Lunghezza della sottosequenza decrescente più lunga:\n"
     ]
    },
    {
     "data": {
      "application/vnd.jupyter.widget-view+json": {
       "model_id": "5b8b51965ba84b2ab2bbdfe874a6fc37",
       "version_major": 2,
       "version_minor": 0
      },
      "text/plain": [
       "IntText(value=7)"
      ]
     },
     "metadata": {},
     "output_type": "display_data"
    }
   ],
   "source": [
    "print(\"Lunghezza della sottosequenza decrescente più lunga:\")\n",
    "global maxsubseq2\n",
    "if command3 == 0:\n",
    "    maxsubseq2=widgets.IntText(\n",
    "        value=1,\n",
    "        disabled=False\n",
    "    )\n",
    "display(maxsubseq2)\n",
    "#7"
   ]
  },
  {
   "cell_type": "code",
   "execution_count": 89,
   "metadata": {
    "hide_input": true,
    "scrolled": false
   },
   "outputs": [
    {
     "data": {
      "application/javascript": [
       "IPython.notebook.execute_cells([16])"
      ],
      "text/plain": [
       "<IPython.core.display.Javascript object>"
      ]
     },
     "metadata": {},
     "output_type": "display_data"
    },
    {
     "data": {
      "application/vnd.jupyter.widget-view+json": {
       "model_id": "82bd3ed8b9554eb488a2c9bcb891351e",
       "version_major": 2,
       "version_minor": 0
      },
      "text/plain": [
       "Sheet(cells=(Cell(column_end=0, column_start=0, row_end=0, row_start=0, type='text', value='65'), Cell(column_…"
      ]
     },
     "metadata": {},
     "output_type": "display_data"
    }
   ],
   "source": [
    "global maxsubseq2\n",
    "if command3 == 0:\n",
    "    lunghezza3=int(maxsubseq2.value)\n",
    "    sheet4=ipysheet.sheet(rows=1,columns=lunghezza3,column_headers=False, row_headers=False)\n",
    "    for i in range(0,lunghezza3):\n",
    "        ipysheet.cell(0,i,\"0\")\n",
    "        \n",
    "if command3==1:\n",
    "    f = open(\"./exercise_3/data/log/lastcheckpoint/query3.txt\", \"r\")\n",
    "    line = f.readline()\n",
    "    num=[int(s) for s in re.findall(r'\\b\\d+\\b', line)]\n",
    "    lunghezza3=len(num)\n",
    "    sheet4=ipysheet.sheet(rows=1,columns=lunghezza3,column_headers=False, row_headers=False)\n",
    "    for i in range(0,lunghezza3):\n",
    "        ipysheet.cell(0,i,str(num[i]))\n",
    "    #global maxsubseq2\n",
    "    maxsubseq2=widgets.IntText(\n",
    "        value=lunghezza3,\n",
    "        disabled=False\n",
    "    )\n",
    "    display(Javascript('IPython.notebook.execute_cells([16])'))\n",
    "    \n",
    "if command3==2:\n",
    "    f = open(\"./exercise_3/data/log/lastans/ansquery3.txt\", \"r\")\n",
    "    line = f.readline()\n",
    "    num=[int(s) for s in re.findall(r'\\b\\d+\\b', line)]\n",
    "    lunghezza3=len(num)\n",
    "    sheet4=ipysheet.sheet(rows=1,columns=lunghezza3,column_headers=False, row_headers=False)\n",
    "    for i in range(0,lunghezza3):\n",
    "        ipysheet.cell(0,i,str(num[i]))\n",
    "    #global maxsubseq2\n",
    "    maxsubseq2=widgets.IntText(\n",
    "        value=lunghezza3,\n",
    "        disabled=False\n",
    "    )\n",
    "    display(Javascript('IPython.notebook.execute_cells([16])'))\n",
    "\n",
    "sheet4\n",
    "\n",
    "#65, 59, 54, 45, 38, 35, 26"
   ]
  },
  {
   "cell_type": "code",
   "execution_count": 70,
   "metadata": {
    "hide_input": false,
    "scrolled": true
   },
   "outputs": [
    {
     "data": {
      "application/vnd.jupyter.widget-view+json": {
       "model_id": "b35ddd3a0dbf4a30b29bb916b8d19497",
       "version_major": 2,
       "version_minor": 0
      },
      "text/plain": [
       "HBox(children=(VBox(children=(Button(description='Start from scratch', style=ButtonStyle()),)), VBox(children=…"
      ]
     },
     "metadata": {},
     "output_type": "display_data"
    },
    {
     "data": {
      "application/javascript": [
       "IPython.notebook.execute_cells([17])"
      ],
      "text/plain": [
       "<IPython.core.display.Javascript object>"
      ]
     },
     "metadata": {},
     "output_type": "display_data"
    }
   ],
   "source": [
    "words = ['Start from scratch', 'Make checkpoint', 'Checkpoint recall', 'Get feedback', 'Feedback recall']\n",
    "items = [Button(description=w) for w in words]\n",
    "left_box = VBox([items[0]])\n",
    "cl_box = VBox([items[1]])\n",
    "cc_box = VBox([items[2]])\n",
    "cr_box = VBox([items[3]])\n",
    "right_box = VBox([items[4]])\n",
    "\n",
    "def reset3(_):\n",
    "    global command3\n",
    "    command3=0\n",
    "    display(Javascript('IPython.notebook.execute_cells([17])'))\n",
    "    \n",
    "def save3(_):\n",
    "    DIR = \"./exercise_3/data/log/checkpoint\"\n",
    "    prog=len([name for name in os.listdir(DIR) if os.path.isfile(os.path.join(DIR, name))])+1\n",
    "    timestamp = datetime.timestamp(datetime.now())\n",
    "    f = open(\"./exercise_3/data/log/checkpoint/query3_\"+str(prog)+\"_\"+str(timestamp)+\".txt\", \"w\")\n",
    "    f.write(str(list(map(int,ipysheet.to_array(sheet4)[0]))))\n",
    "    f.close()\n",
    "    f = open(\"./exercise_3/data/log/lastcheckpoint/query3.txt\", \"w\")\n",
    "    f.write(str(list(map(int,ipysheet.to_array(sheet4)[0]))))\n",
    "    f.close()\n",
    "    print(\"Tabella salvata\")\n",
    "    time.sleep(3)\n",
    "    display(Javascript('IPython.notebook.execute_cells([18])'))\n",
    "\n",
    "def recall3(_):\n",
    "    global command3\n",
    "    if path.exists(\"./exercise_3/data/log/lastcheckpoint/query3.txt\"):   \n",
    "        command3=1\n",
    "    else:\n",
    "        command3=0\n",
    "    display(Javascript('IPython.notebook.execute_cells([17])'))\n",
    "\n",
    "def verify3(_):\n",
    "    DIR = \"./exercise_3/data/log/ans\"\n",
    "    prog=len([name for name in os.listdir(DIR) if os.path.isfile(os.path.join(DIR, name))])+1\n",
    "    timestamp = datetime.timestamp(datetime.now())\n",
    "    f = open(\"./exercise_3/data/log/ans/ansquery3_\"+str(prog)+\"_\"+str(timestamp)+\".txt\", \"w\")\n",
    "    f.write(str(list(map(int,ipysheet.to_array(sheet4)[0]))))\n",
    "    f.close()\n",
    "    f = open(\"./exercise_3/data/log/lastans/ansquery3.txt\", \"w\")\n",
    "    f.write(str(list(map(int,ipysheet.to_array(sheet4)[0]))))\n",
    "    f.close()\n",
    "    ldsWithNumber(values[0], list(ipysheet.to_array(sheet4)[0]), lunghezza3, 59)\n",
    "    time.sleep(5)\n",
    "    display(Javascript('IPython.notebook.execute_cells([18])'))\n",
    "    \n",
    "def recallverify3(_):\n",
    "    global command3\n",
    "    if path.exists(\"./exercise_3/data/log/lastans/ansquery3.txt\"):   \n",
    "        command3=2\n",
    "    else:\n",
    "        command3=0\n",
    "    display(Javascript('IPython.notebook.execute_cells([17])'))\n",
    "    \n",
    "        \n",
    "items[0].on_click(reset3)\n",
    "items[1].on_click(save3)\n",
    "items[2].on_click(recall3)\n",
    "items[3].on_click(verify3)\n",
    "items[4].on_click(recallverify3)\n",
    "\n",
    "HBox([left_box,cl_box,cc_box,cr_box,right_box])"
   ]
  },
  {
   "cell_type": "code",
   "execution_count": 71,
   "metadata": {
    "hide_input": true,
    "pycharm": {
     "name": "#%%\n"
    },
    "scrolled": true
   },
   "outputs": [
    {
     "data": {
      "text/markdown": [
       "- Trovare una sottosequenza decrescente che sia la più lunga possibile ma eviti di utilizzare i primi 4 elementi. \\\n",
       "Specificare quanto è lunga e fornirla.\n"
      ],
      "text/plain": [
       "<IPython.core.display.Markdown object>"
      ]
     },
     "execution_count": 71,
     "metadata": {},
     "output_type": "execute_result"
    }
   ],
   "source": [
    "global command4\n",
    "command4 = 0\n",
    "txt = open(yaml_text[4], 'r',encoding='utf-8')\n",
    "content = txt.read()\n",
    "Markdown(content)"
   ]
  },
  {
   "cell_type": "code",
   "execution_count": 92,
   "metadata": {
    "hide_input": true,
    "scrolled": true
   },
   "outputs": [
    {
     "name": "stdout",
     "output_type": "stream",
     "text": [
      "Lunghezza della sottosequenza decrescente più lunga evitando i primi 4 elementi:\n"
     ]
    },
    {
     "data": {
      "application/vnd.jupyter.widget-view+json": {
       "model_id": "216ba692c5ef4e5ea74197a451dcf202",
       "version_major": 2,
       "version_minor": 0
      },
      "text/plain": [
       "IntText(value=6)"
      ]
     },
     "metadata": {},
     "output_type": "display_data"
    }
   ],
   "source": [
    "print(\"Lunghezza della sottosequenza decrescente più lunga evitando i primi 4 elementi:\")\n",
    "global maxsubseq3\n",
    "if command4 == 0:\n",
    "    maxsubseq3=widgets.IntText(\n",
    "        value=1,\n",
    "        disabled=False\n",
    "    )\n",
    "display(maxsubseq3)\n",
    "#6"
   ]
  },
  {
   "cell_type": "code",
   "execution_count": 91,
   "metadata": {
    "hide_input": false,
    "scrolled": false
   },
   "outputs": [
    {
     "data": {
      "application/javascript": [
       "IPython.notebook.execute_cells([20])"
      ],
      "text/plain": [
       "<IPython.core.display.Javascript object>"
      ]
     },
     "metadata": {},
     "output_type": "display_data"
    },
    {
     "data": {
      "application/vnd.jupyter.widget-view+json": {
       "model_id": "6ae86a981799400d9e08ec5d6259a728",
       "version_major": 2,
       "version_minor": 0
      },
      "text/plain": [
       "Sheet(cells=(Cell(column_end=0, column_start=0, row_end=0, row_start=0, type='text', value='58'), Cell(column_…"
      ]
     },
     "metadata": {},
     "output_type": "display_data"
    }
   ],
   "source": [
    "global maxsubseq3\n",
    "if command4 == 0:\n",
    "    lunghezza4=int(maxsubseq3.value)\n",
    "    sheet5=ipysheet.sheet(rows=1,columns=lunghezza4,column_headers=False, row_headers=False)\n",
    "    for i in range(0,lunghezza4):\n",
    "        ipysheet.cell(0,i,\"0\")\n",
    "        \n",
    "if command4 == 1:\n",
    "    f = open(\"./exercise_3/data/log/lastcheckpoint/query4.txt\", \"r\")\n",
    "    line = f.readline()\n",
    "    num=[int(s) for s in re.findall(r'\\b\\d+\\b', line)]\n",
    "    lunghezza4=len(num)\n",
    "    sheet5=ipysheet.sheet(rows=1,columns=lunghezza4,column_headers=False, row_headers=False)\n",
    "    for i in range(0,lunghezza4):\n",
    "        ipysheet.cell(0,i,str(num[i]))\n",
    "    #global maxsubseq3\n",
    "    maxsubseq3=widgets.IntText(\n",
    "        value=lunghezza4,\n",
    "        disabled=False\n",
    "    )\n",
    "    display(Javascript('IPython.notebook.execute_cells([20])'))\n",
    "    \n",
    "if command4 == 2:\n",
    "    f = open(\"./exercise_3/data/log/lastans/ansquery4.txt\", \"r\")\n",
    "    line = f.readline()\n",
    "    num=[int(s) for s in re.findall(r'\\b\\d+\\b', line)]\n",
    "    lunghezza4=len(num)\n",
    "    sheet5=ipysheet.sheet(rows=1,columns=lunghezza4,column_headers=False, row_headers=False)\n",
    "    for i in range(0,lunghezza4):\n",
    "        ipysheet.cell(0,i,str(num[i]))\n",
    "    #global maxsubseq3\n",
    "    maxsubseq3=widgets.IntText(\n",
    "        value=lunghezza4,\n",
    "        disabled=False\n",
    "    )\n",
    "    display(Javascript('IPython.notebook.execute_cells([20])'))\n",
    "\n",
    "sheet5\n",
    "\n",
    "#58, 47, 36, 30, 20, 18"
   ]
  },
  {
   "cell_type": "code",
   "execution_count": 74,
   "metadata": {
    "hide_input": false,
    "pycharm": {
     "name": "#%%\n"
    },
    "scrolled": false
   },
   "outputs": [
    {
     "data": {
      "application/vnd.jupyter.widget-view+json": {
       "model_id": "13b6f90f38f045d89dacf5b4a4ebafc3",
       "version_major": 2,
       "version_minor": 0
      },
      "text/plain": [
       "HBox(children=(VBox(children=(Button(description='Start from scratch', style=ButtonStyle()),)), VBox(children=…"
      ]
     },
     "metadata": {},
     "output_type": "display_data"
    },
    {
     "data": {
      "application/javascript": [
       "IPython.notebook.execute_cells([21])"
      ],
      "text/plain": [
       "<IPython.core.display.Javascript object>"
      ]
     },
     "metadata": {},
     "output_type": "display_data"
    }
   ],
   "source": [
    "words = ['Start from scratch', 'Make checkpoint', 'Checkpoint recall', 'Get feedback', 'Feedback recall']\n",
    "items = [Button(description=w) for w in words]\n",
    "left_box = VBox([items[0]])\n",
    "cl_box = VBox([items[1]])\n",
    "cc_box = VBox([items[2]])\n",
    "cr_box = VBox([items[3]])\n",
    "right_box = VBox([items[4]])\n",
    "\n",
    "def reset4(_):\n",
    "    global command4\n",
    "    command4=0\n",
    "    display(Javascript('IPython.notebook.execute_cells([21])'))\n",
    "\n",
    "def save4(_):\n",
    "    DIR = \"./exercise_3/data/log/checkpoint\"\n",
    "    prog=len([name for name in os.listdir(DIR) if os.path.isfile(os.path.join(DIR, name))])+1\n",
    "    timestamp = datetime.timestamp(datetime.now())\n",
    "    f = open(\"./exercise_3/data/log/checkpoint/query4_\"+str(prog)+\"_\"+str(timestamp)+\".txt\", \"w\")\n",
    "    f.write(str(list(map(int,ipysheet.to_array(sheet5)[0]))))\n",
    "    f.close()\n",
    "    f = open(\"./exercise_3/data/log/lastcheckpoint/query4.txt\", \"w\")\n",
    "    f.write(str(list(map(int,ipysheet.to_array(sheet5)[0]))))\n",
    "    f.close()\n",
    "    print(\"Tabella salvata\")\n",
    "    time.sleep(3)\n",
    "    display(Javascript('IPython.notebook.execute_cells([22])'))\n",
    "\n",
    "def recall4(_):\n",
    "    global command4\n",
    "    if path.exists(\"./exercise_3/data/log/lastcheckpoint/query4.txt\"):   \n",
    "        command4=1\n",
    "    else:\n",
    "        command4=0\n",
    "    display(Javascript('IPython.notebook.execute_cells([21])'))\n",
    "\n",
    "def verify4(_):\n",
    "    DIR = \"./exercise_3/data/log/ans\"\n",
    "    prog=len([name for name in os.listdir(DIR) if os.path.isfile(os.path.join(DIR, name))])+1\n",
    "    timestamp = datetime.timestamp(datetime.now())\n",
    "    f = open(\"./exercise_3/data/log/ans/ansquery4_\"+str(prog)+\"_\"+str(timestamp)+\".txt\", \"w\")\n",
    "    f.write(str(list(map(int,ipysheet.to_array(sheet5)[0]))))\n",
    "    f.close()\n",
    "    f = open(\"./exercise_3/data/log/lastans/ansquery4.txt\", \"w\")\n",
    "    f.write(str(list(map(int,ipysheet.to_array(sheet5)[0]))))\n",
    "    f.close()\n",
    "    ldsSubwithoutElementInRange(values[0], list(ipysheet.to_array(sheet5)[0]), lunghezza4, 0, 3)\n",
    "    time.sleep(5)\n",
    "    display(Javascript('IPython.notebook.execute_cells([22])'))\n",
    "    \n",
    "def recallverify4(_):\n",
    "    global command4\n",
    "    if path.exists(\"./exercise_3/data/log/lastans/ansquery4.txt\"):   \n",
    "        command4=2\n",
    "    else:\n",
    "        command4=0\n",
    "    display(Javascript('IPython.notebook.execute_cells([21])'))\n",
    "    \n",
    "        \n",
    "items[0].on_click(reset4)\n",
    "items[1].on_click(save4)\n",
    "items[2].on_click(recall4)\n",
    "items[3].on_click(verify4)\n",
    "items[4].on_click(recallverify4)\n",
    "\n",
    "HBox([left_box,cl_box,cc_box,cr_box,right_box])"
   ]
  },
  {
   "cell_type": "code",
   "execution_count": 75,
   "metadata": {
    "hide_input": true,
    "pycharm": {
     "name": "#%%\n"
    },
    "scrolled": false
   },
   "outputs": [
    {
     "data": {
      "text/markdown": [
       "- Trovare una sottosequenza decrescente che sia la più lunga possibile ma eviti di utilizzare gli elementi dal 14-esimo a 17-esimo.\\\n",
       "Specificare quanto è lunga e fornirla."
      ],
      "text/plain": [
       "<IPython.core.display.Markdown object>"
      ]
     },
     "execution_count": 75,
     "metadata": {},
     "output_type": "execute_result"
    }
   ],
   "source": [
    "global command5\n",
    "command5 = 0\n",
    "txt = open(yaml_text[5], 'r',encoding='utf-8')\n",
    "content = txt.read()\n",
    "Markdown(content)"
   ]
  },
  {
   "cell_type": "code",
   "execution_count": 94,
   "metadata": {
    "hide_input": true
   },
   "outputs": [
    {
     "name": "stdout",
     "output_type": "stream",
     "text": [
      "Lunghezza della sottosequenza crescente più lunga evitando gli elementi dal 14-esimo a 17-esimo:\n"
     ]
    },
    {
     "data": {
      "application/vnd.jupyter.widget-view+json": {
       "model_id": "8d3e248be7a04a15882c9f0a129af36d",
       "version_major": 2,
       "version_minor": 0
      },
      "text/plain": [
       "IntText(value=9)"
      ]
     },
     "metadata": {},
     "output_type": "display_data"
    }
   ],
   "source": [
    "print(\"Lunghezza della sottosequenza crescente più lunga evitando gli elementi dal 14-esimo a 17-esimo:\")\n",
    "global maxsubseq4\n",
    "if command5 == 0:\n",
    "    maxsubseq4=widgets.IntText(\n",
    "        value=1,\n",
    "        disabled=False\n",
    "    )\n",
    "display(maxsubseq4)\n",
    "#9"
   ]
  },
  {
   "cell_type": "code",
   "execution_count": 93,
   "metadata": {
    "hide_input": true,
    "scrolled": false
   },
   "outputs": [
    {
     "data": {
      "application/javascript": [
       "IPython.notebook.execute_cells([24])"
      ],
      "text/plain": [
       "<IPython.core.display.Javascript object>"
      ]
     },
     "metadata": {},
     "output_type": "display_data"
    },
    {
     "data": {
      "application/vnd.jupyter.widget-view+json": {
       "model_id": "fa9014436baa44d49b0f9d771409640d",
       "version_major": 2,
       "version_minor": 0
      },
      "text/plain": [
       "Sheet(cells=(Cell(column_end=0, column_start=0, row_end=0, row_start=0, type='text', value='65'), Cell(column_…"
      ]
     },
     "metadata": {},
     "output_type": "display_data"
    }
   ],
   "source": [
    "global maxsubseq4\n",
    "if command5 == 0:\n",
    "    lunghezza5=int(maxsubseq4.value)\n",
    "    sheet6=ipysheet.sheet(rows=1,columns=lunghezza5,column_headers=False, row_headers=False)\n",
    "    for i in range(0,lunghezza5):\n",
    "        ipysheet.cell(0,i,\"0\")\n",
    "\n",
    "if command5 == 1:\n",
    "    f = open(\"./exercise_3/data/log/lastcheckpoint/query5.txt\", \"r\")\n",
    "    line = f.readline()\n",
    "    num=[int(s) for s in re.findall(r'\\b\\d+\\b', line)]\n",
    "    lunghezza5=len(num)\n",
    "    sheet6=ipysheet.sheet(rows=1,columns=lunghezza5,column_headers=False, row_headers=False)\n",
    "    for i in range(0,lunghezza5):\n",
    "        ipysheet.cell(0,i,str(num[i]))\n",
    "    #global maxsubseq4\n",
    "    maxsubseq4=widgets.IntText(\n",
    "        value=lunghezza5,\n",
    "        disabled=False\n",
    "    )\n",
    "    display(Javascript('IPython.notebook.execute_cells([24])'))\n",
    "    \n",
    "if command5 == 2:\n",
    "    f = open(\"./exercise_3/data/log/lastans/ansquery5.txt\", \"r\")\n",
    "    line = f.readline()\n",
    "    num=[int(s) for s in re.findall(r'\\b\\d+\\b', line)]\n",
    "    lunghezza5=len(num)\n",
    "    sheet6=ipysheet.sheet(rows=1,columns=lunghezza5,column_headers=False, row_headers=False)\n",
    "    for i in range(0,lunghezza5):\n",
    "        ipysheet.cell(0,i,str(num[i]))\n",
    "    #global maxsubseq4\n",
    "    maxsubseq4=widgets.IntText(\n",
    "        value=lunghezza5,\n",
    "        disabled=False\n",
    "    )\n",
    "    display(Javascript('IPython.notebook.execute_cells([24])'))\n",
    "\n",
    "\n",
    "sheet6\n",
    "\n",
    "#65, 57, 55, 50, 47, 39, 38, 35, 26"
   ]
  },
  {
   "cell_type": "code",
   "execution_count": 78,
   "metadata": {
    "hide_input": true,
    "pycharm": {
     "name": "#%%\n"
    },
    "scrolled": false
   },
   "outputs": [
    {
     "data": {
      "application/vnd.jupyter.widget-view+json": {
       "model_id": "4b99e7fc9ff244568d14778eaea6916a",
       "version_major": 2,
       "version_minor": 0
      },
      "text/plain": [
       "HBox(children=(VBox(children=(Button(description='Start from scratch', style=ButtonStyle()),)), VBox(children=…"
      ]
     },
     "metadata": {},
     "output_type": "display_data"
    },
    {
     "data": {
      "application/javascript": [
       "IPython.notebook.execute_cells([25])"
      ],
      "text/plain": [
       "<IPython.core.display.Javascript object>"
      ]
     },
     "metadata": {},
     "output_type": "display_data"
    }
   ],
   "source": [
    "words = ['Start from scratch', 'Make checkpoint', 'Checkpoint recall', 'Get feedback', 'Feedback recall']\n",
    "items = [Button(description=w) for w in words]\n",
    "left_box = VBox([items[0]])\n",
    "cl_box = VBox([items[1]])\n",
    "cc_box = VBox([items[2]])\n",
    "cr_box = VBox([items[3]])\n",
    "right_box = VBox([items[4]])\n",
    "\n",
    "def reset5(_):\n",
    "    global command5\n",
    "    command5=0\n",
    "    display(Javascript('IPython.notebook.execute_cells([25])'))\n",
    "    \n",
    "def save5(_):\n",
    "    DIR = \"./exercise_3/data/log/checkpoint\"\n",
    "    prog=len([name for name in os.listdir(DIR) if os.path.isfile(os.path.join(DIR, name))])+1\n",
    "    timestamp = datetime.timestamp(datetime.now())\n",
    "    f = open(\"./exercise_3/data/log/checkpoint/query5_\"+str(prog)+\"_\"+str(timestamp)+\".txt\", \"w\")\n",
    "    f.write(str(list(map(int,ipysheet.to_array(sheet6)[0]))))\n",
    "    f.close()\n",
    "    f = open(\"./exercise_3/data/log/lastcheckpoint/query5.txt\", \"w\")\n",
    "    f.write(str(list(map(int,ipysheet.to_array(sheet6)[0]))))\n",
    "    f.close()\n",
    "    print(\"Tabella salvata\")\n",
    "    time.sleep(3)\n",
    "    display(Javascript('IPython.notebook.execute_cells([26])'))\n",
    "\n",
    "def recall5(_):\n",
    "    global command5\n",
    "    if path.exists(\"./exercise_3/data/log/lastcheckpoint/query5.txt\"):   \n",
    "        command5=1\n",
    "    else:\n",
    "        command5=0\n",
    "    display(Javascript('IPython.notebook.execute_cells([25])'))\n",
    "\n",
    "def verify5(_):\n",
    "    DIR = \"./exercise_3/data/log/ans\"\n",
    "    prog=len([name for name in os.listdir(DIR) if os.path.isfile(os.path.join(DIR, name))])+1\n",
    "    timestamp = datetime.timestamp(datetime.now())\n",
    "    f = open(\"./exercise_3/data/log/ans/ansquery5_\"+str(prog)+\"_\"+str(timestamp)+\".txt\", \"w\")\n",
    "    f.write(str(list(map(int,ipysheet.to_array(sheet6)[0]))))\n",
    "    f.close()\n",
    "    f = open(\"./exercise_3/data/log/lastans/ansquery5.txt\", \"w\")\n",
    "    f.write(str(list(map(int,ipysheet.to_array(sheet6)[0]))))\n",
    "    f.close()\n",
    "    ldsSubwithoutElementInRange(values[0], list(ipysheet.to_array(sheet6)[0]), lunghezza5, 13, 16)\n",
    "    time.sleep(5)\n",
    "    display(Javascript('IPython.notebook.execute_cells([26])'))\n",
    "    \n",
    "def recallverify5(_):\n",
    "    global command5\n",
    "    if path.exists(\"./exercise_3/data/log/lastans/ansquery5.txt\"):   \n",
    "        command5=2\n",
    "    else:\n",
    "        command5=0\n",
    "    display(Javascript('IPython.notebook.execute_cells([25])'))\n",
    "    \n",
    "        \n",
    "items[0].on_click(reset5)\n",
    "items[1].on_click(save5)\n",
    "items[2].on_click(recall5)\n",
    "items[3].on_click(verify5)\n",
    "items[4].on_click(recallverify5)\n",
    "\n",
    "HBox([left_box,cl_box,cc_box,cr_box,right_box])"
   ]
  },
  {
   "cell_type": "code",
   "execution_count": 79,
   "metadata": {
    "hide_input": true,
    "pycharm": {
     "name": "#%%\n"
    },
    "scrolled": true
   },
   "outputs": [
    {
     "data": {
      "text/markdown": [
       "- Fornire un minimo numero di sottosequenze crescenti tali che ogni elemento della sequenza fornita ricada in almeno una di esse.\\\n",
       "Specificare quante sono e fornirle.\n"
      ],
      "text/plain": [
       "<IPython.core.display.Markdown object>"
      ]
     },
     "execution_count": 79,
     "metadata": {},
     "output_type": "execute_result"
    }
   ],
   "source": [
    "global command6\n",
    "command6 = 0\n",
    "txt = open(yaml_text[6], 'r',encoding='utf-8')\n",
    "content = txt.read()\n",
    "Markdown(content)"
   ]
  },
  {
   "cell_type": "code",
   "execution_count": 96,
   "metadata": {
    "hide_input": true,
    "pycharm": {
     "name": "#%%\n"
    },
    "scrolled": true
   },
   "outputs": [
    {
     "name": "stdout",
     "output_type": "stream",
     "text": [
      "Inserisci il numero di sottosequenze:\n"
     ]
    },
    {
     "data": {
      "application/vnd.jupyter.widget-view+json": {
       "model_id": "ef8886a66e134779b7afa3df070fd79c",
       "version_major": 2,
       "version_minor": 0
      },
      "text/plain": [
       "IntText(value=9)"
      ]
     },
     "metadata": {},
     "output_type": "display_data"
    }
   ],
   "source": [
    "print(\"Inserisci il numero di sottosequenze:\")\n",
    "global nsubseq\n",
    "if command6 == 0:\n",
    "    nsubseq=widgets.IntText(\n",
    "        value=1,\n",
    "        disabled=False\n",
    "    )\n",
    "display(nsubseq)\n",
    "#9\n"
   ]
  },
  {
   "cell_type": "code",
   "execution_count": 97,
   "metadata": {
    "hide_input": true,
    "pycharm": {
     "name": "#%%\n"
    }
   },
   "outputs": [
    {
     "name": "stdout",
     "output_type": "stream",
     "text": [
      "Inserisci la dimensione della sottosequenza più lunga:\n"
     ]
    },
    {
     "data": {
      "application/vnd.jupyter.widget-view+json": {
       "model_id": "651d1fe880cd421e8c76bdd25724c41e",
       "version_major": 2,
       "version_minor": 0
      },
      "text/plain": [
       "IntText(value=6)"
      ]
     },
     "metadata": {},
     "output_type": "display_data"
    }
   ],
   "source": [
    "print(\"Inserisci la dimensione della sottosequenza più lunga:\")\n",
    "global maxsubseq5\n",
    "if command6 == 0:\n",
    "    maxsubseq5=widgets.IntText(\n",
    "        value=1,\n",
    "        disabled=False\n",
    "    )\n",
    "display(maxsubseq5)\n",
    "\n",
    "#6"
   ]
  },
  {
   "cell_type": "code",
   "execution_count": 95,
   "metadata": {
    "hide_input": false,
    "pycharm": {
     "name": "#%%\n"
    }
   },
   "outputs": [
    {
     "data": {
      "application/javascript": [
       "IPython.notebook.execute_cells([28,29])"
      ],
      "text/plain": [
       "<IPython.core.display.Javascript object>"
      ]
     },
     "metadata": {},
     "output_type": "display_data"
    },
    {
     "data": {
      "application/vnd.jupyter.widget-view+json": {
       "model_id": "8d75cbcadeb64d7681cfc28ac78306a4",
       "version_major": 2,
       "version_minor": 0
      },
      "text/plain": [
       "Sheet(cells=(Cell(column_end=0, column_start=0, row_end=0, row_start=0, type='text', value='65'), Cell(column_…"
      ]
     },
     "metadata": {},
     "output_type": "display_data"
    }
   ],
   "source": [
    "global nsubseq\n",
    "global maxsubseq5\n",
    "if command6 == 0:\n",
    "    r=int(nsubseq.value)\n",
    "    c=int(maxsubseq5.value)\n",
    "    sheet7=ipysheet.sheet(rows=r,columns=c,column_headers=False, row_headers=False)\n",
    "    for i in range(0,r):\n",
    "        for j in range(0,c):\n",
    "            ipysheet.cell(i,j,\"0\")\n",
    "\n",
    "if command6 == 1:\n",
    "    f = open(\"./exercise_3/data/log/lastcheckpoint/query6.txt\", \"r\")\n",
    "    lines = f.readlines()\n",
    "    num=[]\n",
    "    for line in lines:\n",
    "        num.append([int(s) for s in re.findall(r'\\b\\d+\\b', line)])\n",
    "    r=len(num)\n",
    "    c=len(num[0])\n",
    "    sheet7=ipysheet.sheet(rows=r,columns=c,column_headers=False, row_headers=False)\n",
    "    for i in range(0,r):\n",
    "        for j in range(0,c):\n",
    "            ipysheet.cell(i,j,str(num[i][j]))\n",
    "    #global maxsubseq5\n",
    "    maxsubseq5=widgets.IntText(\n",
    "        value=c,\n",
    "        disabled=False\n",
    "    )\n",
    "    #global nsubseq\n",
    "    nsubseq=widgets.IntText(\n",
    "        value=r,\n",
    "        disabled=False\n",
    "    )\n",
    "    display(Javascript('IPython.notebook.execute_cells([28,29])'))\n",
    "    \n",
    "if command6 == 2:\n",
    "    f = open(\"./exercise_3/data/log/lastans/ansquery6.txt\", \"r\")\n",
    "    lines = f.readlines()\n",
    "    num=[]\n",
    "    for line in lines:\n",
    "        num.append([int(s) for s in re.findall(r'\\b\\d+\\b', line)])\n",
    "    r=len(num)\n",
    "    c=len(num[0])\n",
    "    sheet7=ipysheet.sheet(rows=r,columns=c,column_headers=False, row_headers=False)\n",
    "    for i in range(0,r):\n",
    "        for j in range(0,c):\n",
    "            ipysheet.cell(i,j,str(num[i][j]))\n",
    "    #global maxsubseq5\n",
    "    maxsubseq5=widgets.IntText(\n",
    "        value=c,\n",
    "        disabled=False\n",
    "    )\n",
    "    #global nsubseq\n",
    "    nsubseq=widgets.IntText(\n",
    "        value=r,\n",
    "        disabled=False\n",
    "    )\n",
    "    display(Javascript('IPython.notebook.execute_cells([28,29])'))\n",
    "\n",
    "\n",
    "sheet7\n",
    "\n",
    "#65; 57,58,59,61; 55,56; 50,54; 47,53; 36,39,45,51 ; 30,33,38; 9,13,20,35,52,70 ; 18,19,26\n"
   ]
  },
  {
   "cell_type": "code",
   "execution_count": 83,
   "metadata": {
    "hide_input": true,
    "pycharm": {
     "name": "#%%\n"
    }
   },
   "outputs": [
    {
     "data": {
      "application/vnd.jupyter.widget-view+json": {
       "model_id": "e1727d1aacb3454294788ef1b2b7b452",
       "version_major": 2,
       "version_minor": 0
      },
      "text/plain": [
       "HBox(children=(VBox(children=(Button(description='Start from scratch', style=ButtonStyle()),)), VBox(children=…"
      ]
     },
     "metadata": {},
     "output_type": "display_data"
    },
    {
     "data": {
      "application/javascript": [
       "IPython.notebook.execute_cells([30])"
      ],
      "text/plain": [
       "<IPython.core.display.Javascript object>"
      ]
     },
     "metadata": {},
     "output_type": "display_data"
    }
   ],
   "source": [
    "words = ['Start from scratch', 'Make checkpoint', 'Checkpoint recall', 'Get feedback', 'Feedback recall']\n",
    "items = [Button(description=w) for w in words]\n",
    "left_box = VBox([items[0]])\n",
    "cl_box = VBox([items[1]])\n",
    "cc_box = VBox([items[2]])\n",
    "cr_box = VBox([items[3]])\n",
    "right_box = VBox([items[4]])\n",
    "\n",
    "def reset6(_):\n",
    "    global command6\n",
    "    command6=0\n",
    "    display(Javascript('IPython.notebook.execute_cells([30])'))\n",
    "    \n",
    "def save6(_):\n",
    "    DIR = \"./exercise_3/data/log/checkpoint\"\n",
    "    prog=len([name for name in os.listdir(DIR) if os.path.isfile(os.path.join(DIR, name))])+1\n",
    "    timestamp = datetime.timestamp(datetime.now())\n",
    "    aux=ipysheet.to_array(sheet7)\n",
    "    f = open(\"./exercise_3/data/log/checkpoint/query6_\"+str(prog)+\"_\"+str(timestamp)+\".txt\", \"w\")\n",
    "    for elem in aux:\n",
    "        f.write(str(list(map(int,elem)))+\"\\n\")\n",
    "    f.close()\n",
    "    f = open(\"./exercise_3/data/log/lastcheckpoint/query6.txt\", \"w\")\n",
    "    for elem in aux:\n",
    "        f.write(str(list(map(int,elem)))+\"\\n\")\n",
    "    f.close()\n",
    "    print(\"Tabella salvata\")\n",
    "    time.sleep(3)\n",
    "    display(Javascript('IPython.notebook.execute_cells([31])'))\n",
    "    \n",
    "def recall6(_):\n",
    "    global command6\n",
    "    if path.exists(\"./exercise_3/data/log/lastcheckpoint/query6.txt\"):   \n",
    "        command6=1\n",
    "    else:\n",
    "        command6=0\n",
    "    display(Javascript('IPython.notebook.execute_cells([30])'))\n",
    "\n",
    "def verify6(_):\n",
    "    DIR = \"./exercise_3/data/log/ans\"\n",
    "    prog=len([name for name in os.listdir(DIR) if os.path.isfile(os.path.join(DIR, name))])+1\n",
    "    timestamp = datetime.timestamp(datetime.now())\n",
    "    aux=ipysheet.to_array(sheet7)\n",
    "    f = open(\"./exercise_3/data/log/ans/ansquery6_\"+str(prog)+\"_\"+str(timestamp)+\".txt\", \"w\")\n",
    "    for elem in aux:\n",
    "        f.write(str(list(map(int,elem)))+\"\\n\")\n",
    "    f.close()\n",
    "    f = open(\"./exercise_3/data/log/lastans/ansquery6.txt\", \"w\")\n",
    "    for elem in aux:\n",
    "        f.write(str(list(map(int,elem)))+\"\\n\")\n",
    "    f.close()\n",
    "    minimoNumSubCRE(values[0], list(ipysheet.to_array(sheet7)), r)\n",
    "    time.sleep(3)\n",
    "    display(Javascript('IPython.notebook.execute_cells([31])'))\n",
    "    \n",
    "def recallverify6(_):\n",
    "    global command6\n",
    "    if path.exists(\"./exercise_3/data/log/lastans/ansquery6.txt\"):   \n",
    "        command6=2\n",
    "    else:\n",
    "        command6=0\n",
    "    display(Javascript('IPython.notebook.execute_cells([30])'))\n",
    "    \n",
    "        \n",
    "items[0].on_click(reset6)\n",
    "items[1].on_click(save6)\n",
    "items[2].on_click(recall6)\n",
    "items[3].on_click(verify6)\n",
    "items[4].on_click(recallverify6)\n",
    "\n",
    "HBox([left_box,cl_box,cc_box,cr_box,right_box])"
   ]
  },
  {
   "cell_type": "code",
   "execution_count": 84,
   "metadata": {
    "hide_input": false
   },
   "outputs": [
    {
     "data": {
      "application/vnd.jupyter.widget-view+json": {
       "model_id": "099aefe18df24ba5879f5bc5727ef043",
       "version_major": 2,
       "version_minor": 0
      },
      "text/plain": [
       "VBox(children=(Button(description='Invia tutti i risultati', style=ButtonStyle()), Output()))"
      ]
     },
     "metadata": {},
     "output_type": "display_data"
    }
   ],
   "source": [
    "button6 = widgets.Button(description='Invia tutti i risultati')\n",
    "out = widgets.Output()\n",
    "def on_button_clicked6(_):\n",
    "      with out:\n",
    "        save_results(res_path)\n",
    "        clear_output()\n",
    "        print(\"Risultati inviati\")\n",
    "button6.on_click(on_button_clicked6)\n",
    "widgets.VBox([button6,out])"
   ]
  }
 ],
 "metadata": {
  "hide_input": true,
  "kernelspec": {
   "display_name": "Python 3",
   "language": "python",
   "name": "python3"
  },
  "language_info": {
   "codemirror_mode": {
    "name": "ipython",
    "version": 3
   },
   "file_extension": ".py",
   "mimetype": "text/x-python",
   "name": "python",
   "nbconvert_exporter": "python",
   "pygments_lexer": "ipython3",
   "version": "3.7.7"
  }
 },
 "nbformat": 4,
 "nbformat_minor": 1
}
